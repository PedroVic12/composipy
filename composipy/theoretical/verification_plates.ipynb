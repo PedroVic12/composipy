{
 "cells": [
  {
   "cell_type": "code",
   "execution_count": 7,
   "metadata": {},
   "outputs": [],
   "source": [
    "import numpy as np\n",
    "import sys\n",
    "\n",
    "from scipy.linalg import eig\n",
    "from scipy.sparse import csc_matrix\n",
    "from scipy.sparse.linalg import eigs\n",
    "from numpy import allclose\n",
    "\n",
    "path = 'D:/repositories/composipy'\n",
    "\n",
    "sys.path.append(path)\n",
    "\n",
    "from time import time\n",
    "\n",
    "from composipy import OrthotropicMaterial, LaminateProperty\n",
    "from composipy import PlateStructure\n",
    "\n"
   ]
  },
  {
   "cell_type": "code",
   "execution_count": 33,
   "metadata": {},
   "outputs": [],
   "source": [
    "E1 = 60800\n",
    "E2 = 58250\n",
    "v12 = 0.07\n",
    "G12 = 4550\n",
    "t = 0.21\n",
    "\n",
    "stacking = [45,-45,0,90,45,-45,0,90,45,-45]\n",
    "stacking += stacking[::-1]\n",
    "\n",
    "a = 360.\n",
    "b = 360."
   ]
  },
  {
   "cell_type": "code",
   "execution_count": 69,
   "metadata": {},
   "outputs": [
    {
     "name": "stdout",
     "output_type": "stream",
     "text": [
      "calculating K and KG\n",
      "calculation done in 4.642505884170532 seconds\n",
      "calculating panel eig value\n",
      "27.789595510548764\n",
      "calculation done in 4.798723220825195 seconds\n"
     ]
    }
   ],
   "source": [
    "ply_1 = OrthotropicMaterial(E1, E2, v12, G12, t)\n",
    "\n",
    "l1 = LaminateProperty(stacking, ply_1)\n",
    "\n",
    "\n",
    "ply1 = OrthotropicMaterial(129500, 9370, 0.38, 5240, 0.2)\n",
    "stacking = [-45, 45, 90, 0, 0, 0, 0, 90, 45, -45]\n",
    "laminate1 = LaminateProperty(stacking, ply1)\n",
    "\n",
    "\n",
    "\n",
    "constraints={\n",
    "                'x0': ['TX', 'TY', 'TZ', 'RX', 'RY', 'RZ'],\n",
    "                'xa': ['TX', 'TY', 'TZ', 'RX', 'RY', 'RZ'],\n",
    "                'y0': ['TX', 'TY', 'TZ', 'RX', 'RY', 'RZ'],\n",
    "                'yb': ['TX', 'TY', 'TZ', 'RX', 'RY', 'RZ'],\n",
    "            }\n",
    "\n",
    "panel = PlateStructure(laminate1, a, b, m=12, n=12, Nxx=-1, constraints=constraints)\n",
    "\n",
    "ti = time()\n",
    "print('calculating K and KG')\n",
    "K_KG = panel.calc_K_KG()\n",
    "print(f'calculation done in {time()-ti} seconds')\n",
    "print('calculating panel eig value')\n",
    "ti = time()\n",
    "print(panel.buckling_analysis())\n",
    "print(f'calculation done in {time()-ti} seconds')"
   ]
  },
  {
   "cell_type": "code",
   "execution_count": null,
   "metadata": {},
   "outputs": [],
   "source": []
  },
  {
   "cell_type": "markdown",
   "metadata": {},
   "source": [
    "## comparison with compmech"
   ]
  },
  {
   "cell_type": "code",
   "execution_count": 62,
   "metadata": {},
   "outputs": [],
   "source": [
    "from compmech.panel.panel import Panel\n",
    "from compmech.analysis import lb, static"
   ]
  },
  {
   "cell_type": "code",
   "execution_count": 66,
   "metadata": {},
   "outputs": [],
   "source": [
    "# skin panels\n",
    "laminaprop = (E1, E2, v12, G12, G12, G12)\n",
    "p1 = Panel(group='skin', Nxx=-1, x0=0, y0=0., a=a, b=b,m=12, n=12, plyt=t, stack=stacking, laminaprop=laminaprop)"
   ]
  },
  {
   "cell_type": "code",
   "execution_count": 67,
   "metadata": {},
   "outputs": [],
   "source": [
    "p1.u1tx = 0 ; p1.u1rx = 0 ; p1.u2tx = 0 ; p1.u2rx = 0\n",
    "p1.v1tx = 0 ; p1.v1rx = 0 ; p1.v2tx = 0 ; p1.v2rx = 0\n",
    "p1.w1tx = 0 ; p1.w1rx = 0 ; p1.w2tx = 0 ; p1.w2rx = 0\n",
    "p1.u1ty = 0 ; p1.u1ry = 0 ; p1.u2ty = 0 ; p1.u2ry = 0\n",
    "p1.v1ty = 0 ; p1.v1ry = 0 ; p1.v2ty = 0 ; p1.v2ry = 0\n",
    "p1.w1ty = 0 ; p1.w1ry = 0 ; p1.w2ty = 0 ; p1.w2ry = 0\n"
   ]
  },
  {
   "cell_type": "code",
   "execution_count": 68,
   "metadata": {},
   "outputs": [
    {
     "name": "stdout",
     "output_type": "stream",
     "text": [
      "\t\tCalculating k0... \n",
      "\t\tfinished!\n",
      "\t\tCalculating kG0... \n",
      "\t\tfinished!\n"
     ]
    },
    {
     "data": {
      "text/plain": [
       "array([ 28.26517318,  31.85485655,  50.93565892,  68.80253977,\n",
       "        74.62550061,  78.03534029, 101.56916464, 103.07497659,\n",
       "       114.03777715, 137.33253658, 146.78985857, 149.58515026,\n",
       "       153.59630782, 166.8025119 , 179.09936315, 180.54280735,\n",
       "       226.43722417, 244.7073578 , 248.42623777, 282.1817778 ,\n",
       "       283.37977543, 328.11167084, 345.11693194, 365.8228319 ,\n",
       "       376.31320955])"
      ]
     },
     "execution_count": 68,
     "metadata": {},
     "output_type": "execute_result"
    }
   ],
   "source": [
    "k0_1 = p1.calc_k0()\n",
    "kG0_1 = p1.calc_kG0()\n",
    "\n",
    "eigvals, eigvecs = lb(k0_1, kG0_1, silent=True)\n",
    "eigvals"
   ]
  },
  {
   "cell_type": "code",
   "execution_count": null,
   "metadata": {},
   "outputs": [],
   "source": []
  }
 ],
 "metadata": {
  "kernelspec": {
   "display_name": "base",
   "language": "python",
   "name": "python3"
  },
  "language_info": {
   "codemirror_mode": {
    "name": "ipython",
    "version": 3
   },
   "file_extension": ".py",
   "mimetype": "text/x-python",
   "name": "python",
   "nbconvert_exporter": "python",
   "pygments_lexer": "ipython3",
   "version": "3.9.12"
  },
  "orig_nbformat": 4,
  "vscode": {
   "interpreter": {
    "hash": "c1590602456d7cb2bb11a9c056450b313acab0eb77422ae1a602feaa944934ec"
   }
  }
 },
 "nbformat": 4,
 "nbformat_minor": 2
}
