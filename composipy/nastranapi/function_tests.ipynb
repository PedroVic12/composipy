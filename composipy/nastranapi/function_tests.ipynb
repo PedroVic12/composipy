{
 "cells": [
  {
   "cell_type": "raw",
   "id": "a287fce1",
   "metadata": {},
   "source": [
    "NASTRAN formats\n",
    "---------------\n",
    "\n",
    "MAT8           1 127560.  13030.      .3   6410.      0.      0.      0.+       \n",
    "+             0.      0.      0.    .008    .008    .029    .029    .015+       \n",
    "+                             1.\n",
    "$\n",
    "$\n",
    "$\n",
    "-------1-------2-------3-------4-------5-------6-------7-------8-------9\n",
    "PCOMP          7              0.                                        +       \n",
    "+              1    .127      0.     YES       1    .127      0.     YES+       \n",
    "+              1    .127      0.     YES       1    .127      0.     YES+       \n",
    "+              1    .127      0.     YES       1    .127      0.     YES+       \n",
    "+              1    .127      0.     YES       1    .127      0.     YES+       \n",
    "+              1    .127      0.     YES       1    .127      0.     YES\n",
    "\n",
    "\n",
    "Articles format\n",
    "---------------\n",
    "\n",
    "[(±45)13/04/(902/02)2/02/902/(902/02)2/904/04/(904/02)3/02/902/02]s\n",
    "\n",
    "\n",
    "Proposed list 1\n",
    "------------------\n",
    "[(45)13/(0)4/((90)2/(0)2)2/(0)2/(90)2/((90)2/(0)2)2/(90)4/(0)4/((90)4/(0)2)3/(0)2/(90)2/(0)2]s\n",
    "\n",
    "\n",
    "Proposed list 2\n",
    "---------------\n",
    "[(\\pm45)_{13}/0_4/(90_2/0_2)_2/0_2/90_2/(90_2/0_2)_2/90_4/0_4/(90_4/0_2)_3/0_2/90_2/0_2]s"
   ]
  },
  {
   "cell_type": "markdown",
   "id": "7f394c38",
   "metadata": {},
   "source": [
    "$$ [(\\pm45)_{13}/0_4/(90_2/0_2)_2/0_2/90_2/(90_2/0_2)_2/90_4/0_4/(90_4/0_2)_3/0_2/90_2/0_2]s $$"
   ]
  },
  {
   "cell_type": "code",
   "execution_count": 142,
   "id": "135aa11b",
   "metadata": {},
   "outputs": [],
   "source": [
    "stack = '[\\pm45_{13}/0_4/(90_2/0_2)_2/0_2/90_2/(90_2/0_2)_2/90_4/0_4/(90_4/0_2)_3/0_2/90_2/0_2]s'"
   ]
  },
  {
   "cell_type": "code",
   "execution_count": 150,
   "id": "752a33c3",
   "metadata": {},
   "outputs": [],
   "source": [
    "def _build_pm_unit(angle, times):\n",
    "    stacking_values = tuple()\n",
    "    \n",
    "    for i in range(times):\n",
    "        current_angle = (-1)**i*angle\n",
    "        stacking_values += (current_angle, )\n",
    "    return stacking_values\n",
    "\n",
    "\n",
    "def _build_stack_unit(stacking):\n",
    "    stacking_values = stacking\n",
    "    is_pm = stacking_values.find('\\pm') > -1\n",
    "    stacking_values = stacking_values.replace('\\pm', '')\n",
    "    stacking_values = stacking_values.strip()   \n",
    "    stacking_values = stacking_values.split('_')\n",
    "    len_stacking_values = len(stacking_values)\n",
    "    is_unit = (len_stacking_values == 2\n",
    "              or len_stacking_values == 1)\n",
    "\n",
    "    if not is_unit:\n",
    "        raise ValueError(f'{stacking} it is not a unit')\n",
    "    angle = float(stacking_values[0])\n",
    "    if len_stacking_values == 2:\n",
    "        times = stacking_values[1].replace('{', '').replace('}', '')\n",
    "        times = int(times)\n",
    "    elif len_stacking_values == 1:\n",
    "        times = 1\n",
    "    \n",
    "    if is_pm:\n",
    "        return _build_pm_unit(angle, times)\n",
    "    else:\n",
    "        return (angle,) * times\n",
    "   \n",
    "    \n",
    "def build_tuple(stacking):\n",
    "    stacking = stacking.strip()\n",
    "    is_symmetric = stacking[-1].lower() == 's'\n",
    "    stacking = stacking.replace('s', '')\n",
    "    is_stacking = (stacking[0] == '['\n",
    "                   and stacking[-1] == ']')\n",
    "    stacking = stacking.replace('[', '').replace(']', '')\n",
    "    \n",
    "    unities = tuple()\n",
    "    unity = tuple()\n",
    "    current_block = ''\n",
    "    is_in_block = False\n",
    "    is_multiplier = False\n",
    "    for char in stacking:\n",
    "        if char == '(':\n",
    "            is_in_block = True\n",
    "        elif char == ')':\n",
    "            #current_block = ''\n",
    "            unity += _build_stack_unit(current_block)\n",
    "            current_block = ''\n",
    "            is_in_block = False\n",
    "            is_multiplier = True\n",
    "        elif (char == '/' \n",
    "              and not is_in_block\n",
    "              and not is_multiplier\n",
    "             ):\n",
    "            unity = _build_stack_unit(current_block)\n",
    "            unities += (unity, )\n",
    "            current_block = ''\n",
    "            unity = tuple()\n",
    "        elif (char == '/' \n",
    "              and is_in_block):\n",
    "            unity = _build_stack_unit(current_block)\n",
    "            current_block = ''\n",
    "        elif (char == '/' \n",
    "             and is_multiplier):\n",
    "            times = current_block.replace('_', '').replace('{', '').replace('}', '')\n",
    "            times = int(times)\n",
    "            unity = times * unity\n",
    "            unities += unity\n",
    "            unity = tuple()\n",
    "            current_block = ''\n",
    "            is_multiplier = False\n",
    "        else:\n",
    "            current_block += char\n",
    "    \n",
    "    if is_symmetric:\n",
    "        return unities\n",
    "    \n",
    "    #stacking = stacking.split('/')\n",
    "    "
   ]
  },
  {
   "cell_type": "code",
   "execution_count": null,
   "id": "9c549331",
   "metadata": {},
   "outputs": [],
   "source": []
  },
  {
   "cell_type": "code",
   "execution_count": 151,
   "id": "93dce522",
   "metadata": {},
   "outputs": [
    {
     "data": {
      "text/plain": [
       "((45.0,\n",
       "  -45.0,\n",
       "  45.0,\n",
       "  -45.0,\n",
       "  45.0,\n",
       "  -45.0,\n",
       "  45.0,\n",
       "  -45.0,\n",
       "  45.0,\n",
       "  -45.0,\n",
       "  45.0,\n",
       "  -45.0,\n",
       "  45.0),\n",
       " (0.0, 0.0, 0.0, 0.0),\n",
       " 90.0,\n",
       " 90.0,\n",
       " 0.0,\n",
       " 0.0,\n",
       " 90.0,\n",
       " 90.0,\n",
       " 0.0,\n",
       " 0.0,\n",
       " (0.0, 0.0),\n",
       " (90.0, 90.0),\n",
       " 90.0,\n",
       " 90.0,\n",
       " 0.0,\n",
       " 0.0,\n",
       " 90.0,\n",
       " 90.0,\n",
       " 0.0,\n",
       " 0.0,\n",
       " (90.0, 90.0, 90.0, 90.0),\n",
       " (0.0, 0.0, 0.0, 0.0),\n",
       " 90.0,\n",
       " 90.0,\n",
       " 90.0,\n",
       " 90.0,\n",
       " 0.0,\n",
       " 0.0,\n",
       " 90.0,\n",
       " 90.0,\n",
       " 90.0,\n",
       " 90.0,\n",
       " 0.0,\n",
       " 0.0,\n",
       " 90.0,\n",
       " 90.0,\n",
       " 90.0,\n",
       " 90.0,\n",
       " 0.0,\n",
       " 0.0,\n",
       " (0.0, 0.0),\n",
       " (90.0, 90.0))"
      ]
     },
     "execution_count": 151,
     "metadata": {},
     "output_type": "execute_result"
    }
   ],
   "source": [
    "build_tuple(stack)"
   ]
  },
  {
   "cell_type": "code",
   "execution_count": 122,
   "id": "b0275a6b",
   "metadata": {},
   "outputs": [
    {
     "data": {
      "text/plain": [
       "'[(\\\\pm45)_{13}/0_4/(90_2/0_2)_2/0_2/90_2/(90_2/0_2)_2/90_4/0_4/(90_4/0_2)_3/0_2/90_2/0_2]s'"
      ]
     },
     "execution_count": 122,
     "metadata": {},
     "output_type": "execute_result"
    }
   ],
   "source": [
    "stack"
   ]
  },
  {
   "cell_type": "code",
   "execution_count": 101,
   "id": "c5491a30",
   "metadata": {},
   "outputs": [
    {
     "data": {
      "text/plain": [
       "['asdf asdf']"
      ]
     },
     "execution_count": 101,
     "metadata": {},
     "output_type": "execute_result"
    }
   ],
   "source": [
    "'asdf asdf'.split('z')"
   ]
  },
  {
   "cell_type": "code",
   "execution_count": 20,
   "id": "c864edfd",
   "metadata": {},
   "outputs": [
    {
     "data": {
      "text/plain": [
       "False"
      ]
     },
     "execution_count": 20,
     "metadata": {},
     "output_type": "execute_result"
    }
   ],
   "source": [
    "teste = 'asdf]'\n",
    "(teste[0] == '['\n",
    "                   and teste[-1] == ']')"
   ]
  },
  {
   "cell_type": "code",
   "execution_count": 23,
   "id": "57504054",
   "metadata": {},
   "outputs": [
    {
     "data": {
      "text/plain": [
       "'asdfasdf'"
      ]
     },
     "execution_count": 23,
     "metadata": {},
     "output_type": "execute_result"
    }
   ],
   "source": [
    "'  asdfasdf '.strip()"
   ]
  },
  {
   "cell_type": "code",
   "execution_count": 26,
   "id": "2826ef37",
   "metadata": {},
   "outputs": [
    {
     "data": {
      "text/plain": [
       "2"
      ]
     },
     "execution_count": 26,
     "metadata": {},
     "output_type": "execute_result"
    }
   ],
   "source": [
    "len([0, 1])\n"
   ]
  },
  {
   "cell_type": "code",
   "execution_count": 35,
   "id": "24d2b0d8",
   "metadata": {},
   "outputs": [
    {
     "data": {
      "text/plain": [
       "4"
      ]
     },
     "execution_count": 35,
     "metadata": {},
     "output_type": "execute_result"
    }
   ],
   "source": [
    "'1111\\pm'.find('\\pm')"
   ]
  },
  {
   "cell_type": "code",
   "execution_count": 38,
   "id": "6401d4c3",
   "metadata": {},
   "outputs": [
    {
     "ename": "AttributeError",
     "evalue": "'str' object has no attribute 'copy'",
     "output_type": "error",
     "traceback": [
      "\u001b[1;31m---------------------------------------------------------------------------\u001b[0m",
      "\u001b[1;31mAttributeError\u001b[0m                            Traceback (most recent call last)",
      "\u001b[1;32m~\\AppData\\Local\\Temp/ipykernel_6088/2057840399.py\u001b[0m in \u001b[0;36m<module>\u001b[1;34m\u001b[0m\n\u001b[1;32m----> 1\u001b[1;33m \u001b[1;34m'1111\\pm'\u001b[0m\u001b[1;33m.\u001b[0m\u001b[0mcopy\u001b[0m\u001b[1;33m(\u001b[0m\u001b[1;33m)\u001b[0m\u001b[1;33m\u001b[0m\u001b[1;33m\u001b[0m\u001b[0m\n\u001b[0m",
      "\u001b[1;31mAttributeError\u001b[0m: 'str' object has no attribute 'copy'"
     ]
    }
   ],
   "source": [
    "'1111\\pm'.copy()"
   ]
  },
  {
   "cell_type": "code",
   "execution_count": 48,
   "id": "fd11506c",
   "metadata": {},
   "outputs": [
    {
     "data": {
      "text/plain": [
       "()"
      ]
     },
     "execution_count": 48,
     "metadata": {},
     "output_type": "execute_result"
    }
   ],
   "source": [
    "tuple()"
   ]
  },
  {
   "cell_type": "code",
   "execution_count": 58,
   "id": "aa8f6c7d",
   "metadata": {},
   "outputs": [],
   "source": [
    "def _build_pm_unit(angle, times):\n",
    "    '''Returns a list when there is the plus minus sign '''\n",
    "    stacking_values = list()\n",
    "    \n",
    "    for i in range(times):\n",
    "        current_angle = (-1)**i*angle\n",
    "        stacking_values += [current_angle]\n",
    "    return stacking_values\n",
    "\n",
    "\n",
    "def _build_stack_unit(stacking):\n",
    "    '''Returns a list when given a unit for example \\\\pm45_13'''\n",
    "    stacking_values = stacking\n",
    "    is_pm = stacking_values.find('\\pm') > -1\n",
    "    stacking_values = stacking_values.replace('\\pm', '')\n",
    "    stacking_values = stacking_values.strip()   \n",
    "    stacking_values = stacking_values.split('_')\n",
    "    len_stacking_values = len(stacking_values)\n",
    "    is_unit = (len_stacking_values == 2\n",
    "              or len_stacking_values == 1)\n",
    "\n",
    "    if not is_unit:\n",
    "        raise ValueError(f'{stacking} it is not a unit')\n",
    "    angle = float(stacking_values[0])\n",
    "    if len_stacking_values == 2:\n",
    "        times = stacking_values[1].replace('{', '').replace('}', '')\n",
    "        times = int(times)\n",
    "    elif len_stacking_values == 1:\n",
    "        times = 1\n",
    "    \n",
    "    if is_pm:\n",
    "        return _build_pm_unit(angle, times)\n",
    "    else:\n",
    "        return [angle] * times\n",
    "   \n",
    "    \n",
    "def build_sequence(stacking):\n",
    "    '''\n",
    "    Parameters\n",
    "    ----------\n",
    "    stacking : str\n",
    "        A string in Latex format\n",
    "    \n",
    "    Returns\n",
    "    -------\n",
    "    unities : list\n",
    "        A list that contains the stacking sequence\n",
    "        \n",
    "    Example\n",
    "    -------\n",
    "    >>> stack = '[\\pm45_{1}/0_2/90/(0/90)_1]s'\n",
    "    >>> build_sequence(stack)\n",
    "    out : \n",
    "        [45.0, -45.0, 0.0, 90.0, 0.0, 90.0, 90.0, 0.0, 90.0, 0.0, -45.0, 45.0]\n",
    "    '''\n",
    "    stacking = stacking.strip()\n",
    "    is_symmetric = stacking[-1].lower() == 's'\n",
    "    stacking = stacking.replace('s', '')\n",
    "    is_stacking = (stacking[0] == '['\n",
    "                   and stacking[-1] == ']')\n",
    "    stacking = stacking.replace('[', '').replace(']', '')\n",
    "    stacking = stacking + '/'\n",
    "    \n",
    "    unities = list()\n",
    "    unity = list()\n",
    "    current_block = ''\n",
    "    is_in_block = False\n",
    "    is_multiplier = False\n",
    "    for i, char in enumerate(stacking):\n",
    "        if char == '(':\n",
    "            is_in_block = True\n",
    "        elif char == ')':\n",
    "            #current_block = ''\n",
    "            unity += _build_stack_unit(current_block)\n",
    "            current_block = ''\n",
    "            is_in_block = False\n",
    "            is_multiplier = True\n",
    "        elif (char == '/' \n",
    "              and not is_in_block\n",
    "              and not is_multiplier\n",
    "             ):\n",
    "            unity = _build_stack_unit(current_block)\n",
    "            unities.extend(unity)\n",
    "            current_block = ''\n",
    "            unity = list()\n",
    "        elif (char == '/' \n",
    "              and is_in_block):\n",
    "            unity = _build_stack_unit(current_block)\n",
    "            current_block = ''\n",
    "        elif (char == '/' \n",
    "             and is_multiplier):\n",
    "            times = current_block.replace('_', '').replace('{', '').replace('}', '')\n",
    "            times = int(times)\n",
    "            unity = times * unity\n",
    "            unities.extend(unity)\n",
    "            unity = list()\n",
    "            current_block = ''\n",
    "            is_multiplier = False           \n",
    "        else:\n",
    "            current_block += char\n",
    "           \n",
    "    if is_symmetric:\n",
    "        symmetric_unities = unities[::-1]\n",
    "        unities.extend(symmetric_unities)\n",
    "    return unities\n"
   ]
  },
  {
   "cell_type": "code",
   "execution_count": 59,
   "id": "0b45c3ba",
   "metadata": {},
   "outputs": [],
   "source": [
    "stack = '[\\pm45_{4}/0_2/90/(0/90)_1]s'"
   ]
  },
  {
   "cell_type": "code",
   "execution_count": 61,
   "id": "150a1edc",
   "metadata": {},
   "outputs": [],
   "source": [
    "sequence = build_sequence(stack)"
   ]
  },
  {
   "cell_type": "code",
   "execution_count": 67,
   "id": "ddbac356",
   "metadata": {},
   "outputs": [],
   "source": [
    "def _convert_to_list(value, size):\n",
    "    '''If it is list return value, if value is a number return a list'''\n",
    "    try:\n",
    "        size_value = len(value)\n",
    "        if size_value == size:\n",
    "            return value\n",
    "        else:\n",
    "            raise ValueError(f'{value} does not fit with sequence size')\n",
    "    except TypeError:\n",
    "        return [value for i in range(size)]\n",
    "\n",
    "def _convert_sout(sout, size):\n",
    "    if sout == 'FIBER':\n",
    "        sout = ['NO' for i in range(size)]\n",
    "        sout[0] = 'YES'\n",
    "        sout[-1] = 'YES'\n",
    "        return sout\n",
    "    elif sout == 'NO':\n",
    "        sout = ['NO' for i in range(size)]\n",
    "        return sout\n",
    "    elif sout == 'YES':\n",
    "        sout = ['YES' for i in range(size)]\n",
    "        return sout\n",
    "    else:\n",
    "        try:\n",
    "            size_value = len(sout)\n",
    "            if size_value == size:\n",
    "                return sout\n",
    "            else:\n",
    "                 raise ValueError\n",
    "        except:\n",
    "            raise ValueError(f'{sout} not accepted')\n",
    "                \n",
    "    \n",
    "    \n",
    "def build_pcomp(sequence, ti, pid=1, z0='', midi=1, sout='FIBER'):\n",
    "    size = len(sequence)\n",
    "    pid = int(pid)\n",
    "    ti = _convert_to_list(ti, size)\n",
    "    midi = _convert_to_list(midi, size)\n",
    "    sout = _convert_sout(sout, size)\n",
    "    \n",
    "    header = f'PCOMP,{pid},{z0},,,,,+\\n'\n",
    "    body = ''\n",
    "    \n",
    "    for i in range(0, size, 2):\n",
    "        i0 = i\n",
    "        i1 = i + 1\n",
    "        body += f'+,{midi[i0]},{ti[i0]},{sequence[i0]},{sout[i0]},'\n",
    "        body += f'{midi[i1]},{ti[i1]},{sequence[i1]},{sout[i1]}+\\n'\n",
    "    \n",
    "    return header + body\n",
    "        "
   ]
  },
  {
   "cell_type": "code",
   "execution_count": 68,
   "id": "71095a20",
   "metadata": {},
   "outputs": [
    {
     "name": "stdout",
     "output_type": "stream",
     "text": [
      "PCOMP,2,,,,,,+\n",
      "+,1,0.127,45.0,YES,1,0.127,-45.0,NO+\n",
      "+,1,0.127,45.0,NO,1,0.127,-45.0,NO+\n",
      "+,1,0.127,0.0,NO,1,0.127,0.0,NO+\n",
      "+,1,0.127,90.0,NO,1,0.127,0.0,NO+\n",
      "+,1,0.127,90.0,NO,1,0.127,90.0,NO+\n",
      "+,1,0.127,0.0,NO,1,0.127,90.0,NO+\n",
      "+,1,0.127,0.0,NO,1,0.127,0.0,NO+\n",
      "+,1,0.127,-45.0,NO,1,0.127,45.0,NO+\n",
      "+,1,0.127,-45.0,NO,1,0.127,45.0,YES+\n",
      "\n"
     ]
    }
   ],
   "source": [
    "print(build_pcomp(sequence, ti=0.127, pid=2))"
   ]
  },
  {
   "cell_type": "code",
   "execution_count": null,
   "id": "98d8e087",
   "metadata": {},
   "outputs": [],
   "source": []
  },
  {
   "cell_type": "code",
   "execution_count": null,
   "id": "4dd7a199",
   "metadata": {},
   "outputs": [],
   "source": []
  }
 ],
 "metadata": {
  "kernelspec": {
   "display_name": "Python 3 (ipykernel)",
   "language": "python",
   "name": "python3"
  },
  "language_info": {
   "codemirror_mode": {
    "name": "ipython",
    "version": 3
   },
   "file_extension": ".py",
   "mimetype": "text/x-python",
   "name": "python",
   "nbconvert_exporter": "python",
   "pygments_lexer": "ipython3",
   "version": "3.9.7"
  }
 },
 "nbformat": 4,
 "nbformat_minor": 5
}
