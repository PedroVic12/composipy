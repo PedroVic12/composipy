{
 "cells": [
  {
   "cell_type": "code",
   "execution_count": 238,
   "metadata": {},
   "outputs": [],
   "source": [
    "import numpy as np\n",
    "import sympy as sp\n",
    "from scipy.linalg import eig"
   ]
  },
  {
   "cell_type": "code",
   "execution_count": 239,
   "metadata": {},
   "outputs": [],
   "source": [
    "# Exercise Donadon 2S/2020 S1\n",
    "\n",
    "#Properties (N and mm)\n",
    "E1 = 129500\n",
    "E2 = 9370\n",
    "v12 = 0.38\n",
    "G12 = 5240\n",
    "t = 0.19\n",
    "v21 = v12 * E2 / E1\n",
    "\n",
    "# Plate Parameters\n",
    "a = 300.\n",
    "b = 200.\n",
    "m = 3\n",
    "n = 3\n",
    "\n",
    "# Loads\n",
    "Nxx = -1.\n",
    "Nyy = 0\n",
    "Nxy = 0"
   ]
  },
  {
   "cell_type": "markdown",
   "metadata": {},
   "source": [
    "**[Q] in the principal direction**  pg. 52 chap 2 of the three regions"
   ]
  },
  {
   "cell_type": "code",
   "execution_count": 240,
   "metadata": {},
   "outputs": [],
   "source": [
    "Q_0 = np.array([[E1/(1-v12*v21), v12*E2/(1-v12*v21), 0],\n",
    "                 [v12*E2/(1-v12*v21), E2/(1-v12*v21),0],\n",
    "                 [0, 0, G12]])"
   ]
  },
  {
   "cell_type": "markdown",
   "metadata": {},
   "source": [
    "**[Q] rotated in theta direction** pg. 53 and 54 of chap 2"
   ]
  },
  {
   "cell_type": "code",
   "execution_count": 241,
   "metadata": {},
   "outputs": [],
   "source": [
    "angles = [90, 90, 0, 90, 90, 0, 90, 90]\n",
    "layup = zip(angles, ['f']*8)\n",
    "Q_layup = []\n",
    "\n",
    "#Layup assembly\n",
    "for theta in layup:\n",
    "    c = np.cos(theta[0]*np.pi/180)\n",
    "    s = np.sin(theta[0]*np.pi/180)\n",
    "\n",
    "    T_real = np.array([[c**2, s**2, 2*c*s],\n",
    "                       [s**2, c**2, -2*c*s],\n",
    "                       [-c*s, c*s, c**2-s**2]])\n",
    "\n",
    "    T_engineering =  np.array([[c**2, s**2, c*s],\n",
    "                               [s**2, c**2, -c*s],\n",
    "                               [-2*c*s, 2*c*s, c**2-s**2]])\n",
    "\n",
    "\n",
    "    if theta[1] == 'f':\n",
    "        Q_layup.append((np.linalg.inv(T_real))@Q_0@T_engineering)\n"
   ]
  },
  {
   "cell_type": "markdown",
   "metadata": {},
   "source": [
    "**[A], [B], [D]** pg. 24 fo chap 4 of the three regions"
   ]
  },
  {
   "cell_type": "code",
   "execution_count": 242,
   "metadata": {},
   "outputs": [],
   "source": [
    "def t_position(t, layup):\n",
    "    total_thickness = t * len(layup)\n",
    "\n",
    "    current_z = -total_thickness/2\n",
    "    ply_position = [current_z]\n",
    "    for ply in layup:\n",
    "        current_z += t\n",
    "        ply_position.append(current_z)\n",
    "    return ply_position\n",
    "\n",
    "#t_position(t, angles)"
   ]
  },
  {
   "cell_type": "code",
   "execution_count": 243,
   "metadata": {},
   "outputs": [],
   "source": [
    "t_position = t_position(t, angles)\n",
    "\n",
    "A = np.zeros(9).reshape(3,3)\n",
    "B = np.zeros(9).reshape(3,3)\n",
    "D = np.zeros(9).reshape(3,3)\n",
    "\n",
    "for i in enumerate(Q_layup):\n",
    "    zk1 = t_position[i[0]+1]\n",
    "    zk0 = t_position[i[0]]\n",
    "    \n",
    "    A += (zk1 - zk0)*i[1]\n",
    "    B += (1/2)*(zk1**2 - zk0**2)*i[1]\n",
    "    D += (1/3)*(zk1**3 - zk0**3)*i[1]\n",
    "\n",
    "\n",
    "F = np.vstack([\n",
    "    np.hstack([A, B]),\n",
    "    np.hstack([B, D])\n",
    "])\n",
    "\n",
    "F = sp.Matrix(F)"
   ]
  },
  {
   "cell_type": "markdown",
   "metadata": {},
   "source": [
    "### Rayleigh-Ritz formulation"
   ]
  },
  {
   "cell_type": "code",
   "execution_count": 244,
   "metadata": {},
   "outputs": [],
   "source": [
    "x, y  = sp.symbols(['xi', 'eta'])"
   ]
  },
  {
   "cell_type": "code",
   "execution_count": 245,
   "metadata": {},
   "outputs": [],
   "source": [
    "Sw = [[]]\n",
    "\n",
    "for i in range(m):\n",
    "    for j in range(n):\n",
    "        #Sw[0].append(sp.sin((i+1)*sp.pi*x/a)*sp.sin((j+1)*sp.pi*y/b)) #BC == SS\n",
    "        Sw[0].append(\n",
    "            (1-sp.cos(2*(i+1)*sp.pi*x/a))*(1-sp.cos(2*(j+1)*sp.pi*y/b))) # BC == CC\n",
    "        #Sw[0].append(x**(i+1)*y**(j+1)*(x-a)*(y-b))\n",
    "Sw = sp.Matrix(Sw)\n",
    "\n",
    "\n",
    "Sw_x = sp.diff(Sw, x)\n",
    "Sw_y = sp.diff(Sw, y)\n",
    "\n",
    "Sww = sp.Matrix([-1* sp.diff(Sw, x, x),\n",
    "                -1 * sp.diff(Sw, y, y),\n",
    "                -2 * sp.diff(Sw, x, y)])"
   ]
  },
  {
   "cell_type": "code",
   "execution_count": 246,
   "metadata": {},
   "outputs": [],
   "source": [
    "size = m * n\n",
    "KG = np.zeros(size**2).reshape(size, size)\n",
    "\n",
    "if Nxx != 0:\n",
    "    KGxx = sp.integrate(\n",
    "         sp.integrate(\n",
    "            Sw_x.T*Sw_x, (x, 0, a)), (y, 0, b)\n",
    "    )\n",
    "    KG += np.array(KGxx, dtype=np.longdouble)\n",
    "if Nyy != 0:\n",
    "    KGyy = sp.integrate(\n",
    "         sp.integrate(\n",
    "            Sw_y.T*Sw_y, (x, 0, a)), (y, 0, b)\n",
    "    )\n",
    "    KG += np.array(KGyy, dtype=np.longdouble)\n",
    "if Nxy != 0:\n",
    "    KGxy = sp.integrate(\n",
    "         sp.integrate(\n",
    "            Sw_x.T*Sw_y + Sw_x.T*Sw_x, (x, 0, a)), (y, 0, b)\n",
    "    )\n",
    "    KG += np.array(KGxy, dtype=np.longdouble)\n"
   ]
  },
  {
   "cell_type": "code",
   "execution_count": 247,
   "metadata": {},
   "outputs": [
    {
     "data": {
      "text/plain": [
       "(9, 9)"
      ]
     },
     "execution_count": 247,
     "metadata": {},
     "output_type": "execute_result"
    }
   ],
   "source": [
    "KG.shape"
   ]
  },
  {
   "cell_type": "code",
   "execution_count": 248,
   "metadata": {},
   "outputs": [
    {
     "name": "stdout",
     "output_type": "stream",
     "text": [
      "(9, 9)\n",
      "0.0\n",
      "177.65287921960845\n"
     ]
    }
   ],
   "source": [
    "print(KG.shape)\n",
    "print(KG.min())\n",
    "print(KG.max())"
   ]
  },
  {
   "cell_type": "code",
   "execution_count": 249,
   "metadata": {},
   "outputs": [],
   "source": [
    "K = sp.integrate(\n",
    "    sp.integrate(\n",
    "        Sww.T * D * Sww, (x, 0, a)), (y, 0, b)\n",
    ")\n",
    "\n",
    "K = np.array(K, dtype=np.longdouble)"
   ]
  },
  {
   "cell_type": "code",
   "execution_count": 250,
   "metadata": {
    "scrolled": true
   },
   "outputs": [
    {
     "name": "stdout",
     "output_type": "stream",
     "text": [
      "(9, 9)\n",
      "0.0\n",
      "131187.15733430977\n"
     ]
    }
   ],
   "source": [
    "print(K.shape)\n",
    "print(K.min())\n",
    "print(K.max())"
   ]
  },
  {
   "cell_type": "code",
   "execution_count": 251,
   "metadata": {},
   "outputs": [],
   "source": [
    "A = K\n",
    "B = KG\n",
    "\n",
    "eig_values, eig_vectors = eig(A, B)"
   ]
  },
  {
   "cell_type": "code",
   "execution_count": 252,
   "metadata": {},
   "outputs": [
    {
     "data": {
      "text/plain": [
       "(21.979609263370477+0j)"
      ]
     },
     "execution_count": 252,
     "metadata": {},
     "output_type": "execute_result"
    }
   ],
   "source": [
    "eig_values.min()"
   ]
  },
  {
   "cell_type": "code",
   "execution_count": 253,
   "metadata": {},
   "outputs": [
    {
     "data": {
      "text/plain": [
       "array([   21.97960926,    31.3890807 ,    95.66761287,   146.90404866,\n",
       "         319.26626763,   722.69186113,  1873.52529164,  2619.55038226,\n",
       "       16378.66467807])"
      ]
     },
     "execution_count": 253,
     "metadata": {},
     "output_type": "execute_result"
    }
   ],
   "source": [
    "eig_values = abs(eig_values)\n",
    "eig_values.sort()\n",
    "eig_values"
   ]
  },
  {
   "cell_type": "code",
   "execution_count": 254,
   "metadata": {},
   "outputs": [],
   "source": [
    "#eigvals, eigvecs = lb(A, B, silent=True)\n",
    "#eigvals"
   ]
  },
  {
   "cell_type": "code",
   "execution_count": 255,
   "metadata": {},
   "outputs": [
    {
     "data": {
      "text/plain": [
       "21.979609263370477"
      ]
     },
     "execution_count": 255,
     "metadata": {},
     "output_type": "execute_result"
    }
   ],
   "source": [
    "np.unique(eig_values)[0]"
   ]
  },
  {
   "cell_type": "code",
   "execution_count": 256,
   "metadata": {},
   "outputs": [],
   "source": [
    "eig_values[np.isnan(eig_values)] = 99999999999"
   ]
  },
  {
   "cell_type": "code",
   "execution_count": 257,
   "metadata": {},
   "outputs": [
    {
     "data": {
      "text/plain": [
       "array([21.97960926])"
      ]
     },
     "execution_count": 257,
     "metadata": {},
     "output_type": "execute_result"
    }
   ],
   "source": [
    "eig_values = abs(eig_values)\n",
    "eig_values[np.isnan(eig_values)] = 9999999999\n",
    "min = eig_values.min()\n",
    "\n",
    "index_min = np.where(eig_values == min)\n",
    "eig_values[index_min]"
   ]
  },
  {
   "cell_type": "markdown",
   "metadata": {},
   "source": [
    "## Ploting"
   ]
  },
  {
   "cell_type": "code",
   "execution_count": 258,
   "metadata": {},
   "outputs": [],
   "source": [
    "# This import registers the 3D projection, but is otherwise unused.\n",
    "import matplotlib.pyplot as plt\n",
    "from matplotlib import cm\n",
    "\n",
    "\n",
    "def plot_eigenvalue(eig_values, eig_vectors, nth=0, ngridx=20, ngridy=20):\n",
    "    eig_values = abs(eig_values)\n",
    "    eig_values[np.isnan(eig_values)] = 99999999999\n",
    "\n",
    "    if nth == 0:\n",
    "        min_eig_value = eig_values.min()\n",
    "    else:\n",
    "        min_eig_value = np.unique(eig_values)[nth]\n",
    "    \n",
    "    print(f'{nth}th eigenvalue is {min_eig_value}')\n",
    "    index_min = np.where(eig_values == min_eig_value)[0]\n",
    "    C_values = eig_vectors[::, index_min]\n",
    "\n",
    "    xi_arr = np.linspace(-1, 1, ngridx)\n",
    "    eta_arr = np.linspace(-1, 1, ngridy)\n",
    "    xi_mesh, eta_mesh = np.meshgrid(xi_arr, eta_arr)\n",
    "    z = np.zeros(ngridx*ngridy).reshape(ngridx, ngridy)\n",
    "\n",
    "\n",
    "    for i in range(ngridx):\n",
    "        for j in range(ngridy):\n",
    "            fw = Sw.subs(xi, xi_mesh[i,j]).subs(eta, eta_mesh[i,j])\n",
    "            fw = np.array(fw).astype('float')\n",
    "            wij = float((fw@C_values)[0,0])\n",
    "            z[i,j] =  wij\n",
    "    \n",
    "    ax = plt.figure().add_subplot(projection='3d')\n",
    "    surf = ax.plot_surface(xi_mesh, eta_mesh, z, cmap=cm.coolwarm)\n",
    "    plt.show()\n"
   ]
  },
  {
   "cell_type": "code",
   "execution_count": 259,
   "metadata": {},
   "outputs": [],
   "source": [
    "#%matplotlib notebook\n",
    "#plot_eigenvalue(eig_values, eig_vectors, nth=0, ngridx=20, ngridy=20)"
   ]
  },
  {
   "cell_type": "markdown",
   "metadata": {},
   "source": [
    "## Check with compmech"
   ]
  },
  {
   "cell_type": "code",
   "execution_count": 268,
   "metadata": {},
   "outputs": [],
   "source": [
    "from compmech.panel.panel import Panel\n",
    "from compmech.analysis import lb, static"
   ]
  },
  {
   "cell_type": "code",
   "execution_count": 269,
   "metadata": {},
   "outputs": [],
   "source": [
    "# skin panels\n",
    "laminaprop = (E1, E2, v12, G12, G12, G12)\n",
    "stack = angles\n",
    "p1 = Panel(group='skin', Nxx=-1, x0=0, y0=0., a=a, b=b,m=8, n=8, plyt=t, stack=stack, laminaprop=laminaprop)"
   ]
  },
  {
   "cell_type": "code",
   "execution_count": 270,
   "metadata": {},
   "outputs": [],
   "source": [
    "# boundary conditions SSSS\n",
    "p1.u1tx = 0 ; p1.u1rx = 1 ; p1.u2tx = 0 ; p1.u2rx = 1\n",
    "p1.v1tx = 0 ; p1.v1rx = 1 ; p1.v2tx = 0 ; p1.v2rx = 1\n",
    "p1.w1tx = 0 ; p1.w1rx = 1 ; p1.w2tx = 0 ; p1.w2rx = 1\n",
    "p1.u1ty = 0 ; p1.u1ry = 1 ; p1.u2ty = 0 ; p1.u2ry = 1\n",
    "p1.v1ty = 0 ; p1.v1ry = 1 ; p1.v2ty = 0 ; p1.v2ry = 1\n",
    "p1.w1ty = 0 ; p1.w1ry = 1 ; p1.w2ty = 0 ; p1.w2ry = 1\n",
    "\n",
    "# boundary conditions CCCC\n",
    "p1.u1tx = 0 ; p1.u1rx = 0 ; p1.u2tx = 0 ; p1.u2rx = 0\n",
    "p1.v1tx = 0 ; p1.v1rx = 0 ; p1.v2tx = 0 ; p1.v2rx = 0\n",
    "p1.w1tx = 0 ; p1.w1rx = 1 ; p1.w2tx = 0 ; p1.w2rx = 1\n",
    "p1.u1ty = 0 ; p1.u1ry = 0 ; p1.u2ty = 0 ; p1.u2ry = 0\n",
    "p1.v1ty = 0 ; p1.v1ry = 0 ; p1.v2ty = 0 ; p1.v2ry = 0\n",
    "p1.w1ty = 0 ; p1.w1ry = 1 ; p1.w2ty = 0 ; p1.w2ry = 1"
   ]
  },
  {
   "cell_type": "code",
   "execution_count": 271,
   "metadata": {},
   "outputs": [
    {
     "name": "stdout",
     "output_type": "stream",
     "text": [
      "\t\tCalculating k0... \n",
      "\t\tfinished!\n",
      "\t\tCalculating kG0... \n",
      "\t\tfinished!\n"
     ]
    },
    {
     "data": {
      "text/plain": [
       "array([   9.72942675,   10.88748912,   15.62106123,   21.86783299,\n",
       "         39.20868828,   48.46531024,   57.23148202,   71.63016224,\n",
       "         87.47368308,   98.86985417,  110.11775697,  117.73354439,\n",
       "        125.27854215,  146.901481  ,  202.66831226,  219.97214369,\n",
       "        236.98604408,  314.54865674,  374.92806848,  421.48157519,\n",
       "        628.14138622, 1044.70674471, 1364.15756868, 1552.4440289 ,\n",
       "       1619.71040419])"
      ]
     },
     "execution_count": 271,
     "metadata": {},
     "output_type": "execute_result"
    }
   ],
   "source": [
    "k0_1 = p1.calc_k0()\n",
    "kG0_1 = p1.calc_kG0()\n",
    "\n",
    "eigvals, eigvecs = lb(k0_1, kG0_1, silent=True)\n",
    "eigvals"
   ]
  },
  {
   "cell_type": "code",
   "execution_count": 264,
   "metadata": {},
   "outputs": [
    {
     "name": "stdout",
     "output_type": "stream",
     "text": [
      "-18.63330883479195\n",
      "113.43444399800934\n"
     ]
    }
   ],
   "source": [
    "print(k0_1.min())\n",
    "print(k0_1.max())"
   ]
  },
  {
   "cell_type": "code",
   "execution_count": 265,
   "metadata": {},
   "outputs": [
    {
     "name": "stdout",
     "output_type": "stream",
     "text": [
      "-0.0008465608465608449\n",
      "0.0006349206349206358\n"
     ]
    }
   ],
   "source": [
    "print(kG0_1.min())\n",
    "print(kG0_1.max())"
   ]
  },
  {
   "cell_type": "code",
   "execution_count": 266,
   "metadata": {},
   "outputs": [],
   "source": [
    "#sp.Matrix(kG0_1.toarray())"
   ]
  },
  {
   "cell_type": "code",
   "execution_count": 267,
   "metadata": {},
   "outputs": [],
   "source": [
    "#sp.Matrix(KG)"
   ]
  },
  {
   "cell_type": "code",
   "execution_count": null,
   "metadata": {},
   "outputs": [],
   "source": []
  },
  {
   "cell_type": "code",
   "execution_count": null,
   "metadata": {},
   "outputs": [],
   "source": []
  }
 ],
 "metadata": {
  "kernelspec": {
   "display_name": "Python 3 (ipykernel)",
   "language": "python",
   "name": "python3"
  },
  "language_info": {
   "codemirror_mode": {
    "name": "ipython",
    "version": 3
   },
   "file_extension": ".py",
   "mimetype": "text/x-python",
   "name": "python",
   "nbconvert_exporter": "python",
   "pygments_lexer": "ipython3",
   "version": "3.9.12"
  },
  "vscode": {
   "interpreter": {
    "hash": "c1590602456d7cb2bb11a9c056450b313acab0eb77422ae1a602feaa944934ec"
   }
  }
 },
 "nbformat": 4,
 "nbformat_minor": 2
}
