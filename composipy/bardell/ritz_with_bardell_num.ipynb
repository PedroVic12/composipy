{
 "cells": [
  {
   "cell_type": "code",
   "execution_count": 1,
   "metadata": {},
   "outputs": [],
   "source": [
    "import numpy as np\n",
    "import sympy as sp\n",
    "from scipy.linalg import eig"
   ]
  },
  {
   "cell_type": "code",
   "execution_count": 83,
   "metadata": {},
   "outputs": [],
   "source": [
    "#Properties (N and mm)\n",
    "E1 = 60800\n",
    "E2 = 58250\n",
    "v12 = 0.07\n",
    "G12 = 4550\n",
    "t = 0.21\n",
    "v21 = v12 * E2 / E1\n",
    "\n",
    "# Plate Parameters\n",
    "a = 360\n",
    "b = 360\n",
    "m = 4\n",
    "n = 4\n",
    "\n",
    "# Loads\n",
    "Nxx = 0\n",
    "Nyy = 0\n",
    "Nxy = -1"
   ]
  },
  {
   "cell_type": "code",
   "execution_count": 84,
   "metadata": {},
   "outputs": [],
   "source": [
    "#Boundary conditions\n",
    "u1tx = 0 ; u1rx = 1 ; u2tx = 0 ; u2rx = 1\n",
    "v1tx = 0 ; v1rx = 1 ; v2tx = 0 ; v2rx = 1\n",
    "w1tx = 0 ; w1rx = 1 ; w2tx = 0 ; w2rx = 1\n",
    "u1ty = 0 ; u1ry = 1 ; u2ty = 0 ; u2ry = 1\n",
    "v1ty = 0 ; v1ry = 1 ; v2ty = 0 ; v2ry = 1\n",
    "w1ty = 0 ; w1ry = 1 ; w2ty = 0 ; w2ry = 1\n"
   ]
  },
  {
   "cell_type": "markdown",
   "metadata": {},
   "source": [
    "**[Q] in the principal direction**  pg. 52 chap 2 of the three regions"
   ]
  },
  {
   "cell_type": "code",
   "execution_count": 85,
   "metadata": {},
   "outputs": [],
   "source": [
    "Q_0 = np.array([[E1/(1-v12*v21), v12*E2/(1-v12*v21), 0],\n",
    "                 [v12*E2/(1-v12*v21), E2/(1-v12*v21),0],\n",
    "                 [0, 0, G12]])"
   ]
  },
  {
   "cell_type": "markdown",
   "metadata": {},
   "source": [
    "**[Q] rotated in theta direction** pg. 53 and 54 of chap 2"
   ]
  },
  {
   "cell_type": "code",
   "execution_count": 86,
   "metadata": {},
   "outputs": [],
   "source": [
    "layup = [(45,'f'),(0,'f'),(0,'f'),(45,'f'),(0,'f'),(0,'f'),(45,'f')]\n",
    "Q_layup = []\n",
    "\n",
    "#Layup assembly\n",
    "for theta in layup:\n",
    "    c = np.cos(theta[0]*np.pi/180)\n",
    "    s = np.sin(theta[0]*np.pi/180)\n",
    "\n",
    "    T_real = np.array([[c**2, s**2, 2*c*s],\n",
    "                       [s**2, c**2, -2*c*s],\n",
    "                       [-c*s, c*s, c**2-s**2]])\n",
    "\n",
    "    T_engineering =  np.array([[c**2, s**2, c*s],\n",
    "                               [s**2, c**2, -c*s],\n",
    "                               [-2*c*s, 2*c*s, c**2-s**2]])\n",
    "\n",
    "\n",
    "    if theta[1] == 'f':\n",
    "        Q_layup.append((np.linalg.inv(T_real))@Q_0@T_engineering)\n"
   ]
  },
  {
   "cell_type": "markdown",
   "metadata": {},
   "source": [
    "**[A], [B], [D]** pg. 24 fo chap 4 of the three regions"
   ]
  },
  {
   "cell_type": "code",
   "execution_count": 87,
   "metadata": {},
   "outputs": [],
   "source": [
    "t_position = [-3.5*t, -2.5*t, -1.5*t, -0.5*t, 0.5*t, 1.5*t, 2.5*t, 3.5*t]\n",
    "\n",
    "A = np.zeros(9).reshape(3,3)\n",
    "B = np.zeros(9).reshape(3,3)\n",
    "D = np.zeros(9).reshape(3,3)\n",
    "\n",
    "for i in enumerate(Q_layup):\n",
    "    zk1 = t_position[i[0]+1]\n",
    "    zk0 = t_position[i[0]]\n",
    "    \n",
    "    A += (zk1 - zk0)*i[1]\n",
    "    B += (1/2)*(zk1**2 - zk0**2)*i[1]\n",
    "    D += (1/3)*(zk1**3 - zk0**3)*i[1]\n",
    "\n",
    "\n",
    "F = np.vstack([\n",
    "    np.hstack([A, B]),\n",
    "    np.hstack([B, D])\n",
    "])\n",
    "\n",
    "F = sp.Matrix(F)"
   ]
  },
  {
   "cell_type": "code",
   "execution_count": null,
   "metadata": {},
   "outputs": [],
   "source": []
  },
  {
   "cell_type": "markdown",
   "metadata": {},
   "source": [
    "### Rayleigh-Ritz formulation"
   ]
  },
  {
   "cell_type": "code",
   "execution_count": 88,
   "metadata": {},
   "outputs": [],
   "source": [
    "Ny = sp.symbols('Ny')\n",
    "xi, eta  = sp.symbols(['xi', 'eta'])"
   ]
  },
  {
   "cell_type": "code",
   "execution_count": 89,
   "metadata": {},
   "outputs": [
    {
     "data": {
      "text/latex": [
       "$\\displaystyle \\frac{\\xi^{4}}{8} - \\frac{\\xi^{2}}{4} + 0.125$"
      ],
      "text/plain": [
       "xi**4/8 - xi**2/4 + 0.125"
      ]
     },
     "execution_count": 89,
     "metadata": {},
     "output_type": "execute_result"
    }
   ],
   "source": [
    "xi**4/8 - xi**2/4 + 0.125"
   ]
  },
  {
   "cell_type": "code",
   "execution_count": 90,
   "metadata": {},
   "outputs": [],
   "source": [
    "# Bardell terms\n",
    "# Su\n",
    "uf_xi = {0: u1tx*(0.25*xi**3 - 0.75*xi + 0.5),\n",
    "        1: u1rx*(0.125*xi**3 - 0.125*xi**2 - 0.125*xi + 0.125),\n",
    "        2: u2tx*(-0.25*xi**3 + 0.75*xi + 0.5),\n",
    "        3: u2rx*(-1/8 - 1/8*xi + 1/8*xi**2 + 1/8*xi**3),\n",
    "        4: xi**4/8 - xi**2/4 + 0.125,\n",
    "        5: xi**5/8 - xi**3/4 + xi/8,\n",
    "        6: 7*xi**6/48 - 5*xi**4/16 + 3*xi**2/16 - 0.0208333333333333,\n",
    "        7: 3*xi**7/16 - 7*xi**5/16 + 5*xi**3/16 - xi/16,\n",
    "        8: 33*xi**8/128 - 21*xi**6/32 + 35*xi**4/64 - 5*xi**2/32 + 0.0078125,\n",
    "        9: 143*xi**9/384 - 33*xi**7/32 + 63*xi**5/64 - 35*xi**3/96 + 5*xi/128}\n",
    "\n",
    "uf_eta = {0: u1ty*(0.25*eta**3 - 0.75*eta + 0.5),\n",
    "        1: u1ry*(0.125*eta**3 - 0.125*eta**2 - 0.125*eta + 0.125),\n",
    "        2: u2ty*(-0.25*eta**3 + 0.75*eta + 0.5),\n",
    "        3: u2ry*(-1/8 - 1/8*xi + 1/8*xi**2 + 1/8*xi**3),\n",
    "        4: eta**4/8 - eta**2/4 + 0.125,\n",
    "        5: eta**5/8 - eta**3/4 + eta/8,\n",
    "        6: 7*eta**6/48 - 5*eta**4/16 + 3*eta**2/16 - 0.0208333333333333,\n",
    "        7: 3*eta**7/16 - 7*eta**5/16 + 5*eta**3/16 - eta/16,\n",
    "        8: 33*eta**8/128 - 21*eta**6/32 + 35*eta**4/64 - 5*eta**2/32 + 0.0078125,\n",
    "        9: 143*eta**9/384 - 33*eta**7/32 + 63*eta**5/64 - 35*eta**3/96 + 5*eta/128}\n",
    "\n",
    "# Sv\n",
    "vf_xi = {0: v1tx*(0.25*xi**3 - 0.75*xi + 0.5),\n",
    "        1: v1rx*(0.125*xi**3 - 0.125*xi**2 - 0.125*xi + 0.125),\n",
    "        2: v2tx*(-0.25*xi**3 + 0.75*xi + 0.5),\n",
    "        3: v2rx*(-1/8 - 1/8*xi + 1/8*xi**2 + 1/8*xi**3),\n",
    "        4: xi**4/8 - xi**2/4 + 0.125,\n",
    "        5: xi**5/8 - xi**3/4 + xi/8,\n",
    "        6: 7*xi**6/48 - 5*xi**4/16 + 3*xi**2/16 - 0.0208333333333333,\n",
    "        7: 3*xi**7/16 - 7*xi**5/16 + 5*xi**3/16 - xi/16,\n",
    "        8: 33*xi**8/128 - 21*xi**6/32 + 35*xi**4/64 - 5*xi**2/32 + 0.0078125,\n",
    "        9: 143*xi**9/384 - 33*xi**7/32 + 63*xi**5/64 - 35*xi**3/96 + 5*xi/128}\n",
    "\n",
    "vf_eta = {0: v1ty*(0.25*eta**3 - 0.75*eta + 0.5),\n",
    "        1: v1ry*(0.125*eta**3 - 0.125*eta**2 - 0.125*eta + 0.125),\n",
    "        2: v2ty*(-0.25*eta**3 + 0.75*eta + 0.5),\n",
    "        3: v2ry*(-1/8 - 1/8*xi + 1/8*xi**2 + 1/8*xi**3),\n",
    "        4: eta**4/8 - eta**2/4 + 0.125,\n",
    "        5: eta**5/8 - eta**3/4 + eta/8,\n",
    "        6: 7*eta**6/48 - 5*eta**4/16 + 3*eta**2/16 - 0.0208333333333333,\n",
    "        7: 3*eta**7/16 - 7*eta**5/16 + 5*eta**3/16 - eta/16,\n",
    "        8: 33*eta**8/128 - 21*eta**6/32 + 35*eta**4/64 - 5*eta**2/32 + 0.0078125,\n",
    "        9: 143*eta**9/384 - 33*eta**7/32 + 63*eta**5/64 - 35*eta**3/96 + 5*eta/128}\n",
    "\n",
    "#Sw\n",
    "wf_xi = {0: w1tx*(0.25*xi**3 - 0.75*xi + 0.5),\n",
    "        1: w1rx*(0.125*xi**3 - 0.125*xi**2 - 0.125*xi + 0.125),\n",
    "        2: w2tx*(-0.25*xi**3 + 0.75*xi + 0.5),\n",
    "        3: w2rx*(-1/8 - 1/8*xi + 1/8*xi**2 + 1/8*xi**3),\n",
    "        4: xi**4/8 - xi**2/4 + 0.125,\n",
    "        5: xi**5/8 - xi**3/4 + xi/8,\n",
    "        6: 7*xi**6/48 - 5*xi**4/16 + 3*xi**2/16 - 0.0208333333333333,\n",
    "        7: 3*xi**7/16 - 7*xi**5/16 + 5*xi**3/16 - xi/16,\n",
    "        8: 33*xi**8/128 - 21*xi**6/32 + 35*xi**4/64 - 5*xi**2/32 + 0.0078125,\n",
    "        9: 143*xi**9/384 - 33*xi**7/32 + 63*xi**5/64 - 35*xi**3/96 + 5*xi/128}\n",
    "\n",
    "wf_eta = {0: w1ty*(0.25*eta**3 - 0.75*eta + 0.5),\n",
    "        1: w1ry*(0.125*eta**3 - 0.125*eta**2 - 0.125*eta + 0.125),\n",
    "        2: w2ty*(-0.25*eta**3 + 0.75*eta + 0.5),\n",
    "        3: w2ry*(-1/8 - 1/8*xi + 1/8*xi**2 + 1/8*xi**3),\n",
    "        4: eta**4/8 - eta**2/4 + 0.125,\n",
    "        5: eta**5/8 - eta**3/4 + eta/8,\n",
    "        6: 7*eta**6/48 - 5*eta**4/16 + 3*eta**2/16 - 0.0208333333333333,\n",
    "        7: 3*eta**7/16 - 7*eta**5/16 + 5*eta**3/16 - eta/16,\n",
    "        8: 33*eta**8/128 - 21*eta**6/32 + 35*eta**4/64 - 5*eta**2/32 + 0.0078125,\n",
    "        9: 143*eta**9/384 - 33*eta**7/32 + 63*eta**5/64 - 35*eta**3/96 + 5*eta/128}"
   ]
  },
  {
   "cell_type": "code",
   "execution_count": 91,
   "metadata": {},
   "outputs": [],
   "source": [
    "Su, Sv, Sw = [[]], [[]], [[]]\n",
    "\n",
    "for i in range(m):\n",
    "    for j in range(n):\n",
    "        Su[0].append(uf_xi[i]*uf_eta[j])\n",
    "        Sv[0].append(vf_xi[i]*vf_eta[j])\n",
    "        Sw[0].append(wf_xi[i]*wf_eta[j])\n",
    "Su, Sv, Sw = sp.Matrix(Su), sp.Matrix(Sv), sp.Matrix(Sw)\n",
    "\n",
    "\n",
    "B0_11 = np.array((2/a) * sp.diff(Su, xi))\n",
    "B0_22 = np.array((2/b) * sp.diff(Sv, eta))\n",
    "B0_31 = np.array((2/b)*sp.diff(Su, eta))\n",
    "B0_32 = np.array((2/a)*sp.diff(Sv, xi))\n",
    "B0_43 = np.array(-(4/a**2) * sp.diff(Sw, xi, xi))\n",
    "B0_53 = np.array(-(4/b**2) * sp.diff(Sw, eta, eta))\n",
    "B0_63 = np.array(-2*(4/(a*b)) * sp.diff(Sw, xi, eta))\n",
    "Z = np.zeros(m*n).reshape(1, m*n)\n",
    "\n",
    "B0_kappa = sp.Matrix([\n",
    "    np.hstack([*B0_11, *Z, *Z]),\n",
    "    np.hstack([*Z, *B0_22, *Z]),\n",
    "    np.hstack([*B0_31, *B0_32, *Z]),\n",
    "    np.hstack([*Z, *Z, *B0_43]),\n",
    "    np.hstack([*Z, *Z, *B0_53]),\n",
    "    np.hstack([*Z, *Z, *B0_63])\n",
    "])\n",
    "\n",
    "\n",
    "F = sp.Matrix(F)\n",
    "\n",
    "\n",
    "G = sp.Matrix([\n",
    "    np.hstack([*Z, *Z, *sp.diff(Sw, xi)*(2/a)]),\n",
    "    np.hstack([*Z, *Z, *sp.diff(Sw, eta)*(2/b)])\n",
    " ])\n",
    "\n",
    "\n",
    "     \n",
    "\n",
    "G = sp.Matrix(G)\n",
    "\n",
    "N = sp.Matrix([[Nxx, Nxy],\n",
    "                [Nxy, Nyy]])"
   ]
  },
  {
   "cell_type": "code",
   "execution_count": 92,
   "metadata": {},
   "outputs": [
    {
     "data": {
      "text/plain": [
       "(2, 48)"
      ]
     },
     "execution_count": 92,
     "metadata": {},
     "output_type": "execute_result"
    }
   ],
   "source": [
    "G.shape"
   ]
  },
  {
   "cell_type": "code",
   "execution_count": 93,
   "metadata": {},
   "outputs": [],
   "source": [
    "KG = sp.integrate(\n",
    "     sp.integrate(\n",
    "        G.T * N * G, (xi, -1, 1)), (eta, -1, 1)\n",
    ") * (a*b/4)\n",
    "\n",
    "KG = np.array(KG, dtype=np.longdouble)"
   ]
  },
  {
   "cell_type": "code",
   "execution_count": 94,
   "metadata": {},
   "outputs": [
    {
     "name": "stdout",
     "output_type": "stream",
     "text": [
      "(48, 48)\n",
      "-9.219424235271025e-19\n",
      "9.219424235271025e-19\n"
     ]
    }
   ],
   "source": [
    "print(KG.shape)\n",
    "print(KG.min())\n",
    "print(KG.max())"
   ]
  },
  {
   "cell_type": "code",
   "execution_count": 28,
   "metadata": {},
   "outputs": [],
   "source": [
    "K = sp.integrate(\n",
    "    sp.integrate(\n",
    "        B0_kappa.T * F * B0_kappa, (xi, -1, 1)), (eta, -1, 1)\n",
    ") * (a*b/4)\n",
    "\n",
    "K = np.array(K, dtype=np.longdouble)"
   ]
  },
  {
   "cell_type": "code",
   "execution_count": 30,
   "metadata": {
    "scrolled": true
   },
   "outputs": [
    {
     "name": "stdout",
     "output_type": "stream",
     "text": [
      "(48, 48)\n",
      "-103.20648898856882\n",
      "214.4550420541692\n"
     ]
    }
   ],
   "source": [
    "print(K.shape)\n",
    "print(K.min())\n",
    "print(K.max())"
   ]
  },
  {
   "cell_type": "code",
   "execution_count": 31,
   "metadata": {},
   "outputs": [],
   "source": [
    "A = K\n",
    "B = KG\n",
    "\n",
    "eig_values, eig_vectors = eig(A, B)"
   ]
  },
  {
   "cell_type": "code",
   "execution_count": 32,
   "metadata": {},
   "outputs": [
    {
     "data": {
      "text/plain": [
       "(nan+0j)"
      ]
     },
     "execution_count": 32,
     "metadata": {},
     "output_type": "execute_result"
    }
   ],
   "source": [
    "eig_values.min()"
   ]
  },
  {
   "cell_type": "code",
   "execution_count": 33,
   "metadata": {},
   "outputs": [
    {
     "data": {
      "text/plain": [
       "array([nan+0.j, nan+0.j, nan+0.j, nan+0.j, nan+0.j, nan+0.j, nan+0.j,\n",
       "       nan+0.j, nan+0.j, nan+0.j, nan+0.j, inf+0.j, inf+0.j, nan+0.j,\n",
       "       nan+0.j, nan+0.j, nan+0.j, nan+0.j, nan+0.j, nan+0.j, nan+0.j,\n",
       "       nan+0.j, nan+0.j, nan+0.j, nan+0.j, nan+0.j, nan+0.j, nan+0.j,\n",
       "       nan+0.j, nan+0.j, nan+0.j, nan+0.j, nan+0.j, nan+0.j, nan+0.j,\n",
       "       nan+0.j, nan+0.j, nan+0.j, nan+0.j, nan+0.j, nan+0.j, nan+0.j,\n",
       "       nan+0.j, nan+0.j, nan+0.j, nan+0.j, nan+0.j, nan+0.j])"
      ]
     },
     "execution_count": 33,
     "metadata": {},
     "output_type": "execute_result"
    }
   ],
   "source": [
    "eig_values"
   ]
  },
  {
   "cell_type": "code",
   "execution_count": 36,
   "metadata": {},
   "outputs": [
    {
     "name": "stderr",
     "output_type": "stream",
     "text": [
      "d:\\programs\\Anaconda3\\lib\\site-packages\\scipy\\sparse\\linalg\\eigen\\arpack\\arpack.py:936: LinAlgWarning: Diagonal number 1 is exactly zero. Singular matrix.\n",
      "  self.M_lu = lu_factor(M)\n",
      "d:\\programs\\Anaconda3\\lib\\site-packages\\scipy\\sparse\\linalg\\eigen\\arpack\\arpack.py:1593: RuntimeWarning: k >= N for N * N square matrix. Attempting to use scipy.linalg.eigh instead.\n",
      "  warnings.warn(\"k >= N for N * N square matrix. \"\n"
     ]
    },
    {
     "ename": "TypeError",
     "evalue": "Cannot use scipy.linalg.eigh for sparse A with k >= N. Use scipy.linalg.eigh(A.toarray()) or reduce k.",
     "output_type": "error",
     "traceback": [
      "\u001b[1;31m---------------------------------------------------------------------------\u001b[0m",
      "\u001b[1;31mValueError\u001b[0m                                Traceback (most recent call last)",
      "File \u001b[1;32m~\\AppData\\Roaming\\Python\\Python39\\site-packages\\compmech\\analysis\\linear_buckling.py:52\u001b[0m, in \u001b[0;36mlb\u001b[1;34m(K, KG, tol, sparse_solver, silent, num_eigvalues, num_eigvalues_print)\u001b[0m\n\u001b[0;32m     51\u001b[0m msg(\u001b[39m'\u001b[39m\u001b[39meigsh() solver...\u001b[39m\u001b[39m'\u001b[39m, level\u001b[39m=\u001b[39m\u001b[39m3\u001b[39m, silent\u001b[39m=\u001b[39msilent)\n\u001b[1;32m---> 52\u001b[0m eigvals, eigvecs \u001b[39m=\u001b[39m eigsh(A\u001b[39m=\u001b[39;49mKG, k\u001b[39m=\u001b[39;49mk,\n\u001b[0;32m     53\u001b[0m         which\u001b[39m=\u001b[39;49m\u001b[39m'\u001b[39;49m\u001b[39mSM\u001b[39;49m\u001b[39m'\u001b[39;49m, M\u001b[39m=\u001b[39;49mK, tol\u001b[39m=\u001b[39;49mtol, sigma\u001b[39m=\u001b[39;49m\u001b[39m1.\u001b[39;49m, mode\u001b[39m=\u001b[39;49mmode)\n\u001b[0;32m     54\u001b[0m msg(\u001b[39m'\u001b[39m\u001b[39mfinished!\u001b[39m\u001b[39m'\u001b[39m, level\u001b[39m=\u001b[39m\u001b[39m3\u001b[39m, silent\u001b[39m=\u001b[39msilent)\n",
      "File \u001b[1;32md:\\programs\\Anaconda3\\lib\\site-packages\\scipy\\sparse\\linalg\\eigen\\arpack\\arpack.py:1684\u001b[0m, in \u001b[0;36meigsh\u001b[1;34m(A, k, M, sigma, which, v0, ncv, maxiter, tol, return_eigenvectors, Minv, OPinv, mode)\u001b[0m\n\u001b[0;32m   1682\u001b[0m         \u001b[39mraise\u001b[39;00m \u001b[39mValueError\u001b[39;00m(\u001b[39m\"\u001b[39m\u001b[39munrecognized mode \u001b[39m\u001b[39m'\u001b[39m\u001b[39m%s\u001b[39;00m\u001b[39m'\u001b[39m\u001b[39m\"\u001b[39m \u001b[39m%\u001b[39m mode)\n\u001b[1;32m-> 1684\u001b[0m params \u001b[39m=\u001b[39m _SymmetricArpackParams(n, k, A\u001b[39m.\u001b[39;49mdtype\u001b[39m.\u001b[39;49mchar, matvec, mode,\n\u001b[0;32m   1685\u001b[0m                                 M_matvec, Minv_matvec, sigma,\n\u001b[0;32m   1686\u001b[0m                                 ncv, v0, maxiter, which, tol)\n\u001b[0;32m   1688\u001b[0m \u001b[39mwith\u001b[39;00m _ARPACK_LOCK:\n",
      "File \u001b[1;32md:\\programs\\Anaconda3\\lib\\site-packages\\scipy\\sparse\\linalg\\eigen\\arpack\\arpack.py:512\u001b[0m, in \u001b[0;36m_SymmetricArpackParams.__init__\u001b[1;34m(self, n, k, tp, matvec, mode, M_matvec, Minv_matvec, sigma, ncv, v0, maxiter, which, tol)\u001b[0m\n\u001b[0;32m    510\u001b[0m     \u001b[39mraise\u001b[39;00m \u001b[39mValueError\u001b[39;00m(\u001b[39m\"\u001b[39m\u001b[39mk must be less than ndim(A), k=\u001b[39m\u001b[39m%d\u001b[39;00m\u001b[39m\"\u001b[39m \u001b[39m%\u001b[39m k)\n\u001b[1;32m--> 512\u001b[0m _ArpackParams\u001b[39m.\u001b[39;49m\u001b[39m__init__\u001b[39;49m(\u001b[39mself\u001b[39;49m, n, k, tp, mode, sigma,\n\u001b[0;32m    513\u001b[0m                        ncv, v0, maxiter, which, tol)\n\u001b[0;32m    515\u001b[0m \u001b[39mif\u001b[39;00m \u001b[39mself\u001b[39m\u001b[39m.\u001b[39mncv \u001b[39m>\u001b[39m n \u001b[39mor\u001b[39;00m \u001b[39mself\u001b[39m\u001b[39m.\u001b[39mncv \u001b[39m<\u001b[39m\u001b[39m=\u001b[39m k:\n",
      "File \u001b[1;32md:\\programs\\Anaconda3\\lib\\site-packages\\scipy\\sparse\\linalg\\eigen\\arpack\\arpack.py:321\u001b[0m, in \u001b[0;36m_ArpackParams.__init__\u001b[1;34m(self, n, k, tp, mode, sigma, ncv, v0, maxiter, which, tol)\u001b[0m\n\u001b[0;32m    320\u001b[0m \u001b[39mif\u001b[39;00m tp \u001b[39mnot\u001b[39;00m \u001b[39min\u001b[39;00m \u001b[39m'\u001b[39m\u001b[39mfdFD\u001b[39m\u001b[39m'\u001b[39m:\n\u001b[1;32m--> 321\u001b[0m     \u001b[39mraise\u001b[39;00m \u001b[39mValueError\u001b[39;00m(\u001b[39m\"\u001b[39m\u001b[39mmatrix type must be \u001b[39m\u001b[39m'\u001b[39m\u001b[39mf\u001b[39m\u001b[39m'\u001b[39m\u001b[39m, \u001b[39m\u001b[39m'\u001b[39m\u001b[39md\u001b[39m\u001b[39m'\u001b[39m\u001b[39m, \u001b[39m\u001b[39m'\u001b[39m\u001b[39mF\u001b[39m\u001b[39m'\u001b[39m\u001b[39m, or \u001b[39m\u001b[39m'\u001b[39m\u001b[39mD\u001b[39m\u001b[39m'\u001b[39m\u001b[39m\"\u001b[39m)\n\u001b[0;32m    323\u001b[0m \u001b[39mif\u001b[39;00m v0 \u001b[39mis\u001b[39;00m \u001b[39mnot\u001b[39;00m \u001b[39mNone\u001b[39;00m:\n\u001b[0;32m    324\u001b[0m     \u001b[39m# ARPACK overwrites its initial resid,  make a copy\u001b[39;00m\n",
      "\u001b[1;31mValueError\u001b[0m: matrix type must be 'f', 'd', 'F', or 'D'",
      "\nDuring handling of the above exception, another exception occurred:\n",
      "\u001b[1;31mTypeError\u001b[0m                                 Traceback (most recent call last)",
      "\u001b[1;32md:\\repositories\\composipy\\composipy\\bardell\\ritz_with_bardell.ipynb Cell 24\u001b[0m in \u001b[0;36m<cell line: 1>\u001b[1;34m()\u001b[0m\n\u001b[1;32m----> <a href='vscode-notebook-cell:/d%3A/repositories/composipy/composipy/bardell/ritz_with_bardell.ipynb#X32sZmlsZQ%3D%3D?line=0'>1</a>\u001b[0m eigvals, eigvecs \u001b[39m=\u001b[39m lb(A, B, silent\u001b[39m=\u001b[39;49m\u001b[39mTrue\u001b[39;49;00m)\n\u001b[0;32m      <a href='vscode-notebook-cell:/d%3A/repositories/composipy/composipy/bardell/ritz_with_bardell.ipynb#X32sZmlsZQ%3D%3D?line=1'>2</a>\u001b[0m eigvals\n",
      "File \u001b[1;32m~\\AppData\\Roaming\\Python\\Python39\\site-packages\\compmech\\analysis\\linear_buckling.py:61\u001b[0m, in \u001b[0;36mlb\u001b[1;34m(K, KG, tol, sparse_solver, silent, num_eigvalues, num_eigvalues_print)\u001b[0m\n\u001b[0;32m     59\u001b[0m K, KG, used_cols \u001b[39m=\u001b[39m remove_null_cols(K, KG, silent\u001b[39m=\u001b[39msilent)\n\u001b[0;32m     60\u001b[0m msg(\u001b[39m'\u001b[39m\u001b[39meigsh() solver...\u001b[39m\u001b[39m'\u001b[39m, level\u001b[39m=\u001b[39m\u001b[39m3\u001b[39m, silent\u001b[39m=\u001b[39msilent)\n\u001b[1;32m---> 61\u001b[0m eigvals, peigvecs \u001b[39m=\u001b[39m eigsh(A\u001b[39m=\u001b[39;49mKG, k\u001b[39m=\u001b[39;49mk,\n\u001b[0;32m     62\u001b[0m         which\u001b[39m=\u001b[39;49m\u001b[39m'\u001b[39;49m\u001b[39mSM\u001b[39;49m\u001b[39m'\u001b[39;49m, M\u001b[39m=\u001b[39;49mK, tol\u001b[39m=\u001b[39;49mtol, sigma\u001b[39m=\u001b[39;49m\u001b[39m1.\u001b[39;49m, mode\u001b[39m=\u001b[39;49mmode)\n\u001b[0;32m     63\u001b[0m msg(\u001b[39m'\u001b[39m\u001b[39mfinished!\u001b[39m\u001b[39m'\u001b[39m, level\u001b[39m=\u001b[39m\u001b[39m3\u001b[39m, silent\u001b[39m=\u001b[39msilent)\n\u001b[0;32m     64\u001b[0m eigvecs \u001b[39m=\u001b[39m np\u001b[39m.\u001b[39mzeros((sizebkp, num_eigvalues),\n\u001b[0;32m     65\u001b[0m                    dtype\u001b[39m=\u001b[39mpeigvecs\u001b[39m.\u001b[39mdtype)\n",
      "File \u001b[1;32md:\\programs\\Anaconda3\\lib\\site-packages\\scipy\\sparse\\linalg\\eigen\\arpack\\arpack.py:1598\u001b[0m, in \u001b[0;36meigsh\u001b[1;34m(A, k, M, sigma, which, v0, ncv, maxiter, tol, return_eigenvectors, Minv, OPinv, mode)\u001b[0m\n\u001b[0;32m   1593\u001b[0m warnings\u001b[39m.\u001b[39mwarn(\u001b[39m\"\u001b[39m\u001b[39mk >= N for N * N square matrix. \u001b[39m\u001b[39m\"\u001b[39m\n\u001b[0;32m   1594\u001b[0m               \u001b[39m\"\u001b[39m\u001b[39mAttempting to use scipy.linalg.eigh instead.\u001b[39m\u001b[39m\"\u001b[39m,\n\u001b[0;32m   1595\u001b[0m               \u001b[39mRuntimeWarning\u001b[39;00m)\n\u001b[0;32m   1597\u001b[0m \u001b[39mif\u001b[39;00m issparse(A):\n\u001b[1;32m-> 1598\u001b[0m     \u001b[39mraise\u001b[39;00m \u001b[39mTypeError\u001b[39;00m(\u001b[39m\"\u001b[39m\u001b[39mCannot use scipy.linalg.eigh for sparse A with \u001b[39m\u001b[39m\"\u001b[39m\n\u001b[0;32m   1599\u001b[0m                     \u001b[39m\"\u001b[39m\u001b[39mk >= N. Use scipy.linalg.eigh(A.toarray()) or\u001b[39m\u001b[39m\"\u001b[39m\n\u001b[0;32m   1600\u001b[0m                     \u001b[39m\"\u001b[39m\u001b[39m reduce k.\u001b[39m\u001b[39m\"\u001b[39m)\n\u001b[0;32m   1601\u001b[0m \u001b[39mif\u001b[39;00m \u001b[39misinstance\u001b[39m(A, LinearOperator):\n\u001b[0;32m   1602\u001b[0m     \u001b[39mraise\u001b[39;00m \u001b[39mTypeError\u001b[39;00m(\u001b[39m\"\u001b[39m\u001b[39mCannot use scipy.linalg.eigh for LinearOperator \u001b[39m\u001b[39m\"\u001b[39m\n\u001b[0;32m   1603\u001b[0m                     \u001b[39m\"\u001b[39m\u001b[39mA with k >= N.\u001b[39m\u001b[39m\"\u001b[39m)\n",
      "\u001b[1;31mTypeError\u001b[0m: Cannot use scipy.linalg.eigh for sparse A with k >= N. Use scipy.linalg.eigh(A.toarray()) or reduce k."
     ]
    }
   ],
   "source": [
    "eigvals, eigvecs = lb(A, B, silent=True)\n",
    "eigvals"
   ]
  },
  {
   "cell_type": "markdown",
   "metadata": {},
   "source": [
    "## Check with compmech"
   ]
  },
  {
   "cell_type": "code",
   "execution_count": 37,
   "metadata": {},
   "outputs": [],
   "source": [
    "from compmech.panel.panel import Panel\n",
    "from compmech.analysis import lb, static"
   ]
  },
  {
   "cell_type": "code",
   "execution_count": 76,
   "metadata": {},
   "outputs": [],
   "source": [
    "# skin panels\n",
    "laminaprop = (E1, E2, v12, G12, G12, G12)\n",
    "stack = [45, 0, 0, 45, 0, 0, 45,]\n",
    "p1 = Panel(group='skin', Nxy=-1, x0=0, y0=0., a=a, b=b,m=4, n=4, plyt=t, stack=stack, laminaprop=laminaprop)"
   ]
  },
  {
   "cell_type": "code",
   "execution_count": 77,
   "metadata": {},
   "outputs": [],
   "source": [
    "# boundary conditions CCCC\n",
    "p1.u1tx = 0 ; p1.u1rx = 1 ; p1.u2tx = 0 ; p1.u2rx = 1\n",
    "p1.v1tx = 0 ; p1.v1rx = 1 ; p1.v2tx = 0 ; p1.v2rx = 1\n",
    "p1.w1tx = 0 ; p1.w1rx = 1 ; p1.w2tx = 0 ; p1.w2rx = 1\n",
    "p1.u1ty = 0 ; p1.u1ry = 1 ; p1.u2ty = 0 ; p1.u2ry = 1\n",
    "p1.v1ty = 0 ; p1.v1ry = 1 ; p1.v2ty = 0 ; p1.v2ry = 1\n",
    "p1.w1ty = 0 ; p1.w1ry = 1 ; p1.w2ty = 0 ; p1.w2ry = 1"
   ]
  },
  {
   "cell_type": "code",
   "execution_count": 78,
   "metadata": {},
   "outputs": [
    {
     "name": "stdout",
     "output_type": "stream",
     "text": [
      "\t\tCalculating k0... \n",
      "\t\tfinished!\n",
      "\t\tCalculating kG0... \n",
      "\t\tfinished!\n"
     ]
    },
    {
     "name": "stderr",
     "output_type": "stream",
     "text": [
      "d:\\programs\\Anaconda3\\lib\\site-packages\\scipy\\sparse\\linalg\\eigen\\arpack\\arpack.py:1593: RuntimeWarning: k >= N for N * N square matrix. Attempting to use scipy.linalg.eigh instead.\n",
      "  warnings.warn(\"k >= N for N * N square matrix. \"\n"
     ]
    },
    {
     "ename": "TypeError",
     "evalue": "Cannot use scipy.linalg.eigh for sparse A with k >= N. Use scipy.linalg.eigh(A.toarray()) or reduce k.",
     "output_type": "error",
     "traceback": [
      "\u001b[1;31m---------------------------------------------------------------------------\u001b[0m",
      "\u001b[1;31mRuntimeError\u001b[0m                              Traceback (most recent call last)",
      "File \u001b[1;32m~\\AppData\\Roaming\\Python\\Python39\\site-packages\\compmech\\analysis\\linear_buckling.py:52\u001b[0m, in \u001b[0;36mlb\u001b[1;34m(K, KG, tol, sparse_solver, silent, num_eigvalues, num_eigvalues_print)\u001b[0m\n\u001b[0;32m     51\u001b[0m msg(\u001b[39m'\u001b[39m\u001b[39meigsh() solver...\u001b[39m\u001b[39m'\u001b[39m, level\u001b[39m=\u001b[39m\u001b[39m3\u001b[39m, silent\u001b[39m=\u001b[39msilent)\n\u001b[1;32m---> 52\u001b[0m eigvals, eigvecs \u001b[39m=\u001b[39m eigsh(A\u001b[39m=\u001b[39;49mKG, k\u001b[39m=\u001b[39;49mk,\n\u001b[0;32m     53\u001b[0m         which\u001b[39m=\u001b[39;49m\u001b[39m'\u001b[39;49m\u001b[39mSM\u001b[39;49m\u001b[39m'\u001b[39;49m, M\u001b[39m=\u001b[39;49mK, tol\u001b[39m=\u001b[39;49mtol, sigma\u001b[39m=\u001b[39;49m\u001b[39m1.\u001b[39;49m, mode\u001b[39m=\u001b[39;49mmode)\n\u001b[0;32m     54\u001b[0m msg(\u001b[39m'\u001b[39m\u001b[39mfinished!\u001b[39m\u001b[39m'\u001b[39m, level\u001b[39m=\u001b[39m\u001b[39m3\u001b[39m, silent\u001b[39m=\u001b[39msilent)\n",
      "File \u001b[1;32md:\\programs\\Anaconda3\\lib\\site-packages\\scipy\\sparse\\linalg\\eigen\\arpack\\arpack.py:1671\u001b[0m, in \u001b[0;36meigsh\u001b[1;34m(A, k, M, sigma, which, v0, ncv, maxiter, tol, return_eigenvectors, Minv, OPinv, mode)\u001b[0m\n\u001b[0;32m   1670\u001b[0m \u001b[39mif\u001b[39;00m OPinv \u001b[39mis\u001b[39;00m \u001b[39mNone\u001b[39;00m:\n\u001b[1;32m-> 1671\u001b[0m     Minv_matvec \u001b[39m=\u001b[39m get_OPinv_matvec(A, M, sigma,\n\u001b[0;32m   1672\u001b[0m                                    hermitian\u001b[39m=\u001b[39;49m\u001b[39mTrue\u001b[39;49;00m, tol\u001b[39m=\u001b[39;49mtol)\n\u001b[0;32m   1673\u001b[0m \u001b[39melse\u001b[39;00m:\n",
      "File \u001b[1;32md:\\programs\\Anaconda3\\lib\\site-packages\\scipy\\sparse\\linalg\\eigen\\arpack\\arpack.py:1088\u001b[0m, in \u001b[0;36mget_OPinv_matvec\u001b[1;34m(A, M, sigma, hermitian, tol)\u001b[0m\n\u001b[0;32m   1087\u001b[0m OP \u001b[39m=\u001b[39m _fast_spmatrix_to_csc(OP, hermitian\u001b[39m=\u001b[39mhermitian)\n\u001b[1;32m-> 1088\u001b[0m \u001b[39mreturn\u001b[39;00m SpLuInv(OP)\u001b[39m.\u001b[39mmatvec\n",
      "File \u001b[1;32md:\\programs\\Anaconda3\\lib\\site-packages\\scipy\\sparse\\linalg\\eigen\\arpack\\arpack.py:913\u001b[0m, in \u001b[0;36mSpLuInv.__init__\u001b[1;34m(self, M)\u001b[0m\n\u001b[0;32m    912\u001b[0m \u001b[39mdef\u001b[39;00m \u001b[39m__init__\u001b[39m(\u001b[39mself\u001b[39m, M):\n\u001b[1;32m--> 913\u001b[0m     \u001b[39mself\u001b[39m\u001b[39m.\u001b[39mM_lu \u001b[39m=\u001b[39m splu(M)\n\u001b[0;32m    914\u001b[0m     \u001b[39mself\u001b[39m\u001b[39m.\u001b[39mshape \u001b[39m=\u001b[39m M\u001b[39m.\u001b[39mshape\n",
      "File \u001b[1;32md:\\programs\\Anaconda3\\lib\\site-packages\\scipy\\sparse\\linalg\\dsolve\\linsolve.py:337\u001b[0m, in \u001b[0;36msplu\u001b[1;34m(A, permc_spec, diag_pivot_thresh, relax, panel_size, options)\u001b[0m\n\u001b[0;32m    335\u001b[0m     _options[\u001b[39m\"\u001b[39m\u001b[39mSymmetricMode\u001b[39m\u001b[39m\"\u001b[39m] \u001b[39m=\u001b[39m \u001b[39mTrue\u001b[39;00m\n\u001b[1;32m--> 337\u001b[0m \u001b[39mreturn\u001b[39;00m _superlu\u001b[39m.\u001b[39;49mgstrf(N, A\u001b[39m.\u001b[39;49mnnz, A\u001b[39m.\u001b[39;49mdata, A\u001b[39m.\u001b[39;49mindices, A\u001b[39m.\u001b[39;49mindptr,\n\u001b[0;32m    338\u001b[0m                       csc_construct_func\u001b[39m=\u001b[39;49mcsc_construct_func,\n\u001b[0;32m    339\u001b[0m                       ilu\u001b[39m=\u001b[39;49m\u001b[39mFalse\u001b[39;49;00m, options\u001b[39m=\u001b[39;49m_options)\n",
      "\u001b[1;31mRuntimeError\u001b[0m: Factor is exactly singular",
      "\nDuring handling of the above exception, another exception occurred:\n",
      "\u001b[1;31mTypeError\u001b[0m                                 Traceback (most recent call last)",
      "\u001b[1;32md:\\repositories\\composipy\\composipy\\bardell\\ritz_with_bardell.ipynb Cell 29\u001b[0m in \u001b[0;36m<cell line: 4>\u001b[1;34m()\u001b[0m\n\u001b[0;32m      <a href='vscode-notebook-cell:/d%3A/repositories/composipy/composipy/bardell/ritz_with_bardell.ipynb#X40sZmlsZQ%3D%3D?line=0'>1</a>\u001b[0m k0_1 \u001b[39m=\u001b[39m p1\u001b[39m.\u001b[39mcalc_k0()\n\u001b[0;32m      <a href='vscode-notebook-cell:/d%3A/repositories/composipy/composipy/bardell/ritz_with_bardell.ipynb#X40sZmlsZQ%3D%3D?line=1'>2</a>\u001b[0m kG0_1 \u001b[39m=\u001b[39m p1\u001b[39m.\u001b[39mcalc_kG0()\n\u001b[1;32m----> <a href='vscode-notebook-cell:/d%3A/repositories/composipy/composipy/bardell/ritz_with_bardell.ipynb#X40sZmlsZQ%3D%3D?line=3'>4</a>\u001b[0m eigvals, eigvecs \u001b[39m=\u001b[39m lb(k0_1, kG0_1, silent\u001b[39m=\u001b[39;49m\u001b[39mTrue\u001b[39;49;00m)\n\u001b[0;32m      <a href='vscode-notebook-cell:/d%3A/repositories/composipy/composipy/bardell/ritz_with_bardell.ipynb#X40sZmlsZQ%3D%3D?line=4'>5</a>\u001b[0m eigvals\n",
      "File \u001b[1;32m~\\AppData\\Roaming\\Python\\Python39\\site-packages\\compmech\\analysis\\linear_buckling.py:61\u001b[0m, in \u001b[0;36mlb\u001b[1;34m(K, KG, tol, sparse_solver, silent, num_eigvalues, num_eigvalues_print)\u001b[0m\n\u001b[0;32m     59\u001b[0m K, KG, used_cols \u001b[39m=\u001b[39m remove_null_cols(K, KG, silent\u001b[39m=\u001b[39msilent)\n\u001b[0;32m     60\u001b[0m msg(\u001b[39m'\u001b[39m\u001b[39meigsh() solver...\u001b[39m\u001b[39m'\u001b[39m, level\u001b[39m=\u001b[39m\u001b[39m3\u001b[39m, silent\u001b[39m=\u001b[39msilent)\n\u001b[1;32m---> 61\u001b[0m eigvals, peigvecs \u001b[39m=\u001b[39m eigsh(A\u001b[39m=\u001b[39;49mKG, k\u001b[39m=\u001b[39;49mk,\n\u001b[0;32m     62\u001b[0m         which\u001b[39m=\u001b[39;49m\u001b[39m'\u001b[39;49m\u001b[39mSM\u001b[39;49m\u001b[39m'\u001b[39;49m, M\u001b[39m=\u001b[39;49mK, tol\u001b[39m=\u001b[39;49mtol, sigma\u001b[39m=\u001b[39;49m\u001b[39m1.\u001b[39;49m, mode\u001b[39m=\u001b[39;49mmode)\n\u001b[0;32m     63\u001b[0m msg(\u001b[39m'\u001b[39m\u001b[39mfinished!\u001b[39m\u001b[39m'\u001b[39m, level\u001b[39m=\u001b[39m\u001b[39m3\u001b[39m, silent\u001b[39m=\u001b[39msilent)\n\u001b[0;32m     64\u001b[0m eigvecs \u001b[39m=\u001b[39m np\u001b[39m.\u001b[39mzeros((sizebkp, num_eigvalues),\n\u001b[0;32m     65\u001b[0m                    dtype\u001b[39m=\u001b[39mpeigvecs\u001b[39m.\u001b[39mdtype)\n",
      "File \u001b[1;32md:\\programs\\Anaconda3\\lib\\site-packages\\scipy\\sparse\\linalg\\eigen\\arpack\\arpack.py:1598\u001b[0m, in \u001b[0;36meigsh\u001b[1;34m(A, k, M, sigma, which, v0, ncv, maxiter, tol, return_eigenvectors, Minv, OPinv, mode)\u001b[0m\n\u001b[0;32m   1593\u001b[0m warnings\u001b[39m.\u001b[39mwarn(\u001b[39m\"\u001b[39m\u001b[39mk >= N for N * N square matrix. \u001b[39m\u001b[39m\"\u001b[39m\n\u001b[0;32m   1594\u001b[0m               \u001b[39m\"\u001b[39m\u001b[39mAttempting to use scipy.linalg.eigh instead.\u001b[39m\u001b[39m\"\u001b[39m,\n\u001b[0;32m   1595\u001b[0m               \u001b[39mRuntimeWarning\u001b[39;00m)\n\u001b[0;32m   1597\u001b[0m \u001b[39mif\u001b[39;00m issparse(A):\n\u001b[1;32m-> 1598\u001b[0m     \u001b[39mraise\u001b[39;00m \u001b[39mTypeError\u001b[39;00m(\u001b[39m\"\u001b[39m\u001b[39mCannot use scipy.linalg.eigh for sparse A with \u001b[39m\u001b[39m\"\u001b[39m\n\u001b[0;32m   1599\u001b[0m                     \u001b[39m\"\u001b[39m\u001b[39mk >= N. Use scipy.linalg.eigh(A.toarray()) or\u001b[39m\u001b[39m\"\u001b[39m\n\u001b[0;32m   1600\u001b[0m                     \u001b[39m\"\u001b[39m\u001b[39m reduce k.\u001b[39m\u001b[39m\"\u001b[39m)\n\u001b[0;32m   1601\u001b[0m \u001b[39mif\u001b[39;00m \u001b[39misinstance\u001b[39m(A, LinearOperator):\n\u001b[0;32m   1602\u001b[0m     \u001b[39mraise\u001b[39;00m \u001b[39mTypeError\u001b[39;00m(\u001b[39m\"\u001b[39m\u001b[39mCannot use scipy.linalg.eigh for LinearOperator \u001b[39m\u001b[39m\"\u001b[39m\n\u001b[0;32m   1603\u001b[0m                     \u001b[39m\"\u001b[39m\u001b[39mA with k >= N.\u001b[39m\u001b[39m\"\u001b[39m)\n",
      "\u001b[1;31mTypeError\u001b[0m: Cannot use scipy.linalg.eigh for sparse A with k >= N. Use scipy.linalg.eigh(A.toarray()) or reduce k."
     ]
    }
   ],
   "source": [
    "k0_1 = p1.calc_k0()\n",
    "kG0_1 = p1.calc_kG0()\n",
    "\n",
    "eigvals, eigvecs = lb(k0_1, kG0_1, silent=True)\n",
    "eigvals"
   ]
  },
  {
   "cell_type": "code",
   "execution_count": 79,
   "metadata": {},
   "outputs": [
    {
     "name": "stdout",
     "output_type": "stream",
     "text": [
      "-77.55439975824015\n",
      "121.49716202529147\n"
     ]
    }
   ],
   "source": [
    "print(k0_1.min())\n",
    "print(k0_1.max())"
   ]
  },
  {
   "cell_type": "code",
   "execution_count": 80,
   "metadata": {},
   "outputs": [
    {
     "name": "stdout",
     "output_type": "stream",
     "text": [
      "-0.0005555555555555578\n",
      "0.0005555555555555578\n"
     ]
    }
   ],
   "source": [
    "print(kG0_1.min())\n",
    "print(kG0_1.max())"
   ]
  },
  {
   "cell_type": "code",
   "execution_count": 95,
   "metadata": {},
   "outputs": [
    {
     "data": {
      "text/latex": [
       "$\\displaystyle \\left[\\begin{array}{cccccccccccccccccccccccccccccccccccccccccccccccc}0 & 0 & 0 & 0 & 0 & 0 & 0 & 0 & 0 & 0 & 0 & 0 & 0 & 0 & 0 & 0 & 0 & 0 & 0 & 0 & 0 & 0 & 0 & 0 & 0 & 0 & 0 & 0 & 0 & 0 & 0 & 0 & 0 & 0 & 0 & 0 & 0 & 0 & 0 & 0 & 0 & 0 & 0 & 0 & 0 & 0 & 0 & 0\\\\0 & 0 & 0 & 0 & 0 & 0 & 0 & 0 & 0 & 0 & 0 & 0 & 0 & 0 & 0 & 0 & 0 & 0 & 0 & 0 & 0 & 0 & 0 & 0 & 0 & 0 & 0 & 0 & 0 & 0 & 0 & 0 & 0 & 0 & 0 & 0 & 0 & 0 & 0 & 0 & 0 & 0 & 0 & 0 & 0 & 0 & 0 & 0\\\\0 & 0 & 0 & 0 & 0 & 0 & 0 & 0 & 0 & 0 & 0 & 0 & 0 & 0 & 0 & 0 & 0 & 0 & 0 & 0 & 0 & 0 & 0 & 0 & 0 & 0 & 0 & 0 & 0 & 0 & 0 & 0 & 0 & 0 & 0 & 0 & 0 & 0 & 0 & 0 & 0 & 0 & 0 & 0 & 0 & 0 & 0 & 0\\\\0 & 0 & 0 & 0 & 0 & 0 & 0 & 0 & 0 & 0 & 0 & 0 & 0 & 0 & 0 & 0 & 0 & 0 & 0 & 0 & 0 & 0 & 0 & 0 & 0 & 0 & 0 & 0 & 0 & 0 & 0 & 0 & 0 & 0 & 0 & 0 & 0 & 0 & 0 & 0 & 0 & 0 & 0 & 0 & 0 & 0 & 0 & 0\\\\0 & 0 & 0 & 0 & 0 & 0 & 0 & 0 & 0 & 0 & 0 & 0 & 0 & 0 & 0 & 0 & 0 & 0 & 0 & 0 & 0 & 0 & 0 & 0 & 0 & 0 & 0 & 0 & 0 & 0 & 0 & 0 & 0 & 0 & 0 & 0 & 0 & 0 & 0 & 0 & 0 & 0 & 0 & 0 & 0 & 0 & 0 & 0\\\\0 & 0 & 0 & 0 & 0 & 0 & 0 & 0 & 0 & 0 & 0 & 0 & 0 & 0 & 0 & 0 & 0 & 0 & 0 & 0 & 0 & 0 & 0 & 0 & 0 & 0 & 0 & 0 & 0 & 0 & 0 & 0 & 0 & 0 & 0 & 0 & 0 & 0 & 0 & 0 & 0 & 0 & 0 & 0 & 0 & 0 & 0 & 0\\\\0 & 0 & 0 & 0 & 0 & 0 & 0 & 0 & 0 & 0 & 0 & 0 & 0 & 0 & 0 & 0 & 0 & 0 & 0 & 0 & 0 & 0 & 0 & 0 & 0 & 0 & 0 & 0 & 0 & 0 & 0 & 0 & 0 & 0 & 0 & 0 & 0 & 0 & 0 & 0 & 0 & 0 & 0 & 0 & 0 & 0 & 0 & 0\\\\0 & 0 & 0 & 0 & 0 & 0 & 0 & 0 & 0 & 0 & 0 & 0 & 0 & 0 & 0 & 0 & 0 & 0 & 0 & 0 & 0 & 0 & 0 & 0 & 0 & 0 & 0 & 0 & 0 & 0 & 0 & 0 & 0 & 0 & 0 & 0 & 0 & 0 & 0 & 0 & 0 & 0 & 0 & 0 & 0 & 0 & 0 & 0\\\\0 & 0 & 0 & 0 & 0 & 0 & 0 & 0 & 0 & 0 & 0 & 0 & 0 & 0 & 0 & 0 & 0 & 0 & 0 & 0 & 0 & 0 & 0 & 0 & 0 & 0 & 0 & 0 & 0 & 0 & 0 & 0 & 0 & 0 & 0 & 0 & 0 & 0 & 0 & 0 & 0 & 0 & 0 & 0 & 0 & 0 & 0 & 0\\\\0 & 0 & 0 & 0 & 0 & 0 & 0 & 0 & 0 & 0 & 0 & 0 & 0 & 0 & 0 & 0 & 0 & 0 & 0 & 0 & 0 & 0 & 0 & 0 & 0 & 0 & 0 & 0 & 0 & 0 & 0 & 0 & 0 & 0 & 0 & 0 & 0 & 0 & 0 & 0 & 0 & 0 & 0 & 0 & 0 & 0 & 0 & 0\\\\0 & 0 & 0 & 0 & 0 & 0 & 0 & 0 & 0 & 0 & 0 & 0 & 0 & 0 & 0 & 0 & 0 & 0 & 0 & 0 & 0 & 0 & 0 & 0 & 0 & 0 & 0 & 0 & 0 & 0 & 0 & 0 & 0 & 0 & 0 & 0 & 0 & 0 & 0 & 0 & 0 & 0 & 0 & 0 & 0 & 0 & 0 & 0\\\\0 & 0 & 0 & 0 & 0 & 0 & 0 & 0 & 0 & 0 & 0 & 0 & 0 & 0 & 0 & 0 & 0 & 0 & 0 & 0 & 0 & 0 & 0 & 0 & 0 & 0 & 0 & 0 & 0 & 0 & 0 & 0 & 0 & 0 & 0 & 0 & 0 & 0 & 0 & 0 & 0 & 0 & 0 & 0 & 0 & 0 & 0 & 0\\\\0 & 0 & 0 & 0 & 0 & 0 & 0 & 0 & 0 & 0 & 0 & 0 & 0 & 0 & 0 & 0 & 0 & 0 & 0 & 0 & 0 & 0 & 0 & 0 & 0 & 0 & 0 & 0 & 0 & 0 & 0 & 0 & 0 & 0 & 0 & 0 & 0 & 0 & 0 & 0 & 0 & 0 & 0 & 0 & 0 & 0 & 0 & 0\\\\0 & 0 & 0 & 0 & 0 & 0 & 0 & 0 & 0 & 0 & 0 & 0 & 0 & 0 & 0 & 0 & 0 & 0 & 0 & 0 & 0 & 0 & 0 & 0 & 0 & 0 & 0 & 0 & 0 & 0 & 0 & 0 & 0 & 0 & 0 & 0 & 0 & 0 & 0 & 0 & 0 & 0 & 0 & 0 & 0 & 0 & 0 & 0\\\\0 & 0 & 0 & 0 & 0 & 0 & 0 & 0 & 0 & 0 & 0 & 0 & 0 & 0 & 0 & 0 & 0 & 0 & 0 & 0 & 0 & 0 & 0 & 0 & 0 & 0 & 0 & 0 & 0 & 0 & 0 & 0 & 0 & 0 & 0 & 0 & 0 & 0 & 0 & 0 & 0 & 0 & 0 & 0 & 0 & 0 & 0 & 0\\\\0 & 0 & 0 & 0 & 0 & 0 & 0 & 0 & 0 & 0 & 0 & 0 & 0 & 0 & 0 & 0 & 0 & 0 & 0 & 0 & 0 & 0 & 0 & 0 & 0 & 0 & 0 & 0 & 0 & 0 & 0 & 0 & 0 & 0 & 0 & 0 & 0 & 0 & 0 & 0 & 0 & 0 & 0 & 0 & 0 & 0 & 0 & 0\\\\0 & 0 & 0 & 0 & 0 & 0 & 0 & 0 & 0 & 0 & 0 & 0 & 0 & 0 & 0 & 0 & 0 & 0 & 0 & 0 & 0 & 0 & 0 & 0 & 0 & 0 & 0 & 0 & 0 & 0 & 0 & 0 & 0 & 0 & 0 & 0 & 0 & 0 & 0 & 0 & 0 & 0 & 0 & 0 & 0 & 0 & 0 & 0\\\\0 & 0 & 0 & 0 & 0 & 0 & 0 & 0 & 0 & 0 & 0 & 0 & 0 & 0 & 0 & 0 & 0 & 0 & 0 & 0 & 0 & 0 & 0 & 0 & 0 & 0 & 0 & 0 & 0 & 0 & 0 & 0 & 0 & 0 & 0 & 0 & 0 & 0 & 0 & 0 & 0 & 0 & 0 & 0 & 0 & 0 & 0 & 0.000555555555555558\\\\0 & 0 & 0 & 0 & 0 & 0 & 0 & 0 & 0 & 0 & 0 & 0 & 0 & 0 & 0 & 0 & 0 & 0 & 0 & 0 & 0 & 0 & 0 & 0 & 0 & 0 & 0 & 0 & 0 & 0 & 0 & 0 & 0 & 0 & 0 & 0 & 0 & 0 & 0 & 0 & 0 & 0 & 0 & 0 & 0 & 0 & 0 & 0\\\\0 & 0 & 0 & 0 & 0 & 0 & 0 & 0 & 0 & 0 & 0 & 0 & 0 & 0 & 0 & 0 & 0 & 0 & 0 & 0 & 0 & 0 & 0 & 0 & 0 & 0 & 0 & 0 & 0 & 0 & 0 & 0 & 0 & 0 & 0 & 0 & 0 & 0 & 0 & 0 & 0 & 0 & 0 & 0 & 0 & 0 & 0 & 0\\\\0 & 0 & 0 & 0 & 0 & 0 & 0 & 0 & 0 & 0 & 0 & 0 & 0 & 0 & 0 & 0 & 0 & 0 & 0 & 0 & 0 & 0 & 0 & 0 & 0 & 0 & 0 & 0 & 0 & 0 & 0 & 0 & 0 & 0 & 0 & 0 & 0 & 0 & 0 & 0 & 0 & 0 & 0 & 0 & 0 & 0 & 0 & 0\\\\0 & 0 & 0 & 0 & 0 & 0 & 0 & 0 & 0 & 0 & 0 & 0 & 0 & 0 & 0 & 0 & 0 & 0 & 0 & 0 & 0 & 0 & 0 & 0 & 0 & 0 & 0 & 0 & 0 & 0 & 0 & 0 & 0 & 0 & 0 & 0 & 0 & 0 & 0 & 0 & 0 & 0 & 0 & 0 & 0 & 0 & 0 & 0\\\\0 & 0 & 0 & 0 & 0 & 0 & 0 & 0 & 0 & 0 & 0 & 0 & 0 & 0 & 0 & 0 & 0 & 0 & 0 & 0 & 0 & 0 & 0 & 0 & 0 & 0 & 0 & 0 & 0 & 0 & 0 & 0 & 0 & 0 & 0 & 0 & 0 & 0 & 0 & 0 & 0 & 0 & 0 & 0 & 0 & 0 & 0 & 0\\\\0 & 0 & 0 & 0 & 0 & 0 & 0 & 0 & 0 & 0 & 0 & 0 & 0 & 0 & 0 & 0 & 0 & 0 & 0 & 0 & 0 & 0 & 0 & 0 & 0 & 0 & 0 & 0 & 0 & 0 & 0 & 0 & 0 & 0 & 0 & 0 & 0 & 0 & 0 & 0 & 0 & -0.000555555555555558 & 0 & 0 & 0 & 0 & 0 & 0\\\\0 & 0 & 0 & 0 & 0 & 0 & 0 & 0 & 0 & 0 & 0 & 0 & 0 & 0 & 0 & 0 & 0 & 0 & 0 & 0 & 0 & 0 & 0 & 0 & 0 & 0 & 0 & 0 & 0 & 0 & 0 & 0 & 0 & 0 & 0 & 0 & 0 & 0 & 0 & 0 & 0 & 0 & 0 & 0 & 0 & 0 & 0 & 0\\\\0 & 0 & 0 & 0 & 0 & 0 & 0 & 0 & 0 & 0 & 0 & 0 & 0 & 0 & 0 & 0 & 0 & 0 & 0 & 0 & 0 & 0 & 0 & 0 & 0 & 0 & 0 & 0 & 0 & 0 & 0 & 0 & 0 & 0 & 0 & 0 & 0 & 0 & 0 & 0 & 0 & 0 & 0 & 0 & 0 & 0 & 0 & 0\\\\0 & 0 & 0 & 0 & 0 & 0 & 0 & 0 & 0 & 0 & 0 & 0 & 0 & 0 & 0 & 0 & 0 & 0 & 0 & 0 & 0 & 0 & 0 & 0 & 0 & 0 & 0 & 0 & 0 & 0 & 0 & 0 & 0 & 0 & 0 & 0 & 0 & 0 & 0 & 0 & 0 & 0 & 0 & 0 & 0 & 0 & 0 & 0\\\\0 & 0 & 0 & 0 & 0 & 0 & 0 & 0 & 0 & 0 & 0 & 0 & 0 & 0 & 0 & 0 & 0 & 0 & 0 & 0 & 0 & 0 & 0 & 0 & 0 & 0 & 0 & 0 & 0 & 0 & 0 & 0 & 0 & 0 & 0 & 0 & 0 & 0 & 0 & 0 & 0 & 0 & 0 & 0 & 0 & 0 & 0 & 0\\\\0 & 0 & 0 & 0 & 0 & 0 & 0 & 0 & 0 & 0 & 0 & 0 & 0 & 0 & 0 & 0 & 0 & 0 & 0 & 0 & 0 & 0 & 0 & 0 & 0 & 0 & 0 & 0 & 0 & 0 & 0 & 0 & 0 & 0 & 0 & 0 & 0 & 0 & 0 & 0 & 0 & 0 & 0 & 0 & 0 & 0 & 0 & 0\\\\0 & 0 & 0 & 0 & 0 & 0 & 0 & 0 & 0 & 0 & 0 & 0 & 0 & 0 & 0 & 0 & 0 & 0 & 0 & 0 & 0 & 0 & 0 & 0 & 0 & 0 & 0 & 0 & 0 & 0 & 0 & 0 & 0 & 0 & 0 & 0 & 0 & 0 & 0 & 0 & 0 & 0 & 0 & 0 & 0 & 0 & 0 & 0\\\\0 & 0 & 0 & 0 & 0 & 0 & 0 & 0 & 0 & 0 & 0 & 0 & 0 & 0 & 0 & 0 & 0 & 0 & 0 & 0 & 0 & 0 & 0 & 0 & 0 & 0 & 0 & 0 & 0 & 0 & 0 & 0 & 0 & 0 & 0 & 0 & 0 & 0 & 0 & 0 & 0 & 0 & 0 & 0 & 0 & 0 & 0 & 0\\\\0 & 0 & 0 & 0 & 0 & 0 & 0 & 0 & 0 & 0 & 0 & 0 & 0 & 0 & 0 & 0 & 0 & 0 & 0 & 0 & 0 & 0 & 0 & 0 & 0 & 0 & 0 & 0 & 0 & 0 & 0 & 0 & 0 & 0 & 0 & 0 & 0 & 0 & 0 & 0 & 0 & 0 & 0 & 0 & 0 & 0 & 0 & 0\\\\0 & 0 & 0 & 0 & 0 & 0 & 0 & 0 & 0 & 0 & 0 & 0 & 0 & 0 & 0 & 0 & 0 & 0 & 0 & 0 & 0 & 0 & 0 & 0 & 0 & 0 & 0 & 0 & 0 & 0 & 0 & 0 & 0 & 0 & 0 & 0 & 0 & 0 & 0 & 0 & 0 & 0 & 0 & 0 & 0 & 0 & 0 & 0\\\\0 & 0 & 0 & 0 & 0 & 0 & 0 & 0 & 0 & 0 & 0 & 0 & 0 & 0 & 0 & 0 & 0 & 0 & 0 & 0 & 0 & 0 & 0 & 0 & 0 & 0 & 0 & 0 & 0 & 0 & 0 & 0 & 0 & 0 & 0 & 0 & 0 & 0 & 0 & 0 & 0 & 0 & 0 & 0 & 0 & 0 & 0 & 0\\\\0 & 0 & 0 & 0 & 0 & 0 & 0 & 0 & 0 & 0 & 0 & 0 & 0 & 0 & 0 & 0 & 0 & 0 & 0 & 0 & 0 & 0 & 0 & 0 & 0 & 0 & 0 & 0 & 0 & 0 & 0 & 0 & 0 & 0 & 0 & 0 & 0 & 0 & 0 & 0 & 0 & 0 & 0 & 0 & 0 & 0 & 0 & 0\\\\0 & 0 & 0 & 0 & 0 & 0 & 0 & 0 & 0 & 0 & 0 & 0 & 0 & 0 & 0 & 0 & 0 & 0 & 0 & 0 & 0 & 0 & 0 & 0 & 0 & 0 & 0 & 0 & 0 & 0 & 0 & 0 & 0 & 0 & 0 & 0 & 0 & 0 & 0 & 0 & 0 & 0 & 0 & 0 & 0 & 0 & 0 & 0\\\\0 & 0 & 0 & 0 & 0 & 0 & 0 & 0 & 0 & 0 & 0 & 0 & 0 & 0 & 0 & 0 & 0 & 0 & 0 & 0 & 0 & 0 & 0 & 0 & 0 & 0 & 0 & 0 & 0 & 0 & 0 & 0 & 0 & 0 & 0 & 0 & 0 & 0 & 0 & 0 & 0 & 0 & 0 & 0 & 0 & 0 & 0 & 0\\\\0 & 0 & 0 & 0 & 0 & 0 & 0 & 0 & 0 & 0 & 0 & 0 & 0 & 0 & 0 & 0 & 0 & 0 & 0 & 0 & 0 & 0 & 0 & 0 & 0 & 0 & 0 & 0 & 0 & 0 & 0 & 0 & 0 & 0 & 0 & 0 & 0 & 0 & 0 & 0 & 0 & 0 & 0 & 0 & 0 & 0 & 0 & 0\\\\0 & 0 & 0 & 0 & 0 & 0 & 0 & 0 & 0 & 0 & 0 & 0 & 0 & 0 & 0 & 0 & 0 & 0 & 0 & 0 & 0 & 0 & 0 & 0 & 0 & 0 & 0 & 0 & 0 & 0 & 0 & 0 & 0 & 0 & 0 & 0 & 0 & 0 & 0 & 0 & 0 & 0 & 0 & 0 & 0 & 0 & 0 & 0\\\\0 & 0 & 0 & 0 & 0 & 0 & 0 & 0 & 0 & 0 & 0 & 0 & 0 & 0 & 0 & 0 & 0 & 0 & 0 & 0 & 0 & 0 & 0 & 0 & 0 & 0 & 0 & 0 & 0 & 0 & 0 & 0 & 0 & 0 & 0 & 0 & 0 & 0 & 0 & 0 & 0 & 0 & 0 & 0 & 0 & 0 & 0 & 0\\\\0 & 0 & 0 & 0 & 0 & 0 & 0 & 0 & 0 & 0 & 0 & 0 & 0 & 0 & 0 & 0 & 0 & 0 & 0 & 0 & 0 & 0 & 0 & 0 & 0 & 0 & 0 & 0 & 0 & 0 & 0 & 0 & 0 & 0 & 0 & 0 & 0 & 0 & 0 & 0 & 0 & 0 & 0 & 0 & 0 & 0 & 0 & 0\\\\0 & 0 & 0 & 0 & 0 & 0 & 0 & 0 & 0 & 0 & 0 & 0 & 0 & 0 & 0 & 0 & 0 & 0 & 0 & 0 & 0 & 0 & 0 & -0.000555555555555558 & 0 & 0 & 0 & 0 & 0 & 0 & 0 & 0 & 0 & 0 & 0 & 0 & 0 & 0 & 0 & 0 & 0 & 0 & 0 & 0 & 0 & 0 & 0 & 0\\\\0 & 0 & 0 & 0 & 0 & 0 & 0 & 0 & 0 & 0 & 0 & 0 & 0 & 0 & 0 & 0 & 0 & 0 & 0 & 0 & 0 & 0 & 0 & 0 & 0 & 0 & 0 & 0 & 0 & 0 & 0 & 0 & 0 & 0 & 0 & 0 & 0 & 0 & 0 & 0 & 0 & 0 & 0 & 0 & 0 & 0 & 0 & 0\\\\0 & 0 & 0 & 0 & 0 & 0 & 0 & 0 & 0 & 0 & 0 & 0 & 0 & 0 & 0 & 0 & 0 & 0 & 0 & 0 & 0 & 0 & 0 & 0 & 0 & 0 & 0 & 0 & 0 & 0 & 0 & 0 & 0 & 0 & 0 & 0 & 0 & 0 & 0 & 0 & 0 & 0 & 0 & 0 & 0 & 0 & 0 & 0\\\\0 & 0 & 0 & 0 & 0 & 0 & 0 & 0 & 0 & 0 & 0 & 0 & 0 & 0 & 0 & 0 & 0 & 0 & 0 & 0 & 0 & 0 & 0 & 0 & 0 & 0 & 0 & 0 & 0 & 0 & 0 & 0 & 0 & 0 & 0 & 0 & 0 & 0 & 0 & 0 & 0 & 0 & 0 & 0 & 0 & 0 & 0 & 0\\\\0 & 0 & 0 & 0 & 0 & 0 & 0 & 0 & 0 & 0 & 0 & 0 & 0 & 0 & 0 & 0 & 0 & 0 & 0 & 0 & 0 & 0 & 0 & 0 & 0 & 0 & 0 & 0 & 0 & 0 & 0 & 0 & 0 & 0 & 0 & 0 & 0 & 0 & 0 & 0 & 0 & 0 & 0 & 0 & 0 & 0 & 0 & 0\\\\0 & 0 & 0 & 0 & 0 & 0 & 0 & 0 & 0 & 0 & 0 & 0 & 0 & 0 & 0 & 0 & 0 & 0 & 0 & 0 & 0 & 0 & 0 & 0 & 0 & 0 & 0 & 0 & 0 & 0 & 0 & 0 & 0 & 0 & 0 & 0 & 0 & 0 & 0 & 0 & 0 & 0 & 0 & 0 & 0 & 0 & 0 & 0\\\\0 & 0 & 0 & 0 & 0 & 0 & 0 & 0 & 0 & 0 & 0 & 0 & 0 & 0 & 0 & 0 & 0 & 0.000555555555555558 & 0 & 0 & 0 & 0 & 0 & 0 & 0 & 0 & 0 & 0 & 0 & 0 & 0 & 0 & 0 & 0 & 0 & 0 & 0 & 0 & 0 & 0 & 0 & 0 & 0 & 0 & 0 & 0 & 0 & 0\\end{array}\\right]$"
      ],
      "text/plain": [
       "Matrix([\n",
       "[0, 0, 0, 0, 0, 0, 0, 0, 0, 0, 0, 0, 0, 0, 0, 0, 0,                    0, 0, 0, 0, 0, 0,                     0, 0, 0, 0, 0, 0, 0, 0, 0, 0, 0, 0, 0, 0, 0, 0, 0, 0,                     0, 0, 0, 0, 0, 0,                    0],\n",
       "[0, 0, 0, 0, 0, 0, 0, 0, 0, 0, 0, 0, 0, 0, 0, 0, 0,                    0, 0, 0, 0, 0, 0,                     0, 0, 0, 0, 0, 0, 0, 0, 0, 0, 0, 0, 0, 0, 0, 0, 0, 0,                     0, 0, 0, 0, 0, 0,                    0],\n",
       "[0, 0, 0, 0, 0, 0, 0, 0, 0, 0, 0, 0, 0, 0, 0, 0, 0,                    0, 0, 0, 0, 0, 0,                     0, 0, 0, 0, 0, 0, 0, 0, 0, 0, 0, 0, 0, 0, 0, 0, 0, 0,                     0, 0, 0, 0, 0, 0,                    0],\n",
       "[0, 0, 0, 0, 0, 0, 0, 0, 0, 0, 0, 0, 0, 0, 0, 0, 0,                    0, 0, 0, 0, 0, 0,                     0, 0, 0, 0, 0, 0, 0, 0, 0, 0, 0, 0, 0, 0, 0, 0, 0, 0,                     0, 0, 0, 0, 0, 0,                    0],\n",
       "[0, 0, 0, 0, 0, 0, 0, 0, 0, 0, 0, 0, 0, 0, 0, 0, 0,                    0, 0, 0, 0, 0, 0,                     0, 0, 0, 0, 0, 0, 0, 0, 0, 0, 0, 0, 0, 0, 0, 0, 0, 0,                     0, 0, 0, 0, 0, 0,                    0],\n",
       "[0, 0, 0, 0, 0, 0, 0, 0, 0, 0, 0, 0, 0, 0, 0, 0, 0,                    0, 0, 0, 0, 0, 0,                     0, 0, 0, 0, 0, 0, 0, 0, 0, 0, 0, 0, 0, 0, 0, 0, 0, 0,                     0, 0, 0, 0, 0, 0,                    0],\n",
       "[0, 0, 0, 0, 0, 0, 0, 0, 0, 0, 0, 0, 0, 0, 0, 0, 0,                    0, 0, 0, 0, 0, 0,                     0, 0, 0, 0, 0, 0, 0, 0, 0, 0, 0, 0, 0, 0, 0, 0, 0, 0,                     0, 0, 0, 0, 0, 0,                    0],\n",
       "[0, 0, 0, 0, 0, 0, 0, 0, 0, 0, 0, 0, 0, 0, 0, 0, 0,                    0, 0, 0, 0, 0, 0,                     0, 0, 0, 0, 0, 0, 0, 0, 0, 0, 0, 0, 0, 0, 0, 0, 0, 0,                     0, 0, 0, 0, 0, 0,                    0],\n",
       "[0, 0, 0, 0, 0, 0, 0, 0, 0, 0, 0, 0, 0, 0, 0, 0, 0,                    0, 0, 0, 0, 0, 0,                     0, 0, 0, 0, 0, 0, 0, 0, 0, 0, 0, 0, 0, 0, 0, 0, 0, 0,                     0, 0, 0, 0, 0, 0,                    0],\n",
       "[0, 0, 0, 0, 0, 0, 0, 0, 0, 0, 0, 0, 0, 0, 0, 0, 0,                    0, 0, 0, 0, 0, 0,                     0, 0, 0, 0, 0, 0, 0, 0, 0, 0, 0, 0, 0, 0, 0, 0, 0, 0,                     0, 0, 0, 0, 0, 0,                    0],\n",
       "[0, 0, 0, 0, 0, 0, 0, 0, 0, 0, 0, 0, 0, 0, 0, 0, 0,                    0, 0, 0, 0, 0, 0,                     0, 0, 0, 0, 0, 0, 0, 0, 0, 0, 0, 0, 0, 0, 0, 0, 0, 0,                     0, 0, 0, 0, 0, 0,                    0],\n",
       "[0, 0, 0, 0, 0, 0, 0, 0, 0, 0, 0, 0, 0, 0, 0, 0, 0,                    0, 0, 0, 0, 0, 0,                     0, 0, 0, 0, 0, 0, 0, 0, 0, 0, 0, 0, 0, 0, 0, 0, 0, 0,                     0, 0, 0, 0, 0, 0,                    0],\n",
       "[0, 0, 0, 0, 0, 0, 0, 0, 0, 0, 0, 0, 0, 0, 0, 0, 0,                    0, 0, 0, 0, 0, 0,                     0, 0, 0, 0, 0, 0, 0, 0, 0, 0, 0, 0, 0, 0, 0, 0, 0, 0,                     0, 0, 0, 0, 0, 0,                    0],\n",
       "[0, 0, 0, 0, 0, 0, 0, 0, 0, 0, 0, 0, 0, 0, 0, 0, 0,                    0, 0, 0, 0, 0, 0,                     0, 0, 0, 0, 0, 0, 0, 0, 0, 0, 0, 0, 0, 0, 0, 0, 0, 0,                     0, 0, 0, 0, 0, 0,                    0],\n",
       "[0, 0, 0, 0, 0, 0, 0, 0, 0, 0, 0, 0, 0, 0, 0, 0, 0,                    0, 0, 0, 0, 0, 0,                     0, 0, 0, 0, 0, 0, 0, 0, 0, 0, 0, 0, 0, 0, 0, 0, 0, 0,                     0, 0, 0, 0, 0, 0,                    0],\n",
       "[0, 0, 0, 0, 0, 0, 0, 0, 0, 0, 0, 0, 0, 0, 0, 0, 0,                    0, 0, 0, 0, 0, 0,                     0, 0, 0, 0, 0, 0, 0, 0, 0, 0, 0, 0, 0, 0, 0, 0, 0, 0,                     0, 0, 0, 0, 0, 0,                    0],\n",
       "[0, 0, 0, 0, 0, 0, 0, 0, 0, 0, 0, 0, 0, 0, 0, 0, 0,                    0, 0, 0, 0, 0, 0,                     0, 0, 0, 0, 0, 0, 0, 0, 0, 0, 0, 0, 0, 0, 0, 0, 0, 0,                     0, 0, 0, 0, 0, 0,                    0],\n",
       "[0, 0, 0, 0, 0, 0, 0, 0, 0, 0, 0, 0, 0, 0, 0, 0, 0,                    0, 0, 0, 0, 0, 0,                     0, 0, 0, 0, 0, 0, 0, 0, 0, 0, 0, 0, 0, 0, 0, 0, 0, 0,                     0, 0, 0, 0, 0, 0, 0.000555555555555558],\n",
       "[0, 0, 0, 0, 0, 0, 0, 0, 0, 0, 0, 0, 0, 0, 0, 0, 0,                    0, 0, 0, 0, 0, 0,                     0, 0, 0, 0, 0, 0, 0, 0, 0, 0, 0, 0, 0, 0, 0, 0, 0, 0,                     0, 0, 0, 0, 0, 0,                    0],\n",
       "[0, 0, 0, 0, 0, 0, 0, 0, 0, 0, 0, 0, 0, 0, 0, 0, 0,                    0, 0, 0, 0, 0, 0,                     0, 0, 0, 0, 0, 0, 0, 0, 0, 0, 0, 0, 0, 0, 0, 0, 0, 0,                     0, 0, 0, 0, 0, 0,                    0],\n",
       "[0, 0, 0, 0, 0, 0, 0, 0, 0, 0, 0, 0, 0, 0, 0, 0, 0,                    0, 0, 0, 0, 0, 0,                     0, 0, 0, 0, 0, 0, 0, 0, 0, 0, 0, 0, 0, 0, 0, 0, 0, 0,                     0, 0, 0, 0, 0, 0,                    0],\n",
       "[0, 0, 0, 0, 0, 0, 0, 0, 0, 0, 0, 0, 0, 0, 0, 0, 0,                    0, 0, 0, 0, 0, 0,                     0, 0, 0, 0, 0, 0, 0, 0, 0, 0, 0, 0, 0, 0, 0, 0, 0, 0,                     0, 0, 0, 0, 0, 0,                    0],\n",
       "[0, 0, 0, 0, 0, 0, 0, 0, 0, 0, 0, 0, 0, 0, 0, 0, 0,                    0, 0, 0, 0, 0, 0,                     0, 0, 0, 0, 0, 0, 0, 0, 0, 0, 0, 0, 0, 0, 0, 0, 0, 0,                     0, 0, 0, 0, 0, 0,                    0],\n",
       "[0, 0, 0, 0, 0, 0, 0, 0, 0, 0, 0, 0, 0, 0, 0, 0, 0,                    0, 0, 0, 0, 0, 0,                     0, 0, 0, 0, 0, 0, 0, 0, 0, 0, 0, 0, 0, 0, 0, 0, 0, 0, -0.000555555555555558, 0, 0, 0, 0, 0,                    0],\n",
       "[0, 0, 0, 0, 0, 0, 0, 0, 0, 0, 0, 0, 0, 0, 0, 0, 0,                    0, 0, 0, 0, 0, 0,                     0, 0, 0, 0, 0, 0, 0, 0, 0, 0, 0, 0, 0, 0, 0, 0, 0, 0,                     0, 0, 0, 0, 0, 0,                    0],\n",
       "[0, 0, 0, 0, 0, 0, 0, 0, 0, 0, 0, 0, 0, 0, 0, 0, 0,                    0, 0, 0, 0, 0, 0,                     0, 0, 0, 0, 0, 0, 0, 0, 0, 0, 0, 0, 0, 0, 0, 0, 0, 0,                     0, 0, 0, 0, 0, 0,                    0],\n",
       "[0, 0, 0, 0, 0, 0, 0, 0, 0, 0, 0, 0, 0, 0, 0, 0, 0,                    0, 0, 0, 0, 0, 0,                     0, 0, 0, 0, 0, 0, 0, 0, 0, 0, 0, 0, 0, 0, 0, 0, 0, 0,                     0, 0, 0, 0, 0, 0,                    0],\n",
       "[0, 0, 0, 0, 0, 0, 0, 0, 0, 0, 0, 0, 0, 0, 0, 0, 0,                    0, 0, 0, 0, 0, 0,                     0, 0, 0, 0, 0, 0, 0, 0, 0, 0, 0, 0, 0, 0, 0, 0, 0, 0,                     0, 0, 0, 0, 0, 0,                    0],\n",
       "[0, 0, 0, 0, 0, 0, 0, 0, 0, 0, 0, 0, 0, 0, 0, 0, 0,                    0, 0, 0, 0, 0, 0,                     0, 0, 0, 0, 0, 0, 0, 0, 0, 0, 0, 0, 0, 0, 0, 0, 0, 0,                     0, 0, 0, 0, 0, 0,                    0],\n",
       "[0, 0, 0, 0, 0, 0, 0, 0, 0, 0, 0, 0, 0, 0, 0, 0, 0,                    0, 0, 0, 0, 0, 0,                     0, 0, 0, 0, 0, 0, 0, 0, 0, 0, 0, 0, 0, 0, 0, 0, 0, 0,                     0, 0, 0, 0, 0, 0,                    0],\n",
       "[0, 0, 0, 0, 0, 0, 0, 0, 0, 0, 0, 0, 0, 0, 0, 0, 0,                    0, 0, 0, 0, 0, 0,                     0, 0, 0, 0, 0, 0, 0, 0, 0, 0, 0, 0, 0, 0, 0, 0, 0, 0,                     0, 0, 0, 0, 0, 0,                    0],\n",
       "[0, 0, 0, 0, 0, 0, 0, 0, 0, 0, 0, 0, 0, 0, 0, 0, 0,                    0, 0, 0, 0, 0, 0,                     0, 0, 0, 0, 0, 0, 0, 0, 0, 0, 0, 0, 0, 0, 0, 0, 0, 0,                     0, 0, 0, 0, 0, 0,                    0],\n",
       "[0, 0, 0, 0, 0, 0, 0, 0, 0, 0, 0, 0, 0, 0, 0, 0, 0,                    0, 0, 0, 0, 0, 0,                     0, 0, 0, 0, 0, 0, 0, 0, 0, 0, 0, 0, 0, 0, 0, 0, 0, 0,                     0, 0, 0, 0, 0, 0,                    0],\n",
       "[0, 0, 0, 0, 0, 0, 0, 0, 0, 0, 0, 0, 0, 0, 0, 0, 0,                    0, 0, 0, 0, 0, 0,                     0, 0, 0, 0, 0, 0, 0, 0, 0, 0, 0, 0, 0, 0, 0, 0, 0, 0,                     0, 0, 0, 0, 0, 0,                    0],\n",
       "[0, 0, 0, 0, 0, 0, 0, 0, 0, 0, 0, 0, 0, 0, 0, 0, 0,                    0, 0, 0, 0, 0, 0,                     0, 0, 0, 0, 0, 0, 0, 0, 0, 0, 0, 0, 0, 0, 0, 0, 0, 0,                     0, 0, 0, 0, 0, 0,                    0],\n",
       "[0, 0, 0, 0, 0, 0, 0, 0, 0, 0, 0, 0, 0, 0, 0, 0, 0,                    0, 0, 0, 0, 0, 0,                     0, 0, 0, 0, 0, 0, 0, 0, 0, 0, 0, 0, 0, 0, 0, 0, 0, 0,                     0, 0, 0, 0, 0, 0,                    0],\n",
       "[0, 0, 0, 0, 0, 0, 0, 0, 0, 0, 0, 0, 0, 0, 0, 0, 0,                    0, 0, 0, 0, 0, 0,                     0, 0, 0, 0, 0, 0, 0, 0, 0, 0, 0, 0, 0, 0, 0, 0, 0, 0,                     0, 0, 0, 0, 0, 0,                    0],\n",
       "[0, 0, 0, 0, 0, 0, 0, 0, 0, 0, 0, 0, 0, 0, 0, 0, 0,                    0, 0, 0, 0, 0, 0,                     0, 0, 0, 0, 0, 0, 0, 0, 0, 0, 0, 0, 0, 0, 0, 0, 0, 0,                     0, 0, 0, 0, 0, 0,                    0],\n",
       "[0, 0, 0, 0, 0, 0, 0, 0, 0, 0, 0, 0, 0, 0, 0, 0, 0,                    0, 0, 0, 0, 0, 0,                     0, 0, 0, 0, 0, 0, 0, 0, 0, 0, 0, 0, 0, 0, 0, 0, 0, 0,                     0, 0, 0, 0, 0, 0,                    0],\n",
       "[0, 0, 0, 0, 0, 0, 0, 0, 0, 0, 0, 0, 0, 0, 0, 0, 0,                    0, 0, 0, 0, 0, 0,                     0, 0, 0, 0, 0, 0, 0, 0, 0, 0, 0, 0, 0, 0, 0, 0, 0, 0,                     0, 0, 0, 0, 0, 0,                    0],\n",
       "[0, 0, 0, 0, 0, 0, 0, 0, 0, 0, 0, 0, 0, 0, 0, 0, 0,                    0, 0, 0, 0, 0, 0,                     0, 0, 0, 0, 0, 0, 0, 0, 0, 0, 0, 0, 0, 0, 0, 0, 0, 0,                     0, 0, 0, 0, 0, 0,                    0],\n",
       "[0, 0, 0, 0, 0, 0, 0, 0, 0, 0, 0, 0, 0, 0, 0, 0, 0,                    0, 0, 0, 0, 0, 0, -0.000555555555555558, 0, 0, 0, 0, 0, 0, 0, 0, 0, 0, 0, 0, 0, 0, 0, 0, 0,                     0, 0, 0, 0, 0, 0,                    0],\n",
       "[0, 0, 0, 0, 0, 0, 0, 0, 0, 0, 0, 0, 0, 0, 0, 0, 0,                    0, 0, 0, 0, 0, 0,                     0, 0, 0, 0, 0, 0, 0, 0, 0, 0, 0, 0, 0, 0, 0, 0, 0, 0,                     0, 0, 0, 0, 0, 0,                    0],\n",
       "[0, 0, 0, 0, 0, 0, 0, 0, 0, 0, 0, 0, 0, 0, 0, 0, 0,                    0, 0, 0, 0, 0, 0,                     0, 0, 0, 0, 0, 0, 0, 0, 0, 0, 0, 0, 0, 0, 0, 0, 0, 0,                     0, 0, 0, 0, 0, 0,                    0],\n",
       "[0, 0, 0, 0, 0, 0, 0, 0, 0, 0, 0, 0, 0, 0, 0, 0, 0,                    0, 0, 0, 0, 0, 0,                     0, 0, 0, 0, 0, 0, 0, 0, 0, 0, 0, 0, 0, 0, 0, 0, 0, 0,                     0, 0, 0, 0, 0, 0,                    0],\n",
       "[0, 0, 0, 0, 0, 0, 0, 0, 0, 0, 0, 0, 0, 0, 0, 0, 0,                    0, 0, 0, 0, 0, 0,                     0, 0, 0, 0, 0, 0, 0, 0, 0, 0, 0, 0, 0, 0, 0, 0, 0, 0,                     0, 0, 0, 0, 0, 0,                    0],\n",
       "[0, 0, 0, 0, 0, 0, 0, 0, 0, 0, 0, 0, 0, 0, 0, 0, 0,                    0, 0, 0, 0, 0, 0,                     0, 0, 0, 0, 0, 0, 0, 0, 0, 0, 0, 0, 0, 0, 0, 0, 0, 0,                     0, 0, 0, 0, 0, 0,                    0],\n",
       "[0, 0, 0, 0, 0, 0, 0, 0, 0, 0, 0, 0, 0, 0, 0, 0, 0, 0.000555555555555558, 0, 0, 0, 0, 0,                     0, 0, 0, 0, 0, 0, 0, 0, 0, 0, 0, 0, 0, 0, 0, 0, 0, 0,                     0, 0, 0, 0, 0, 0,                    0]])"
      ]
     },
     "execution_count": 95,
     "metadata": {},
     "output_type": "execute_result"
    }
   ],
   "source": [
    "sp.Matrix(kG0_1.toarray())"
   ]
  },
  {
   "cell_type": "code",
   "execution_count": 74,
   "metadata": {},
   "outputs": [
    {
     "data": {
      "text/latex": [
       "$\\displaystyle \\left[\\begin{array}{cccccccccccccccc}0 & 0 & 0 & 0 & 0 & 0 & 0 & 0 & 0 & 0 & 0 & 0 & 0 & 0 & 0 & 0\\\\0 & 0 & 0 & 0 & 0 & 0 & 0 & 0 & 0 & 0 & 0 & 0 & 0 & 0 & 0 & 0\\\\0 & 0 & 0 & 0 & 0 & 0 & 0 & 0 & 0 & 0 & 0 & 0 & 0 & 0 & 0 & 0\\\\0 & 0 & 0 & 0 & 0 & 0 & 0 & 0 & 0 & 0 & 0 & 0 & 0 & 0 & 0 & 0\\\\0 & 0 & 0 & 0 & 0 & 0 & 0 & 0 & 0 & 0 & 0 & 0 & 0 & 0 & 0 & 0\\\\0 & 0 & 0 & 0 & 0 & -0.00126984126984127 & 0 & 0.000595238095238095 & 0 & 0 & 0 & 0 & 0 & 0.000317460317460317 & 0 & -0.000198412698412697\\\\0 & 0 & 0 & 0 & 0 & 0 & 0 & 0 & 0 & 0 & 0 & 0 & 0 & 0 & 0 & 0\\\\0 & 0 & 0 & 0 & 0 & 0.000595238095238095 & 0 & -0.00129870129870129 & 0 & 0 & 0 & 0 & 0 & -0.000595238095238095 & 0 & 0.00108225108225109\\\\0 & 0 & 0 & 0 & 0 & 0 & 0 & 0 & 0 & 0 & 0 & 0 & 0 & 0 & 0 & 0\\\\0 & 0 & 0 & 0 & 0 & 0 & 0 & 0 & 0 & 0 & 0 & 0 & 0 & 0 & 0 & 0\\\\0 & 0 & 0 & 0 & 0 & 0 & 0 & 0 & 0 & 0 & 0 & 0 & 0 & 0 & 0 & 0\\\\0 & 0 & 0 & 0 & 0 & 0 & 0 & 0 & 0 & 0 & 0 & 0 & 0 & 0 & 0 & 0\\\\0 & 0 & 0 & 0 & 0 & 0 & 0 & 0 & 0 & 0 & 0 & 0 & 0 & 0 & 0 & 0\\\\0 & 0 & 0 & 0 & 0 & 0.000317460317460317 & 0 & -0.000595238095238095 & 0 & 0 & 0 & 0 & 0 & -0.00126984126984127 & 0 & 0.00138888888888889\\\\0 & 0 & 0 & 0 & 0 & 0 & 0 & 0 & 0 & 0 & 0 & 0 & 0 & 0 & 0 & 0\\\\0 & 0 & 0 & 0 & 0 & -0.000198412698412697 & 0 & 0.00108225108225109 & 0 & 0 & 0 & 0 & 0 & 0.00138888888888889 & 0 & -0.0028860028860029\\end{array}\\right]$"
      ],
      "text/plain": [
       "Matrix([\n",
       "[0, 0, 0, 0, 0,                     0, 0,                     0, 0, 0, 0, 0, 0,                     0, 0,                     0],\n",
       "[0, 0, 0, 0, 0,                     0, 0,                     0, 0, 0, 0, 0, 0,                     0, 0,                     0],\n",
       "[0, 0, 0, 0, 0,                     0, 0,                     0, 0, 0, 0, 0, 0,                     0, 0,                     0],\n",
       "[0, 0, 0, 0, 0,                     0, 0,                     0, 0, 0, 0, 0, 0,                     0, 0,                     0],\n",
       "[0, 0, 0, 0, 0,                     0, 0,                     0, 0, 0, 0, 0, 0,                     0, 0,                     0],\n",
       "[0, 0, 0, 0, 0,  -0.00126984126984127, 0,  0.000595238095238095, 0, 0, 0, 0, 0,  0.000317460317460317, 0, -0.000198412698412697],\n",
       "[0, 0, 0, 0, 0,                     0, 0,                     0, 0, 0, 0, 0, 0,                     0, 0,                     0],\n",
       "[0, 0, 0, 0, 0,  0.000595238095238095, 0,  -0.00129870129870129, 0, 0, 0, 0, 0, -0.000595238095238095, 0,   0.00108225108225109],\n",
       "[0, 0, 0, 0, 0,                     0, 0,                     0, 0, 0, 0, 0, 0,                     0, 0,                     0],\n",
       "[0, 0, 0, 0, 0,                     0, 0,                     0, 0, 0, 0, 0, 0,                     0, 0,                     0],\n",
       "[0, 0, 0, 0, 0,                     0, 0,                     0, 0, 0, 0, 0, 0,                     0, 0,                     0],\n",
       "[0, 0, 0, 0, 0,                     0, 0,                     0, 0, 0, 0, 0, 0,                     0, 0,                     0],\n",
       "[0, 0, 0, 0, 0,                     0, 0,                     0, 0, 0, 0, 0, 0,                     0, 0,                     0],\n",
       "[0, 0, 0, 0, 0,  0.000317460317460317, 0, -0.000595238095238095, 0, 0, 0, 0, 0,  -0.00126984126984127, 0,   0.00138888888888889],\n",
       "[0, 0, 0, 0, 0,                     0, 0,                     0, 0, 0, 0, 0, 0,                     0, 0,                     0],\n",
       "[0, 0, 0, 0, 0, -0.000198412698412697, 0,   0.00108225108225109, 0, 0, 0, 0, 0,   0.00138888888888889, 0,   -0.0028860028860029]])"
      ]
     },
     "execution_count": 74,
     "metadata": {},
     "output_type": "execute_result"
    }
   ],
   "source": [
    "sp.Matrix(KG)"
   ]
  },
  {
   "cell_type": "markdown",
   "metadata": {},
   "source": [
    "## Check with composipy"
   ]
  },
  {
   "cell_type": "code",
   "execution_count": null,
   "metadata": {},
   "outputs": [],
   "source": [
    "from composipy import Laminate, Ply, buckling_load"
   ]
  },
  {
   "cell_type": "code",
   "execution_count": null,
   "metadata": {},
   "outputs": [],
   "source": [
    "ply = Ply(E1, E2, v12, G12, t)\n",
    "layup_1 = [(45, ply),(0, ply),(0, ply),(45, ply),(0, ply),(0, ply),(45, ply)]\n",
    "laminate_1 = Laminate(layup_1)"
   ]
  },
  {
   "cell_type": "code",
   "execution_count": null,
   "metadata": {},
   "outputs": [],
   "source": [
    "load = buckling_load(a, b, laminate_1.D, shape_plot = False , eig = True, n=10)"
   ]
  },
  {
   "cell_type": "code",
   "execution_count": null,
   "metadata": {},
   "outputs": [
    {
     "data": {
      "text/plain": [
       "array([4.14270828e+00, 6.21522205e+00, 1.06650914e+01, 1.65710358e+01,\n",
       "       1.70242153e+01, 1.91554561e+01, 2.45809295e+01, 2.48385030e+01,\n",
       "       2.52623245e+01, 3.27636136e+01, 3.53001050e+01, 3.72839695e+01,\n",
       "       4.01613869e+01, 4.26490962e+01, 4.27935413e+01, 4.67661371e+01,\n",
       "       4.71871495e+01, 5.44108590e+01, 5.59663308e+01, 6.09072064e+01,\n",
       "       6.62675469e+01, 6.72164889e+01, 6.81862074e+01, 6.93560842e+01,\n",
       "       7.10330003e+01, 7.64561102e+01, 7.66218673e+01, 8.06194972e+01,\n",
       "       8.36422449e+01, 8.68293907e+01, 9.38431588e+01, 9.44488356e+01,\n",
       "       9.59106601e+01, 9.83663621e+01, 9.94734984e+01, 1.00992872e+02,\n",
       "       1.03585297e+02, 1.06783130e+02, 1.07936385e+02, 1.13012131e+02,\n",
       "       1.14423916e+02, 1.14554965e+02, 1.25606923e+02, 1.28759733e+02,\n",
       "       1.31058289e+02, 1.39329386e+02, 1.49151952e+02, 1.52444711e+02,\n",
       "       1.53256367e+02, 1.55402551e+02, 1.60648911e+02, 1.71172156e+02,\n",
       "       1.72395090e+02, 1.87014978e+02, 2.01935205e+02, 2.03008923e+02,\n",
       "       2.06428557e+02, 2.06951001e+02, 2.14931744e+02, 2.21277409e+02,\n",
       "       2.23195336e+02, 2.27246556e+02, 2.63319641e+02, 2.65149882e+02,\n",
       "       2.67699365e+02, 2.68677526e+02, 2.69037878e+02, 2.77420049e+02,\n",
       "       2.84131899e+02, 3.18920870e+02, 3.35578912e+02, 3.39164667e+02,\n",
       "       3.39331715e+02, 3.53687198e+02, 3.61325101e+02, 3.78175819e+02,\n",
       "       3.85130423e+02, 3.93373332e+02, 4.14390005e+02, 4.18123881e+02,\n",
       "       4.31882633e+02, 4.47033766e+02, 4.61077438e+02, 5.15257632e+02,\n",
       "       5.64204258e+02, 5.71986614e+02, 6.14844209e+02, 6.19423547e+02,\n",
       "       6.55999815e+02, 8.07729484e+02, 8.50807155e+02, 1.07078315e+03,\n",
       "       1.23729958e+03, 1.24650640e+03, 1.66278407e+03, 2.26724798e+03,\n",
       "       2.47766651e+03, 3.82151471e+03, 6.07059865e+03, 9.19734606e+03])"
      ]
     },
     "execution_count": 191,
     "metadata": {},
     "output_type": "execute_result"
    }
   ],
   "source": [
    "a = abs(load['eigen values'])\n",
    "a.sort()\n",
    "a"
   ]
  },
  {
   "cell_type": "code",
   "execution_count": null,
   "metadata": {},
   "outputs": [],
   "source": []
  },
  {
   "cell_type": "code",
   "execution_count": null,
   "metadata": {},
   "outputs": [],
   "source": []
  },
  {
   "cell_type": "code",
   "execution_count": null,
   "metadata": {},
   "outputs": [],
   "source": []
  },
  {
   "cell_type": "code",
   "execution_count": null,
   "metadata": {},
   "outputs": [],
   "source": []
  }
 ],
 "metadata": {
  "kernelspec": {
   "display_name": "Python 3 (ipykernel)",
   "language": "python",
   "name": "python3"
  },
  "language_info": {
   "codemirror_mode": {
    "name": "ipython",
    "version": 3
   },
   "file_extension": ".py",
   "mimetype": "text/x-python",
   "name": "python",
   "nbconvert_exporter": "python",
   "pygments_lexer": "ipython3",
   "version": "3.9.12"
  },
  "vscode": {
   "interpreter": {
    "hash": "c1590602456d7cb2bb11a9c056450b313acab0eb77422ae1a602feaa944934ec"
   }
  }
 },
 "nbformat": 4,
 "nbformat_minor": 2
}
