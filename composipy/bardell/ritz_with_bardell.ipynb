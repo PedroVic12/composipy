{
 "cells": [
  {
   "cell_type": "code",
   "execution_count": 15,
   "metadata": {},
   "outputs": [],
   "source": [
    "import numpy as np\n",
    "import sympy as sp\n",
    "from scipy.linalg import eig"
   ]
  },
  {
   "cell_type": "code",
   "execution_count": 16,
   "metadata": {},
   "outputs": [],
   "source": [
    "#Properties (N and mm)\n",
    "E1 = 60800\n",
    "E2 = 58250\n",
    "v12 = 0.07\n",
    "G12 = 4550\n",
    "t = 0.21\n",
    "v21 = v12 * E2 / E1\n",
    "\n",
    "# Plate Parameters\n",
    "a = 360\n",
    "b = 360\n",
    "m = 7\n",
    "n = 7\n",
    "\n",
    "# Loads\n",
    "Nxx = -1\n",
    "Nyy = 0\n",
    "Nxy = 0"
   ]
  },
  {
   "cell_type": "code",
   "execution_count": 17,
   "metadata": {},
   "outputs": [],
   "source": [
    "#Boundary conditions\n",
    "u1tx = 0 ; u1rx = 1 ; u2tx = 0 ; u2rx = 1\n",
    "v1tx = 0 ; v1rx = 1 ; v2tx = 0 ; v2rx = 1\n",
    "w1tx = 0 ; w1rx = 1 ; w2tx = 0 ; w2rx = 1\n",
    "u1ty = 0 ; u1ry = 1 ; u2ty = 0 ; u2ry = 1\n",
    "v1ty = 0 ; v1ry = 1 ; v2ty = 0 ; v2ry = 1\n",
    "w1ty = 0 ; w1ry = 1 ; w2ty = 0 ; w2ry = 1\n"
   ]
  },
  {
   "cell_type": "markdown",
   "metadata": {},
   "source": [
    "**[Q] in the principal direction**  pg. 52 chap 2 of the three regions"
   ]
  },
  {
   "cell_type": "code",
   "execution_count": 18,
   "metadata": {},
   "outputs": [],
   "source": [
    "Q_0 = np.array([[E1/(1-v12*v21), v12*E2/(1-v12*v21), 0],\n",
    "                 [v12*E2/(1-v12*v21), E2/(1-v12*v21),0],\n",
    "                 [0, 0, G12]])"
   ]
  },
  {
   "cell_type": "markdown",
   "metadata": {},
   "source": [
    "**[Q] rotated in theta direction** pg. 53 and 54 of chap 2"
   ]
  },
  {
   "cell_type": "code",
   "execution_count": 19,
   "metadata": {},
   "outputs": [],
   "source": [
    "layup = [(45,'f'),(0,'f'),(0,'f'),(45,'f'),(0,'f'),(0,'f'),(45,'f')]\n",
    "Q_layup = []\n",
    "\n",
    "#Layup assembly\n",
    "for theta in layup:\n",
    "    c = np.cos(theta[0]*np.pi/180)\n",
    "    s = np.sin(theta[0]*np.pi/180)\n",
    "\n",
    "    T_real = np.array([[c**2, s**2, 2*c*s],\n",
    "                       [s**2, c**2, -2*c*s],\n",
    "                       [-c*s, c*s, c**2-s**2]])\n",
    "\n",
    "    T_engineering =  np.array([[c**2, s**2, c*s],\n",
    "                               [s**2, c**2, -c*s],\n",
    "                               [-2*c*s, 2*c*s, c**2-s**2]])\n",
    "\n",
    "\n",
    "    if theta[1] == 'f':\n",
    "        Q_layup.append((np.linalg.inv(T_real))@Q_0@T_engineering)\n"
   ]
  },
  {
   "cell_type": "markdown",
   "metadata": {},
   "source": [
    "**[A], [B], [D]** pg. 24 fo chap 4 of the three regions"
   ]
  },
  {
   "cell_type": "code",
   "execution_count": 20,
   "metadata": {},
   "outputs": [],
   "source": [
    "t_position = [-3.5*t, -2.5*t, -1.5*t, -0.5*t, 0.5*t, 1.5*t, 2.5*t, 3.5*t]\n",
    "\n",
    "A = np.zeros(9).reshape(3,3)\n",
    "B = np.zeros(9).reshape(3,3)\n",
    "D = np.zeros(9).reshape(3,3)\n",
    "\n",
    "for i in enumerate(Q_layup):\n",
    "    zk1 = t_position[i[0]+1]\n",
    "    zk0 = t_position[i[0]]\n",
    "    \n",
    "    A += (zk1 - zk0)*i[1]\n",
    "    B += (1/2)*(zk1**2 - zk0**2)*i[1]\n",
    "    D += (1/3)*(zk1**3 - zk0**3)*i[1]\n",
    "\n",
    "\n",
    "F = np.vstack([\n",
    "    np.hstack([A, B]),\n",
    "    np.hstack([B, D])\n",
    "])\n",
    "\n",
    "F = sp.Matrix(F)"
   ]
  },
  {
   "cell_type": "code",
   "execution_count": null,
   "metadata": {},
   "outputs": [],
   "source": []
  },
  {
   "cell_type": "markdown",
   "metadata": {},
   "source": [
    "### Rayleigh-Ritz formulation"
   ]
  },
  {
   "cell_type": "code",
   "execution_count": 21,
   "metadata": {},
   "outputs": [],
   "source": [
    "Ny = sp.symbols('Ny')\n",
    "xi, eta  = sp.symbols(['xi', 'eta'])"
   ]
  },
  {
   "cell_type": "code",
   "execution_count": 22,
   "metadata": {},
   "outputs": [
    {
     "data": {
      "text/latex": [
       "$\\displaystyle \\frac{\\xi^{4}}{8} - \\frac{\\xi^{2}}{4} + 0.125$"
      ],
      "text/plain": [
       "xi**4/8 - xi**2/4 + 0.125"
      ]
     },
     "execution_count": 22,
     "metadata": {},
     "output_type": "execute_result"
    }
   ],
   "source": [
    "xi**4/8 - xi**2/4 + 0.125"
   ]
  },
  {
   "cell_type": "code",
   "execution_count": 23,
   "metadata": {},
   "outputs": [],
   "source": [
    "# Bardell terms\n",
    "# Su\n",
    "uf_xi = {0: u1tx*(0.25*xi**3 - 0.75*xi + 0.5),\n",
    "        1: u1rx*(0.125*xi**3 - 0.125*xi**2 - 0.125*xi + 0.125),\n",
    "        2: u2tx*(-0.25*xi**3 + 0.75*xi + 0.5),\n",
    "        3: u2rx*(-1/8 - 1/8*xi + 1/8*xi**2 + 1/8*xi**3),\n",
    "        4: xi**4/8 - xi**2/4 + 0.125,\n",
    "        5: xi**5/8 - xi**3/4 + xi/8,\n",
    "        6: 7*xi**6/48 - 5*xi**4/16 + 3*xi**2/16 - 0.0208333333333333,\n",
    "        7: 3*xi**7/16 - 7*xi**5/16 + 5*xi**3/16 - xi/16,\n",
    "        8: 33*xi**8/128 - 21*xi**6/32 + 35*xi**4/64 - 5*xi**2/32 + 0.0078125,\n",
    "        9: 143*xi**9/384 - 33*xi**7/32 + 63*xi**5/64 - 35*xi**3/96 + 5*xi/128}\n",
    "\n",
    "uf_eta = {0: u1ty*(0.25*eta**3 - 0.75*eta + 0.5),\n",
    "        1: u1ry*(0.125*eta**3 - 0.125*eta**2 - 0.125*eta + 0.125),\n",
    "        2: u2ty*(-0.25*eta**3 + 0.75*eta + 0.5),\n",
    "        3: u2ry*(-1/8 - 1/8*xi + 1/8*xi**2 + 1/8*xi**3),\n",
    "        4: eta**4/8 - eta**2/4 + 0.125,\n",
    "        5: eta**5/8 - eta**3/4 + eta/8,\n",
    "        6: 7*eta**6/48 - 5*eta**4/16 + 3*eta**2/16 - 0.0208333333333333,\n",
    "        7: 3*eta**7/16 - 7*eta**5/16 + 5*eta**3/16 - eta/16,\n",
    "        8: 33*eta**8/128 - 21*eta**6/32 + 35*eta**4/64 - 5*eta**2/32 + 0.0078125,\n",
    "        9: 143*eta**9/384 - 33*eta**7/32 + 63*eta**5/64 - 35*eta**3/96 + 5*eta/128}\n",
    "\n",
    "# Sv\n",
    "vf_xi = {0: v1tx*(0.25*xi**3 - 0.75*xi + 0.5),\n",
    "        1: v1rx*(0.125*xi**3 - 0.125*xi**2 - 0.125*xi + 0.125),\n",
    "        2: v2tx*(-0.25*xi**3 + 0.75*xi + 0.5),\n",
    "        3: v2rx*(-1/8 - 1/8*xi + 1/8*xi**2 + 1/8*xi**3),\n",
    "        4: xi**4/8 - xi**2/4 + 0.125,\n",
    "        5: xi**5/8 - xi**3/4 + xi/8,\n",
    "        6: 7*xi**6/48 - 5*xi**4/16 + 3*xi**2/16 - 0.0208333333333333,\n",
    "        7: 3*xi**7/16 - 7*xi**5/16 + 5*xi**3/16 - xi/16,\n",
    "        8: 33*xi**8/128 - 21*xi**6/32 + 35*xi**4/64 - 5*xi**2/32 + 0.0078125,\n",
    "        9: 143*xi**9/384 - 33*xi**7/32 + 63*xi**5/64 - 35*xi**3/96 + 5*xi/128}\n",
    "\n",
    "vf_eta = {0: v1ty*(0.25*eta**3 - 0.75*eta + 0.5),\n",
    "        1: v1ry*(0.125*eta**3 - 0.125*eta**2 - 0.125*eta + 0.125),\n",
    "        2: v2ty*(-0.25*eta**3 + 0.75*eta + 0.5),\n",
    "        3: v2ry*(-1/8 - 1/8*xi + 1/8*xi**2 + 1/8*xi**3),\n",
    "        4: eta**4/8 - eta**2/4 + 0.125,\n",
    "        5: eta**5/8 - eta**3/4 + eta/8,\n",
    "        6: 7*eta**6/48 - 5*eta**4/16 + 3*eta**2/16 - 0.0208333333333333,\n",
    "        7: 3*eta**7/16 - 7*eta**5/16 + 5*eta**3/16 - eta/16,\n",
    "        8: 33*eta**8/128 - 21*eta**6/32 + 35*eta**4/64 - 5*eta**2/32 + 0.0078125,\n",
    "        9: 143*eta**9/384 - 33*eta**7/32 + 63*eta**5/64 - 35*eta**3/96 + 5*eta/128}\n",
    "\n",
    "#Sw\n",
    "wf_xi = {0: w1tx*(0.25*xi**3 - 0.75*xi + 0.5),\n",
    "        1: w1rx*(0.125*xi**3 - 0.125*xi**2 - 0.125*xi + 0.125),\n",
    "        2: w2tx*(-0.25*xi**3 + 0.75*xi + 0.5),\n",
    "        3: w2rx*(-1/8 - 1/8*xi + 1/8*xi**2 + 1/8*xi**3),\n",
    "        4: xi**4/8 - xi**2/4 + 0.125,\n",
    "        5: xi**5/8 - xi**3/4 + xi/8,\n",
    "        6: 7*xi**6/48 - 5*xi**4/16 + 3*xi**2/16 - 0.0208333333333333,\n",
    "        7: 3*xi**7/16 - 7*xi**5/16 + 5*xi**3/16 - xi/16,\n",
    "        8: 33*xi**8/128 - 21*xi**6/32 + 35*xi**4/64 - 5*xi**2/32 + 0.0078125,\n",
    "        9: 143*xi**9/384 - 33*xi**7/32 + 63*xi**5/64 - 35*xi**3/96 + 5*xi/128}\n",
    "\n",
    "wf_eta = {0: w1ty*(0.25*eta**3 - 0.75*eta + 0.5),\n",
    "        1: w1ry*(0.125*eta**3 - 0.125*eta**2 - 0.125*eta + 0.125),\n",
    "        2: w2ty*(-0.25*eta**3 + 0.75*eta + 0.5),\n",
    "        3: w2ry*(-1/8 - 1/8*xi + 1/8*xi**2 + 1/8*xi**3),\n",
    "        4: eta**4/8 - eta**2/4 + 0.125,\n",
    "        5: eta**5/8 - eta**3/4 + eta/8,\n",
    "        6: 7*eta**6/48 - 5*eta**4/16 + 3*eta**2/16 - 0.0208333333333333,\n",
    "        7: 3*eta**7/16 - 7*eta**5/16 + 5*eta**3/16 - eta/16,\n",
    "        8: 33*eta**8/128 - 21*eta**6/32 + 35*eta**4/64 - 5*eta**2/32 + 0.0078125,\n",
    "        9: 143*eta**9/384 - 33*eta**7/32 + 63*eta**5/64 - 35*eta**3/96 + 5*eta/128}"
   ]
  },
  {
   "cell_type": "code",
   "execution_count": 24,
   "metadata": {},
   "outputs": [],
   "source": [
    "Su, Sv, Sw = [[]], [[]], [[]]\n",
    "\n",
    "for i in range(m):\n",
    "    for j in range(n):\n",
    "        Su[0].append(uf_xi[i]*uf_eta[j])\n",
    "        Sv[0].append(vf_xi[i]*vf_eta[j])\n",
    "        Sw[0].append(wf_xi[i]*wf_eta[j])\n",
    "Su, Sv, Sw = sp.Matrix(Su), sp.Matrix(Sv), sp.Matrix(Sw)\n",
    "\n",
    "\n",
    "B0_11 = np.array((2/a) * sp.diff(Su, xi))\n",
    "B0_22 = np.array((2/b) * sp.diff(Sv, eta))\n",
    "B0_31 = np.array((2/b)*sp.diff(Su, eta))\n",
    "B0_32 = np.array((2/a)*sp.diff(Sv, xi))\n",
    "B0_43 = np.array(-(4/a**2) * sp.diff(Sw, xi, xi))\n",
    "B0_53 = np.array(-(4/b**2) * sp.diff(Sw, eta, eta))\n",
    "B0_63 = np.array(-2*(4/(a*b)) * sp.diff(Sw, xi, eta))\n",
    "Z = np.zeros(m*n).reshape(1, m*n)\n",
    "\n",
    "B0_kappa = sp.Matrix([\n",
    "    np.hstack([*B0_11, *Z, *Z]),\n",
    "    np.hstack([*Z, *B0_22, *Z]),\n",
    "    np.hstack([*B0_31, *B0_32, *Z]),\n",
    "    np.hstack([*Z, *Z, *B0_43]),\n",
    "    np.hstack([*Z, *Z, *B0_53]),\n",
    "    np.hstack([*Z, *Z, *B0_63])\n",
    "])\n",
    "\n",
    "\n",
    "F = sp.Matrix(F)\n",
    "\n",
    "\n",
    "G = sp.Matrix([\n",
    "    np.hstack([*Z, *Z, *sp.diff(S, xi)*(2/a)]),\n",
    "    np.hstack([*Z, *Z, *sp.diff(S, eta)*(2/b)])\n",
    " ])\n",
    "G = sp.Matrix(G)\n",
    "\n",
    "N = sp.Matrix([[Nxx, Nxy],\n",
    "                [Nxy, Nyy]])"
   ]
  },
  {
   "cell_type": "code",
   "execution_count": 25,
   "metadata": {},
   "outputs": [
    {
     "data": {
      "text/plain": [
       "(2, 372)"
      ]
     },
     "execution_count": 25,
     "metadata": {},
     "output_type": "execute_result"
    }
   ],
   "source": [
    "G.shape"
   ]
  },
  {
   "cell_type": "code",
   "execution_count": 26,
   "metadata": {},
   "outputs": [
    {
     "ename": "KeyboardInterrupt",
     "evalue": "",
     "output_type": "error",
     "traceback": [
      "\u001b[1;31m---------------------------------------------------------------------------\u001b[0m",
      "\u001b[1;31mKeyError\u001b[0m                                  Traceback (most recent call last)",
      "File \u001b[1;32md:\\programs\\Anaconda3\\lib\\site-packages\\sympy\\core\\assumptions.py:479\u001b[0m, in \u001b[0;36mmake_property.<locals>.getit\u001b[1;34m(self)\u001b[0m\n\u001b[0;32m    478\u001b[0m \u001b[39mtry\u001b[39;00m:\n\u001b[1;32m--> 479\u001b[0m     \u001b[39mreturn\u001b[39;00m \u001b[39mself\u001b[39;49m\u001b[39m.\u001b[39;49m_assumptions[fact]\n\u001b[0;32m    480\u001b[0m \u001b[39mexcept\u001b[39;00m \u001b[39mKeyError\u001b[39;00m:\n",
      "\u001b[1;31mKeyError\u001b[0m: 'zero'",
      "\nDuring handling of the above exception, another exception occurred:\n",
      "\u001b[1;31mKeyboardInterrupt\u001b[0m                         Traceback (most recent call last)",
      "\u001b[1;32md:\\repositories\\composipy\\composipy\\bardell\\ritz_with_bardell.ipynb Cell 17\u001b[0m in \u001b[0;36m<cell line: 1>\u001b[1;34m()\u001b[0m\n\u001b[0;32m      <a href='vscode-notebook-cell:/d%3A/repositories/composipy/composipy/bardell/ritz_with_bardell.ipynb#X21sZmlsZQ%3D%3D?line=0'>1</a>\u001b[0m KG \u001b[39m=\u001b[39m sp\u001b[39m.\u001b[39mintegrate(\n\u001b[1;32m----> <a href='vscode-notebook-cell:/d%3A/repositories/composipy/composipy/bardell/ritz_with_bardell.ipynb#X21sZmlsZQ%3D%3D?line=1'>2</a>\u001b[0m      sp\u001b[39m.\u001b[39;49mintegrate(\n\u001b[0;32m      <a href='vscode-notebook-cell:/d%3A/repositories/composipy/composipy/bardell/ritz_with_bardell.ipynb#X21sZmlsZQ%3D%3D?line=2'>3</a>\u001b[0m         G\u001b[39m.\u001b[39;49mT \u001b[39m*\u001b[39;49m N \u001b[39m*\u001b[39;49m G, (xi, \u001b[39m-\u001b[39;49m\u001b[39m1\u001b[39;49m, \u001b[39m1\u001b[39;49m)), (eta, \u001b[39m-\u001b[39m\u001b[39m1\u001b[39m, \u001b[39m1\u001b[39m)\n\u001b[0;32m      <a href='vscode-notebook-cell:/d%3A/repositories/composipy/composipy/bardell/ritz_with_bardell.ipynb#X21sZmlsZQ%3D%3D?line=3'>4</a>\u001b[0m ) \u001b[39m*\u001b[39m (a\u001b[39m*\u001b[39mb\u001b[39m/\u001b[39m\u001b[39m4\u001b[39m)\n\u001b[0;32m      <a href='vscode-notebook-cell:/d%3A/repositories/composipy/composipy/bardell/ritz_with_bardell.ipynb#X21sZmlsZQ%3D%3D?line=5'>6</a>\u001b[0m KG \u001b[39m=\u001b[39m np\u001b[39m.\u001b[39marray(KG, dtype\u001b[39m=\u001b[39mnp\u001b[39m.\u001b[39mlongdouble)\n",
      "File \u001b[1;32md:\\programs\\Anaconda3\\lib\\site-packages\\sympy\\integrals\\integrals.py:1566\u001b[0m, in \u001b[0;36mintegrate\u001b[1;34m(meijerg, conds, risch, heurisch, manual, *args, **kwargs)\u001b[0m\n\u001b[0;32m   1563\u001b[0m integral \u001b[39m=\u001b[39m Integral(\u001b[39m*\u001b[39margs, \u001b[39m*\u001b[39m\u001b[39m*\u001b[39mkwargs)\n\u001b[0;32m   1565\u001b[0m \u001b[39mif\u001b[39;00m \u001b[39misinstance\u001b[39m(integral, Integral):\n\u001b[1;32m-> 1566\u001b[0m     \u001b[39mreturn\u001b[39;00m integral\u001b[39m.\u001b[39mdoit(\u001b[39m*\u001b[39m\u001b[39m*\u001b[39mdoit_flags)\n\u001b[0;32m   1567\u001b[0m \u001b[39melse\u001b[39;00m:\n\u001b[0;32m   1568\u001b[0m     new_args \u001b[39m=\u001b[39m [a\u001b[39m.\u001b[39mdoit(\u001b[39m*\u001b[39m\u001b[39m*\u001b[39mdoit_flags) \u001b[39mif\u001b[39;00m \u001b[39misinstance\u001b[39m(a, Integral) \u001b[39melse\u001b[39;00m a\n\u001b[0;32m   1569\u001b[0m         \u001b[39mfor\u001b[39;00m a \u001b[39min\u001b[39;00m integral\u001b[39m.\u001b[39margs]\n",
      "File \u001b[1;32md:\\programs\\Anaconda3\\lib\\site-packages\\sympy\\integrals\\integrals.py:458\u001b[0m, in \u001b[0;36mIntegral.doit\u001b[1;34m(self, **hints)\u001b[0m\n\u001b[0;32m    456\u001b[0m \u001b[39m# hacks to handle special cases\u001b[39;00m\n\u001b[0;32m    457\u001b[0m \u001b[39mif\u001b[39;00m \u001b[39misinstance\u001b[39m(function, MatrixBase):\n\u001b[1;32m--> 458\u001b[0m     \u001b[39mreturn\u001b[39;00m function\u001b[39m.\u001b[39;49mapplyfunc(\n\u001b[0;32m    459\u001b[0m         \u001b[39mlambda\u001b[39;49;00m f: \u001b[39mself\u001b[39;49m\u001b[39m.\u001b[39;49mfunc(f, \u001b[39mself\u001b[39;49m\u001b[39m.\u001b[39;49mlimits)\u001b[39m.\u001b[39;49mdoit(\u001b[39m*\u001b[39;49m\u001b[39m*\u001b[39;49mhints))\n\u001b[0;32m    461\u001b[0m \u001b[39mif\u001b[39;00m \u001b[39misinstance\u001b[39m(function, FormalPowerSeries):\n\u001b[0;32m    462\u001b[0m     \u001b[39mif\u001b[39;00m \u001b[39mlen\u001b[39m(\u001b[39mself\u001b[39m\u001b[39m.\u001b[39mlimits) \u001b[39m>\u001b[39m \u001b[39m1\u001b[39m:\n",
      "File \u001b[1;32md:\\programs\\Anaconda3\\lib\\site-packages\\sympy\\matrices\\common.py:2061\u001b[0m, in \u001b[0;36mMatrixOperations.applyfunc\u001b[1;34m(self, f)\u001b[0m\n\u001b[0;32m   2058\u001b[0m \u001b[39mif\u001b[39;00m \u001b[39mnot\u001b[39;00m callable(f):\n\u001b[0;32m   2059\u001b[0m     \u001b[39mraise\u001b[39;00m \u001b[39mTypeError\u001b[39;00m(\u001b[39m\"\u001b[39m\u001b[39m`f` must be callable.\u001b[39m\u001b[39m\"\u001b[39m)\n\u001b[1;32m-> 2061\u001b[0m \u001b[39mreturn\u001b[39;00m \u001b[39mself\u001b[39;49m\u001b[39m.\u001b[39;49m_eval_applyfunc(f)\n",
      "File \u001b[1;32md:\\programs\\Anaconda3\\lib\\site-packages\\sympy\\matrices\\common.py:2001\u001b[0m, in \u001b[0;36mMatrixOperations._eval_applyfunc\u001b[1;34m(self, f)\u001b[0m\n\u001b[0;32m   2000\u001b[0m \u001b[39mdef\u001b[39;00m \u001b[39m_eval_applyfunc\u001b[39m(\u001b[39mself\u001b[39m, f):\n\u001b[1;32m-> 2001\u001b[0m     out \u001b[39m=\u001b[39m \u001b[39mself\u001b[39m\u001b[39m.\u001b[39m_new(\u001b[39mself\u001b[39m\u001b[39m.\u001b[39mrows, \u001b[39mself\u001b[39m\u001b[39m.\u001b[39mcols, [f(x) \u001b[39mfor\u001b[39;00m x \u001b[39min\u001b[39;00m \u001b[39mself\u001b[39m])\n\u001b[0;32m   2002\u001b[0m     \u001b[39mreturn\u001b[39;00m out\n",
      "File \u001b[1;32md:\\programs\\Anaconda3\\lib\\site-packages\\sympy\\matrices\\common.py:2001\u001b[0m, in \u001b[0;36m<listcomp>\u001b[1;34m(.0)\u001b[0m\n\u001b[0;32m   2000\u001b[0m \u001b[39mdef\u001b[39;00m \u001b[39m_eval_applyfunc\u001b[39m(\u001b[39mself\u001b[39m, f):\n\u001b[1;32m-> 2001\u001b[0m     out \u001b[39m=\u001b[39m \u001b[39mself\u001b[39m\u001b[39m.\u001b[39m_new(\u001b[39mself\u001b[39m\u001b[39m.\u001b[39mrows, \u001b[39mself\u001b[39m\u001b[39m.\u001b[39mcols, [f(x) \u001b[39mfor\u001b[39;00m x \u001b[39min\u001b[39;00m \u001b[39mself\u001b[39m])\n\u001b[0;32m   2002\u001b[0m     \u001b[39mreturn\u001b[39;00m out\n",
      "File \u001b[1;32md:\\programs\\Anaconda3\\lib\\site-packages\\sympy\\integrals\\integrals.py:459\u001b[0m, in \u001b[0;36mIntegral.doit.<locals>.<lambda>\u001b[1;34m(f)\u001b[0m\n\u001b[0;32m    456\u001b[0m \u001b[39m# hacks to handle special cases\u001b[39;00m\n\u001b[0;32m    457\u001b[0m \u001b[39mif\u001b[39;00m \u001b[39misinstance\u001b[39m(function, MatrixBase):\n\u001b[0;32m    458\u001b[0m     \u001b[39mreturn\u001b[39;00m function\u001b[39m.\u001b[39mapplyfunc(\n\u001b[1;32m--> 459\u001b[0m         \u001b[39mlambda\u001b[39;00m f: \u001b[39mself\u001b[39m\u001b[39m.\u001b[39mfunc(f, \u001b[39mself\u001b[39m\u001b[39m.\u001b[39mlimits)\u001b[39m.\u001b[39mdoit(\u001b[39m*\u001b[39m\u001b[39m*\u001b[39mhints))\n\u001b[0;32m    461\u001b[0m \u001b[39mif\u001b[39;00m \u001b[39misinstance\u001b[39m(function, FormalPowerSeries):\n\u001b[0;32m    462\u001b[0m     \u001b[39mif\u001b[39;00m \u001b[39mlen\u001b[39m(\u001b[39mself\u001b[39m\u001b[39m.\u001b[39mlimits) \u001b[39m>\u001b[39m \u001b[39m1\u001b[39m:\n",
      "File \u001b[1;32md:\\programs\\Anaconda3\\lib\\site-packages\\sympy\\integrals\\integrals.py:500\u001b[0m, in \u001b[0;36mIntegral.doit\u001b[1;34m(self, **hints)\u001b[0m\n\u001b[0;32m    498\u001b[0m \u001b[39mif\u001b[39;00m reps:\n\u001b[0;32m    499\u001b[0m     undo \u001b[39m=\u001b[39m {v: k \u001b[39mfor\u001b[39;00m k, v \u001b[39min\u001b[39;00m reps\u001b[39m.\u001b[39mitems()}\n\u001b[1;32m--> 500\u001b[0m     did \u001b[39m=\u001b[39m \u001b[39mself\u001b[39m\u001b[39m.\u001b[39mxreplace(reps)\u001b[39m.\u001b[39mdoit(\u001b[39m*\u001b[39m\u001b[39m*\u001b[39mhints)\n\u001b[0;32m    501\u001b[0m     \u001b[39mif\u001b[39;00m \u001b[39misinstance\u001b[39m(did, \u001b[39mtuple\u001b[39m):  \u001b[39m# when separate=True\u001b[39;00m\n\u001b[0;32m    502\u001b[0m         did \u001b[39m=\u001b[39m \u001b[39mtuple\u001b[39m([i\u001b[39m.\u001b[39mxreplace(undo) \u001b[39mfor\u001b[39;00m i \u001b[39min\u001b[39;00m did])\n",
      "File \u001b[1;32md:\\programs\\Anaconda3\\lib\\site-packages\\sympy\\integrals\\integrals.py:711\u001b[0m, in \u001b[0;36mIntegral.doit\u001b[1;34m(self, **hints)\u001b[0m\n\u001b[0;32m    708\u001b[0m uneval \u001b[39m=\u001b[39m Add(\u001b[39m*\u001b[39m[eval_factored(f, x, a, b)\n\u001b[0;32m    709\u001b[0m                \u001b[39mfor\u001b[39;00m f \u001b[39min\u001b[39;00m integrals])\n\u001b[0;32m    710\u001b[0m \u001b[39mtry\u001b[39;00m:\n\u001b[1;32m--> 711\u001b[0m     evalued \u001b[39m=\u001b[39m Add(\u001b[39m*\u001b[39;49mothers)\u001b[39m.\u001b[39;49m_eval_interval(x, a, b)\n\u001b[0;32m    712\u001b[0m     evalued_pw \u001b[39m=\u001b[39m piecewise_fold(Add(\u001b[39m*\u001b[39mpiecewises))\u001b[39m.\u001b[39m_eval_interval(x, a, b)\n\u001b[0;32m    713\u001b[0m     function \u001b[39m=\u001b[39m uneval \u001b[39m+\u001b[39m evalued \u001b[39m+\u001b[39m evalued_pw\n",
      "File \u001b[1;32md:\\programs\\Anaconda3\\lib\\site-packages\\sympy\\core\\expr.py:962\u001b[0m, in \u001b[0;36mExpr._eval_interval\u001b[1;34m(self, x, a, b)\u001b[0m\n\u001b[0;32m    959\u001b[0m     domain \u001b[39m=\u001b[39m Interval(b, a)\n\u001b[0;32m    960\u001b[0m \u001b[39m# check the singularities of self within the interval\u001b[39;00m\n\u001b[0;32m    961\u001b[0m \u001b[39m# if singularities is a ConditionSet (not iterable), catch the exception and pass\u001b[39;00m\n\u001b[1;32m--> 962\u001b[0m singularities \u001b[39m=\u001b[39m solveset(\u001b[39mself\u001b[39;49m\u001b[39m.\u001b[39;49mcancel()\u001b[39m.\u001b[39mas_numer_denom()[\u001b[39m1\u001b[39m], x,\n\u001b[0;32m    963\u001b[0m     domain\u001b[39m=\u001b[39mdomain)\n\u001b[0;32m    964\u001b[0m \u001b[39mfor\u001b[39;00m logterm \u001b[39min\u001b[39;00m \u001b[39mself\u001b[39m\u001b[39m.\u001b[39matoms(log):\n\u001b[0;32m    965\u001b[0m     singularities \u001b[39m=\u001b[39m singularities \u001b[39m|\u001b[39m solveset(logterm\u001b[39m.\u001b[39margs[\u001b[39m0\u001b[39m], x,\n\u001b[0;32m    966\u001b[0m         domain\u001b[39m=\u001b[39mdomain)\n",
      "File \u001b[1;32md:\\programs\\Anaconda3\\lib\\site-packages\\sympy\\core\\expr.py:3733\u001b[0m, in \u001b[0;36mExpr.cancel\u001b[1;34m(self, *gens, **args)\u001b[0m\n\u001b[0;32m   3731\u001b[0m \u001b[39m\"\"\"See the cancel function in sympy.polys\"\"\"\u001b[39;00m\n\u001b[0;32m   3732\u001b[0m \u001b[39mfrom\u001b[39;00m \u001b[39msympy\u001b[39;00m\u001b[39m.\u001b[39;00m\u001b[39mpolys\u001b[39;00m\u001b[39m.\u001b[39;00m\u001b[39mpolytools\u001b[39;00m \u001b[39mimport\u001b[39;00m cancel\n\u001b[1;32m-> 3733\u001b[0m \u001b[39mreturn\u001b[39;00m cancel(\u001b[39mself\u001b[39m, \u001b[39m*\u001b[39mgens, \u001b[39m*\u001b[39m\u001b[39m*\u001b[39margs)\n",
      "File \u001b[1;32md:\\programs\\Anaconda3\\lib\\site-packages\\sympy\\polys\\polytools.py:6770\u001b[0m, in \u001b[0;36mcancel\u001b[1;34m(f, _signsimp, *gens, **args)\u001b[0m\n\u001b[0;32m   6768\u001b[0m \u001b[39mif\u001b[39;00m f\u001b[39m.\u001b[39mhas(Piecewise):\n\u001b[0;32m   6769\u001b[0m     \u001b[39mraise\u001b[39;00m PolynomialError()\n\u001b[1;32m-> 6770\u001b[0m R, (F, G) \u001b[39m=\u001b[39m sring((p, q), \u001b[39m*\u001b[39mgens, \u001b[39m*\u001b[39m\u001b[39m*\u001b[39margs)\n\u001b[0;32m   6771\u001b[0m \u001b[39mif\u001b[39;00m \u001b[39mnot\u001b[39;00m R\u001b[39m.\u001b[39mngens:\n\u001b[0;32m   6772\u001b[0m     \u001b[39mif\u001b[39;00m \u001b[39mnot\u001b[39;00m \u001b[39misinstance\u001b[39m(f, (\u001b[39mtuple\u001b[39m, Tuple)):\n",
      "File \u001b[1;32md:\\programs\\Anaconda3\\lib\\site-packages\\sympy\\polys\\rings.py:163\u001b[0m, in \u001b[0;36msring\u001b[1;34m(exprs, *symbols, **options)\u001b[0m\n\u001b[0;32m    160\u001b[0m opt \u001b[39m=\u001b[39m build_options(symbols, options)\n\u001b[0;32m    162\u001b[0m \u001b[39m# TODO: rewrite this so that it doesn't use expand() (see poly()).\u001b[39;00m\n\u001b[1;32m--> 163\u001b[0m reps, opt \u001b[39m=\u001b[39m _parallel_dict_from_expr(exprs, opt)\n\u001b[0;32m    165\u001b[0m \u001b[39mif\u001b[39;00m opt\u001b[39m.\u001b[39mdomain \u001b[39mis\u001b[39;00m \u001b[39mNone\u001b[39;00m:\n\u001b[0;32m    166\u001b[0m     coeffs \u001b[39m=\u001b[39m \u001b[39msum\u001b[39m([ \u001b[39mlist\u001b[39m(rep\u001b[39m.\u001b[39mvalues()) \u001b[39mfor\u001b[39;00m rep \u001b[39min\u001b[39;00m reps ], [])\n",
      "File \u001b[1;32md:\\programs\\Anaconda3\\lib\\site-packages\\sympy\\polys\\polyutils.py:326\u001b[0m, in \u001b[0;36m_parallel_dict_from_expr\u001b[1;34m(exprs, opt)\u001b[0m\n\u001b[0;32m    324\u001b[0m \u001b[39m\"\"\"Transform expressions into a multinomial form. \"\"\"\u001b[39;00m\n\u001b[0;32m    325\u001b[0m \u001b[39mif\u001b[39;00m opt\u001b[39m.\u001b[39mexpand \u001b[39mis\u001b[39;00m \u001b[39mnot\u001b[39;00m \u001b[39mFalse\u001b[39;00m:\n\u001b[1;32m--> 326\u001b[0m     exprs \u001b[39m=\u001b[39m [ expr\u001b[39m.\u001b[39mexpand() \u001b[39mfor\u001b[39;00m expr \u001b[39min\u001b[39;00m exprs ]\n\u001b[0;32m    328\u001b[0m \u001b[39mif\u001b[39;00m \u001b[39many\u001b[39m(expr\u001b[39m.\u001b[39mis_commutative \u001b[39mis\u001b[39;00m \u001b[39mFalse\u001b[39;00m \u001b[39mfor\u001b[39;00m expr \u001b[39min\u001b[39;00m exprs):\n\u001b[0;32m    329\u001b[0m     \u001b[39mraise\u001b[39;00m PolynomialError(\u001b[39m'\u001b[39m\u001b[39mnon-commutative expressions are not supported\u001b[39m\u001b[39m'\u001b[39m)\n",
      "File \u001b[1;32md:\\programs\\Anaconda3\\lib\\site-packages\\sympy\\polys\\polyutils.py:326\u001b[0m, in \u001b[0;36m<listcomp>\u001b[1;34m(.0)\u001b[0m\n\u001b[0;32m    324\u001b[0m \u001b[39m\"\"\"Transform expressions into a multinomial form. \"\"\"\u001b[39;00m\n\u001b[0;32m    325\u001b[0m \u001b[39mif\u001b[39;00m opt\u001b[39m.\u001b[39mexpand \u001b[39mis\u001b[39;00m \u001b[39mnot\u001b[39;00m \u001b[39mFalse\u001b[39;00m:\n\u001b[1;32m--> 326\u001b[0m     exprs \u001b[39m=\u001b[39m [ expr\u001b[39m.\u001b[39;49mexpand() \u001b[39mfor\u001b[39;00m expr \u001b[39min\u001b[39;00m exprs ]\n\u001b[0;32m    328\u001b[0m \u001b[39mif\u001b[39;00m \u001b[39many\u001b[39m(expr\u001b[39m.\u001b[39mis_commutative \u001b[39mis\u001b[39;00m \u001b[39mFalse\u001b[39;00m \u001b[39mfor\u001b[39;00m expr \u001b[39min\u001b[39;00m exprs):\n\u001b[0;32m    329\u001b[0m     \u001b[39mraise\u001b[39;00m PolynomialError(\u001b[39m'\u001b[39m\u001b[39mnon-commutative expressions are not supported\u001b[39m\u001b[39m'\u001b[39m)\n",
      "File \u001b[1;32md:\\programs\\Anaconda3\\lib\\site-packages\\sympy\\core\\cache.py:70\u001b[0m, in \u001b[0;36m__cacheit.<locals>.func_wrapper.<locals>.wrapper\u001b[1;34m(*args, **kwargs)\u001b[0m\n\u001b[0;32m     67\u001b[0m \u001b[39m@wraps\u001b[39m(func)\n\u001b[0;32m     68\u001b[0m \u001b[39mdef\u001b[39;00m \u001b[39mwrapper\u001b[39m(\u001b[39m*\u001b[39margs, \u001b[39m*\u001b[39m\u001b[39m*\u001b[39mkwargs):\n\u001b[0;32m     69\u001b[0m     \u001b[39mtry\u001b[39;00m:\n\u001b[1;32m---> 70\u001b[0m         retval \u001b[39m=\u001b[39m cfunc(\u001b[39m*\u001b[39margs, \u001b[39m*\u001b[39m\u001b[39m*\u001b[39mkwargs)\n\u001b[0;32m     71\u001b[0m     \u001b[39mexcept\u001b[39;00m \u001b[39mTypeError\u001b[39;00m \u001b[39mas\u001b[39;00m e:\n\u001b[0;32m     72\u001b[0m         \u001b[39mif\u001b[39;00m \u001b[39mnot\u001b[39;00m e\u001b[39m.\u001b[39margs \u001b[39mor\u001b[39;00m \u001b[39mnot\u001b[39;00m e\u001b[39m.\u001b[39margs[\u001b[39m0\u001b[39m]\u001b[39m.\u001b[39mstartswith(\u001b[39m'\u001b[39m\u001b[39munhashable type:\u001b[39m\u001b[39m'\u001b[39m):\n",
      "File \u001b[1;32md:\\programs\\Anaconda3\\lib\\site-packages\\sympy\\core\\expr.py:3624\u001b[0m, in \u001b[0;36mExpr.expand\u001b[1;34m(self, deep, modulus, power_base, power_exp, mul, log, multinomial, basic, **hints)\u001b[0m\n\u001b[0;32m   3622\u001b[0m     \u001b[39mif\u001b[39;00m use_hint:\n\u001b[0;32m   3623\u001b[0m         hint \u001b[39m=\u001b[39m \u001b[39m'\u001b[39m\u001b[39m_eval_expand_\u001b[39m\u001b[39m'\u001b[39m \u001b[39m+\u001b[39m hint\n\u001b[1;32m-> 3624\u001b[0m         expr, hit \u001b[39m=\u001b[39m Expr\u001b[39m.\u001b[39m_expand_hint(expr, hint, deep\u001b[39m=\u001b[39mdeep, \u001b[39m*\u001b[39m\u001b[39m*\u001b[39mhints)\n\u001b[0;32m   3626\u001b[0m \u001b[39mwhile\u001b[39;00m \u001b[39mTrue\u001b[39;00m:\n\u001b[0;32m   3627\u001b[0m     was \u001b[39m=\u001b[39m expr\n",
      "File \u001b[1;32md:\\programs\\Anaconda3\\lib\\site-packages\\sympy\\core\\expr.py:3557\u001b[0m, in \u001b[0;36mExpr._expand_hint\u001b[1;34m(expr, hint, deep, **hints)\u001b[0m\n\u001b[0;32m   3555\u001b[0m sargs \u001b[39m=\u001b[39m []\n\u001b[0;32m   3556\u001b[0m \u001b[39mfor\u001b[39;00m arg \u001b[39min\u001b[39;00m expr\u001b[39m.\u001b[39margs:\n\u001b[1;32m-> 3557\u001b[0m     arg, arghit \u001b[39m=\u001b[39m Expr\u001b[39m.\u001b[39m_expand_hint(arg, hint, \u001b[39m*\u001b[39m\u001b[39m*\u001b[39mhints)\n\u001b[0;32m   3558\u001b[0m     hit \u001b[39m|\u001b[39m\u001b[39m=\u001b[39m arghit\n\u001b[0;32m   3559\u001b[0m     sargs\u001b[39m.\u001b[39mappend(arg)\n",
      "File \u001b[1;32md:\\programs\\Anaconda3\\lib\\site-packages\\sympy\\core\\expr.py:3557\u001b[0m, in \u001b[0;36mExpr._expand_hint\u001b[1;34m(expr, hint, deep, **hints)\u001b[0m\n\u001b[0;32m   3555\u001b[0m sargs \u001b[39m=\u001b[39m []\n\u001b[0;32m   3556\u001b[0m \u001b[39mfor\u001b[39;00m arg \u001b[39min\u001b[39;00m expr\u001b[39m.\u001b[39margs:\n\u001b[1;32m-> 3557\u001b[0m     arg, arghit \u001b[39m=\u001b[39m Expr\u001b[39m.\u001b[39m_expand_hint(arg, hint, \u001b[39m*\u001b[39m\u001b[39m*\u001b[39mhints)\n\u001b[0;32m   3558\u001b[0m     hit \u001b[39m|\u001b[39m\u001b[39m=\u001b[39m arghit\n\u001b[0;32m   3559\u001b[0m     sargs\u001b[39m.\u001b[39mappend(arg)\n",
      "File \u001b[1;32md:\\programs\\Anaconda3\\lib\\site-packages\\sympy\\core\\expr.py:3565\u001b[0m, in \u001b[0;36mExpr._expand_hint\u001b[1;34m(expr, hint, deep, **hints)\u001b[0m\n\u001b[0;32m   3562\u001b[0m         expr \u001b[39m=\u001b[39m expr\u001b[39m.\u001b[39mfunc(\u001b[39m*\u001b[39msargs)\n\u001b[0;32m   3564\u001b[0m \u001b[39mif\u001b[39;00m \u001b[39mhasattr\u001b[39m(expr, hint):\n\u001b[1;32m-> 3565\u001b[0m     newexpr \u001b[39m=\u001b[39m \u001b[39mgetattr\u001b[39m(expr, hint)(\u001b[39m*\u001b[39m\u001b[39m*\u001b[39mhints)\n\u001b[0;32m   3566\u001b[0m     \u001b[39mif\u001b[39;00m newexpr \u001b[39m!=\u001b[39m expr:\n\u001b[0;32m   3567\u001b[0m         \u001b[39mreturn\u001b[39;00m (newexpr, \u001b[39mTrue\u001b[39;00m)\n",
      "File \u001b[1;32md:\\programs\\Anaconda3\\lib\\site-packages\\sympy\\core\\mul.py:977\u001b[0m, in \u001b[0;36mMul._eval_expand_mul\u001b[1;34m(self, **hints)\u001b[0m\n\u001b[0;32m    975\u001b[0m args \u001b[39m=\u001b[39m []\n\u001b[0;32m    976\u001b[0m \u001b[39mfor\u001b[39;00m term \u001b[39min\u001b[39;00m terms:\n\u001b[1;32m--> 977\u001b[0m     t \u001b[39m=\u001b[39m \u001b[39mself\u001b[39;49m\u001b[39m.\u001b[39;49mfunc(plain, term)\n\u001b[0;32m    978\u001b[0m     \u001b[39mif\u001b[39;00m t\u001b[39m.\u001b[39mis_Mul \u001b[39mand\u001b[39;00m \u001b[39many\u001b[39m(a\u001b[39m.\u001b[39mis_Add \u001b[39mfor\u001b[39;00m a \u001b[39min\u001b[39;00m t\u001b[39m.\u001b[39margs) \u001b[39mand\u001b[39;00m deep:\n\u001b[0;32m    979\u001b[0m         t \u001b[39m=\u001b[39m t\u001b[39m.\u001b[39m_eval_expand_mul()\n",
      "File \u001b[1;32md:\\programs\\Anaconda3\\lib\\site-packages\\sympy\\core\\cache.py:70\u001b[0m, in \u001b[0;36m__cacheit.<locals>.func_wrapper.<locals>.wrapper\u001b[1;34m(*args, **kwargs)\u001b[0m\n\u001b[0;32m     67\u001b[0m \u001b[39m@wraps\u001b[39m(func)\n\u001b[0;32m     68\u001b[0m \u001b[39mdef\u001b[39;00m \u001b[39mwrapper\u001b[39m(\u001b[39m*\u001b[39margs, \u001b[39m*\u001b[39m\u001b[39m*\u001b[39mkwargs):\n\u001b[0;32m     69\u001b[0m     \u001b[39mtry\u001b[39;00m:\n\u001b[1;32m---> 70\u001b[0m         retval \u001b[39m=\u001b[39m cfunc(\u001b[39m*\u001b[39margs, \u001b[39m*\u001b[39m\u001b[39m*\u001b[39mkwargs)\n\u001b[0;32m     71\u001b[0m     \u001b[39mexcept\u001b[39;00m \u001b[39mTypeError\u001b[39;00m \u001b[39mas\u001b[39;00m e:\n\u001b[0;32m     72\u001b[0m         \u001b[39mif\u001b[39;00m \u001b[39mnot\u001b[39;00m e\u001b[39m.\u001b[39margs \u001b[39mor\u001b[39;00m \u001b[39mnot\u001b[39;00m e\u001b[39m.\u001b[39margs[\u001b[39m0\u001b[39m]\u001b[39m.\u001b[39mstartswith(\u001b[39m'\u001b[39m\u001b[39munhashable type:\u001b[39m\u001b[39m'\u001b[39m):\n",
      "File \u001b[1;32md:\\programs\\Anaconda3\\lib\\site-packages\\sympy\\core\\operations.py:98\u001b[0m, in \u001b[0;36mAssocOp.__new__\u001b[1;34m(cls, evaluate, _sympify, *args)\u001b[0m\n\u001b[0;32m     95\u001b[0m \u001b[39mif\u001b[39;00m \u001b[39mlen\u001b[39m(args) \u001b[39m==\u001b[39m \u001b[39m1\u001b[39m:\n\u001b[0;32m     96\u001b[0m     \u001b[39mreturn\u001b[39;00m args[\u001b[39m0\u001b[39m]\n\u001b[1;32m---> 98\u001b[0m c_part, nc_part, order_symbols \u001b[39m=\u001b[39m \u001b[39mcls\u001b[39;49m\u001b[39m.\u001b[39;49mflatten(args)\n\u001b[0;32m     99\u001b[0m is_commutative \u001b[39m=\u001b[39m \u001b[39mnot\u001b[39;00m nc_part\n\u001b[0;32m    100\u001b[0m obj \u001b[39m=\u001b[39m \u001b[39mcls\u001b[39m\u001b[39m.\u001b[39m_from_args(c_part \u001b[39m+\u001b[39m nc_part, is_commutative)\n",
      "File \u001b[1;32md:\\programs\\Anaconda3\\lib\\site-packages\\sympy\\core\\mul.py:685\u001b[0m, in \u001b[0;36mMul.flatten\u001b[1;34m(cls, seq)\u001b[0m\n\u001b[0;32m    681\u001b[0m     nc_part \u001b[39m=\u001b[39m [c \u001b[39mfor\u001b[39;00m c \u001b[39min\u001b[39;00m nc_part \u001b[39mif\u001b[39;00m \u001b[39mnot\u001b[39;00m (fuzzy_not(c\u001b[39m.\u001b[39mis_zero) \u001b[39mand\u001b[39;00m\n\u001b[0;32m    682\u001b[0m                                           c\u001b[39m.\u001b[39mis_extended_real \u001b[39mis\u001b[39;00m \u001b[39mnot\u001b[39;00m \u001b[39mNone\u001b[39;00m)]\n\u001b[0;32m    684\u001b[0m \u001b[39m# 0\u001b[39;00m\n\u001b[1;32m--> 685\u001b[0m \u001b[39melif\u001b[39;00m coeff\u001b[39m.\u001b[39;49mis_zero:\n\u001b[0;32m    686\u001b[0m     \u001b[39m# we know for sure the result will be 0 except the multiplicand\u001b[39;00m\n\u001b[0;32m    687\u001b[0m     \u001b[39m# is infinity or a matrix\u001b[39;00m\n\u001b[0;32m    688\u001b[0m     \u001b[39mif\u001b[39;00m \u001b[39many\u001b[39m(\u001b[39misinstance\u001b[39m(c, MatrixExpr) \u001b[39mfor\u001b[39;00m c \u001b[39min\u001b[39;00m nc_part):\n\u001b[0;32m    689\u001b[0m         \u001b[39mreturn\u001b[39;00m [coeff], nc_part, order_symbols\n",
      "File \u001b[1;32md:\\programs\\Anaconda3\\lib\\site-packages\\sympy\\core\\assumptions.py:483\u001b[0m, in \u001b[0;36mmake_property.<locals>.getit\u001b[1;34m(self)\u001b[0m\n\u001b[0;32m    481\u001b[0m \u001b[39mif\u001b[39;00m \u001b[39mself\u001b[39m\u001b[39m.\u001b[39m_assumptions \u001b[39mis\u001b[39;00m \u001b[39mself\u001b[39m\u001b[39m.\u001b[39mdefault_assumptions:\n\u001b[0;32m    482\u001b[0m     \u001b[39mself\u001b[39m\u001b[39m.\u001b[39m_assumptions \u001b[39m=\u001b[39m \u001b[39mself\u001b[39m\u001b[39m.\u001b[39mdefault_assumptions\u001b[39m.\u001b[39mcopy()\n\u001b[1;32m--> 483\u001b[0m \u001b[39mreturn\u001b[39;00m _ask(fact, \u001b[39mself\u001b[39;49m)\n",
      "File \u001b[1;32md:\\programs\\Anaconda3\\lib\\site-packages\\sympy\\core\\assumptions.py:546\u001b[0m, in \u001b[0;36m_ask\u001b[1;34m(fact, obj)\u001b[0m\n\u001b[0;32m    544\u001b[0m     a \u001b[39m=\u001b[39m evaluate(obj)\n\u001b[0;32m    545\u001b[0m     \u001b[39mif\u001b[39;00m a \u001b[39mis\u001b[39;00m \u001b[39mnot\u001b[39;00m \u001b[39mNone\u001b[39;00m:\n\u001b[1;32m--> 546\u001b[0m         assumptions\u001b[39m.\u001b[39;49mdeduce_all_facts(((fact, a),))\n\u001b[0;32m    547\u001b[0m         \u001b[39mreturn\u001b[39;00m a\n\u001b[0;32m    549\u001b[0m \u001b[39m# Try assumption's prerequisites\u001b[39;00m\n",
      "File \u001b[1;32md:\\programs\\Anaconda3\\lib\\site-packages\\sympy\\core\\facts.py:532\u001b[0m, in \u001b[0;36mFactKB.deduce_all_facts\u001b[1;34m(self, facts)\u001b[0m\n\u001b[0;32m    530\u001b[0m facts \u001b[39m=\u001b[39m []\n\u001b[0;32m    531\u001b[0m \u001b[39mfor\u001b[39;00m bidx \u001b[39min\u001b[39;00m beta_maytrigger:\n\u001b[1;32m--> 532\u001b[0m     bcond, bimpl \u001b[39m=\u001b[39m beta_rules[bidx]\n\u001b[0;32m    533\u001b[0m     \u001b[39mif\u001b[39;00m \u001b[39mall\u001b[39m(\u001b[39mself\u001b[39m\u001b[39m.\u001b[39mget(k) \u001b[39mis\u001b[39;00m v \u001b[39mfor\u001b[39;00m k, v \u001b[39min\u001b[39;00m bcond):\n\u001b[0;32m    534\u001b[0m         facts\u001b[39m.\u001b[39mappend(bimpl)\n",
      "\u001b[1;31mKeyboardInterrupt\u001b[0m: "
     ]
    }
   ],
   "source": [
    "KG = sp.integrate(\n",
    "     sp.integrate(\n",
    "        G.T * N * G, (xi, -1, 1)), (eta, -1, 1)\n",
    ") * (a*b/4)\n",
    "\n",
    "KG = np.array(KG, dtype=np.longdouble)"
   ]
  },
  {
   "cell_type": "code",
   "execution_count": null,
   "metadata": {},
   "outputs": [
    {
     "name": "stdout",
     "output_type": "stream",
     "text": [
      "(300, 300)\n",
      "-0.0028860028860028994\n",
      "0.0017316017316017398\n"
     ]
    }
   ],
   "source": [
    "print(KG.shape)\n",
    "print(KG.min())\n",
    "print(KG.max())"
   ]
  },
  {
   "cell_type": "code",
   "execution_count": null,
   "metadata": {},
   "outputs": [],
   "source": [
    "K = sp.integrate(\n",
    "    sp.integrate(\n",
    "        B0_kappa.T * F * B0_kappa, (xi, -1, 1)), (eta, -1, 1)\n",
    ") * (a*b/4)\n",
    "\n",
    "K = np.array(K, dtype=np.longdouble)"
   ]
  },
  {
   "cell_type": "code",
   "execution_count": null,
   "metadata": {
    "scrolled": true
   },
   "outputs": [
    {
     "name": "stdout",
     "output_type": "stream",
     "text": [
      "(300, 300)\n",
      "-128.6730252325013\n",
      "214.4550420541692\n"
     ]
    }
   ],
   "source": [
    "print(K.shape)\n",
    "print(K.min())\n",
    "print(K.max())"
   ]
  },
  {
   "cell_type": "code",
   "execution_count": null,
   "metadata": {},
   "outputs": [],
   "source": [
    "A = K\n",
    "B = KG\n",
    "\n",
    "eig_values, eig_vectors = eig(A, B)"
   ]
  },
  {
   "cell_type": "code",
   "execution_count": null,
   "metadata": {},
   "outputs": [
    {
     "data": {
      "text/plain": [
       "(nan+0j)"
      ]
     },
     "execution_count": 179,
     "metadata": {},
     "output_type": "execute_result"
    }
   ],
   "source": [
    "eig_values.min()"
   ]
  },
  {
   "cell_type": "code",
   "execution_count": null,
   "metadata": {},
   "outputs": [
    {
     "data": {
      "text/plain": [
       "array([nan+0.j, nan+0.j, nan+0.j, nan+0.j, nan+0.j, nan+0.j, nan+0.j,\n",
       "       nan+0.j, nan+0.j, nan+0.j, nan+0.j, nan+0.j, nan+0.j, nan+0.j,\n",
       "       nan+0.j, nan+0.j, nan+0.j, nan+0.j, nan+0.j, nan+0.j, nan+0.j,\n",
       "       nan+0.j, nan+0.j, nan+0.j, nan+0.j, nan+0.j, nan+0.j, nan+0.j,\n",
       "       nan+0.j, nan+0.j, nan+0.j, nan+0.j, nan+0.j, nan+0.j, nan+0.j,\n",
       "       nan+0.j, nan+0.j, nan+0.j, nan+0.j, nan+0.j, nan+0.j, nan+0.j,\n",
       "       nan+0.j, nan+0.j, nan+0.j, nan+0.j, nan+0.j, nan+0.j, nan+0.j,\n",
       "       nan+0.j, nan+0.j, nan+0.j, nan+0.j, nan+0.j, nan+0.j, nan+0.j,\n",
       "       nan+0.j, nan+0.j, nan+0.j, nan+0.j, nan+0.j, nan+0.j, nan+0.j,\n",
       "       nan+0.j, nan+0.j, nan+0.j, nan+0.j, nan+0.j, nan+0.j, nan+0.j,\n",
       "       nan+0.j, inf+0.j, inf+0.j, inf+0.j, inf+0.j, inf+0.j, inf+0.j,\n",
       "       inf+0.j, inf+0.j, inf+0.j, inf+0.j, inf+0.j, inf+0.j, inf+0.j,\n",
       "       inf+0.j, inf+0.j, inf+0.j, inf+0.j, inf+0.j, inf+0.j, inf+0.j,\n",
       "       inf+0.j, inf+0.j, inf+0.j, inf+0.j, inf+0.j, inf+0.j, inf+0.j,\n",
       "       inf+0.j, inf+0.j, inf+0.j, inf+0.j, inf+0.j, inf+0.j, inf+0.j,\n",
       "       inf+0.j, inf+0.j, inf+0.j, inf+0.j, inf+0.j, inf+0.j, inf+0.j,\n",
       "       inf+0.j, inf+0.j, inf+0.j, inf+0.j, inf+0.j, inf+0.j, inf+0.j,\n",
       "       inf+0.j, inf+0.j, inf+0.j, inf+0.j, inf+0.j, inf+0.j, inf+0.j,\n",
       "       inf+0.j, inf+0.j, inf+0.j, inf+0.j, inf+0.j, inf+0.j, inf+0.j,\n",
       "       inf+0.j, inf+0.j, inf+0.j, inf+0.j, inf+0.j, inf+0.j, inf+0.j,\n",
       "       inf+0.j, inf+0.j, inf+0.j, inf+0.j, inf+0.j, inf+0.j, inf+0.j,\n",
       "       inf+0.j, inf+0.j, inf+0.j, inf+0.j, inf+0.j, inf+0.j, inf+0.j,\n",
       "       inf+0.j, inf+0.j, inf+0.j, inf+0.j, inf+0.j, inf+0.j, inf+0.j,\n",
       "       inf+0.j, inf+0.j, inf+0.j, inf+0.j, inf+0.j, inf+0.j, inf+0.j,\n",
       "       inf+0.j, inf+0.j, inf+0.j, inf+0.j, inf+0.j, inf+0.j, inf+0.j,\n",
       "       inf+0.j, inf+0.j, inf+0.j, inf+0.j, inf+0.j, inf+0.j, inf+0.j,\n",
       "       inf+0.j, inf+0.j, inf+0.j, inf+0.j, inf+0.j, inf+0.j, inf+0.j,\n",
       "       inf+0.j, inf+0.j, inf+0.j, nan+0.j, nan+0.j, nan+0.j, nan+0.j,\n",
       "       nan+0.j, nan+0.j, nan+0.j, nan+0.j, nan+0.j, nan+0.j, nan+0.j,\n",
       "       nan+0.j, nan+0.j, nan+0.j, nan+0.j, nan+0.j, nan+0.j, nan+0.j,\n",
       "       nan+0.j, nan+0.j, nan+0.j, nan+0.j, nan+0.j, nan+0.j, nan+0.j,\n",
       "       nan+0.j, nan+0.j, nan+0.j, nan+0.j, nan+0.j, nan+0.j, nan+0.j,\n",
       "       nan+0.j, nan+0.j, nan+0.j, nan+0.j, nan+0.j, nan+0.j, nan+0.j,\n",
       "       nan+0.j, nan+0.j, nan+0.j, nan+0.j, nan+0.j, nan+0.j, nan+0.j,\n",
       "       nan+0.j, nan+0.j, nan+0.j, nan+0.j, nan+0.j, nan+0.j, nan+0.j,\n",
       "       nan+0.j, nan+0.j, nan+0.j, nan+0.j, nan+0.j, nan+0.j, nan+0.j,\n",
       "       nan+0.j, nan+0.j, nan+0.j, nan+0.j, nan+0.j, nan+0.j, nan+0.j,\n",
       "       nan+0.j, nan+0.j, nan+0.j, nan+0.j, nan+0.j, nan+0.j, nan+0.j,\n",
       "       nan+0.j, nan+0.j, nan+0.j, nan+0.j, nan+0.j, nan+0.j, nan+0.j,\n",
       "       nan+0.j, nan+0.j, nan+0.j, nan+0.j, nan+0.j, nan+0.j, nan+0.j,\n",
       "       nan+0.j, nan+0.j, nan+0.j, nan+0.j, nan+0.j, nan+0.j, nan+0.j,\n",
       "       nan+0.j, nan+0.j, nan+0.j, nan+0.j, nan+0.j, nan+0.j, nan+0.j,\n",
       "       nan+0.j, nan+0.j, nan+0.j, nan+0.j, nan+0.j, nan+0.j])"
      ]
     },
     "execution_count": 180,
     "metadata": {},
     "output_type": "execute_result"
    }
   ],
   "source": [
    "eig_values"
   ]
  },
  {
   "cell_type": "code",
   "execution_count": null,
   "metadata": {},
   "outputs": [
    {
     "data": {
      "text/plain": [
       "array([ 1.65499704,  4.48031042,  8.96818145, 14.4644098 , 17.04626921,\n",
       "       17.7786328 , 20.00684769, 20.29615591, 21.36414164, 24.79609412,\n",
       "       25.6181652 , 27.23071467, 34.67763778, 34.93847512, 36.21074436,\n",
       "       40.54219066, 48.27915851, 49.51727252, 54.73768557, 64.46767149,\n",
       "       65.33783194, 72.96152142, 74.38965061, 78.41061724, 80.65937333])"
      ]
     },
     "execution_count": 181,
     "metadata": {},
     "output_type": "execute_result"
    }
   ],
   "source": [
    "eigvals, eigvecs = lb(A, B, silent=True)\n",
    "eigvals"
   ]
  },
  {
   "cell_type": "markdown",
   "metadata": {},
   "source": [
    "## Check with compmech"
   ]
  },
  {
   "cell_type": "code",
   "execution_count": null,
   "metadata": {},
   "outputs": [],
   "source": [
    "from compmech.panel.panel import Panel\n",
    "from compmech.analysis import lb, static"
   ]
  },
  {
   "cell_type": "code",
   "execution_count": null,
   "metadata": {},
   "outputs": [],
   "source": [
    "# skin panels\n",
    "laminaprop = (E1, E2, v12, G12, G12, G12)\n",
    "stack = [45, 0, 0, 45, 0, 0, 45,]\n",
    "p1 = Panel(group='skin', Nxx=-1, x0=0, y0=0., a=a, b=b,m=7, n=7, plyt=t, stack=stack, laminaprop=laminaprop)"
   ]
  },
  {
   "cell_type": "code",
   "execution_count": null,
   "metadata": {},
   "outputs": [],
   "source": [
    "# boundary conditions CCCC\n",
    "p1.u1tx = 0 ; p1.u1rx = 1 ; p1.u2tx = 0 ; p1.u2rx = 1\n",
    "p1.v1tx = 0 ; p1.v1rx = 1 ; p1.v2tx = 0 ; p1.v2rx = 1\n",
    "p1.w1tx = 0 ; p1.w1rx = 1 ; p1.w2tx = 0 ; p1.w2rx = 1\n",
    "p1.u1ty = 0 ; p1.u1ry = 1 ; p1.u2ty = 0 ; p1.u2ry = 1\n",
    "p1.v1ty = 0 ; p1.v1ry = 1 ; p1.v2ty = 0 ; p1.v2ry = 1\n",
    "p1.w1ty = 0 ; p1.w1ry = 1 ; p1.w2ty = 0 ; p1.w2ry = 1"
   ]
  },
  {
   "cell_type": "code",
   "execution_count": null,
   "metadata": {},
   "outputs": [
    {
     "name": "stdout",
     "output_type": "stream",
     "text": [
      "\t\tCalculating k0... \n",
      "\t\tfinished!\n",
      "\t\tCalculating kG0... \n",
      "\t\tfinished!\n"
     ]
    },
    {
     "data": {
      "text/plain": [
       "array([   4.14266981,    6.2414554 ,   10.88686227,   16.63300335,\n",
       "         19.38550224,   24.71293639,   37.62762233,   37.84226898,\n",
       "         43.54481798,   45.30687227,   60.07420356,   70.86031711,\n",
       "         78.25164315,   91.7410365 ,   97.1275946 ,  117.10240494,\n",
       "        130.32106101,  138.68237874,  217.86321288,  226.26471972,\n",
       "        235.19543593,  355.00110827,  680.87643831,  749.35346907,\n",
       "       2462.41662646])"
      ]
     },
     "execution_count": 185,
     "metadata": {},
     "output_type": "execute_result"
    }
   ],
   "source": [
    "k0_1 = p1.calc_k0()\n",
    "kG0_1 = p1.calc_kG0()\n",
    "\n",
    "eigvals, eigvecs = lb(k0_1, kG0_1, silent=True)\n",
    "eigvals"
   ]
  },
  {
   "cell_type": "code",
   "execution_count": null,
   "metadata": {},
   "outputs": [
    {
     "name": "stdout",
     "output_type": "stream",
     "text": [
      "-84.33863563860446\n",
      "121.49716202529147\n"
     ]
    }
   ],
   "source": [
    "print(k0_1.min())\n",
    "print(k0_1.max())"
   ]
  },
  {
   "cell_type": "code",
   "execution_count": null,
   "metadata": {},
   "outputs": [
    {
     "name": "stdout",
     "output_type": "stream",
     "text": [
      "-0.0012698412698412672\n",
      "0.0009523809523809536\n"
     ]
    }
   ],
   "source": [
    "print(kG0_1.min())\n",
    "print(kG0_1.max())"
   ]
  },
  {
   "cell_type": "markdown",
   "metadata": {},
   "source": [
    "## Check with composipy"
   ]
  },
  {
   "cell_type": "code",
   "execution_count": null,
   "metadata": {},
   "outputs": [],
   "source": [
    "from composipy import Laminate, Ply, buckling_load"
   ]
  },
  {
   "cell_type": "code",
   "execution_count": null,
   "metadata": {},
   "outputs": [],
   "source": [
    "ply = Ply(E1, E2, v12, G12, t)\n",
    "layup_1 = [(45, ply),(0, ply),(0, ply),(45, ply),(0, ply),(0, ply),(45, ply)]\n",
    "laminate_1 = Laminate(layup_1)"
   ]
  },
  {
   "cell_type": "code",
   "execution_count": null,
   "metadata": {},
   "outputs": [],
   "source": [
    "load = buckling_load(a, b, laminate_1.D, shape_plot = False , eig = True, n=10)"
   ]
  },
  {
   "cell_type": "code",
   "execution_count": null,
   "metadata": {},
   "outputs": [
    {
     "data": {
      "text/plain": [
       "array([4.14270828e+00, 6.21522205e+00, 1.06650914e+01, 1.65710358e+01,\n",
       "       1.70242153e+01, 1.91554561e+01, 2.45809295e+01, 2.48385030e+01,\n",
       "       2.52623245e+01, 3.27636136e+01, 3.53001050e+01, 3.72839695e+01,\n",
       "       4.01613869e+01, 4.26490962e+01, 4.27935413e+01, 4.67661371e+01,\n",
       "       4.71871495e+01, 5.44108590e+01, 5.59663308e+01, 6.09072064e+01,\n",
       "       6.62675469e+01, 6.72164889e+01, 6.81862074e+01, 6.93560842e+01,\n",
       "       7.10330003e+01, 7.64561102e+01, 7.66218673e+01, 8.06194972e+01,\n",
       "       8.36422449e+01, 8.68293907e+01, 9.38431588e+01, 9.44488356e+01,\n",
       "       9.59106601e+01, 9.83663621e+01, 9.94734984e+01, 1.00992872e+02,\n",
       "       1.03585297e+02, 1.06783130e+02, 1.07936385e+02, 1.13012131e+02,\n",
       "       1.14423916e+02, 1.14554965e+02, 1.25606923e+02, 1.28759733e+02,\n",
       "       1.31058289e+02, 1.39329386e+02, 1.49151952e+02, 1.52444711e+02,\n",
       "       1.53256367e+02, 1.55402551e+02, 1.60648911e+02, 1.71172156e+02,\n",
       "       1.72395090e+02, 1.87014978e+02, 2.01935205e+02, 2.03008923e+02,\n",
       "       2.06428557e+02, 2.06951001e+02, 2.14931744e+02, 2.21277409e+02,\n",
       "       2.23195336e+02, 2.27246556e+02, 2.63319641e+02, 2.65149882e+02,\n",
       "       2.67699365e+02, 2.68677526e+02, 2.69037878e+02, 2.77420049e+02,\n",
       "       2.84131899e+02, 3.18920870e+02, 3.35578912e+02, 3.39164667e+02,\n",
       "       3.39331715e+02, 3.53687198e+02, 3.61325101e+02, 3.78175819e+02,\n",
       "       3.85130423e+02, 3.93373332e+02, 4.14390005e+02, 4.18123881e+02,\n",
       "       4.31882633e+02, 4.47033766e+02, 4.61077438e+02, 5.15257632e+02,\n",
       "       5.64204258e+02, 5.71986614e+02, 6.14844209e+02, 6.19423547e+02,\n",
       "       6.55999815e+02, 8.07729484e+02, 8.50807155e+02, 1.07078315e+03,\n",
       "       1.23729958e+03, 1.24650640e+03, 1.66278407e+03, 2.26724798e+03,\n",
       "       2.47766651e+03, 3.82151471e+03, 6.07059865e+03, 9.19734606e+03])"
      ]
     },
     "execution_count": 191,
     "metadata": {},
     "output_type": "execute_result"
    }
   ],
   "source": [
    "a = abs(load['eigen values'])\n",
    "a.sort()\n",
    "a"
   ]
  },
  {
   "cell_type": "code",
   "execution_count": null,
   "metadata": {},
   "outputs": [],
   "source": []
  },
  {
   "cell_type": "code",
   "execution_count": null,
   "metadata": {},
   "outputs": [],
   "source": []
  },
  {
   "cell_type": "code",
   "execution_count": null,
   "metadata": {},
   "outputs": [],
   "source": []
  },
  {
   "cell_type": "code",
   "execution_count": null,
   "metadata": {},
   "outputs": [],
   "source": []
  }
 ],
 "metadata": {
  "kernelspec": {
   "display_name": "Python 3 (ipykernel)",
   "language": "python",
   "name": "python3"
  },
  "language_info": {
   "codemirror_mode": {
    "name": "ipython",
    "version": 3
   },
   "file_extension": ".py",
   "mimetype": "text/x-python",
   "name": "python",
   "nbconvert_exporter": "python",
   "pygments_lexer": "ipython3",
   "version": "3.9.12"
  },
  "vscode": {
   "interpreter": {
    "hash": "c1590602456d7cb2bb11a9c056450b313acab0eb77422ae1a602feaa944934ec"
   }
  }
 },
 "nbformat": 4,
 "nbformat_minor": 2
}
