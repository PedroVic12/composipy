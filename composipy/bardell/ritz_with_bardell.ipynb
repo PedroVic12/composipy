{
 "cells": [
  {
   "cell_type": "code",
   "execution_count": 145,
   "metadata": {},
   "outputs": [],
   "source": [
    "import numpy as np\n",
    "import sympy as sp\n",
    "from scipy.linalg import eig"
   ]
  },
  {
   "cell_type": "code",
   "execution_count": 146,
   "metadata": {},
   "outputs": [],
   "source": [
    "#Properties (N and mm)\n",
    "E1 = 60800\n",
    "E2 = 58250\n",
    "v12 = 0.07\n",
    "G12 = 4550\n",
    "t = 0.21\n",
    "v21 = v12 * E2 / E1\n",
    "\n",
    "# Plate Parameters\n",
    "a = 360\n",
    "b = 360\n",
    "m = 4\n",
    "n = 4\n",
    "\n",
    "# Loads\n",
    "Nxx = -1\n",
    "Nyy = 0\n",
    "Nxy = 0"
   ]
  },
  {
   "cell_type": "code",
   "execution_count": 147,
   "metadata": {},
   "outputs": [],
   "source": [
    "#Boundary conditions\n",
    "u1tx = 1 ; u1rx = 1 ; u2tx = 0 ; u2rx = 1\n",
    "v1tx = 0 ; v1rx = 1 ; v2tx = 0 ; v2rx = 1\n",
    "w1tx = 0 ; w1rx = 1 ; w2tx = 0 ; w2rx = 1\n",
    "u1ty = 0 ; u1ry = 1 ; u2ty = 0 ; u2ry = 1\n",
    "v1ty = 0 ; v1ry = 1 ; v2ty = 0 ; v2ry = 1\n",
    "w1ty = 0 ; w1ry = 1 ; w2ty = 0 ; w2ry = 1\n",
    "\n",
    "\n",
    "#Boundary conditions\n",
    "u1tx = 1 ; u1rx = 1 ; u2tx = 1 ; u2rx = 1\n",
    "v1tx = 1 ; v1rx = 1 ; v2tx = 1 ; v2rx = 1\n",
    "w1tx = 1 ; w1rx = 1 ; w2tx = 1 ; w2rx = 1\n",
    "u1ty = 1 ; u1ry = 1 ; u2ty = 1 ; u2ry = 1\n",
    "v1ty = 1 ; v1ry = 1 ; v2ty = 1 ; v2ry = 1\n",
    "w1ty = 1 ; w1ry = 1 ; w2ty = 1 ; w2ry = 1\n"
   ]
  },
  {
   "cell_type": "markdown",
   "metadata": {},
   "source": [
    "**[Q] in the principal direction**  pg. 52 chap 2 of the three regions"
   ]
  },
  {
   "cell_type": "code",
   "execution_count": 148,
   "metadata": {},
   "outputs": [],
   "source": [
    "Q_0 = np.array([[E1/(1-v12*v21), v12*E2/(1-v12*v21), 0],\n",
    "                 [v12*E2/(1-v12*v21), E2/(1-v12*v21),0],\n",
    "                 [0, 0, G12]])"
   ]
  },
  {
   "cell_type": "markdown",
   "metadata": {},
   "source": [
    "**[Q] rotated in theta direction** pg. 53 and 54 of chap 2"
   ]
  },
  {
   "cell_type": "code",
   "execution_count": 149,
   "metadata": {},
   "outputs": [],
   "source": [
    "layup = [(45,'f'),(0,'f'),(0,'f'),(45,'f'),(0,'f'),(0,'f'),(45,'f')]\n",
    "Q_layup = []\n",
    "\n",
    "#Layup assembly\n",
    "for theta in layup:\n",
    "    c = np.cos(theta[0]*np.pi/180)\n",
    "    s = np.sin(theta[0]*np.pi/180)\n",
    "\n",
    "    T_real = np.array([[c**2, s**2, 2*c*s],\n",
    "                       [s**2, c**2, -2*c*s],\n",
    "                       [-c*s, c*s, c**2-s**2]])\n",
    "\n",
    "    T_engineering =  np.array([[c**2, s**2, c*s],\n",
    "                               [s**2, c**2, -c*s],\n",
    "                               [-2*c*s, 2*c*s, c**2-s**2]])\n",
    "\n",
    "\n",
    "    if theta[1] == 'f':\n",
    "        Q_layup.append((np.linalg.inv(T_real))@Q_0@T_engineering)\n"
   ]
  },
  {
   "cell_type": "markdown",
   "metadata": {},
   "source": [
    "**[A], [B], [D]** pg. 24 fo chap 4 of the three regions"
   ]
  },
  {
   "cell_type": "code",
   "execution_count": 150,
   "metadata": {},
   "outputs": [],
   "source": [
    "t_position = [-3.5*t, -2.5*t, -1.5*t, -0.5*t, 0.5*t, 1.5*t, 2.5*t, 3.5*t]\n",
    "\n",
    "A = np.zeros(9).reshape(3,3)\n",
    "B = np.zeros(9).reshape(3,3)\n",
    "D = np.zeros(9).reshape(3,3)\n",
    "\n",
    "for i in enumerate(Q_layup):\n",
    "    zk1 = t_position[i[0]+1]\n",
    "    zk0 = t_position[i[0]]\n",
    "    \n",
    "    A += (zk1 - zk0)*i[1]\n",
    "    B += (1/2)*(zk1**2 - zk0**2)*i[1]\n",
    "    D += (1/3)*(zk1**3 - zk0**3)*i[1]\n",
    "\n",
    "\n",
    "F = np.vstack([\n",
    "    np.hstack([A, B]),\n",
    "    np.hstack([B, D])\n",
    "])\n",
    "\n",
    "F = sp.Matrix(F)"
   ]
  },
  {
   "cell_type": "code",
   "execution_count": null,
   "metadata": {},
   "outputs": [],
   "source": []
  },
  {
   "cell_type": "markdown",
   "metadata": {},
   "source": [
    "### Rayleigh-Ritz formulation"
   ]
  },
  {
   "cell_type": "code",
   "execution_count": 151,
   "metadata": {},
   "outputs": [],
   "source": [
    "Ny = sp.symbols('Ny')\n",
    "xi, eta  = sp.symbols(['xi', 'eta'])"
   ]
  },
  {
   "cell_type": "code",
   "execution_count": 152,
   "metadata": {},
   "outputs": [
    {
     "data": {
      "text/latex": [
       "$\\displaystyle \\frac{\\xi^{4}}{8} - \\frac{\\xi^{2}}{4} + 0.125$"
      ],
      "text/plain": [
       "xi**4/8 - xi**2/4 + 0.125"
      ]
     },
     "execution_count": 152,
     "metadata": {},
     "output_type": "execute_result"
    }
   ],
   "source": [
    "xi**4/8 - xi**2/4 + 0.125"
   ]
  },
  {
   "cell_type": "code",
   "execution_count": 153,
   "metadata": {},
   "outputs": [],
   "source": [
    "# Bardell terms\n",
    "# Su\n",
    "uf_xi = {0: u1tx*(0.25*xi**3 - 0.75*xi + 0.5),\n",
    "        1: u1rx*(0.125*xi**3 - 0.125*xi**2 - 0.125*xi + 0.125),\n",
    "        2: u2tx*(-0.25*xi**3 + 0.75*xi + 0.5),\n",
    "        3: u2rx*(-1/8 - 1/8*xi + 1/8*xi**2 + 1/8*xi**3),\n",
    "        4: xi**4/8 - xi**2/4 + 0.125,\n",
    "        5: xi**5/8 - xi**3/4 + xi/8,\n",
    "        6: 7*xi**6/48 - 5*xi**4/16 + 3*xi**2/16 - 0.0208333333333333,\n",
    "        7: 3*xi**7/16 - 7*xi**5/16 + 5*xi**3/16 - xi/16,\n",
    "        8: 33*xi**8/128 - 21*xi**6/32 + 35*xi**4/64 - 5*xi**2/32 + 0.0078125,\n",
    "        9: 143*xi**9/384 - 33*xi**7/32 + 63*xi**5/64 - 35*xi**3/96 + 5*xi/128}\n",
    "\n",
    "uf_eta = {0: u1ty*(0.25*eta**3 - 0.75*eta + 0.5),\n",
    "        1: u1ry*(0.125*eta**3 - 0.125*eta**2 - 0.125*eta + 0.125),\n",
    "        2: u2ty*(-0.25*eta**3 + 0.75*eta + 0.5),\n",
    "        3: u2ry*(-1/8 - 1/8*xi + 1/8*xi**2 + 1/8*xi**3),\n",
    "        4: eta**4/8 - eta**2/4 + 0.125,\n",
    "        5: eta**5/8 - eta**3/4 + eta/8,\n",
    "        6: 7*eta**6/48 - 5*eta**4/16 + 3*eta**2/16 - 0.0208333333333333,\n",
    "        7: 3*eta**7/16 - 7*eta**5/16 + 5*eta**3/16 - eta/16,\n",
    "        8: 33*eta**8/128 - 21*eta**6/32 + 35*eta**4/64 - 5*eta**2/32 + 0.0078125,\n",
    "        9: 143*eta**9/384 - 33*eta**7/32 + 63*eta**5/64 - 35*eta**3/96 + 5*eta/128}\n",
    "\n",
    "# Sv\n",
    "vf_xi = {0: v1tx*(0.25*xi**3 - 0.75*xi + 0.5),\n",
    "        1: v1rx*(0.125*xi**3 - 0.125*xi**2 - 0.125*xi + 0.125),\n",
    "        2: v2tx*(-0.25*xi**3 + 0.75*xi + 0.5),\n",
    "        3: v2rx*(-1/8 - 1/8*xi + 1/8*xi**2 + 1/8*xi**3),\n",
    "        4: xi**4/8 - xi**2/4 + 0.125,\n",
    "        5: xi**5/8 - xi**3/4 + xi/8,\n",
    "        6: 7*xi**6/48 - 5*xi**4/16 + 3*xi**2/16 - 0.0208333333333333,\n",
    "        7: 3*xi**7/16 - 7*xi**5/16 + 5*xi**3/16 - xi/16,\n",
    "        8: 33*xi**8/128 - 21*xi**6/32 + 35*xi**4/64 - 5*xi**2/32 + 0.0078125,\n",
    "        9: 143*xi**9/384 - 33*xi**7/32 + 63*xi**5/64 - 35*xi**3/96 + 5*xi/128}\n",
    "\n",
    "vf_eta = {0: v1ty*(0.25*eta**3 - 0.75*eta + 0.5),\n",
    "        1: v1ry*(0.125*eta**3 - 0.125*eta**2 - 0.125*eta + 0.125),\n",
    "        2: v2ty*(-0.25*eta**3 + 0.75*eta + 0.5),\n",
    "        3: v2ry*(-1/8 - 1/8*xi + 1/8*xi**2 + 1/8*xi**3),\n",
    "        4: eta**4/8 - eta**2/4 + 0.125,\n",
    "        5: eta**5/8 - eta**3/4 + eta/8,\n",
    "        6: 7*eta**6/48 - 5*eta**4/16 + 3*eta**2/16 - 0.0208333333333333,\n",
    "        7: 3*eta**7/16 - 7*eta**5/16 + 5*eta**3/16 - eta/16,\n",
    "        8: 33*eta**8/128 - 21*eta**6/32 + 35*eta**4/64 - 5*eta**2/32 + 0.0078125,\n",
    "        9: 143*eta**9/384 - 33*eta**7/32 + 63*eta**5/64 - 35*eta**3/96 + 5*eta/128}\n",
    "\n",
    "#Sw\n",
    "wf_xi = {0: w1tx*(0.25*xi**3 - 0.75*xi + 0.5),\n",
    "        1: w1rx*(0.125*xi**3 - 0.125*xi**2 - 0.125*xi + 0.125),\n",
    "        2: w2tx*(-0.25*xi**3 + 0.75*xi + 0.5),\n",
    "        3: w2rx*(-1/8 - 1/8*xi + 1/8*xi**2 + 1/8*xi**3),\n",
    "        4: xi**4/8 - xi**2/4 + 0.125,\n",
    "        5: xi**5/8 - xi**3/4 + xi/8,\n",
    "        6: 7*xi**6/48 - 5*xi**4/16 + 3*xi**2/16 - 0.0208333333333333,\n",
    "        7: 3*xi**7/16 - 7*xi**5/16 + 5*xi**3/16 - xi/16,\n",
    "        8: 33*xi**8/128 - 21*xi**6/32 + 35*xi**4/64 - 5*xi**2/32 + 0.0078125,\n",
    "        9: 143*xi**9/384 - 33*xi**7/32 + 63*xi**5/64 - 35*xi**3/96 + 5*xi/128}\n",
    "\n",
    "wf_eta = {0: w1ty*(0.25*eta**3 - 0.75*eta + 0.5),\n",
    "        1: w1ry*(0.125*eta**3 - 0.125*eta**2 - 0.125*eta + 0.125),\n",
    "        2: w2ty*(-0.25*eta**3 + 0.75*eta + 0.5),\n",
    "        3: w2ry*(-1/8 - 1/8*xi + 1/8*xi**2 + 1/8*xi**3),\n",
    "        4: eta**4/8 - eta**2/4 + 0.125,\n",
    "        5: eta**5/8 - eta**3/4 + eta/8,\n",
    "        6: 7*eta**6/48 - 5*eta**4/16 + 3*eta**2/16 - 0.0208333333333333,\n",
    "        7: 3*eta**7/16 - 7*eta**5/16 + 5*eta**3/16 - eta/16,\n",
    "        8: 33*eta**8/128 - 21*eta**6/32 + 35*eta**4/64 - 5*eta**2/32 + 0.0078125,\n",
    "        9: 143*eta**9/384 - 33*eta**7/32 + 63*eta**5/64 - 35*eta**3/96 + 5*eta/128}"
   ]
  },
  {
   "cell_type": "code",
   "execution_count": 159,
   "metadata": {},
   "outputs": [],
   "source": [
    "Su, Sv, Sw = [[]], [[]], [[]]\n",
    "\n",
    "for i in range(m):\n",
    "    for j in range(n):\n",
    "        Su[0].append(uf_xi[i]*uf_eta[j])\n",
    "        Sv[0].append(vf_xi[i]*vf_eta[j])\n",
    "        Sw[0].append(wf_xi[i]*wf_eta[j])\n",
    "Su, Sv, Sw = sp.Matrix(Su), sp.Matrix(Sv), sp.Matrix(Sw)\n",
    "\n",
    "\n",
    "B0_11 = np.array((2/a) * sp.diff(Su, xi))\n",
    "B0_22 = np.array((2/b) * sp.diff(Sv, eta))\n",
    "B0_31 = np.array((2/b)*sp.diff(Su, eta))\n",
    "B0_32 = np.array((2/a)*sp.diff(Sv, xi))\n",
    "B0_43 = np.array(-(4/a**2) * sp.diff(Sw, xi, xi))\n",
    "B0_53 = np.array(-(4/b**2) * sp.diff(Sw, eta, eta))\n",
    "B0_63 = np.array(-2*(4/(a*b)) * sp.diff(Sw, xi, eta))\n",
    "Z = np.zeros(m*n).reshape(1, m*n)\n",
    "\n",
    "B0_kappa = sp.Matrix([\n",
    "    np.hstack([*B0_11, *Z, *Z]),\n",
    "    np.hstack([*Z, *B0_22, *Z]),\n",
    "    np.hstack([*B0_31, *B0_32, *Z]),\n",
    "    np.hstack([*Z, *Z, *B0_43]),\n",
    "    np.hstack([*Z, *Z, *B0_53]),\n",
    "    np.hstack([*Z, *Z, *B0_63])\n",
    "])\n",
    "\n",
    "\n",
    "F = sp.Matrix(F)\n",
    "\n",
    "\n",
    "G = sp.Matrix([\n",
    "    np.hstack([*Z, *Z, *sp.diff(Sw, xi)*(2/a)]),\n",
    "    np.hstack([*Z, *Z, *sp.diff(Sw, eta)*(2/b)])\n",
    " ])\n",
    "\n",
    "\n",
    "G = sp.Matrix([\n",
    "    np.hstack([*sp.diff(Sw, xi)*(2/a)]),\n",
    "    np.hstack([*sp.diff(Sw, eta)*(2/b)])\n",
    " ])\n",
    "\n",
    "     \n",
    "\n",
    "G = sp.Matrix(G)\n",
    "\n",
    "N = sp.Matrix([[Nxx, Nxy],\n",
    "                [Nxy, Nyy]])"
   ]
  },
  {
   "cell_type": "code",
   "execution_count": 160,
   "metadata": {},
   "outputs": [
    {
     "data": {
      "text/plain": [
       "(2, 16)"
      ]
     },
     "execution_count": 160,
     "metadata": {},
     "output_type": "execute_result"
    }
   ],
   "source": [
    "G.shape"
   ]
  },
  {
   "cell_type": "code",
   "execution_count": 161,
   "metadata": {},
   "outputs": [],
   "source": [
    "KG = sp.integrate(\n",
    "     sp.integrate(\n",
    "        G.T * N * G, (xi, -1, 1)), (eta, -1, 1)\n",
    ") * (a*b/4)\n",
    "\n",
    "KG = np.array(KG, dtype=np.longdouble)"
   ]
  },
  {
   "cell_type": "code",
   "execution_count": 162,
   "metadata": {},
   "outputs": [
    {
     "name": "stdout",
     "output_type": "stream",
     "text": [
      "(16, 16)\n",
      "-0.44571428571428584\n",
      "0.44571428571428584\n"
     ]
    }
   ],
   "source": [
    "print(KG.shape)\n",
    "print(KG.min())\n",
    "print(KG.max())"
   ]
  },
  {
   "cell_type": "code",
   "execution_count": 123,
   "metadata": {},
   "outputs": [
    {
     "ename": "KeyboardInterrupt",
     "evalue": "",
     "output_type": "error",
     "traceback": [
      "\u001b[1;31m---------------------------------------------------------------------------\u001b[0m",
      "\u001b[1;31mKeyboardInterrupt\u001b[0m                         Traceback (most recent call last)",
      "\u001b[1;32md:\\repositories\\composipy\\composipy\\bardell\\ritz_with_bardell.ipynb Cell 19\u001b[0m in \u001b[0;36m<cell line: 1>\u001b[1;34m()\u001b[0m\n\u001b[0;32m      <a href='vscode-notebook-cell:/d%3A/repositories/composipy/composipy/bardell/ritz_with_bardell.ipynb#X24sZmlsZQ%3D%3D?line=0'>1</a>\u001b[0m K \u001b[39m=\u001b[39m sp\u001b[39m.\u001b[39mintegrate(\n\u001b[1;32m----> <a href='vscode-notebook-cell:/d%3A/repositories/composipy/composipy/bardell/ritz_with_bardell.ipynb#X24sZmlsZQ%3D%3D?line=1'>2</a>\u001b[0m     sp\u001b[39m.\u001b[39;49mintegrate(\n\u001b[0;32m      <a href='vscode-notebook-cell:/d%3A/repositories/composipy/composipy/bardell/ritz_with_bardell.ipynb#X24sZmlsZQ%3D%3D?line=2'>3</a>\u001b[0m         B0_kappa\u001b[39m.\u001b[39;49mT \u001b[39m*\u001b[39;49m F \u001b[39m*\u001b[39;49m B0_kappa, (xi, \u001b[39m-\u001b[39;49m\u001b[39m1\u001b[39;49m, \u001b[39m1\u001b[39;49m)), (eta, \u001b[39m-\u001b[39m\u001b[39m1\u001b[39m, \u001b[39m1\u001b[39m)\n\u001b[0;32m      <a href='vscode-notebook-cell:/d%3A/repositories/composipy/composipy/bardell/ritz_with_bardell.ipynb#X24sZmlsZQ%3D%3D?line=3'>4</a>\u001b[0m ) \u001b[39m*\u001b[39m (a\u001b[39m*\u001b[39mb\u001b[39m/\u001b[39m\u001b[39m4\u001b[39m)\n\u001b[0;32m      <a href='vscode-notebook-cell:/d%3A/repositories/composipy/composipy/bardell/ritz_with_bardell.ipynb#X24sZmlsZQ%3D%3D?line=5'>6</a>\u001b[0m K \u001b[39m=\u001b[39m np\u001b[39m.\u001b[39marray(K, dtype\u001b[39m=\u001b[39mnp\u001b[39m.\u001b[39mlongdouble)\n",
      "File \u001b[1;32md:\\programs\\Anaconda3\\lib\\site-packages\\sympy\\integrals\\integrals.py:1566\u001b[0m, in \u001b[0;36mintegrate\u001b[1;34m(meijerg, conds, risch, heurisch, manual, *args, **kwargs)\u001b[0m\n\u001b[0;32m   1563\u001b[0m integral \u001b[39m=\u001b[39m Integral(\u001b[39m*\u001b[39margs, \u001b[39m*\u001b[39m\u001b[39m*\u001b[39mkwargs)\n\u001b[0;32m   1565\u001b[0m \u001b[39mif\u001b[39;00m \u001b[39misinstance\u001b[39m(integral, Integral):\n\u001b[1;32m-> 1566\u001b[0m     \u001b[39mreturn\u001b[39;00m integral\u001b[39m.\u001b[39mdoit(\u001b[39m*\u001b[39m\u001b[39m*\u001b[39mdoit_flags)\n\u001b[0;32m   1567\u001b[0m \u001b[39melse\u001b[39;00m:\n\u001b[0;32m   1568\u001b[0m     new_args \u001b[39m=\u001b[39m [a\u001b[39m.\u001b[39mdoit(\u001b[39m*\u001b[39m\u001b[39m*\u001b[39mdoit_flags) \u001b[39mif\u001b[39;00m \u001b[39misinstance\u001b[39m(a, Integral) \u001b[39melse\u001b[39;00m a\n\u001b[0;32m   1569\u001b[0m         \u001b[39mfor\u001b[39;00m a \u001b[39min\u001b[39;00m integral\u001b[39m.\u001b[39margs]\n",
      "File \u001b[1;32md:\\programs\\Anaconda3\\lib\\site-packages\\sympy\\integrals\\integrals.py:458\u001b[0m, in \u001b[0;36mIntegral.doit\u001b[1;34m(self, **hints)\u001b[0m\n\u001b[0;32m    456\u001b[0m \u001b[39m# hacks to handle special cases\u001b[39;00m\n\u001b[0;32m    457\u001b[0m \u001b[39mif\u001b[39;00m \u001b[39misinstance\u001b[39m(function, MatrixBase):\n\u001b[1;32m--> 458\u001b[0m     \u001b[39mreturn\u001b[39;00m function\u001b[39m.\u001b[39;49mapplyfunc(\n\u001b[0;32m    459\u001b[0m         \u001b[39mlambda\u001b[39;49;00m f: \u001b[39mself\u001b[39;49m\u001b[39m.\u001b[39;49mfunc(f, \u001b[39mself\u001b[39;49m\u001b[39m.\u001b[39;49mlimits)\u001b[39m.\u001b[39;49mdoit(\u001b[39m*\u001b[39;49m\u001b[39m*\u001b[39;49mhints))\n\u001b[0;32m    461\u001b[0m \u001b[39mif\u001b[39;00m \u001b[39misinstance\u001b[39m(function, FormalPowerSeries):\n\u001b[0;32m    462\u001b[0m     \u001b[39mif\u001b[39;00m \u001b[39mlen\u001b[39m(\u001b[39mself\u001b[39m\u001b[39m.\u001b[39mlimits) \u001b[39m>\u001b[39m \u001b[39m1\u001b[39m:\n",
      "File \u001b[1;32md:\\programs\\Anaconda3\\lib\\site-packages\\sympy\\matrices\\common.py:2061\u001b[0m, in \u001b[0;36mMatrixOperations.applyfunc\u001b[1;34m(self, f)\u001b[0m\n\u001b[0;32m   2058\u001b[0m \u001b[39mif\u001b[39;00m \u001b[39mnot\u001b[39;00m callable(f):\n\u001b[0;32m   2059\u001b[0m     \u001b[39mraise\u001b[39;00m \u001b[39mTypeError\u001b[39;00m(\u001b[39m\"\u001b[39m\u001b[39m`f` must be callable.\u001b[39m\u001b[39m\"\u001b[39m)\n\u001b[1;32m-> 2061\u001b[0m \u001b[39mreturn\u001b[39;00m \u001b[39mself\u001b[39;49m\u001b[39m.\u001b[39;49m_eval_applyfunc(f)\n",
      "File \u001b[1;32md:\\programs\\Anaconda3\\lib\\site-packages\\sympy\\matrices\\common.py:2001\u001b[0m, in \u001b[0;36mMatrixOperations._eval_applyfunc\u001b[1;34m(self, f)\u001b[0m\n\u001b[0;32m   2000\u001b[0m \u001b[39mdef\u001b[39;00m \u001b[39m_eval_applyfunc\u001b[39m(\u001b[39mself\u001b[39m, f):\n\u001b[1;32m-> 2001\u001b[0m     out \u001b[39m=\u001b[39m \u001b[39mself\u001b[39m\u001b[39m.\u001b[39m_new(\u001b[39mself\u001b[39m\u001b[39m.\u001b[39mrows, \u001b[39mself\u001b[39m\u001b[39m.\u001b[39mcols, [f(x) \u001b[39mfor\u001b[39;00m x \u001b[39min\u001b[39;00m \u001b[39mself\u001b[39m])\n\u001b[0;32m   2002\u001b[0m     \u001b[39mreturn\u001b[39;00m out\n",
      "File \u001b[1;32md:\\programs\\Anaconda3\\lib\\site-packages\\sympy\\matrices\\common.py:2001\u001b[0m, in \u001b[0;36m<listcomp>\u001b[1;34m(.0)\u001b[0m\n\u001b[0;32m   2000\u001b[0m \u001b[39mdef\u001b[39;00m \u001b[39m_eval_applyfunc\u001b[39m(\u001b[39mself\u001b[39m, f):\n\u001b[1;32m-> 2001\u001b[0m     out \u001b[39m=\u001b[39m \u001b[39mself\u001b[39m\u001b[39m.\u001b[39m_new(\u001b[39mself\u001b[39m\u001b[39m.\u001b[39mrows, \u001b[39mself\u001b[39m\u001b[39m.\u001b[39mcols, [f(x) \u001b[39mfor\u001b[39;00m x \u001b[39min\u001b[39;00m \u001b[39mself\u001b[39m])\n\u001b[0;32m   2002\u001b[0m     \u001b[39mreturn\u001b[39;00m out\n",
      "File \u001b[1;32md:\\programs\\Anaconda3\\lib\\site-packages\\sympy\\integrals\\integrals.py:459\u001b[0m, in \u001b[0;36mIntegral.doit.<locals>.<lambda>\u001b[1;34m(f)\u001b[0m\n\u001b[0;32m    456\u001b[0m \u001b[39m# hacks to handle special cases\u001b[39;00m\n\u001b[0;32m    457\u001b[0m \u001b[39mif\u001b[39;00m \u001b[39misinstance\u001b[39m(function, MatrixBase):\n\u001b[0;32m    458\u001b[0m     \u001b[39mreturn\u001b[39;00m function\u001b[39m.\u001b[39mapplyfunc(\n\u001b[1;32m--> 459\u001b[0m         \u001b[39mlambda\u001b[39;00m f: \u001b[39mself\u001b[39m\u001b[39m.\u001b[39mfunc(f, \u001b[39mself\u001b[39m\u001b[39m.\u001b[39mlimits)\u001b[39m.\u001b[39mdoit(\u001b[39m*\u001b[39m\u001b[39m*\u001b[39mhints))\n\u001b[0;32m    461\u001b[0m \u001b[39mif\u001b[39;00m \u001b[39misinstance\u001b[39m(function, FormalPowerSeries):\n\u001b[0;32m    462\u001b[0m     \u001b[39mif\u001b[39;00m \u001b[39mlen\u001b[39m(\u001b[39mself\u001b[39m\u001b[39m.\u001b[39mlimits) \u001b[39m>\u001b[39m \u001b[39m1\u001b[39m:\n",
      "File \u001b[1;32md:\\programs\\Anaconda3\\lib\\site-packages\\sympy\\integrals\\integrals.py:500\u001b[0m, in \u001b[0;36mIntegral.doit\u001b[1;34m(self, **hints)\u001b[0m\n\u001b[0;32m    498\u001b[0m \u001b[39mif\u001b[39;00m reps:\n\u001b[0;32m    499\u001b[0m     undo \u001b[39m=\u001b[39m {v: k \u001b[39mfor\u001b[39;00m k, v \u001b[39min\u001b[39;00m reps\u001b[39m.\u001b[39mitems()}\n\u001b[1;32m--> 500\u001b[0m     did \u001b[39m=\u001b[39m \u001b[39mself\u001b[39m\u001b[39m.\u001b[39mxreplace(reps)\u001b[39m.\u001b[39mdoit(\u001b[39m*\u001b[39m\u001b[39m*\u001b[39mhints)\n\u001b[0;32m    501\u001b[0m     \u001b[39mif\u001b[39;00m \u001b[39misinstance\u001b[39m(did, \u001b[39mtuple\u001b[39m):  \u001b[39m# when separate=True\u001b[39;00m\n\u001b[0;32m    502\u001b[0m         did \u001b[39m=\u001b[39m \u001b[39mtuple\u001b[39m([i\u001b[39m.\u001b[39mxreplace(undo) \u001b[39mfor\u001b[39;00m i \u001b[39min\u001b[39;00m did])\n",
      "File \u001b[1;32md:\\programs\\Anaconda3\\lib\\site-packages\\sympy\\integrals\\integrals.py:613\u001b[0m, in \u001b[0;36mIntegral.doit\u001b[1;34m(self, **hints)\u001b[0m\n\u001b[0;32m    611\u001b[0m     antideriv \u001b[39m=\u001b[39m \u001b[39mNone\u001b[39;00m\n\u001b[0;32m    612\u001b[0m \u001b[39melse\u001b[39;00m:\n\u001b[1;32m--> 613\u001b[0m     antideriv \u001b[39m=\u001b[39m \u001b[39mself\u001b[39m\u001b[39m.\u001b[39m_eval_integral(\n\u001b[0;32m    614\u001b[0m         function, xab[\u001b[39m0\u001b[39m], \u001b[39m*\u001b[39m\u001b[39m*\u001b[39meval_kwargs)\n\u001b[0;32m    615\u001b[0m     \u001b[39mif\u001b[39;00m antideriv \u001b[39mis\u001b[39;00m \u001b[39mNone\u001b[39;00m \u001b[39mand\u001b[39;00m meijerg \u001b[39mis\u001b[39;00m \u001b[39mTrue\u001b[39;00m:\n\u001b[0;32m    616\u001b[0m         ret \u001b[39m=\u001b[39m try_meijerg(function, xab)\n",
      "File \u001b[1;32md:\\programs\\Anaconda3\\lib\\site-packages\\sympy\\integrals\\integrals.py:950\u001b[0m, in \u001b[0;36mIntegral._eval_integral\u001b[1;34m(self, f, x, meijerg, risch, manual, heurisch, conds, final)\u001b[0m\n\u001b[0;32m    947\u001b[0m     \u001b[39mreturn\u001b[39;00m f\u001b[39m*\u001b[39mx\n\u001b[0;32m    949\u001b[0m \u001b[39m# try to convert to poly(x) and then integrate if successful (fast)\u001b[39;00m\n\u001b[1;32m--> 950\u001b[0m poly \u001b[39m=\u001b[39m f\u001b[39m.\u001b[39;49mas_poly(x)\n\u001b[0;32m    951\u001b[0m \u001b[39mif\u001b[39;00m poly \u001b[39mis\u001b[39;00m \u001b[39mnot\u001b[39;00m \u001b[39mNone\u001b[39;00m \u001b[39mand\u001b[39;00m \u001b[39mnot\u001b[39;00m (manual \u001b[39mor\u001b[39;00m meijerg \u001b[39mor\u001b[39;00m risch):\n\u001b[0;32m    952\u001b[0m     \u001b[39mreturn\u001b[39;00m poly\u001b[39m.\u001b[39mintegrate()\u001b[39m.\u001b[39mas_expr()\n",
      "File \u001b[1;32md:\\programs\\Anaconda3\\lib\\site-packages\\sympy\\core\\expr.py:1116\u001b[0m, in \u001b[0;36mExpr.as_poly\u001b[1;34m(self, *gens, **args)\u001b[0m\n\u001b[0;32m   1113\u001b[0m \u001b[39mfrom\u001b[39;00m \u001b[39msympy\u001b[39;00m\u001b[39m.\u001b[39;00m\u001b[39mpolys\u001b[39;00m\u001b[39m.\u001b[39;00m\u001b[39mpolytools\u001b[39;00m \u001b[39mimport\u001b[39;00m Poly\n\u001b[0;32m   1115\u001b[0m \u001b[39mtry\u001b[39;00m:\n\u001b[1;32m-> 1116\u001b[0m     poly \u001b[39m=\u001b[39m Poly(\u001b[39mself\u001b[39m, \u001b[39m*\u001b[39mgens, \u001b[39m*\u001b[39m\u001b[39m*\u001b[39margs)\n\u001b[0;32m   1118\u001b[0m     \u001b[39mif\u001b[39;00m \u001b[39mnot\u001b[39;00m poly\u001b[39m.\u001b[39mis_Poly:\n\u001b[0;32m   1119\u001b[0m         \u001b[39mreturn\u001b[39;00m \u001b[39mNone\u001b[39;00m\n",
      "File \u001b[1;32md:\\programs\\Anaconda3\\lib\\site-packages\\sympy\\polys\\polytools.py:181\u001b[0m, in \u001b[0;36mPoly.__new__\u001b[1;34m(cls, rep, *gens, **args)\u001b[0m\n\u001b[0;32m    179\u001b[0m     \u001b[39mreturn\u001b[39;00m \u001b[39mcls\u001b[39m\u001b[39m.\u001b[39m_from_poly(rep, opt)\n\u001b[0;32m    180\u001b[0m \u001b[39melse\u001b[39;00m:\n\u001b[1;32m--> 181\u001b[0m     \u001b[39mreturn\u001b[39;00m \u001b[39mcls\u001b[39;49m\u001b[39m.\u001b[39;49m_from_expr(rep, opt)\n",
      "File \u001b[1;32md:\\programs\\Anaconda3\\lib\\site-packages\\sympy\\polys\\polytools.py:310\u001b[0m, in \u001b[0;36mPoly._from_expr\u001b[1;34m(cls, rep, opt)\u001b[0m\n\u001b[0;32m    307\u001b[0m \u001b[39m@classmethod\u001b[39m\n\u001b[0;32m    308\u001b[0m \u001b[39mdef\u001b[39;00m \u001b[39m_from_expr\u001b[39m(\u001b[39mcls\u001b[39m, rep, opt):\n\u001b[0;32m    309\u001b[0m     \u001b[39m\"\"\"Construct a polynomial from an expression. \"\"\"\u001b[39;00m\n\u001b[1;32m--> 310\u001b[0m     rep, opt \u001b[39m=\u001b[39m _dict_from_expr(rep, opt)\n\u001b[0;32m    311\u001b[0m     \u001b[39mreturn\u001b[39;00m \u001b[39mcls\u001b[39m\u001b[39m.\u001b[39m_from_dict(rep, opt)\n",
      "File \u001b[1;32md:\\programs\\Anaconda3\\lib\\site-packages\\sympy\\polys\\polyutils.py:357\u001b[0m, in \u001b[0;36m_dict_from_expr\u001b[1;34m(expr, opt)\u001b[0m\n\u001b[0;32m    355\u001b[0m \u001b[39mif\u001b[39;00m \u001b[39mnot\u001b[39;00m \u001b[39misinstance\u001b[39m(expr, (Expr, Eq)):\n\u001b[0;32m    356\u001b[0m     \u001b[39mraise\u001b[39;00m PolynomialError(\u001b[39m'\u001b[39m\u001b[39mexpression must be of type Expr\u001b[39m\u001b[39m'\u001b[39m)\n\u001b[1;32m--> 357\u001b[0m expr \u001b[39m=\u001b[39m expr\u001b[39m.\u001b[39;49mexpand()\n\u001b[0;32m    358\u001b[0m \u001b[39m# TODO: Integrate this into expand() itself\u001b[39;00m\n\u001b[0;32m    359\u001b[0m \u001b[39mwhile\u001b[39;00m \u001b[39many\u001b[39m(_is_expandable_pow(i) \u001b[39mor\u001b[39;00m i\u001b[39m.\u001b[39mis_Mul \u001b[39mand\u001b[39;00m\n\u001b[0;32m    360\u001b[0m     \u001b[39many\u001b[39m(_is_expandable_pow(j) \u001b[39mfor\u001b[39;00m j \u001b[39min\u001b[39;00m i\u001b[39m.\u001b[39margs) \u001b[39mfor\u001b[39;00m i \u001b[39min\u001b[39;00m\n\u001b[0;32m    361\u001b[0m         Add\u001b[39m.\u001b[39mmake_args(expr)):\n",
      "File \u001b[1;32md:\\programs\\Anaconda3\\lib\\site-packages\\sympy\\core\\cache.py:70\u001b[0m, in \u001b[0;36m__cacheit.<locals>.func_wrapper.<locals>.wrapper\u001b[1;34m(*args, **kwargs)\u001b[0m\n\u001b[0;32m     67\u001b[0m \u001b[39m@wraps\u001b[39m(func)\n\u001b[0;32m     68\u001b[0m \u001b[39mdef\u001b[39;00m \u001b[39mwrapper\u001b[39m(\u001b[39m*\u001b[39margs, \u001b[39m*\u001b[39m\u001b[39m*\u001b[39mkwargs):\n\u001b[0;32m     69\u001b[0m     \u001b[39mtry\u001b[39;00m:\n\u001b[1;32m---> 70\u001b[0m         retval \u001b[39m=\u001b[39m cfunc(\u001b[39m*\u001b[39margs, \u001b[39m*\u001b[39m\u001b[39m*\u001b[39mkwargs)\n\u001b[0;32m     71\u001b[0m     \u001b[39mexcept\u001b[39;00m \u001b[39mTypeError\u001b[39;00m \u001b[39mas\u001b[39;00m e:\n\u001b[0;32m     72\u001b[0m         \u001b[39mif\u001b[39;00m \u001b[39mnot\u001b[39;00m e\u001b[39m.\u001b[39margs \u001b[39mor\u001b[39;00m \u001b[39mnot\u001b[39;00m e\u001b[39m.\u001b[39margs[\u001b[39m0\u001b[39m]\u001b[39m.\u001b[39mstartswith(\u001b[39m'\u001b[39m\u001b[39munhashable type:\u001b[39m\u001b[39m'\u001b[39m):\n",
      "File \u001b[1;32md:\\programs\\Anaconda3\\lib\\site-packages\\sympy\\core\\expr.py:3624\u001b[0m, in \u001b[0;36mExpr.expand\u001b[1;34m(self, deep, modulus, power_base, power_exp, mul, log, multinomial, basic, **hints)\u001b[0m\n\u001b[0;32m   3622\u001b[0m     \u001b[39mif\u001b[39;00m use_hint:\n\u001b[0;32m   3623\u001b[0m         hint \u001b[39m=\u001b[39m \u001b[39m'\u001b[39m\u001b[39m_eval_expand_\u001b[39m\u001b[39m'\u001b[39m \u001b[39m+\u001b[39m hint\n\u001b[1;32m-> 3624\u001b[0m         expr, hit \u001b[39m=\u001b[39m Expr\u001b[39m.\u001b[39m_expand_hint(expr, hint, deep\u001b[39m=\u001b[39mdeep, \u001b[39m*\u001b[39m\u001b[39m*\u001b[39mhints)\n\u001b[0;32m   3626\u001b[0m \u001b[39mwhile\u001b[39;00m \u001b[39mTrue\u001b[39;00m:\n\u001b[0;32m   3627\u001b[0m     was \u001b[39m=\u001b[39m expr\n",
      "File \u001b[1;32md:\\programs\\Anaconda3\\lib\\site-packages\\sympy\\core\\expr.py:3557\u001b[0m, in \u001b[0;36mExpr._expand_hint\u001b[1;34m(expr, hint, deep, **hints)\u001b[0m\n\u001b[0;32m   3555\u001b[0m sargs \u001b[39m=\u001b[39m []\n\u001b[0;32m   3556\u001b[0m \u001b[39mfor\u001b[39;00m arg \u001b[39min\u001b[39;00m expr\u001b[39m.\u001b[39margs:\n\u001b[1;32m-> 3557\u001b[0m     arg, arghit \u001b[39m=\u001b[39m Expr\u001b[39m.\u001b[39m_expand_hint(arg, hint, \u001b[39m*\u001b[39m\u001b[39m*\u001b[39mhints)\n\u001b[0;32m   3558\u001b[0m     hit \u001b[39m|\u001b[39m\u001b[39m=\u001b[39m arghit\n\u001b[0;32m   3559\u001b[0m     sargs\u001b[39m.\u001b[39mappend(arg)\n",
      "File \u001b[1;32md:\\programs\\Anaconda3\\lib\\site-packages\\sympy\\core\\expr.py:3557\u001b[0m, in \u001b[0;36mExpr._expand_hint\u001b[1;34m(expr, hint, deep, **hints)\u001b[0m\n\u001b[0;32m   3555\u001b[0m sargs \u001b[39m=\u001b[39m []\n\u001b[0;32m   3556\u001b[0m \u001b[39mfor\u001b[39;00m arg \u001b[39min\u001b[39;00m expr\u001b[39m.\u001b[39margs:\n\u001b[1;32m-> 3557\u001b[0m     arg, arghit \u001b[39m=\u001b[39m Expr\u001b[39m.\u001b[39m_expand_hint(arg, hint, \u001b[39m*\u001b[39m\u001b[39m*\u001b[39mhints)\n\u001b[0;32m   3558\u001b[0m     hit \u001b[39m|\u001b[39m\u001b[39m=\u001b[39m arghit\n\u001b[0;32m   3559\u001b[0m     sargs\u001b[39m.\u001b[39mappend(arg)\n",
      "File \u001b[1;32md:\\programs\\Anaconda3\\lib\\site-packages\\sympy\\core\\expr.py:3565\u001b[0m, in \u001b[0;36mExpr._expand_hint\u001b[1;34m(expr, hint, deep, **hints)\u001b[0m\n\u001b[0;32m   3562\u001b[0m         expr \u001b[39m=\u001b[39m expr\u001b[39m.\u001b[39mfunc(\u001b[39m*\u001b[39msargs)\n\u001b[0;32m   3564\u001b[0m \u001b[39mif\u001b[39;00m \u001b[39mhasattr\u001b[39m(expr, hint):\n\u001b[1;32m-> 3565\u001b[0m     newexpr \u001b[39m=\u001b[39m \u001b[39mgetattr\u001b[39m(expr, hint)(\u001b[39m*\u001b[39m\u001b[39m*\u001b[39mhints)\n\u001b[0;32m   3566\u001b[0m     \u001b[39mif\u001b[39;00m newexpr \u001b[39m!=\u001b[39m expr:\n\u001b[0;32m   3567\u001b[0m         \u001b[39mreturn\u001b[39;00m (newexpr, \u001b[39mTrue\u001b[39;00m)\n",
      "File \u001b[1;32md:\\programs\\Anaconda3\\lib\\site-packages\\sympy\\core\\mul.py:981\u001b[0m, in \u001b[0;36mMul._eval_expand_mul\u001b[1;34m(self, **hints)\u001b[0m\n\u001b[0;32m    979\u001b[0m             t \u001b[39m=\u001b[39m t\u001b[39m.\u001b[39m_eval_expand_mul()\n\u001b[0;32m    980\u001b[0m         args\u001b[39m.\u001b[39mappend(t)\n\u001b[1;32m--> 981\u001b[0m     \u001b[39mreturn\u001b[39;00m Add(\u001b[39m*\u001b[39;49margs)\n\u001b[0;32m    982\u001b[0m \u001b[39melse\u001b[39;00m:\n\u001b[0;32m    983\u001b[0m     \u001b[39mreturn\u001b[39;00m plain\n",
      "File \u001b[1;32md:\\programs\\Anaconda3\\lib\\site-packages\\sympy\\core\\cache.py:70\u001b[0m, in \u001b[0;36m__cacheit.<locals>.func_wrapper.<locals>.wrapper\u001b[1;34m(*args, **kwargs)\u001b[0m\n\u001b[0;32m     67\u001b[0m \u001b[39m@wraps\u001b[39m(func)\n\u001b[0;32m     68\u001b[0m \u001b[39mdef\u001b[39;00m \u001b[39mwrapper\u001b[39m(\u001b[39m*\u001b[39margs, \u001b[39m*\u001b[39m\u001b[39m*\u001b[39mkwargs):\n\u001b[0;32m     69\u001b[0m     \u001b[39mtry\u001b[39;00m:\n\u001b[1;32m---> 70\u001b[0m         retval \u001b[39m=\u001b[39m cfunc(\u001b[39m*\u001b[39margs, \u001b[39m*\u001b[39m\u001b[39m*\u001b[39mkwargs)\n\u001b[0;32m     71\u001b[0m     \u001b[39mexcept\u001b[39;00m \u001b[39mTypeError\u001b[39;00m \u001b[39mas\u001b[39;00m e:\n\u001b[0;32m     72\u001b[0m         \u001b[39mif\u001b[39;00m \u001b[39mnot\u001b[39;00m e\u001b[39m.\u001b[39margs \u001b[39mor\u001b[39;00m \u001b[39mnot\u001b[39;00m e\u001b[39m.\u001b[39margs[\u001b[39m0\u001b[39m]\u001b[39m.\u001b[39mstartswith(\u001b[39m'\u001b[39m\u001b[39munhashable type:\u001b[39m\u001b[39m'\u001b[39m):\n",
      "File \u001b[1;32md:\\programs\\Anaconda3\\lib\\site-packages\\sympy\\core\\operations.py:98\u001b[0m, in \u001b[0;36mAssocOp.__new__\u001b[1;34m(cls, evaluate, _sympify, *args)\u001b[0m\n\u001b[0;32m     95\u001b[0m \u001b[39mif\u001b[39;00m \u001b[39mlen\u001b[39m(args) \u001b[39m==\u001b[39m \u001b[39m1\u001b[39m:\n\u001b[0;32m     96\u001b[0m     \u001b[39mreturn\u001b[39;00m args[\u001b[39m0\u001b[39m]\n\u001b[1;32m---> 98\u001b[0m c_part, nc_part, order_symbols \u001b[39m=\u001b[39m \u001b[39mcls\u001b[39;49m\u001b[39m.\u001b[39;49mflatten(args)\n\u001b[0;32m     99\u001b[0m is_commutative \u001b[39m=\u001b[39m \u001b[39mnot\u001b[39;00m nc_part\n\u001b[0;32m    100\u001b[0m obj \u001b[39m=\u001b[39m \u001b[39mcls\u001b[39m\u001b[39m.\u001b[39m_from_args(c_part \u001b[39m+\u001b[39m nc_part, is_commutative)\n",
      "File \u001b[1;32md:\\programs\\Anaconda3\\lib\\site-packages\\sympy\\core\\add.py:338\u001b[0m, in \u001b[0;36mAdd.flatten\u001b[1;34m(cls, seq)\u001b[0m\n\u001b[0;32m    335\u001b[0m             newseq\u001b[39m.\u001b[39mappend(Mul(c, s, evaluate\u001b[39m=\u001b[39m\u001b[39mFalse\u001b[39;00m))\n\u001b[0;32m    336\u001b[0m         \u001b[39melse\u001b[39;00m:\n\u001b[0;32m    337\u001b[0m             \u001b[39m# alternatively we have to call all Mul's machinery (slow)\u001b[39;00m\n\u001b[1;32m--> 338\u001b[0m             newseq\u001b[39m.\u001b[39mappend(Mul(c, s))\n\u001b[0;32m    340\u001b[0m     noncommutative \u001b[39m=\u001b[39m noncommutative \u001b[39mor\u001b[39;00m \u001b[39mnot\u001b[39;00m s\u001b[39m.\u001b[39mis_commutative\n\u001b[0;32m    342\u001b[0m \u001b[39m# oo, -oo\u001b[39;00m\n",
      "File \u001b[1;32md:\\programs\\Anaconda3\\lib\\site-packages\\sympy\\core\\cache.py:70\u001b[0m, in \u001b[0;36m__cacheit.<locals>.func_wrapper.<locals>.wrapper\u001b[1;34m(*args, **kwargs)\u001b[0m\n\u001b[0;32m     67\u001b[0m \u001b[39m@wraps\u001b[39m(func)\n\u001b[0;32m     68\u001b[0m \u001b[39mdef\u001b[39;00m \u001b[39mwrapper\u001b[39m(\u001b[39m*\u001b[39margs, \u001b[39m*\u001b[39m\u001b[39m*\u001b[39mkwargs):\n\u001b[0;32m     69\u001b[0m     \u001b[39mtry\u001b[39;00m:\n\u001b[1;32m---> 70\u001b[0m         retval \u001b[39m=\u001b[39m cfunc(\u001b[39m*\u001b[39margs, \u001b[39m*\u001b[39m\u001b[39m*\u001b[39mkwargs)\n\u001b[0;32m     71\u001b[0m     \u001b[39mexcept\u001b[39;00m \u001b[39mTypeError\u001b[39;00m \u001b[39mas\u001b[39;00m e:\n\u001b[0;32m     72\u001b[0m         \u001b[39mif\u001b[39;00m \u001b[39mnot\u001b[39;00m e\u001b[39m.\u001b[39margs \u001b[39mor\u001b[39;00m \u001b[39mnot\u001b[39;00m e\u001b[39m.\u001b[39margs[\u001b[39m0\u001b[39m]\u001b[39m.\u001b[39mstartswith(\u001b[39m'\u001b[39m\u001b[39munhashable type:\u001b[39m\u001b[39m'\u001b[39m):\n",
      "File \u001b[1;32md:\\programs\\Anaconda3\\lib\\site-packages\\sympy\\core\\operations.py:98\u001b[0m, in \u001b[0;36mAssocOp.__new__\u001b[1;34m(cls, evaluate, _sympify, *args)\u001b[0m\n\u001b[0;32m     95\u001b[0m \u001b[39mif\u001b[39;00m \u001b[39mlen\u001b[39m(args) \u001b[39m==\u001b[39m \u001b[39m1\u001b[39m:\n\u001b[0;32m     96\u001b[0m     \u001b[39mreturn\u001b[39;00m args[\u001b[39m0\u001b[39m]\n\u001b[1;32m---> 98\u001b[0m c_part, nc_part, order_symbols \u001b[39m=\u001b[39m \u001b[39mcls\u001b[39;49m\u001b[39m.\u001b[39;49mflatten(args)\n\u001b[0;32m     99\u001b[0m is_commutative \u001b[39m=\u001b[39m \u001b[39mnot\u001b[39;00m nc_part\n\u001b[0;32m    100\u001b[0m obj \u001b[39m=\u001b[39m \u001b[39mcls\u001b[39m\u001b[39m.\u001b[39m_from_args(c_part \u001b[39m+\u001b[39m nc_part, is_commutative)\n",
      "File \u001b[1;32md:\\programs\\Anaconda3\\lib\\site-packages\\sympy\\core\\mul.py:365\u001b[0m, in \u001b[0;36mMul.flatten\u001b[1;34m(cls, seq)\u001b[0m\n\u001b[0;32m    363\u001b[0m     \u001b[39mreturn\u001b[39;00m [S\u001b[39m.\u001b[39mNaN], [], \u001b[39mNone\u001b[39;00m\n\u001b[0;32m    364\u001b[0m \u001b[39melif\u001b[39;00m coeff\u001b[39m.\u001b[39mis_Number \u001b[39mor\u001b[39;00m \u001b[39misinstance\u001b[39m(coeff, AccumBounds):  \u001b[39m# it could be zoo\u001b[39;00m\n\u001b[1;32m--> 365\u001b[0m     coeff \u001b[39m*\u001b[39m\u001b[39m=\u001b[39m o\n\u001b[0;32m    366\u001b[0m     \u001b[39mif\u001b[39;00m coeff \u001b[39mis\u001b[39;00m S\u001b[39m.\u001b[39mNaN:\n\u001b[0;32m    367\u001b[0m         \u001b[39m# we know for sure the result will be nan\u001b[39;00m\n\u001b[0;32m    368\u001b[0m         \u001b[39mreturn\u001b[39;00m [S\u001b[39m.\u001b[39mNaN], [], \u001b[39mNone\u001b[39;00m\n",
      "File \u001b[1;32md:\\programs\\Anaconda3\\lib\\site-packages\\sympy\\core\\numbers.py:2208\u001b[0m, in \u001b[0;36mInteger.__mul__\u001b[1;34m(self, other)\u001b[0m\n\u001b[0;32m   2206\u001b[0m \u001b[39melif\u001b[39;00m \u001b[39misinstance\u001b[39m(other, Integer):\n\u001b[0;32m   2207\u001b[0m     \u001b[39mreturn\u001b[39;00m Integer(\u001b[39mself\u001b[39m\u001b[39m.\u001b[39mp\u001b[39m*\u001b[39mother\u001b[39m.\u001b[39mp)\n\u001b[1;32m-> 2208\u001b[0m \u001b[39melif\u001b[39;00m \u001b[39misinstance\u001b[39;49m(other, Rational):\n\u001b[0;32m   2209\u001b[0m     \u001b[39mreturn\u001b[39;00m Rational(\u001b[39mself\u001b[39m\u001b[39m.\u001b[39mp\u001b[39m*\u001b[39mother\u001b[39m.\u001b[39mp, other\u001b[39m.\u001b[39mq, igcd(\u001b[39mself\u001b[39m\u001b[39m.\u001b[39mp, other\u001b[39m.\u001b[39mq))\n\u001b[0;32m   2210\u001b[0m \u001b[39mreturn\u001b[39;00m Rational\u001b[39m.\u001b[39m\u001b[39m__mul__\u001b[39m(\u001b[39mself\u001b[39m, other)\n",
      "\u001b[1;31mKeyboardInterrupt\u001b[0m: "
     ]
    }
   ],
   "source": [
    "K = sp.integrate(\n",
    "    sp.integrate(\n",
    "        B0_kappa.T * F * B0_kappa, (xi, -1, 1)), (eta, -1, 1)\n",
    ") * (a*b/4)\n",
    "\n",
    "K = np.array(K, dtype=np.longdouble)"
   ]
  },
  {
   "cell_type": "code",
   "execution_count": null,
   "metadata": {
    "scrolled": true
   },
   "outputs": [
    {
     "name": "stdout",
     "output_type": "stream",
     "text": [
      "(48, 48)\n",
      "-235.90054625958584\n",
      "1907.5827638713488\n"
     ]
    }
   ],
   "source": [
    "print(K.shape)\n",
    "print(K.min())\n",
    "print(K.max())"
   ]
  },
  {
   "cell_type": "code",
   "execution_count": null,
   "metadata": {},
   "outputs": [],
   "source": [
    "A = K\n",
    "B = KG\n",
    "\n",
    "eig_values, eig_vectors = eig(A, B)"
   ]
  },
  {
   "cell_type": "code",
   "execution_count": 17,
   "metadata": {},
   "outputs": [
    {
     "data": {
      "text/plain": [
       "(nan+0j)"
      ]
     },
     "execution_count": 17,
     "metadata": {},
     "output_type": "execute_result"
    }
   ],
   "source": [
    "eig_values.min()"
   ]
  },
  {
   "cell_type": "code",
   "execution_count": 18,
   "metadata": {},
   "outputs": [
    {
     "data": {
      "text/plain": [
       "array([nan+0.j, nan+0.j, nan+0.j, nan+0.j, nan+0.j, nan+0.j, nan+0.j,\n",
       "       nan+0.j, nan+0.j, inf+0.j, inf+0.j, inf+0.j, inf+0.j, inf+0.j,\n",
       "       nan+0.j, nan+0.j, nan+0.j, nan+0.j, nan+0.j, nan+0.j, nan+0.j,\n",
       "       nan+0.j, nan+0.j, nan+0.j, nan+0.j, nan+0.j, nan+0.j, nan+0.j,\n",
       "       nan+0.j, nan+0.j, nan+0.j, nan+0.j, nan+0.j, nan+0.j, nan+0.j,\n",
       "       nan+0.j, nan+0.j, nan+0.j, nan+0.j, nan+0.j, nan+0.j, nan+0.j,\n",
       "       nan+0.j, nan+0.j, nan+0.j, nan+0.j, nan+0.j, nan+0.j])"
      ]
     },
     "execution_count": 18,
     "metadata": {},
     "output_type": "execute_result"
    }
   ],
   "source": [
    "eig_values"
   ]
  },
  {
   "cell_type": "code",
   "execution_count": 21,
   "metadata": {},
   "outputs": [],
   "source": [
    "#eigvals, eigvecs = lb(A, B, silent=True)\n",
    "#eigvals"
   ]
  },
  {
   "cell_type": "markdown",
   "metadata": {},
   "source": [
    "## Check with compmech"
   ]
  },
  {
   "cell_type": "code",
   "execution_count": 102,
   "metadata": {},
   "outputs": [],
   "source": [
    "from compmech.panel.panel import Panel\n",
    "from compmech.analysis import lb, static"
   ]
  },
  {
   "cell_type": "code",
   "execution_count": 138,
   "metadata": {},
   "outputs": [],
   "source": [
    "# skin panels\n",
    "laminaprop = (E1, E2, v12, G12, G12, G12)\n",
    "stack = [45, 0, 0, 45, 0, 0, 45,]\n",
    "p1 = Panel(group='skin', Nxx=-1, x0=0, y0=0., a=a, b=b,m=4, n=4, plyt=t, stack=stack, laminaprop=laminaprop)"
   ]
  },
  {
   "cell_type": "code",
   "execution_count": 139,
   "metadata": {},
   "outputs": [],
   "source": [
    "# boundary conditions CCCC\n",
    "p1.u1tx = 1 ; p1.u1rx = 1 ; p1.u2tx = 0 ; p1.u2rx = 1\n",
    "p1.v1tx = 0 ; p1.v1rx = 1 ; p1.v2tx = 0 ; p1.v2rx = 1\n",
    "p1.w1tx = 0 ; p1.w1rx = 1 ; p1.w2tx = 0 ; p1.w2rx = 1\n",
    "p1.u1ty = 0 ; p1.u1ry = 1 ; p1.u2ty = 0 ; p1.u2ry = 1\n",
    "p1.v1ty = 0 ; p1.v1ry = 1 ; p1.v2ty = 0 ; p1.v2ry = 1\n",
    "p1.w1ty = 0 ; p1.w1ry = 1 ; p1.w2ty = 0 ; p1.w2ry = 1\n",
    "\n",
    "\n",
    "p1.u1tx = 1 ; p1.u1rx = 1 ; p1.u2tx = 1 ; p1.u2rx = 1\n",
    "p1.v1tx = 1 ; p1.v1rx = 1 ; p1.v2tx = 1 ; p1.v2rx = 1\n",
    "p1.w1tx = 1 ; p1.w1rx = 1 ; p1.w2tx = 1 ; p1.w2rx = 1\n",
    "p1.u1ty = 1 ; p1.u1ry = 1 ; p1.u2ty = 1 ; p1.u2ry = 1\n",
    "p1.v1ty = 1 ; p1.v1ry = 1 ; p1.v2ty = 1 ; p1.v2ry = 1\n",
    "p1.w1ty = 1 ; p1.w1ry = 1 ; p1.w2ty = 1 ; p1.w2ry = 1\n"
   ]
  },
  {
   "cell_type": "code",
   "execution_count": 140,
   "metadata": {},
   "outputs": [
    {
     "name": "stdout",
     "output_type": "stream",
     "text": [
      "\t\tCalculating k0... \n",
      "\t\tfinished!\n",
      "\t\tCalculating kG0... \n",
      "\t\tfinished!\n"
     ]
    },
    {
     "data": {
      "text/plain": [
       "array([ 8.27539521e-02,  1.54595188e-01,  4.08042946e-01,  5.94116455e-01,\n",
       "        6.48313547e-01,  7.74355541e-01,  9.24892554e-01,  9.77911922e-01,\n",
       "        1.76216653e+00,  1.96190749e+00,  1.97148250e+00,  2.00053501e+00,\n",
       "        2.15920632e+00,  2.90021968e+00,  5.99112305e+00,  6.47529950e+00,\n",
       "        6.83539355e+00,  9.46120800e+00,  3.47173313e+02, -6.01929297e+06,\n",
       "       -6.32618179e+00, -1.77060881e-01, -1.65551654e-01, -1.00365130e-01,\n",
       "       -1.33591893e-02])"
      ]
     },
     "execution_count": 140,
     "metadata": {},
     "output_type": "execute_result"
    }
   ],
   "source": [
    "k0_1 = p1.calc_k0()\n",
    "kG0_1 = p1.calc_kG0()\n",
    "\n",
    "eigvals, eigvecs = lb(k0_1, kG0_1, silent=True)\n",
    "eigvals"
   ]
  },
  {
   "cell_type": "code",
   "execution_count": 141,
   "metadata": {},
   "outputs": [
    {
     "name": "stdout",
     "output_type": "stream",
     "text": [
      "-29823.298056988755\n",
      "42847.26352960424\n"
     ]
    }
   ],
   "source": [
    "print(k0_1.min())\n",
    "print(k0_1.max())"
   ]
  },
  {
   "cell_type": "code",
   "execution_count": 142,
   "metadata": {},
   "outputs": [
    {
     "name": "stdout",
     "output_type": "stream",
     "text": [
      "-0.4457142857142858\n",
      "0.4457142857142858\n"
     ]
    }
   ],
   "source": [
    "print(kG0_1.min())\n",
    "print(kG0_1.max())"
   ]
  },
  {
   "cell_type": "code",
   "execution_count": 143,
   "metadata": {},
   "outputs": [
    {
     "data": {
      "text/latex": [
       "$\\displaystyle \\left[\\begin{array}{cccccccccccccccccccccccccccccccccccccccccccccccc}0 & 0 & 0 & 0 & 0 & 0 & 0 & 0 & 0 & 0 & 0 & 0 & 0 & 0 & 0 & 0 & 0 & 0 & 0 & 0 & 0 & 0 & 0 & 0 & 0 & 0 & 0 & 0 & 0 & 0 & 0 & 0 & 0 & 0 & 0 & 0 & 0 & 0 & 0 & 0 & 0 & 0 & 0 & 0 & 0 & 0 & 0 & 0\\\\0 & 0 & 0 & 0 & 0 & 0 & 0 & 0 & 0 & 0 & 0 & 0 & 0 & 0 & 0 & 0 & 0 & 0 & 0 & 0 & 0 & 0 & 0 & 0 & 0 & 0 & 0 & 0 & 0 & 0 & 0 & 0 & 0 & 0 & 0 & 0 & 0 & 0 & 0 & 0 & 0 & 0 & 0 & 0 & 0 & 0 & 0 & 0\\\\0 & 0 & -0.445714285714286 & 0 & 0 & -0.0371428571428572 & 0 & 0 & 0.445714285714286 & 0 & 0 & -0.0371428571428572 & 0 & 0 & -0.062857142857143 & 0 & 0 & -0.00523809523809525 & 0 & 0 & 0.062857142857143 & 0 & 0 & -0.00523809523809525 & 0 & 0 & -0.154285714285714 & 0 & 0 & -0.0128571428571429 & 0 & 0 & 0.154285714285714 & 0 & 0 & -0.0128571428571429 & 0 & 0 & 0.0371428571428571 & 0 & 0 & 0.00309523809523809 & 0 & 0 & -0.0371428571428571 & 0 & 0 & 0.00309523809523809\\\\0 & 0 & 0 & 0 & 0 & 0 & 0 & 0 & 0 & 0 & 0 & 0 & 0 & 0 & 0 & 0 & 0 & 0 & 0 & 0 & 0 & 0 & 0 & 0 & 0 & 0 & 0 & 0 & 0 & 0 & 0 & 0 & 0 & 0 & 0 & 0 & 0 & 0 & 0 & 0 & 0 & 0 & 0 & 0 & 0 & 0 & 0 & 0\\\\0 & 0 & 0 & 0 & 0 & 0 & 0 & 0 & 0 & 0 & 0 & 0 & 0 & 0 & 0 & 0 & 0 & 0 & 0 & 0 & 0 & 0 & 0 & 0 & 0 & 0 & 0 & 0 & 0 & 0 & 0 & 0 & 0 & 0 & 0 & 0 & 0 & 0 & 0 & 0 & 0 & 0 & 0 & 0 & 0 & 0 & 0 & 0\\\\0 & 0 & -0.0371428571428572 & 0 & 0 & -0.0495238095238096 & 0 & 0 & 0.0371428571428572 & 0 & 0 & 0.0123809523809524 & 0 & 0 & -0.00523809523809525 & 0 & 0 & -0.006984126984127 & 0 & 0 & 0.00523809523809525 & 0 & 0 & 0.00174603174603175 & 0 & 0 & -0.0128571428571429 & 0 & 0 & -0.0171428571428571 & 0 & 0 & 0.0128571428571429 & 0 & 0 & 0.00428571428571429 & 0 & 0 & 0.00309523809523809 & 0 & 0 & 0.00412698412698413 & 0 & 0 & -0.00309523809523809 & 0 & 0 & -0.00103174603174603\\\\0 & 0 & 0 & 0 & 0 & 0 & 0 & 0 & 0 & 0 & 0 & 0 & 0 & 0 & 0 & 0 & 0 & 0 & 0 & 0 & 0 & 0 & 0 & 0 & 0 & 0 & 0 & 0 & 0 & 0 & 0 & 0 & 0 & 0 & 0 & 0 & 0 & 0 & 0 & 0 & 0 & 0 & 0 & 0 & 0 & 0 & 0 & 0\\\\0 & 0 & 0 & 0 & 0 & 0 & 0 & 0 & 0 & 0 & 0 & 0 & 0 & 0 & 0 & 0 & 0 & 0 & 0 & 0 & 0 & 0 & 0 & 0 & 0 & 0 & 0 & 0 & 0 & 0 & 0 & 0 & 0 & 0 & 0 & 0 & 0 & 0 & 0 & 0 & 0 & 0 & 0 & 0 & 0 & 0 & 0 & 0\\\\0 & 0 & 0.445714285714286 & 0 & 0 & 0.0371428571428572 & 0 & 0 & -0.445714285714286 & 0 & 0 & 0.0371428571428572 & 0 & 0 & 0.062857142857143 & 0 & 0 & 0.00523809523809525 & 0 & 0 & -0.062857142857143 & 0 & 0 & 0.00523809523809525 & 0 & 0 & 0.154285714285714 & 0 & 0 & 0.0128571428571429 & 0 & 0 & -0.154285714285714 & 0 & 0 & 0.0128571428571429 & 0 & 0 & -0.0371428571428571 & 0 & 0 & -0.00309523809523809 & 0 & 0 & 0.0371428571428571 & 0 & 0 & -0.00309523809523809\\\\0 & 0 & 0 & 0 & 0 & 0 & 0 & 0 & 0 & 0 & 0 & 0 & 0 & 0 & 0 & 0 & 0 & 0 & 0 & 0 & 0 & 0 & 0 & 0 & 0 & 0 & 0 & 0 & 0 & 0 & 0 & 0 & 0 & 0 & 0 & 0 & 0 & 0 & 0 & 0 & 0 & 0 & 0 & 0 & 0 & 0 & 0 & 0\\\\0 & 0 & 0 & 0 & 0 & 0 & 0 & 0 & 0 & 0 & 0 & 0 & 0 & 0 & 0 & 0 & 0 & 0 & 0 & 0 & 0 & 0 & 0 & 0 & 0 & 0 & 0 & 0 & 0 & 0 & 0 & 0 & 0 & 0 & 0 & 0 & 0 & 0 & 0 & 0 & 0 & 0 & 0 & 0 & 0 & 0 & 0 & 0\\\\0 & 0 & -0.0371428571428572 & 0 & 0 & 0.0123809523809524 & 0 & 0 & 0.0371428571428572 & 0 & 0 & -0.0495238095238096 & 0 & 0 & -0.00523809523809525 & 0 & 0 & 0.00174603174603175 & 0 & 0 & 0.00523809523809525 & 0 & 0 & -0.006984126984127 & 0 & 0 & -0.0128571428571429 & 0 & 0 & 0.00428571428571429 & 0 & 0 & 0.0128571428571429 & 0 & 0 & -0.0171428571428571 & 0 & 0 & 0.00309523809523809 & 0 & 0 & -0.00103174603174603 & 0 & 0 & -0.00309523809523809 & 0 & 0 & 0.00412698412698413\\\\0 & 0 & 0 & 0 & 0 & 0 & 0 & 0 & 0 & 0 & 0 & 0 & 0 & 0 & 0 & 0 & 0 & 0 & 0 & 0 & 0 & 0 & 0 & 0 & 0 & 0 & 0 & 0 & 0 & 0 & 0 & 0 & 0 & 0 & 0 & 0 & 0 & 0 & 0 & 0 & 0 & 0 & 0 & 0 & 0 & 0 & 0 & 0\\\\0 & 0 & 0 & 0 & 0 & 0 & 0 & 0 & 0 & 0 & 0 & 0 & 0 & 0 & 0 & 0 & 0 & 0 & 0 & 0 & 0 & 0 & 0 & 0 & 0 & 0 & 0 & 0 & 0 & 0 & 0 & 0 & 0 & 0 & 0 & 0 & 0 & 0 & 0 & 0 & 0 & 0 & 0 & 0 & 0 & 0 & 0 & 0\\\\0 & 0 & -0.062857142857143 & 0 & 0 & -0.00523809523809525 & 0 & 0 & 0.062857142857143 & 0 & 0 & -0.00523809523809525 & 0 & 0 & -0.0114285714285714 & 0 & 0 & -0.00095238095238095 & 0 & 0 & 0.0114285714285714 & 0 & 0 & -0.00095238095238095 & 0 & 0 & -0.0371428571428571 & 0 & 0 & -0.00309523809523809 & 0 & 0 & 0.0371428571428571 & 0 & 0 & -0.00309523809523809 & 0 & 0 & 0.00857142857142858 & 0 & 0 & 0.000714285714285715 & 0 & 0 & -0.00857142857142858 & 0 & 0 & 0.000714285714285715\\\\0 & 0 & 0 & 0 & 0 & 0 & 0 & 0 & 0 & 0 & 0 & 0 & 0 & 0 & 0 & 0 & 0 & 0 & 0 & 0 & 0 & 0 & 0 & 0 & 0 & 0 & 0 & 0 & 0 & 0 & 0 & 0 & 0 & 0 & 0 & 0 & 0 & 0 & 0 & 0 & 0 & 0 & 0 & 0 & 0 & 0 & 0 & 0\\\\0 & 0 & 0 & 0 & 0 & 0 & 0 & 0 & 0 & 0 & 0 & 0 & 0 & 0 & 0 & 0 & 0 & 0 & 0 & 0 & 0 & 0 & 0 & 0 & 0 & 0 & 0 & 0 & 0 & 0 & 0 & 0 & 0 & 0 & 0 & 0 & 0 & 0 & 0 & 0 & 0 & 0 & 0 & 0 & 0 & 0 & 0 & 0\\\\0 & 0 & -0.00523809523809525 & 0 & 0 & -0.006984126984127 & 0 & 0 & 0.00523809523809525 & 0 & 0 & 0.00174603174603175 & 0 & 0 & -0.00095238095238095 & 0 & 0 & -0.00126984126984127 & 0 & 0 & 0.00095238095238095 & 0 & 0 & 0.000317460317460317 & 0 & 0 & -0.00309523809523809 & 0 & 0 & -0.00412698412698413 & 0 & 0 & 0.00309523809523809 & 0 & 0 & 0.00103174603174603 & 0 & 0 & 0.000714285714285715 & 0 & 0 & 0.000952380952380954 & 0 & 0 & -0.000714285714285715 & 0 & 0 & -0.000238095238095239\\\\0 & 0 & 0 & 0 & 0 & 0 & 0 & 0 & 0 & 0 & 0 & 0 & 0 & 0 & 0 & 0 & 0 & 0 & 0 & 0 & 0 & 0 & 0 & 0 & 0 & 0 & 0 & 0 & 0 & 0 & 0 & 0 & 0 & 0 & 0 & 0 & 0 & 0 & 0 & 0 & 0 & 0 & 0 & 0 & 0 & 0 & 0 & 0\\\\0 & 0 & 0 & 0 & 0 & 0 & 0 & 0 & 0 & 0 & 0 & 0 & 0 & 0 & 0 & 0 & 0 & 0 & 0 & 0 & 0 & 0 & 0 & 0 & 0 & 0 & 0 & 0 & 0 & 0 & 0 & 0 & 0 & 0 & 0 & 0 & 0 & 0 & 0 & 0 & 0 & 0 & 0 & 0 & 0 & 0 & 0 & 0\\\\0 & 0 & 0.062857142857143 & 0 & 0 & 0.00523809523809525 & 0 & 0 & -0.062857142857143 & 0 & 0 & 0.00523809523809525 & 0 & 0 & 0.0114285714285714 & 0 & 0 & 0.00095238095238095 & 0 & 0 & -0.0114285714285714 & 0 & 0 & 0.00095238095238095 & 0 & 0 & 0.0371428571428571 & 0 & 0 & 0.00309523809523809 & 0 & 0 & -0.0371428571428571 & 0 & 0 & 0.00309523809523809 & 0 & 0 & -0.00857142857142858 & 0 & 0 & -0.000714285714285715 & 0 & 0 & 0.00857142857142858 & 0 & 0 & -0.000714285714285715\\\\0 & 0 & 0 & 0 & 0 & 0 & 0 & 0 & 0 & 0 & 0 & 0 & 0 & 0 & 0 & 0 & 0 & 0 & 0 & 0 & 0 & 0 & 0 & 0 & 0 & 0 & 0 & 0 & 0 & 0 & 0 & 0 & 0 & 0 & 0 & 0 & 0 & 0 & 0 & 0 & 0 & 0 & 0 & 0 & 0 & 0 & 0 & 0\\\\0 & 0 & 0 & 0 & 0 & 0 & 0 & 0 & 0 & 0 & 0 & 0 & 0 & 0 & 0 & 0 & 0 & 0 & 0 & 0 & 0 & 0 & 0 & 0 & 0 & 0 & 0 & 0 & 0 & 0 & 0 & 0 & 0 & 0 & 0 & 0 & 0 & 0 & 0 & 0 & 0 & 0 & 0 & 0 & 0 & 0 & 0 & 0\\\\0 & 0 & -0.00523809523809525 & 0 & 0 & 0.00174603174603175 & 0 & 0 & 0.00523809523809525 & 0 & 0 & -0.006984126984127 & 0 & 0 & -0.00095238095238095 & 0 & 0 & 0.000317460317460317 & 0 & 0 & 0.00095238095238095 & 0 & 0 & -0.00126984126984127 & 0 & 0 & -0.00309523809523809 & 0 & 0 & 0.00103174603174603 & 0 & 0 & 0.00309523809523809 & 0 & 0 & -0.00412698412698413 & 0 & 0 & 0.000714285714285715 & 0 & 0 & -0.000238095238095239 & 0 & 0 & -0.000714285714285715 & 0 & 0 & 0.000952380952380954\\\\0 & 0 & 0 & 0 & 0 & 0 & 0 & 0 & 0 & 0 & 0 & 0 & 0 & 0 & 0 & 0 & 0 & 0 & 0 & 0 & 0 & 0 & 0 & 0 & 0 & 0 & 0 & 0 & 0 & 0 & 0 & 0 & 0 & 0 & 0 & 0 & 0 & 0 & 0 & 0 & 0 & 0 & 0 & 0 & 0 & 0 & 0 & 0\\\\0 & 0 & 0 & 0 & 0 & 0 & 0 & 0 & 0 & 0 & 0 & 0 & 0 & 0 & 0 & 0 & 0 & 0 & 0 & 0 & 0 & 0 & 0 & 0 & 0 & 0 & 0 & 0 & 0 & 0 & 0 & 0 & 0 & 0 & 0 & 0 & 0 & 0 & 0 & 0 & 0 & 0 & 0 & 0 & 0 & 0 & 0 & 0\\\\0 & 0 & -0.154285714285714 & 0 & 0 & -0.0128571428571429 & 0 & 0 & 0.154285714285714 & 0 & 0 & -0.0128571428571429 & 0 & 0 & -0.0371428571428571 & 0 & 0 & -0.00309523809523809 & 0 & 0 & 0.0371428571428571 & 0 & 0 & -0.00309523809523809 & 0 & 0 & -0.445714285714286 & 0 & 0 & -0.0371428571428572 & 0 & 0 & 0.445714285714286 & 0 & 0 & -0.0371428571428572 & 0 & 0 & 0.062857142857143 & 0 & 0 & 0.00523809523809525 & 0 & 0 & -0.062857142857143 & 0 & 0 & 0.00523809523809525\\\\0 & 0 & 0 & 0 & 0 & 0 & 0 & 0 & 0 & 0 & 0 & 0 & 0 & 0 & 0 & 0 & 0 & 0 & 0 & 0 & 0 & 0 & 0 & 0 & 0 & 0 & 0 & 0 & 0 & 0 & 0 & 0 & 0 & 0 & 0 & 0 & 0 & 0 & 0 & 0 & 0 & 0 & 0 & 0 & 0 & 0 & 0 & 0\\\\0 & 0 & 0 & 0 & 0 & 0 & 0 & 0 & 0 & 0 & 0 & 0 & 0 & 0 & 0 & 0 & 0 & 0 & 0 & 0 & 0 & 0 & 0 & 0 & 0 & 0 & 0 & 0 & 0 & 0 & 0 & 0 & 0 & 0 & 0 & 0 & 0 & 0 & 0 & 0 & 0 & 0 & 0 & 0 & 0 & 0 & 0 & 0\\\\0 & 0 & -0.0128571428571429 & 0 & 0 & -0.0171428571428571 & 0 & 0 & 0.0128571428571429 & 0 & 0 & 0.00428571428571429 & 0 & 0 & -0.00309523809523809 & 0 & 0 & -0.00412698412698413 & 0 & 0 & 0.00309523809523809 & 0 & 0 & 0.00103174603174603 & 0 & 0 & -0.0371428571428572 & 0 & 0 & -0.0495238095238096 & 0 & 0 & 0.0371428571428572 & 0 & 0 & 0.0123809523809524 & 0 & 0 & 0.00523809523809525 & 0 & 0 & 0.006984126984127 & 0 & 0 & -0.00523809523809525 & 0 & 0 & -0.00174603174603175\\\\0 & 0 & 0 & 0 & 0 & 0 & 0 & 0 & 0 & 0 & 0 & 0 & 0 & 0 & 0 & 0 & 0 & 0 & 0 & 0 & 0 & 0 & 0 & 0 & 0 & 0 & 0 & 0 & 0 & 0 & 0 & 0 & 0 & 0 & 0 & 0 & 0 & 0 & 0 & 0 & 0 & 0 & 0 & 0 & 0 & 0 & 0 & 0\\\\0 & 0 & 0 & 0 & 0 & 0 & 0 & 0 & 0 & 0 & 0 & 0 & 0 & 0 & 0 & 0 & 0 & 0 & 0 & 0 & 0 & 0 & 0 & 0 & 0 & 0 & 0 & 0 & 0 & 0 & 0 & 0 & 0 & 0 & 0 & 0 & 0 & 0 & 0 & 0 & 0 & 0 & 0 & 0 & 0 & 0 & 0 & 0\\\\0 & 0 & 0.154285714285714 & 0 & 0 & 0.0128571428571429 & 0 & 0 & -0.154285714285714 & 0 & 0 & 0.0128571428571429 & 0 & 0 & 0.0371428571428571 & 0 & 0 & 0.00309523809523809 & 0 & 0 & -0.0371428571428571 & 0 & 0 & 0.00309523809523809 & 0 & 0 & 0.445714285714286 & 0 & 0 & 0.0371428571428572 & 0 & 0 & -0.445714285714286 & 0 & 0 & 0.0371428571428572 & 0 & 0 & -0.062857142857143 & 0 & 0 & -0.00523809523809525 & 0 & 0 & 0.062857142857143 & 0 & 0 & -0.00523809523809525\\\\0 & 0 & 0 & 0 & 0 & 0 & 0 & 0 & 0 & 0 & 0 & 0 & 0 & 0 & 0 & 0 & 0 & 0 & 0 & 0 & 0 & 0 & 0 & 0 & 0 & 0 & 0 & 0 & 0 & 0 & 0 & 0 & 0 & 0 & 0 & 0 & 0 & 0 & 0 & 0 & 0 & 0 & 0 & 0 & 0 & 0 & 0 & 0\\\\0 & 0 & 0 & 0 & 0 & 0 & 0 & 0 & 0 & 0 & 0 & 0 & 0 & 0 & 0 & 0 & 0 & 0 & 0 & 0 & 0 & 0 & 0 & 0 & 0 & 0 & 0 & 0 & 0 & 0 & 0 & 0 & 0 & 0 & 0 & 0 & 0 & 0 & 0 & 0 & 0 & 0 & 0 & 0 & 0 & 0 & 0 & 0\\\\0 & 0 & -0.0128571428571429 & 0 & 0 & 0.00428571428571429 & 0 & 0 & 0.0128571428571429 & 0 & 0 & -0.0171428571428571 & 0 & 0 & -0.00309523809523809 & 0 & 0 & 0.00103174603174603 & 0 & 0 & 0.00309523809523809 & 0 & 0 & -0.00412698412698413 & 0 & 0 & -0.0371428571428572 & 0 & 0 & 0.0123809523809524 & 0 & 0 & 0.0371428571428572 & 0 & 0 & -0.0495238095238096 & 0 & 0 & 0.00523809523809525 & 0 & 0 & -0.00174603174603175 & 0 & 0 & -0.00523809523809525 & 0 & 0 & 0.006984126984127\\\\0 & 0 & 0 & 0 & 0 & 0 & 0 & 0 & 0 & 0 & 0 & 0 & 0 & 0 & 0 & 0 & 0 & 0 & 0 & 0 & 0 & 0 & 0 & 0 & 0 & 0 & 0 & 0 & 0 & 0 & 0 & 0 & 0 & 0 & 0 & 0 & 0 & 0 & 0 & 0 & 0 & 0 & 0 & 0 & 0 & 0 & 0 & 0\\\\0 & 0 & 0 & 0 & 0 & 0 & 0 & 0 & 0 & 0 & 0 & 0 & 0 & 0 & 0 & 0 & 0 & 0 & 0 & 0 & 0 & 0 & 0 & 0 & 0 & 0 & 0 & 0 & 0 & 0 & 0 & 0 & 0 & 0 & 0 & 0 & 0 & 0 & 0 & 0 & 0 & 0 & 0 & 0 & 0 & 0 & 0 & 0\\\\0 & 0 & 0.0371428571428571 & 0 & 0 & 0.00309523809523809 & 0 & 0 & -0.0371428571428571 & 0 & 0 & 0.00309523809523809 & 0 & 0 & 0.00857142857142858 & 0 & 0 & 0.000714285714285715 & 0 & 0 & -0.00857142857142858 & 0 & 0 & 0.000714285714285715 & 0 & 0 & 0.062857142857143 & 0 & 0 & 0.00523809523809525 & 0 & 0 & -0.062857142857143 & 0 & 0 & 0.00523809523809525 & 0 & 0 & -0.0114285714285714 & 0 & 0 & -0.00095238095238095 & 0 & 0 & 0.0114285714285714 & 0 & 0 & -0.00095238095238095\\\\0 & 0 & 0 & 0 & 0 & 0 & 0 & 0 & 0 & 0 & 0 & 0 & 0 & 0 & 0 & 0 & 0 & 0 & 0 & 0 & 0 & 0 & 0 & 0 & 0 & 0 & 0 & 0 & 0 & 0 & 0 & 0 & 0 & 0 & 0 & 0 & 0 & 0 & 0 & 0 & 0 & 0 & 0 & 0 & 0 & 0 & 0 & 0\\\\0 & 0 & 0 & 0 & 0 & 0 & 0 & 0 & 0 & 0 & 0 & 0 & 0 & 0 & 0 & 0 & 0 & 0 & 0 & 0 & 0 & 0 & 0 & 0 & 0 & 0 & 0 & 0 & 0 & 0 & 0 & 0 & 0 & 0 & 0 & 0 & 0 & 0 & 0 & 0 & 0 & 0 & 0 & 0 & 0 & 0 & 0 & 0\\\\0 & 0 & 0.00309523809523809 & 0 & 0 & 0.00412698412698413 & 0 & 0 & -0.00309523809523809 & 0 & 0 & -0.00103174603174603 & 0 & 0 & 0.000714285714285715 & 0 & 0 & 0.000952380952380954 & 0 & 0 & -0.000714285714285715 & 0 & 0 & -0.000238095238095239 & 0 & 0 & 0.00523809523809525 & 0 & 0 & 0.006984126984127 & 0 & 0 & -0.00523809523809525 & 0 & 0 & -0.00174603174603175 & 0 & 0 & -0.00095238095238095 & 0 & 0 & -0.00126984126984127 & 0 & 0 & 0.00095238095238095 & 0 & 0 & 0.000317460317460317\\\\0 & 0 & 0 & 0 & 0 & 0 & 0 & 0 & 0 & 0 & 0 & 0 & 0 & 0 & 0 & 0 & 0 & 0 & 0 & 0 & 0 & 0 & 0 & 0 & 0 & 0 & 0 & 0 & 0 & 0 & 0 & 0 & 0 & 0 & 0 & 0 & 0 & 0 & 0 & 0 & 0 & 0 & 0 & 0 & 0 & 0 & 0 & 0\\\\0 & 0 & 0 & 0 & 0 & 0 & 0 & 0 & 0 & 0 & 0 & 0 & 0 & 0 & 0 & 0 & 0 & 0 & 0 & 0 & 0 & 0 & 0 & 0 & 0 & 0 & 0 & 0 & 0 & 0 & 0 & 0 & 0 & 0 & 0 & 0 & 0 & 0 & 0 & 0 & 0 & 0 & 0 & 0 & 0 & 0 & 0 & 0\\\\0 & 0 & -0.0371428571428571 & 0 & 0 & -0.00309523809523809 & 0 & 0 & 0.0371428571428571 & 0 & 0 & -0.00309523809523809 & 0 & 0 & -0.00857142857142858 & 0 & 0 & -0.000714285714285715 & 0 & 0 & 0.00857142857142858 & 0 & 0 & -0.000714285714285715 & 0 & 0 & -0.062857142857143 & 0 & 0 & -0.00523809523809525 & 0 & 0 & 0.062857142857143 & 0 & 0 & -0.00523809523809525 & 0 & 0 & 0.0114285714285714 & 0 & 0 & 0.00095238095238095 & 0 & 0 & -0.0114285714285714 & 0 & 0 & 0.00095238095238095\\\\0 & 0 & 0 & 0 & 0 & 0 & 0 & 0 & 0 & 0 & 0 & 0 & 0 & 0 & 0 & 0 & 0 & 0 & 0 & 0 & 0 & 0 & 0 & 0 & 0 & 0 & 0 & 0 & 0 & 0 & 0 & 0 & 0 & 0 & 0 & 0 & 0 & 0 & 0 & 0 & 0 & 0 & 0 & 0 & 0 & 0 & 0 & 0\\\\0 & 0 & 0 & 0 & 0 & 0 & 0 & 0 & 0 & 0 & 0 & 0 & 0 & 0 & 0 & 0 & 0 & 0 & 0 & 0 & 0 & 0 & 0 & 0 & 0 & 0 & 0 & 0 & 0 & 0 & 0 & 0 & 0 & 0 & 0 & 0 & 0 & 0 & 0 & 0 & 0 & 0 & 0 & 0 & 0 & 0 & 0 & 0\\\\0 & 0 & 0.00309523809523809 & 0 & 0 & -0.00103174603174603 & 0 & 0 & -0.00309523809523809 & 0 & 0 & 0.00412698412698413 & 0 & 0 & 0.000714285714285715 & 0 & 0 & -0.000238095238095239 & 0 & 0 & -0.000714285714285715 & 0 & 0 & 0.000952380952380954 & 0 & 0 & 0.00523809523809525 & 0 & 0 & -0.00174603174603175 & 0 & 0 & -0.00523809523809525 & 0 & 0 & 0.006984126984127 & 0 & 0 & -0.00095238095238095 & 0 & 0 & 0.000317460317460317 & 0 & 0 & 0.00095238095238095 & 0 & 0 & -0.00126984126984127\\end{array}\\right]$"
      ],
      "text/plain": [
       "Matrix([\n",
       "[0, 0,                    0, 0, 0,                    0, 0, 0,                    0, 0, 0,                    0, 0, 0,                    0, 0, 0,                     0, 0, 0,                     0, 0, 0,                     0, 0, 0,                    0, 0, 0,                    0, 0, 0,                    0, 0, 0,                    0, 0, 0,                    0, 0, 0,                     0, 0, 0,                     0, 0, 0,                     0],\n",
       "[0, 0,                    0, 0, 0,                    0, 0, 0,                    0, 0, 0,                    0, 0, 0,                    0, 0, 0,                     0, 0, 0,                     0, 0, 0,                     0, 0, 0,                    0, 0, 0,                    0, 0, 0,                    0, 0, 0,                    0, 0, 0,                    0, 0, 0,                     0, 0, 0,                     0, 0, 0,                     0],\n",
       "[0, 0,   -0.445714285714286, 0, 0,  -0.0371428571428572, 0, 0,    0.445714285714286, 0, 0,  -0.0371428571428572, 0, 0,   -0.062857142857143, 0, 0,  -0.00523809523809525, 0, 0,     0.062857142857143, 0, 0,  -0.00523809523809525, 0, 0,   -0.154285714285714, 0, 0,  -0.0128571428571429, 0, 0,    0.154285714285714, 0, 0,  -0.0128571428571429, 0, 0,   0.0371428571428571, 0, 0,   0.00309523809523809, 0, 0,   -0.0371428571428571, 0, 0,   0.00309523809523809],\n",
       "[0, 0,                    0, 0, 0,                    0, 0, 0,                    0, 0, 0,                    0, 0, 0,                    0, 0, 0,                     0, 0, 0,                     0, 0, 0,                     0, 0, 0,                    0, 0, 0,                    0, 0, 0,                    0, 0, 0,                    0, 0, 0,                    0, 0, 0,                     0, 0, 0,                     0, 0, 0,                     0],\n",
       "[0, 0,                    0, 0, 0,                    0, 0, 0,                    0, 0, 0,                    0, 0, 0,                    0, 0, 0,                     0, 0, 0,                     0, 0, 0,                     0, 0, 0,                    0, 0, 0,                    0, 0, 0,                    0, 0, 0,                    0, 0, 0,                    0, 0, 0,                     0, 0, 0,                     0, 0, 0,                     0],\n",
       "[0, 0,  -0.0371428571428572, 0, 0,  -0.0495238095238096, 0, 0,   0.0371428571428572, 0, 0,   0.0123809523809524, 0, 0, -0.00523809523809525, 0, 0,    -0.006984126984127, 0, 0,   0.00523809523809525, 0, 0,   0.00174603174603175, 0, 0,  -0.0128571428571429, 0, 0,  -0.0171428571428571, 0, 0,   0.0128571428571429, 0, 0,  0.00428571428571429, 0, 0,  0.00309523809523809, 0, 0,   0.00412698412698413, 0, 0,  -0.00309523809523809, 0, 0,  -0.00103174603174603],\n",
       "[0, 0,                    0, 0, 0,                    0, 0, 0,                    0, 0, 0,                    0, 0, 0,                    0, 0, 0,                     0, 0, 0,                     0, 0, 0,                     0, 0, 0,                    0, 0, 0,                    0, 0, 0,                    0, 0, 0,                    0, 0, 0,                    0, 0, 0,                     0, 0, 0,                     0, 0, 0,                     0],\n",
       "[0, 0,                    0, 0, 0,                    0, 0, 0,                    0, 0, 0,                    0, 0, 0,                    0, 0, 0,                     0, 0, 0,                     0, 0, 0,                     0, 0, 0,                    0, 0, 0,                    0, 0, 0,                    0, 0, 0,                    0, 0, 0,                    0, 0, 0,                     0, 0, 0,                     0, 0, 0,                     0],\n",
       "[0, 0,    0.445714285714286, 0, 0,   0.0371428571428572, 0, 0,   -0.445714285714286, 0, 0,   0.0371428571428572, 0, 0,    0.062857142857143, 0, 0,   0.00523809523809525, 0, 0,    -0.062857142857143, 0, 0,   0.00523809523809525, 0, 0,    0.154285714285714, 0, 0,   0.0128571428571429, 0, 0,   -0.154285714285714, 0, 0,   0.0128571428571429, 0, 0,  -0.0371428571428571, 0, 0,  -0.00309523809523809, 0, 0,    0.0371428571428571, 0, 0,  -0.00309523809523809],\n",
       "[0, 0,                    0, 0, 0,                    0, 0, 0,                    0, 0, 0,                    0, 0, 0,                    0, 0, 0,                     0, 0, 0,                     0, 0, 0,                     0, 0, 0,                    0, 0, 0,                    0, 0, 0,                    0, 0, 0,                    0, 0, 0,                    0, 0, 0,                     0, 0, 0,                     0, 0, 0,                     0],\n",
       "[0, 0,                    0, 0, 0,                    0, 0, 0,                    0, 0, 0,                    0, 0, 0,                    0, 0, 0,                     0, 0, 0,                     0, 0, 0,                     0, 0, 0,                    0, 0, 0,                    0, 0, 0,                    0, 0, 0,                    0, 0, 0,                    0, 0, 0,                     0, 0, 0,                     0, 0, 0,                     0],\n",
       "[0, 0,  -0.0371428571428572, 0, 0,   0.0123809523809524, 0, 0,   0.0371428571428572, 0, 0,  -0.0495238095238096, 0, 0, -0.00523809523809525, 0, 0,   0.00174603174603175, 0, 0,   0.00523809523809525, 0, 0,    -0.006984126984127, 0, 0,  -0.0128571428571429, 0, 0,  0.00428571428571429, 0, 0,   0.0128571428571429, 0, 0,  -0.0171428571428571, 0, 0,  0.00309523809523809, 0, 0,  -0.00103174603174603, 0, 0,  -0.00309523809523809, 0, 0,   0.00412698412698413],\n",
       "[0, 0,                    0, 0, 0,                    0, 0, 0,                    0, 0, 0,                    0, 0, 0,                    0, 0, 0,                     0, 0, 0,                     0, 0, 0,                     0, 0, 0,                    0, 0, 0,                    0, 0, 0,                    0, 0, 0,                    0, 0, 0,                    0, 0, 0,                     0, 0, 0,                     0, 0, 0,                     0],\n",
       "[0, 0,                    0, 0, 0,                    0, 0, 0,                    0, 0, 0,                    0, 0, 0,                    0, 0, 0,                     0, 0, 0,                     0, 0, 0,                     0, 0, 0,                    0, 0, 0,                    0, 0, 0,                    0, 0, 0,                    0, 0, 0,                    0, 0, 0,                     0, 0, 0,                     0, 0, 0,                     0],\n",
       "[0, 0,   -0.062857142857143, 0, 0, -0.00523809523809525, 0, 0,    0.062857142857143, 0, 0, -0.00523809523809525, 0, 0,  -0.0114285714285714, 0, 0,  -0.00095238095238095, 0, 0,    0.0114285714285714, 0, 0,  -0.00095238095238095, 0, 0,  -0.0371428571428571, 0, 0, -0.00309523809523809, 0, 0,   0.0371428571428571, 0, 0, -0.00309523809523809, 0, 0,  0.00857142857142858, 0, 0,  0.000714285714285715, 0, 0,  -0.00857142857142858, 0, 0,  0.000714285714285715],\n",
       "[0, 0,                    0, 0, 0,                    0, 0, 0,                    0, 0, 0,                    0, 0, 0,                    0, 0, 0,                     0, 0, 0,                     0, 0, 0,                     0, 0, 0,                    0, 0, 0,                    0, 0, 0,                    0, 0, 0,                    0, 0, 0,                    0, 0, 0,                     0, 0, 0,                     0, 0, 0,                     0],\n",
       "[0, 0,                    0, 0, 0,                    0, 0, 0,                    0, 0, 0,                    0, 0, 0,                    0, 0, 0,                     0, 0, 0,                     0, 0, 0,                     0, 0, 0,                    0, 0, 0,                    0, 0, 0,                    0, 0, 0,                    0, 0, 0,                    0, 0, 0,                     0, 0, 0,                     0, 0, 0,                     0],\n",
       "[0, 0, -0.00523809523809525, 0, 0,   -0.006984126984127, 0, 0,  0.00523809523809525, 0, 0,  0.00174603174603175, 0, 0, -0.00095238095238095, 0, 0,  -0.00126984126984127, 0, 0,   0.00095238095238095, 0, 0,  0.000317460317460317, 0, 0, -0.00309523809523809, 0, 0, -0.00412698412698413, 0, 0,  0.00309523809523809, 0, 0,  0.00103174603174603, 0, 0, 0.000714285714285715, 0, 0,  0.000952380952380954, 0, 0, -0.000714285714285715, 0, 0, -0.000238095238095239],\n",
       "[0, 0,                    0, 0, 0,                    0, 0, 0,                    0, 0, 0,                    0, 0, 0,                    0, 0, 0,                     0, 0, 0,                     0, 0, 0,                     0, 0, 0,                    0, 0, 0,                    0, 0, 0,                    0, 0, 0,                    0, 0, 0,                    0, 0, 0,                     0, 0, 0,                     0, 0, 0,                     0],\n",
       "[0, 0,                    0, 0, 0,                    0, 0, 0,                    0, 0, 0,                    0, 0, 0,                    0, 0, 0,                     0, 0, 0,                     0, 0, 0,                     0, 0, 0,                    0, 0, 0,                    0, 0, 0,                    0, 0, 0,                    0, 0, 0,                    0, 0, 0,                     0, 0, 0,                     0, 0, 0,                     0],\n",
       "[0, 0,    0.062857142857143, 0, 0,  0.00523809523809525, 0, 0,   -0.062857142857143, 0, 0,  0.00523809523809525, 0, 0,   0.0114285714285714, 0, 0,   0.00095238095238095, 0, 0,   -0.0114285714285714, 0, 0,   0.00095238095238095, 0, 0,   0.0371428571428571, 0, 0,  0.00309523809523809, 0, 0,  -0.0371428571428571, 0, 0,  0.00309523809523809, 0, 0, -0.00857142857142858, 0, 0, -0.000714285714285715, 0, 0,   0.00857142857142858, 0, 0, -0.000714285714285715],\n",
       "[0, 0,                    0, 0, 0,                    0, 0, 0,                    0, 0, 0,                    0, 0, 0,                    0, 0, 0,                     0, 0, 0,                     0, 0, 0,                     0, 0, 0,                    0, 0, 0,                    0, 0, 0,                    0, 0, 0,                    0, 0, 0,                    0, 0, 0,                     0, 0, 0,                     0, 0, 0,                     0],\n",
       "[0, 0,                    0, 0, 0,                    0, 0, 0,                    0, 0, 0,                    0, 0, 0,                    0, 0, 0,                     0, 0, 0,                     0, 0, 0,                     0, 0, 0,                    0, 0, 0,                    0, 0, 0,                    0, 0, 0,                    0, 0, 0,                    0, 0, 0,                     0, 0, 0,                     0, 0, 0,                     0],\n",
       "[0, 0, -0.00523809523809525, 0, 0,  0.00174603174603175, 0, 0,  0.00523809523809525, 0, 0,   -0.006984126984127, 0, 0, -0.00095238095238095, 0, 0,  0.000317460317460317, 0, 0,   0.00095238095238095, 0, 0,  -0.00126984126984127, 0, 0, -0.00309523809523809, 0, 0,  0.00103174603174603, 0, 0,  0.00309523809523809, 0, 0, -0.00412698412698413, 0, 0, 0.000714285714285715, 0, 0, -0.000238095238095239, 0, 0, -0.000714285714285715, 0, 0,  0.000952380952380954],\n",
       "[0, 0,                    0, 0, 0,                    0, 0, 0,                    0, 0, 0,                    0, 0, 0,                    0, 0, 0,                     0, 0, 0,                     0, 0, 0,                     0, 0, 0,                    0, 0, 0,                    0, 0, 0,                    0, 0, 0,                    0, 0, 0,                    0, 0, 0,                     0, 0, 0,                     0, 0, 0,                     0],\n",
       "[0, 0,                    0, 0, 0,                    0, 0, 0,                    0, 0, 0,                    0, 0, 0,                    0, 0, 0,                     0, 0, 0,                     0, 0, 0,                     0, 0, 0,                    0, 0, 0,                    0, 0, 0,                    0, 0, 0,                    0, 0, 0,                    0, 0, 0,                     0, 0, 0,                     0, 0, 0,                     0],\n",
       "[0, 0,   -0.154285714285714, 0, 0,  -0.0128571428571429, 0, 0,    0.154285714285714, 0, 0,  -0.0128571428571429, 0, 0,  -0.0371428571428571, 0, 0,  -0.00309523809523809, 0, 0,    0.0371428571428571, 0, 0,  -0.00309523809523809, 0, 0,   -0.445714285714286, 0, 0,  -0.0371428571428572, 0, 0,    0.445714285714286, 0, 0,  -0.0371428571428572, 0, 0,    0.062857142857143, 0, 0,   0.00523809523809525, 0, 0,    -0.062857142857143, 0, 0,   0.00523809523809525],\n",
       "[0, 0,                    0, 0, 0,                    0, 0, 0,                    0, 0, 0,                    0, 0, 0,                    0, 0, 0,                     0, 0, 0,                     0, 0, 0,                     0, 0, 0,                    0, 0, 0,                    0, 0, 0,                    0, 0, 0,                    0, 0, 0,                    0, 0, 0,                     0, 0, 0,                     0, 0, 0,                     0],\n",
       "[0, 0,                    0, 0, 0,                    0, 0, 0,                    0, 0, 0,                    0, 0, 0,                    0, 0, 0,                     0, 0, 0,                     0, 0, 0,                     0, 0, 0,                    0, 0, 0,                    0, 0, 0,                    0, 0, 0,                    0, 0, 0,                    0, 0, 0,                     0, 0, 0,                     0, 0, 0,                     0],\n",
       "[0, 0,  -0.0128571428571429, 0, 0,  -0.0171428571428571, 0, 0,   0.0128571428571429, 0, 0,  0.00428571428571429, 0, 0, -0.00309523809523809, 0, 0,  -0.00412698412698413, 0, 0,   0.00309523809523809, 0, 0,   0.00103174603174603, 0, 0,  -0.0371428571428572, 0, 0,  -0.0495238095238096, 0, 0,   0.0371428571428572, 0, 0,   0.0123809523809524, 0, 0,  0.00523809523809525, 0, 0,     0.006984126984127, 0, 0,  -0.00523809523809525, 0, 0,  -0.00174603174603175],\n",
       "[0, 0,                    0, 0, 0,                    0, 0, 0,                    0, 0, 0,                    0, 0, 0,                    0, 0, 0,                     0, 0, 0,                     0, 0, 0,                     0, 0, 0,                    0, 0, 0,                    0, 0, 0,                    0, 0, 0,                    0, 0, 0,                    0, 0, 0,                     0, 0, 0,                     0, 0, 0,                     0],\n",
       "[0, 0,                    0, 0, 0,                    0, 0, 0,                    0, 0, 0,                    0, 0, 0,                    0, 0, 0,                     0, 0, 0,                     0, 0, 0,                     0, 0, 0,                    0, 0, 0,                    0, 0, 0,                    0, 0, 0,                    0, 0, 0,                    0, 0, 0,                     0, 0, 0,                     0, 0, 0,                     0],\n",
       "[0, 0,    0.154285714285714, 0, 0,   0.0128571428571429, 0, 0,   -0.154285714285714, 0, 0,   0.0128571428571429, 0, 0,   0.0371428571428571, 0, 0,   0.00309523809523809, 0, 0,   -0.0371428571428571, 0, 0,   0.00309523809523809, 0, 0,    0.445714285714286, 0, 0,   0.0371428571428572, 0, 0,   -0.445714285714286, 0, 0,   0.0371428571428572, 0, 0,   -0.062857142857143, 0, 0,  -0.00523809523809525, 0, 0,     0.062857142857143, 0, 0,  -0.00523809523809525],\n",
       "[0, 0,                    0, 0, 0,                    0, 0, 0,                    0, 0, 0,                    0, 0, 0,                    0, 0, 0,                     0, 0, 0,                     0, 0, 0,                     0, 0, 0,                    0, 0, 0,                    0, 0, 0,                    0, 0, 0,                    0, 0, 0,                    0, 0, 0,                     0, 0, 0,                     0, 0, 0,                     0],\n",
       "[0, 0,                    0, 0, 0,                    0, 0, 0,                    0, 0, 0,                    0, 0, 0,                    0, 0, 0,                     0, 0, 0,                     0, 0, 0,                     0, 0, 0,                    0, 0, 0,                    0, 0, 0,                    0, 0, 0,                    0, 0, 0,                    0, 0, 0,                     0, 0, 0,                     0, 0, 0,                     0],\n",
       "[0, 0,  -0.0128571428571429, 0, 0,  0.00428571428571429, 0, 0,   0.0128571428571429, 0, 0,  -0.0171428571428571, 0, 0, -0.00309523809523809, 0, 0,   0.00103174603174603, 0, 0,   0.00309523809523809, 0, 0,  -0.00412698412698413, 0, 0,  -0.0371428571428572, 0, 0,   0.0123809523809524, 0, 0,   0.0371428571428572, 0, 0,  -0.0495238095238096, 0, 0,  0.00523809523809525, 0, 0,  -0.00174603174603175, 0, 0,  -0.00523809523809525, 0, 0,     0.006984126984127],\n",
       "[0, 0,                    0, 0, 0,                    0, 0, 0,                    0, 0, 0,                    0, 0, 0,                    0, 0, 0,                     0, 0, 0,                     0, 0, 0,                     0, 0, 0,                    0, 0, 0,                    0, 0, 0,                    0, 0, 0,                    0, 0, 0,                    0, 0, 0,                     0, 0, 0,                     0, 0, 0,                     0],\n",
       "[0, 0,                    0, 0, 0,                    0, 0, 0,                    0, 0, 0,                    0, 0, 0,                    0, 0, 0,                     0, 0, 0,                     0, 0, 0,                     0, 0, 0,                    0, 0, 0,                    0, 0, 0,                    0, 0, 0,                    0, 0, 0,                    0, 0, 0,                     0, 0, 0,                     0, 0, 0,                     0],\n",
       "[0, 0,   0.0371428571428571, 0, 0,  0.00309523809523809, 0, 0,  -0.0371428571428571, 0, 0,  0.00309523809523809, 0, 0,  0.00857142857142858, 0, 0,  0.000714285714285715, 0, 0,  -0.00857142857142858, 0, 0,  0.000714285714285715, 0, 0,    0.062857142857143, 0, 0,  0.00523809523809525, 0, 0,   -0.062857142857143, 0, 0,  0.00523809523809525, 0, 0,  -0.0114285714285714, 0, 0,  -0.00095238095238095, 0, 0,    0.0114285714285714, 0, 0,  -0.00095238095238095],\n",
       "[0, 0,                    0, 0, 0,                    0, 0, 0,                    0, 0, 0,                    0, 0, 0,                    0, 0, 0,                     0, 0, 0,                     0, 0, 0,                     0, 0, 0,                    0, 0, 0,                    0, 0, 0,                    0, 0, 0,                    0, 0, 0,                    0, 0, 0,                     0, 0, 0,                     0, 0, 0,                     0],\n",
       "[0, 0,                    0, 0, 0,                    0, 0, 0,                    0, 0, 0,                    0, 0, 0,                    0, 0, 0,                     0, 0, 0,                     0, 0, 0,                     0, 0, 0,                    0, 0, 0,                    0, 0, 0,                    0, 0, 0,                    0, 0, 0,                    0, 0, 0,                     0, 0, 0,                     0, 0, 0,                     0],\n",
       "[0, 0,  0.00309523809523809, 0, 0,  0.00412698412698413, 0, 0, -0.00309523809523809, 0, 0, -0.00103174603174603, 0, 0, 0.000714285714285715, 0, 0,  0.000952380952380954, 0, 0, -0.000714285714285715, 0, 0, -0.000238095238095239, 0, 0,  0.00523809523809525, 0, 0,    0.006984126984127, 0, 0, -0.00523809523809525, 0, 0, -0.00174603174603175, 0, 0, -0.00095238095238095, 0, 0,  -0.00126984126984127, 0, 0,   0.00095238095238095, 0, 0,  0.000317460317460317],\n",
       "[0, 0,                    0, 0, 0,                    0, 0, 0,                    0, 0, 0,                    0, 0, 0,                    0, 0, 0,                     0, 0, 0,                     0, 0, 0,                     0, 0, 0,                    0, 0, 0,                    0, 0, 0,                    0, 0, 0,                    0, 0, 0,                    0, 0, 0,                     0, 0, 0,                     0, 0, 0,                     0],\n",
       "[0, 0,                    0, 0, 0,                    0, 0, 0,                    0, 0, 0,                    0, 0, 0,                    0, 0, 0,                     0, 0, 0,                     0, 0, 0,                     0, 0, 0,                    0, 0, 0,                    0, 0, 0,                    0, 0, 0,                    0, 0, 0,                    0, 0, 0,                     0, 0, 0,                     0, 0, 0,                     0],\n",
       "[0, 0,  -0.0371428571428571, 0, 0, -0.00309523809523809, 0, 0,   0.0371428571428571, 0, 0, -0.00309523809523809, 0, 0, -0.00857142857142858, 0, 0, -0.000714285714285715, 0, 0,   0.00857142857142858, 0, 0, -0.000714285714285715, 0, 0,   -0.062857142857143, 0, 0, -0.00523809523809525, 0, 0,    0.062857142857143, 0, 0, -0.00523809523809525, 0, 0,   0.0114285714285714, 0, 0,   0.00095238095238095, 0, 0,   -0.0114285714285714, 0, 0,   0.00095238095238095],\n",
       "[0, 0,                    0, 0, 0,                    0, 0, 0,                    0, 0, 0,                    0, 0, 0,                    0, 0, 0,                     0, 0, 0,                     0, 0, 0,                     0, 0, 0,                    0, 0, 0,                    0, 0, 0,                    0, 0, 0,                    0, 0, 0,                    0, 0, 0,                     0, 0, 0,                     0, 0, 0,                     0],\n",
       "[0, 0,                    0, 0, 0,                    0, 0, 0,                    0, 0, 0,                    0, 0, 0,                    0, 0, 0,                     0, 0, 0,                     0, 0, 0,                     0, 0, 0,                    0, 0, 0,                    0, 0, 0,                    0, 0, 0,                    0, 0, 0,                    0, 0, 0,                     0, 0, 0,                     0, 0, 0,                     0],\n",
       "[0, 0,  0.00309523809523809, 0, 0, -0.00103174603174603, 0, 0, -0.00309523809523809, 0, 0,  0.00412698412698413, 0, 0, 0.000714285714285715, 0, 0, -0.000238095238095239, 0, 0, -0.000714285714285715, 0, 0,  0.000952380952380954, 0, 0,  0.00523809523809525, 0, 0, -0.00174603174603175, 0, 0, -0.00523809523809525, 0, 0,    0.006984126984127, 0, 0, -0.00095238095238095, 0, 0,  0.000317460317460317, 0, 0,   0.00095238095238095, 0, 0,  -0.00126984126984127]])"
      ]
     },
     "execution_count": 143,
     "metadata": {},
     "output_type": "execute_result"
    }
   ],
   "source": [
    "sp.Matrix(kG0_1.toarray())"
   ]
  },
  {
   "cell_type": "code",
   "execution_count": 163,
   "metadata": {},
   "outputs": [
    {
     "data": {
      "text/latex": [
       "$\\displaystyle \\left[\\begin{array}{cccccccccccccccc}-0.445714285714286 & -0.0628571428571429 & -0.154285714285714 & 0.00714285714285718 & -0.0371428571428572 & -0.00523809523809524 & -0.0128571428571428 & 0 & 0.445714285714286 & 0.0628571428571429 & 0.154285714285714 & -0.0571428571428572 & -0.0371428571428572 & -0.00523809523809524 & -0.0128571428571428 & 0.00714285714285717\\\\-0.0628571428571429 & -0.0114285714285714 & -0.0371428571428572 & 0.0011904761904762 & -0.00523809523809524 & -0.000952380952380952 & -0.0030952380952381 & 0 & 0.0628571428571429 & 0.0114285714285714 & 0.0371428571428572 & -0.00952380952380953 & -0.00523809523809524 & -0.000952380952380952 & -0.0030952380952381 & 0.00119047619047619\\\\-0.154285714285714 & -0.0371428571428572 & -0.445714285714286 & 0.00714285714285718 & -0.0128571428571428 & -0.0030952380952381 & -0.0371428571428572 & 0 & 0.154285714285714 & 0.0371428571428572 & 0.445714285714286 & -0.0571428571428572 & -0.0128571428571428 & -0.0030952380952381 & -0.0371428571428572 & 0.00714285714285717\\\\0.00714285714285718 & 0.0011904761904762 & 0.00714285714285718 & -0.0210678210678211 & 0.019047619047619 & 0.00317460317460317 & 0.019047619047619 & -0.00497835497835496 & -0.00714285714285718 & -0.0011904761904762 & -0.00714285714285718 & -0.00274170274170273 & -0.0119047619047619 & -0.00198412698412698 & -0.0119047619047619 & 0.00295815295815297\\\\-0.0371428571428572 & -0.00523809523809524 & -0.0128571428571428 & 0.019047619047619 & -0.0495238095238095 & -0.00698412698412698 & -0.0171428571428571 & 0.00357142857142857 & 0.0371428571428572 & 0.00523809523809524 & 0.0128571428571428 & -0.0023809523809524 & 0.0123809523809524 & 0.00174603174603175 & 0.00428571428571428 & -0.00119047619047618\\\\-0.00523809523809524 & -0.000952380952380952 & -0.0030952380952381 & 0.00317460317460317 & -0.00698412698412698 & -0.00126984126984127 & -0.00412698412698413 & 0.000595238095238095 & 0.00523809523809524 & 0.000952380952380952 & 0.0030952380952381 & -0.0003968253968254 & 0.00174603174603175 & 0.000317460317460317 & 0.00103174603174603 & -0.000198412698412697\\\\-0.0128571428571428 & -0.0030952380952381 & -0.0371428571428572 & 0.019047619047619 & -0.0171428571428571 & -0.00412698412698413 & -0.0495238095238095 & 0.00357142857142857 & 0.0128571428571428 & 0.0030952380952381 & 0.0371428571428572 & -0.0023809523809524 & 0.00428571428571428 & 0.00103174603174603 & 0.0123809523809524 & -0.00119047619047618\\\\0 & 0 & 0 & -0.00497835497835496 & 0.00357142857142857 & 0.000595238095238095 & 0.00357142857142857 & -0.00129870129870129 & 0 & 0 & 0 & -0.00216450216450218 & -0.00357142857142857 & -0.000595238095238095 & -0.00357142857142857 & 0.00108225108225109\\\\0.445714285714286 & 0.0628571428571429 & 0.154285714285714 & -0.00714285714285718 & 0.0371428571428572 & 0.00523809523809524 & 0.0128571428571428 & 0 & -0.445714285714286 & -0.0628571428571429 & -0.154285714285714 & 0.0571428571428572 & 0.0371428571428572 & 0.00523809523809524 & 0.0128571428571428 & -0.00714285714285717\\\\0.0628571428571429 & 0.0114285714285714 & 0.0371428571428572 & -0.0011904761904762 & 0.00523809523809524 & 0.000952380952380952 & 0.0030952380952381 & 0 & -0.0628571428571429 & -0.0114285714285714 & -0.0371428571428572 & 0.00952380952380953 & 0.00523809523809524 & 0.000952380952380952 & 0.0030952380952381 & -0.00119047619047619\\\\0.154285714285714 & 0.0371428571428572 & 0.445714285714286 & -0.00714285714285718 & 0.0128571428571428 & 0.0030952380952381 & 0.0371428571428572 & 0 & -0.154285714285714 & -0.0371428571428572 & -0.445714285714286 & 0.0571428571428572 & 0.0128571428571428 & 0.0030952380952381 & 0.0371428571428572 & -0.00714285714285717\\\\-0.0571428571428572 & -0.00952380952380953 & -0.0571428571428572 & -0.0027417027417028 & -0.0023809523809524 & -0.0003968253968254 & -0.0023809523809524 & -0.00216450216450218 & 0.0571428571428572 & 0.00952380952380953 & 0.0571428571428572 & -0.106782106782107 & -0.0547619047619048 & -0.00912698412698413 & -0.0547619047619048 & 0.0137085137085137\\\\-0.0371428571428572 & -0.00523809523809524 & -0.0128571428571428 & -0.0119047619047619 & 0.0123809523809524 & 0.00174603174603175 & 0.00428571428571428 & -0.00357142857142857 & 0.0371428571428572 & 0.00523809523809524 & 0.0128571428571428 & -0.0547619047619048 & -0.0495238095238095 & -0.00698412698412698 & -0.0171428571428571 & 0.00833333333333334\\\\-0.00523809523809524 & -0.000952380952380952 & -0.0030952380952381 & -0.00198412698412698 & 0.00174603174603175 & 0.000317460317460317 & 0.00103174603174603 & -0.000595238095238095 & 0.00523809523809524 & 0.000952380952380952 & 0.0030952380952381 & -0.00912698412698413 & -0.00698412698412698 & -0.00126984126984127 & -0.00412698412698413 & 0.00138888888888889\\\\-0.0128571428571428 & -0.0030952380952381 & -0.0371428571428572 & -0.0119047619047619 & 0.00428571428571428 & 0.00103174603174603 & 0.0123809523809524 & -0.00357142857142857 & 0.0128571428571428 & 0.0030952380952381 & 0.0371428571428572 & -0.0547619047619048 & -0.0171428571428571 & -0.00412698412698413 & -0.0495238095238095 & 0.00833333333333334\\\\0.00714285714285717 & 0.00119047619047619 & 0.00714285714285717 & 0.00295815295815297 & -0.00119047619047618 & -0.000198412698412697 & -0.00119047619047618 & 0.00108225108225109 & -0.00714285714285717 & -0.00119047619047619 & -0.00714285714285717 & 0.0137085137085137 & 0.00833333333333334 & 0.00138888888888889 & 0.00833333333333334 & -0.0028860028860029\\end{array}\\right]$"
      ],
      "text/plain": [
       "Matrix([\n",
       "[  -0.445714285714286,   -0.0628571428571429,  -0.154285714285714,  0.00714285714285718,  -0.0371428571428572,  -0.00523809523809524,  -0.0128571428571428,                     0,    0.445714285714286,   0.0628571428571429,    0.154285714285714,  -0.0571428571428572,  -0.0371428571428572,  -0.00523809523809524,  -0.0128571428571428,   0.00714285714285717],\n",
       "[ -0.0628571428571429,   -0.0114285714285714, -0.0371428571428572,   0.0011904761904762, -0.00523809523809524, -0.000952380952380952,  -0.0030952380952381,                     0,   0.0628571428571429,   0.0114285714285714,   0.0371428571428572, -0.00952380952380953, -0.00523809523809524, -0.000952380952380952,  -0.0030952380952381,   0.00119047619047619],\n",
       "[  -0.154285714285714,   -0.0371428571428572,  -0.445714285714286,  0.00714285714285718,  -0.0128571428571428,   -0.0030952380952381,  -0.0371428571428572,                     0,    0.154285714285714,   0.0371428571428572,    0.445714285714286,  -0.0571428571428572,  -0.0128571428571428,   -0.0030952380952381,  -0.0371428571428572,   0.00714285714285717],\n",
       "[ 0.00714285714285718,    0.0011904761904762, 0.00714285714285718,  -0.0210678210678211,    0.019047619047619,   0.00317460317460317,    0.019047619047619,  -0.00497835497835496, -0.00714285714285718,  -0.0011904761904762, -0.00714285714285718, -0.00274170274170273,  -0.0119047619047619,  -0.00198412698412698,  -0.0119047619047619,   0.00295815295815297],\n",
       "[ -0.0371428571428572,  -0.00523809523809524, -0.0128571428571428,    0.019047619047619,  -0.0495238095238095,  -0.00698412698412698,  -0.0171428571428571,   0.00357142857142857,   0.0371428571428572,  0.00523809523809524,   0.0128571428571428,  -0.0023809523809524,   0.0123809523809524,   0.00174603174603175,  0.00428571428571428,  -0.00119047619047618],\n",
       "[-0.00523809523809524, -0.000952380952380952, -0.0030952380952381,  0.00317460317460317, -0.00698412698412698,  -0.00126984126984127, -0.00412698412698413,  0.000595238095238095,  0.00523809523809524, 0.000952380952380952,   0.0030952380952381,  -0.0003968253968254,  0.00174603174603175,  0.000317460317460317,  0.00103174603174603, -0.000198412698412697],\n",
       "[ -0.0128571428571428,   -0.0030952380952381, -0.0371428571428572,    0.019047619047619,  -0.0171428571428571,  -0.00412698412698413,  -0.0495238095238095,   0.00357142857142857,   0.0128571428571428,   0.0030952380952381,   0.0371428571428572,  -0.0023809523809524,  0.00428571428571428,   0.00103174603174603,   0.0123809523809524,  -0.00119047619047618],\n",
       "[                   0,                     0,                   0, -0.00497835497835496,  0.00357142857142857,  0.000595238095238095,  0.00357142857142857,  -0.00129870129870129,                    0,                    0,                    0, -0.00216450216450218, -0.00357142857142857, -0.000595238095238095, -0.00357142857142857,   0.00108225108225109],\n",
       "[   0.445714285714286,    0.0628571428571429,   0.154285714285714, -0.00714285714285718,   0.0371428571428572,   0.00523809523809524,   0.0128571428571428,                     0,   -0.445714285714286,  -0.0628571428571429,   -0.154285714285714,   0.0571428571428572,   0.0371428571428572,   0.00523809523809524,   0.0128571428571428,  -0.00714285714285717],\n",
       "[  0.0628571428571429,    0.0114285714285714,  0.0371428571428572,  -0.0011904761904762,  0.00523809523809524,  0.000952380952380952,   0.0030952380952381,                     0,  -0.0628571428571429,  -0.0114285714285714,  -0.0371428571428572,  0.00952380952380953,  0.00523809523809524,  0.000952380952380952,   0.0030952380952381,  -0.00119047619047619],\n",
       "[   0.154285714285714,    0.0371428571428572,   0.445714285714286, -0.00714285714285718,   0.0128571428571428,    0.0030952380952381,   0.0371428571428572,                     0,   -0.154285714285714,  -0.0371428571428572,   -0.445714285714286,   0.0571428571428572,   0.0128571428571428,    0.0030952380952381,   0.0371428571428572,  -0.00714285714285717],\n",
       "[ -0.0571428571428572,  -0.00952380952380953, -0.0571428571428572,  -0.0027417027417028,  -0.0023809523809524,   -0.0003968253968254,  -0.0023809523809524,  -0.00216450216450218,   0.0571428571428572,  0.00952380952380953,   0.0571428571428572,   -0.106782106782107,  -0.0547619047619048,  -0.00912698412698413,  -0.0547619047619048,    0.0137085137085137],\n",
       "[ -0.0371428571428572,  -0.00523809523809524, -0.0128571428571428,  -0.0119047619047619,   0.0123809523809524,   0.00174603174603175,  0.00428571428571428,  -0.00357142857142857,   0.0371428571428572,  0.00523809523809524,   0.0128571428571428,  -0.0547619047619048,  -0.0495238095238095,  -0.00698412698412698,  -0.0171428571428571,   0.00833333333333334],\n",
       "[-0.00523809523809524, -0.000952380952380952, -0.0030952380952381, -0.00198412698412698,  0.00174603174603175,  0.000317460317460317,  0.00103174603174603, -0.000595238095238095,  0.00523809523809524, 0.000952380952380952,   0.0030952380952381, -0.00912698412698413, -0.00698412698412698,  -0.00126984126984127, -0.00412698412698413,   0.00138888888888889],\n",
       "[ -0.0128571428571428,   -0.0030952380952381, -0.0371428571428572,  -0.0119047619047619,  0.00428571428571428,   0.00103174603174603,   0.0123809523809524,  -0.00357142857142857,   0.0128571428571428,   0.0030952380952381,   0.0371428571428572,  -0.0547619047619048,  -0.0171428571428571,  -0.00412698412698413,  -0.0495238095238095,   0.00833333333333334],\n",
       "[ 0.00714285714285717,   0.00119047619047619, 0.00714285714285717,  0.00295815295815297, -0.00119047619047618, -0.000198412698412697, -0.00119047619047618,   0.00108225108225109, -0.00714285714285717, -0.00119047619047619, -0.00714285714285717,   0.0137085137085137,  0.00833333333333334,   0.00138888888888889,  0.00833333333333334,   -0.0028860028860029]])"
      ]
     },
     "execution_count": 163,
     "metadata": {},
     "output_type": "execute_result"
    }
   ],
   "source": [
    "sp.Matrix(KG)"
   ]
  },
  {
   "cell_type": "markdown",
   "metadata": {},
   "source": [
    "## Check with composipy"
   ]
  },
  {
   "cell_type": "code",
   "execution_count": null,
   "metadata": {},
   "outputs": [],
   "source": [
    "from composipy import Laminate, Ply, buckling_load"
   ]
  },
  {
   "cell_type": "code",
   "execution_count": null,
   "metadata": {},
   "outputs": [],
   "source": [
    "ply = Ply(E1, E2, v12, G12, t)\n",
    "layup_1 = [(45, ply),(0, ply),(0, ply),(45, ply),(0, ply),(0, ply),(45, ply)]\n",
    "laminate_1 = Laminate(layup_1)"
   ]
  },
  {
   "cell_type": "code",
   "execution_count": null,
   "metadata": {},
   "outputs": [],
   "source": [
    "load = buckling_load(a, b, laminate_1.D, shape_plot = False , eig = True, n=10)"
   ]
  },
  {
   "cell_type": "code",
   "execution_count": null,
   "metadata": {},
   "outputs": [
    {
     "data": {
      "text/plain": [
       "array([4.14270828e+00, 6.21522205e+00, 1.06650914e+01, 1.65710358e+01,\n",
       "       1.70242153e+01, 1.91554561e+01, 2.45809295e+01, 2.48385030e+01,\n",
       "       2.52623245e+01, 3.27636136e+01, 3.53001050e+01, 3.72839695e+01,\n",
       "       4.01613869e+01, 4.26490962e+01, 4.27935413e+01, 4.67661371e+01,\n",
       "       4.71871495e+01, 5.44108590e+01, 5.59663308e+01, 6.09072064e+01,\n",
       "       6.62675469e+01, 6.72164889e+01, 6.81862074e+01, 6.93560842e+01,\n",
       "       7.10330003e+01, 7.64561102e+01, 7.66218673e+01, 8.06194972e+01,\n",
       "       8.36422449e+01, 8.68293907e+01, 9.38431588e+01, 9.44488356e+01,\n",
       "       9.59106601e+01, 9.83663621e+01, 9.94734984e+01, 1.00992872e+02,\n",
       "       1.03585297e+02, 1.06783130e+02, 1.07936385e+02, 1.13012131e+02,\n",
       "       1.14423916e+02, 1.14554965e+02, 1.25606923e+02, 1.28759733e+02,\n",
       "       1.31058289e+02, 1.39329386e+02, 1.49151952e+02, 1.52444711e+02,\n",
       "       1.53256367e+02, 1.55402551e+02, 1.60648911e+02, 1.71172156e+02,\n",
       "       1.72395090e+02, 1.87014978e+02, 2.01935205e+02, 2.03008923e+02,\n",
       "       2.06428557e+02, 2.06951001e+02, 2.14931744e+02, 2.21277409e+02,\n",
       "       2.23195336e+02, 2.27246556e+02, 2.63319641e+02, 2.65149882e+02,\n",
       "       2.67699365e+02, 2.68677526e+02, 2.69037878e+02, 2.77420049e+02,\n",
       "       2.84131899e+02, 3.18920870e+02, 3.35578912e+02, 3.39164667e+02,\n",
       "       3.39331715e+02, 3.53687198e+02, 3.61325101e+02, 3.78175819e+02,\n",
       "       3.85130423e+02, 3.93373332e+02, 4.14390005e+02, 4.18123881e+02,\n",
       "       4.31882633e+02, 4.47033766e+02, 4.61077438e+02, 5.15257632e+02,\n",
       "       5.64204258e+02, 5.71986614e+02, 6.14844209e+02, 6.19423547e+02,\n",
       "       6.55999815e+02, 8.07729484e+02, 8.50807155e+02, 1.07078315e+03,\n",
       "       1.23729958e+03, 1.24650640e+03, 1.66278407e+03, 2.26724798e+03,\n",
       "       2.47766651e+03, 3.82151471e+03, 6.07059865e+03, 9.19734606e+03])"
      ]
     },
     "execution_count": 191,
     "metadata": {},
     "output_type": "execute_result"
    }
   ],
   "source": [
    "a = abs(load['eigen values'])\n",
    "a.sort()\n",
    "a"
   ]
  },
  {
   "cell_type": "code",
   "execution_count": null,
   "metadata": {},
   "outputs": [],
   "source": []
  },
  {
   "cell_type": "code",
   "execution_count": null,
   "metadata": {},
   "outputs": [],
   "source": []
  },
  {
   "cell_type": "code",
   "execution_count": null,
   "metadata": {},
   "outputs": [],
   "source": []
  },
  {
   "cell_type": "code",
   "execution_count": null,
   "metadata": {},
   "outputs": [],
   "source": []
  }
 ],
 "metadata": {
  "kernelspec": {
   "display_name": "Python 3 (ipykernel)",
   "language": "python",
   "name": "python3"
  },
  "language_info": {
   "codemirror_mode": {
    "name": "ipython",
    "version": 3
   },
   "file_extension": ".py",
   "mimetype": "text/x-python",
   "name": "python",
   "nbconvert_exporter": "python",
   "pygments_lexer": "ipython3",
   "version": "3.9.12"
  },
  "vscode": {
   "interpreter": {
    "hash": "c1590602456d7cb2bb11a9c056450b313acab0eb77422ae1a602feaa944934ec"
   }
  }
 },
 "nbformat": 4,
 "nbformat_minor": 2
}
