{
 "cells": [
  {
   "cell_type": "code",
   "execution_count": 95,
   "metadata": {},
   "outputs": [],
   "source": [
    "import numpy as np\n",
    "import sympy as sp\n",
    "from scipy.linalg import eig"
   ]
  },
  {
   "cell_type": "code",
   "execution_count": 96,
   "metadata": {},
   "outputs": [],
   "source": [
    "#Properties (N and mm)\n",
    "E1 = 60800\n",
    "E2 = 58250\n",
    "v12 = 0.07\n",
    "G12 = 4550\n",
    "t = 0.21\n",
    "v21 = v12 * E2 / E1\n",
    "\n",
    "# Plate Parameters\n",
    "a = 360\n",
    "b = 360\n",
    "m = 7\n",
    "n = 7\n",
    "\n",
    "#Boundary conditions\n",
    "t1 = 0 # 0=> no translation, 1 => translation\n",
    "t2 = 0 \n",
    "r1 = 1 # 1 => there is rotation, 0 => null rotatiion \n",
    "r2 = 1\n",
    "\n",
    "# Loads\n",
    "Nxx = -1\n",
    "Nyy = 0\n",
    "Nxy = 0"
   ]
  },
  {
   "cell_type": "markdown",
   "metadata": {},
   "source": [
    "**[Q] in the principal direction**  pg. 52 chap 2 of the three regions"
   ]
  },
  {
   "cell_type": "code",
   "execution_count": 97,
   "metadata": {},
   "outputs": [],
   "source": [
    "Q_0 = np.array([[E1/(1-v12*v21), v12*E2/(1-v12*v21), 0],\n",
    "                 [v12*E2/(1-v12*v21), E2/(1-v12*v21),0],\n",
    "                 [0, 0, G12]])"
   ]
  },
  {
   "cell_type": "markdown",
   "metadata": {},
   "source": [
    "**[Q] rotated in theta direction** pg. 53 and 54 of chap 2"
   ]
  },
  {
   "cell_type": "code",
   "execution_count": 98,
   "metadata": {},
   "outputs": [],
   "source": [
    "layup = [(45,'f'),(0,'f'),(0,'f'),(45,'f'),(0,'f'),(0,'f'),(45,'f')]\n",
    "Q_layup = []\n",
    "\n",
    "#Layup assembly\n",
    "for theta in layup:\n",
    "    c = np.cos(theta[0]*np.pi/180)\n",
    "    s = np.sin(theta[0]*np.pi/180)\n",
    "\n",
    "    T_real = np.array([[c**2, s**2, 2*c*s],\n",
    "                       [s**2, c**2, -2*c*s],\n",
    "                       [-c*s, c*s, c**2-s**2]])\n",
    "\n",
    "    T_engineering =  np.array([[c**2, s**2, c*s],\n",
    "                               [s**2, c**2, -c*s],\n",
    "                               [-2*c*s, 2*c*s, c**2-s**2]])\n",
    "\n",
    "\n",
    "    if theta[1] == 'f':\n",
    "        Q_layup.append((np.linalg.inv(T_real))@Q_0@T_engineering)\n"
   ]
  },
  {
   "cell_type": "markdown",
   "metadata": {},
   "source": [
    "**[A], [B], [D]** pg. 24 fo chap 4 of the three regions"
   ]
  },
  {
   "cell_type": "code",
   "execution_count": 99,
   "metadata": {},
   "outputs": [],
   "source": [
    "t_position = [-3.5*t, -2.5*t, -1.5*t, -0.5*t, 0.5*t, 1.5*t, 2.5*t, 3.5*t]\n",
    "\n",
    "A = np.zeros(9).reshape(3,3)\n",
    "B = np.zeros(9).reshape(3,3)\n",
    "D = np.zeros(9).reshape(3,3)\n",
    "\n",
    "for i in enumerate(Q_layup):\n",
    "    zk1 = t_position[i[0]+1]\n",
    "    zk0 = t_position[i[0]]\n",
    "    \n",
    "    A += (zk1 - zk0)*i[1]\n",
    "    B += (1/2)*(zk1**2 - zk0**2)*i[1]\n",
    "    D += (1/3)*(zk1**3 - zk0**3)*i[1]\n",
    "\n",
    "\n",
    "F = np.vstack([\n",
    "    np.hstack([A, B]),\n",
    "    np.hstack([B, D])\n",
    "])\n",
    "\n",
    "F = sp.Matrix(F)"
   ]
  },
  {
   "cell_type": "code",
   "execution_count": null,
   "metadata": {},
   "outputs": [],
   "source": []
  },
  {
   "cell_type": "markdown",
   "metadata": {},
   "source": [
    "### Rayleigh-Ritz formulation"
   ]
  },
  {
   "cell_type": "code",
   "execution_count": 100,
   "metadata": {},
   "outputs": [],
   "source": [
    "Ny = sp.symbols('Ny')\n",
    "xi, eta  = sp.symbols(['xi', 'eta'])"
   ]
  },
  {
   "cell_type": "code",
   "execution_count": 119,
   "metadata": {},
   "outputs": [
    {
     "data": {
      "text/latex": [
       "$\\displaystyle \\frac{\\xi^{4}}{8} - \\frac{\\xi^{2}}{4} + 0.125$"
      ],
      "text/plain": [
       "xi**4/8 - xi**2/4 + 0.125"
      ]
     },
     "execution_count": 119,
     "metadata": {},
     "output_type": "execute_result"
    }
   ],
   "source": [
    "xi**4/8 - xi**2/4 + 0.125"
   ]
  },
  {
   "cell_type": "code",
   "execution_count": 101,
   "metadata": {},
   "outputs": [],
   "source": [
    "# Bardell terms\n",
    "\n",
    "f_xi = {0: t1*(0.25*xi**3 - 0.75*xi + 0.5),\n",
    "        1: r1*(0.125*xi**3 - 0.125*xi**2 - 0.125*xi + 0.125),\n",
    "        2: t2*(-0.25*xi**3 + 0.75*xi + 0.5),\n",
    "        3: r2*(-1/8 - 1/8*xi + 1/8*xi**2 + 1/8*xi**3),\n",
    "        4: xi**4/8 - xi**2/4 + 0.125,\n",
    "        5: xi**5/8 - xi**3/4 + xi/8,\n",
    "        6: 7*xi**6/48 - 5*xi**4/16 + 3*xi**2/16 - 0.0208333333333333,\n",
    "        7: 3*xi**7/16 - 7*xi**5/16 + 5*xi**3/16 - xi/16,\n",
    "        8: 33*xi**8/128 - 21*xi**6/32 + 35*xi**4/64 - 5*xi**2/32 + 0.0078125,\n",
    "        9: 143*xi**9/384 - 33*xi**7/32 + 63*xi**5/64 - 35*xi**3/96 + 5*xi/128}\n",
    "\n",
    "f_eta = {0: t1*(0.25*eta**3 - 0.75*eta + 0.5),\n",
    "        1: r1*(0.125*eta**3 - 0.125*eta**2 - 0.125*eta + 0.125),\n",
    "        2: t2*(-0.25*eta**3 + 0.75*eta + 0.5),\n",
    "        3: r2*(-1/8 - 1/8*xi + 1/8*xi**2 + 1/8*xi**3),\n",
    "        4: eta**4/8 - eta**2/4 + 0.125,\n",
    "        5: eta**5/8 - eta**3/4 + eta/8,\n",
    "        6: 7*eta**6/48 - 5*eta**4/16 + 3*eta**2/16 - 0.0208333333333333,\n",
    "        7: 3*eta**7/16 - 7*eta**5/16 + 5*eta**3/16 - eta/16,\n",
    "        8: 33*eta**8/128 - 21*eta**6/32 + 35*eta**4/64 - 5*eta**2/32 + 0.0078125,\n",
    "        9: 143*eta**9/384 - 33*eta**7/32 + 63*eta**5/64 - 35*eta**3/96 + 5*eta/128}"
   ]
  },
  {
   "cell_type": "code",
   "execution_count": 102,
   "metadata": {},
   "outputs": [],
   "source": [
    "S = [[]]\n",
    "\n",
    "for i in range(m):\n",
    "    for j in range(n):\n",
    "        S[0].append(f_xi[i]*f_eta[j])\n",
    "S = sp.Matrix(S)\n",
    "\n",
    "\n",
    "B0_11 = np.array((2/a) * sp.diff(S, xi))\n",
    "B0_22 = np.array((2/b) * sp.diff(S, eta))\n",
    "B0_31 = np.array((2/b)*sp.diff(S, eta))\n",
    "B0_32 = np.array((2/a)*sp.diff(S, xi))\n",
    "B0_43 = np.array(-(4/a**2) * sp.diff(S, xi, xi))\n",
    "B0_53 = np.array(-(4/b**2) * sp.diff(S, eta, eta))\n",
    "B0_63 = np.array(-2*(4/(a*b)) * sp.diff(S, xi, eta))\n",
    "Z = np.zeros(m*n).reshape(1, m*n)\n",
    "\n",
    "B0_kappa = sp.Matrix([\n",
    "    np.hstack([*B0_11, *Z, *Z]),\n",
    "    np.hstack([*Z, *B0_22, *Z]),\n",
    "    np.hstack([*B0_31, *B0_32, *Z]),\n",
    "    np.hstack([*Z, *Z, *B0_43]),\n",
    "    np.hstack([*Z, *Z, *B0_53]),\n",
    "    np.hstack([*Z, *Z, *B0_63])\n",
    "])\n",
    "\n",
    "\n",
    "F = sp.Matrix(F)\n",
    "\n",
    "\n",
    "G = sp.Matrix([\n",
    "    np.hstack([*Z, *Z, *sp.diff(S, xi)*(2/a)]),\n",
    "    np.hstack([*Z, *Z, *sp.diff(S, eta)*(2/b)])\n",
    " ])\n",
    "G = sp.Matrix(G)\n",
    "\n",
    "N = sp.Matrix([[Nxx, Nxy],\n",
    "                [Nxy, Nyy]])"
   ]
  },
  {
   "cell_type": "code",
   "execution_count": 103,
   "metadata": {},
   "outputs": [
    {
     "data": {
      "text/plain": [
       "(2, 147)"
      ]
     },
     "execution_count": 103,
     "metadata": {},
     "output_type": "execute_result"
    }
   ],
   "source": [
    "G.shape"
   ]
  },
  {
   "cell_type": "code",
   "execution_count": 104,
   "metadata": {},
   "outputs": [],
   "source": [
    "KG = sp.integrate(\n",
    "     sp.integrate(\n",
    "        G.T * N * G, (xi, -1, 1)), (eta, -1, 1)\n",
    ") * (a*b/4)\n",
    "\n",
    "KG = np.array(KG, dtype=np.longdouble)"
   ]
  },
  {
   "cell_type": "code",
   "execution_count": 105,
   "metadata": {},
   "outputs": [
    {
     "name": "stdout",
     "output_type": "stream",
     "text": [
      "(147, 147)\n",
      "-0.0028860028860028994\n",
      "0.0017316017316017398\n"
     ]
    }
   ],
   "source": [
    "print(KG.shape)\n",
    "print(KG.min())\n",
    "print(KG.max())"
   ]
  },
  {
   "cell_type": "code",
   "execution_count": 106,
   "metadata": {},
   "outputs": [],
   "source": [
    "K = sp.integrate(\n",
    "    sp.integrate(\n",
    "        B0_kappa.T * F * B0_kappa, (xi, -1, 1)), (eta, -1, 1)\n",
    ") * (a*b/4)\n",
    "\n",
    "K = np.array(K, dtype=np.longdouble)"
   ]
  },
  {
   "cell_type": "code",
   "execution_count": 107,
   "metadata": {
    "scrolled": true
   },
   "outputs": [
    {
     "name": "stdout",
     "output_type": "stream",
     "text": [
      "(147, 147)\n",
      "-128.6730252325013\n",
      "214.4550420541692\n"
     ]
    }
   ],
   "source": [
    "print(K.shape)\n",
    "print(K.min())\n",
    "print(K.max())"
   ]
  },
  {
   "cell_type": "code",
   "execution_count": 109,
   "metadata": {},
   "outputs": [],
   "source": [
    "A = K\n",
    "B = KG\n",
    "\n",
    "eig_values, eig_vectors = eig(A, B)"
   ]
  },
  {
   "cell_type": "code",
   "execution_count": 110,
   "metadata": {},
   "outputs": [
    {
     "data": {
      "text/plain": [
       "(nan+0j)"
      ]
     },
     "execution_count": 110,
     "metadata": {},
     "output_type": "execute_result"
    }
   ],
   "source": [
    "eig_values.min()"
   ]
  },
  {
   "cell_type": "code",
   "execution_count": 111,
   "metadata": {},
   "outputs": [
    {
     "data": {
      "text/plain": [
       "array([nan+0.j, nan+0.j, nan+0.j, nan+0.j, nan+0.j, nan+0.j, nan+0.j,\n",
       "       nan+0.j, nan+0.j, nan+0.j, nan+0.j, nan+0.j, nan+0.j, nan+0.j,\n",
       "       nan+0.j, nan+0.j, nan+0.j, nan+0.j, nan+0.j, nan+0.j, nan+0.j,\n",
       "       nan+0.j, nan+0.j, nan+0.j, nan+0.j, nan+0.j, nan+0.j, nan+0.j,\n",
       "       nan+0.j, nan+0.j, nan+0.j, nan+0.j, nan+0.j, nan+0.j, nan+0.j,\n",
       "       nan+0.j, nan+0.j, nan+0.j, nan+0.j, nan+0.j, nan+0.j, nan+0.j,\n",
       "       inf+0.j, inf+0.j, inf+0.j, inf+0.j, inf+0.j, inf+0.j, inf+0.j,\n",
       "       inf+0.j, inf+0.j, inf+0.j, inf+0.j, inf+0.j, inf+0.j, inf+0.j,\n",
       "       inf+0.j, inf+0.j, inf+0.j, inf+0.j, inf+0.j, inf+0.j, inf+0.j,\n",
       "       inf+0.j, inf+0.j, inf+0.j, inf+0.j, inf+0.j, inf+0.j, inf+0.j,\n",
       "       inf+0.j, inf+0.j, inf+0.j, inf+0.j, inf+0.j, nan+0.j, nan+0.j,\n",
       "       nan+0.j, nan+0.j, nan+0.j, nan+0.j, nan+0.j, nan+0.j, nan+0.j,\n",
       "       nan+0.j, nan+0.j, nan+0.j, nan+0.j, nan+0.j, nan+0.j, nan+0.j,\n",
       "       nan+0.j, nan+0.j, nan+0.j, nan+0.j, nan+0.j, nan+0.j, nan+0.j,\n",
       "       nan+0.j, nan+0.j, nan+0.j, nan+0.j, nan+0.j, nan+0.j, nan+0.j,\n",
       "       nan+0.j, nan+0.j, nan+0.j, nan+0.j, nan+0.j, nan+0.j, nan+0.j,\n",
       "       nan+0.j, nan+0.j, nan+0.j, nan+0.j, nan+0.j, nan+0.j, nan+0.j,\n",
       "       nan+0.j, nan+0.j, nan+0.j, nan+0.j, nan+0.j, nan+0.j, nan+0.j,\n",
       "       nan+0.j, nan+0.j, nan+0.j, nan+0.j, nan+0.j, nan+0.j, nan+0.j,\n",
       "       nan+0.j, nan+0.j, nan+0.j, nan+0.j, nan+0.j, nan+0.j, nan+0.j,\n",
       "       nan+0.j, nan+0.j, nan+0.j, nan+0.j, nan+0.j, nan+0.j, nan+0.j])"
      ]
     },
     "execution_count": 111,
     "metadata": {},
     "output_type": "execute_result"
    }
   ],
   "source": [
    "eig_values"
   ]
  },
  {
   "cell_type": "markdown",
   "metadata": {},
   "source": [
    "## Check with compmech"
   ]
  },
  {
   "cell_type": "code",
   "execution_count": 112,
   "metadata": {},
   "outputs": [],
   "source": [
    "from compmech.panel.panel import Panel\n",
    "from compmech.analysis import lb, static"
   ]
  },
  {
   "cell_type": "code",
   "execution_count": 113,
   "metadata": {},
   "outputs": [],
   "source": [
    "# skin panels\n",
    "laminaprop = (E1, E2, v12, G12, G12, G12)\n",
    "stack = [45, 0, 0, 45, 0, 0, 45,]\n",
    "p1 = Panel(group='skin', Nxy=-1, x0=0, y0=0., a=a, b=b,m=7, n=7, plyt=t, stack=stack, laminaprop=laminaprop)"
   ]
  },
  {
   "cell_type": "code",
   "execution_count": 114,
   "metadata": {},
   "outputs": [],
   "source": [
    "# boundary conditions CCCC\n",
    "p1.u1tx = 0 ; p1.u1rx = 1 ; p1.u2tx = 0 ; p1.u2rx = 1\n",
    "p1.v1tx = 0 ; p1.v1rx = 1 ; p1.v2tx = 0 ; p1.v2rx = 1\n",
    "p1.w1tx = 0 ; p1.w1rx = 1 ; p1.w2tx = 0 ; p1.w2rx = 1\n",
    "p1.u1ty = 0 ; p1.u1ry = 1 ; p1.u2ty = 0 ; p1.u2ry = 1\n",
    "p1.v1ty = 0 ; p1.v1ry = 1 ; p1.v2ty = 0 ; p1.v2ry = 1\n",
    "p1.w1ty = 0 ; p1.w1ry = 1 ; p1.w2ty = 0 ; p1.w2ry = 1"
   ]
  },
  {
   "cell_type": "code",
   "execution_count": 115,
   "metadata": {},
   "outputs": [
    {
     "data": {
      "text/plain": [
       "0.0017316017316017398"
      ]
     },
     "execution_count": 115,
     "metadata": {},
     "output_type": "execute_result"
    }
   ],
   "source": [
    "KG.max()"
   ]
  },
  {
   "cell_type": "code",
   "execution_count": 116,
   "metadata": {},
   "outputs": [
    {
     "name": "stdout",
     "output_type": "stream",
     "text": [
      "\t\tCalculating k0... \n",
      "\t\tfinished!\n",
      "\t\tCalculating kG0... \n",
      "\t\tfinished!\n"
     ]
    },
    {
     "data": {
      "text/plain": [
       "array([9.70483681e+00, 1.17684105e+01, 3.69440620e+01, 4.03982282e+01,\n",
       "       4.75473451e+01, 5.22595922e+01, 7.17581525e+01, 1.15082991e+02,\n",
       "       4.43376778e+12, 7.44704362e+12, 1.24237231e+13, 4.22873204e+13,\n",
       "       4.30966472e+13, 4.84258024e+13, 5.90636017e+13, 7.63321971e+13,\n",
       "       7.63321971e+13, 8.91801906e+13, 1.17741167e+14, 1.55296539e+14,\n",
       "       1.83820393e+14, 2.40191980e+14, 2.68871620e+14, 4.18939500e+14,\n",
       "       4.86875635e+14])"
      ]
     },
     "execution_count": 116,
     "metadata": {},
     "output_type": "execute_result"
    }
   ],
   "source": [
    "k0_1 = p1.calc_k0()\n",
    "kG0_1 = p1.calc_kG0()\n",
    "\n",
    "eigvals, eigvecs = lb(k0_1, kG0_1, silent=True)\n",
    "eigvals"
   ]
  },
  {
   "cell_type": "code",
   "execution_count": 117,
   "metadata": {},
   "outputs": [
    {
     "name": "stdout",
     "output_type": "stream",
     "text": [
      "-84.33863563860446\n",
      "121.49716202529147\n"
     ]
    }
   ],
   "source": [
    "print(k0_1.min())\n",
    "print(k0_1.max())"
   ]
  },
  {
   "cell_type": "code",
   "execution_count": 118,
   "metadata": {},
   "outputs": [
    {
     "name": "stdout",
     "output_type": "stream",
     "text": [
      "-0.0005555555555555578\n",
      "0.0005555555555555578\n"
     ]
    }
   ],
   "source": [
    "print(kG0_1.min())\n",
    "print(kG0_1.max())"
   ]
  },
  {
   "cell_type": "markdown",
   "metadata": {},
   "source": [
    "## Check with composipy"
   ]
  },
  {
   "cell_type": "code",
   "execution_count": null,
   "metadata": {},
   "outputs": [],
   "source": [
    "from composipy import Laminate, Ply, buckling_load"
   ]
  },
  {
   "cell_type": "code",
   "execution_count": null,
   "metadata": {},
   "outputs": [],
   "source": [
    "ply = Ply(E1, E2, v12, G12, t)\n",
    "layup_1 = [(45, ply),(0, ply),(0, ply),(45, ply),(0, ply),(0, ply),(45, ply)]\n",
    "laminate_1 = Laminate(layup_1)"
   ]
  },
  {
   "cell_type": "code",
   "execution_count": null,
   "metadata": {},
   "outputs": [],
   "source": [
    "load = buckling_load(a, b, laminate_1.D, shape_plot = False , eig = True, n=10)"
   ]
  },
  {
   "cell_type": "code",
   "execution_count": null,
   "metadata": {},
   "outputs": [
    {
     "data": {
      "text/plain": [
       "array([4.14270828e+00, 6.21522205e+00, 1.06650914e+01, 1.65710358e+01,\n",
       "       1.70242153e+01, 1.91554561e+01, 2.45809295e+01, 2.48385030e+01,\n",
       "       2.52623245e+01, 3.27636136e+01, 3.53001050e+01, 3.72839695e+01,\n",
       "       4.01613869e+01, 4.26490962e+01, 4.27935413e+01, 4.67661371e+01,\n",
       "       4.71871495e+01, 5.44108590e+01, 5.59663308e+01, 6.09072064e+01,\n",
       "       6.62675469e+01, 6.72164889e+01, 6.81862074e+01, 6.93560842e+01,\n",
       "       7.10330003e+01, 7.64561102e+01, 7.66218673e+01, 8.06194972e+01,\n",
       "       8.36422449e+01, 8.68293907e+01, 9.38431588e+01, 9.44488356e+01,\n",
       "       9.59106601e+01, 9.83663621e+01, 9.94734984e+01, 1.00992872e+02,\n",
       "       1.03585297e+02, 1.06783130e+02, 1.07936385e+02, 1.13012131e+02,\n",
       "       1.14423916e+02, 1.14554965e+02, 1.25606923e+02, 1.28759733e+02,\n",
       "       1.31058289e+02, 1.39329386e+02, 1.49151952e+02, 1.52444711e+02,\n",
       "       1.53256367e+02, 1.55402551e+02, 1.60648911e+02, 1.71172156e+02,\n",
       "       1.72395090e+02, 1.87014978e+02, 2.01935205e+02, 2.03008923e+02,\n",
       "       2.06428557e+02, 2.06951001e+02, 2.14931744e+02, 2.21277409e+02,\n",
       "       2.23195336e+02, 2.27246556e+02, 2.63319641e+02, 2.65149882e+02,\n",
       "       2.67699365e+02, 2.68677526e+02, 2.69037878e+02, 2.77420049e+02,\n",
       "       2.84131899e+02, 3.18920870e+02, 3.35578912e+02, 3.39164667e+02,\n",
       "       3.39331715e+02, 3.53687198e+02, 3.61325101e+02, 3.78175819e+02,\n",
       "       3.85130423e+02, 3.93373332e+02, 4.14390005e+02, 4.18123881e+02,\n",
       "       4.31882633e+02, 4.47033766e+02, 4.61077438e+02, 5.15257632e+02,\n",
       "       5.64204258e+02, 5.71986614e+02, 6.14844209e+02, 6.19423547e+02,\n",
       "       6.55999815e+02, 8.07729484e+02, 8.50807155e+02, 1.07078315e+03,\n",
       "       1.23729958e+03, 1.24650640e+03, 1.66278407e+03, 2.26724798e+03,\n",
       "       2.47766651e+03, 3.82151471e+03, 6.07059865e+03, 9.19734606e+03])"
      ]
     },
     "execution_count": 77,
     "metadata": {},
     "output_type": "execute_result"
    }
   ],
   "source": [
    "a = abs(load['eigen values'])\n",
    "a.sort()\n",
    "a"
   ]
  },
  {
   "cell_type": "code",
   "execution_count": null,
   "metadata": {},
   "outputs": [],
   "source": []
  },
  {
   "cell_type": "code",
   "execution_count": null,
   "metadata": {},
   "outputs": [],
   "source": []
  },
  {
   "cell_type": "code",
   "execution_count": null,
   "metadata": {},
   "outputs": [],
   "source": []
  },
  {
   "cell_type": "code",
   "execution_count": null,
   "metadata": {},
   "outputs": [],
   "source": []
  }
 ],
 "metadata": {
  "kernelspec": {
   "display_name": "Python 3 (ipykernel)",
   "language": "python",
   "name": "python3"
  },
  "language_info": {
   "codemirror_mode": {
    "name": "ipython",
    "version": 3
   },
   "file_extension": ".py",
   "mimetype": "text/x-python",
   "name": "python",
   "nbconvert_exporter": "python",
   "pygments_lexer": "ipython3",
   "version": "3.9.12"
  },
  "vscode": {
   "interpreter": {
    "hash": "c1590602456d7cb2bb11a9c056450b313acab0eb77422ae1a602feaa944934ec"
   }
  }
 },
 "nbformat": 4,
 "nbformat_minor": 2
}
