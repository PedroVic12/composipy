{
 "cells": [
  {
   "cell_type": "code",
   "execution_count": 238,
   "metadata": {},
   "outputs": [],
   "source": [
    "import numpy as np\n",
    "import sympy as sp\n",
    "from scipy import linalg"
   ]
  },
  {
   "cell_type": "code",
   "execution_count": 239,
   "metadata": {},
   "outputs": [],
   "source": [
    "#Properties (N and mm)\n",
    "E1 = 60800\n",
    "E2 = 58250\n",
    "v12 = 0.07\n",
    "G12 = 4550\n",
    "t = 0.21\n",
    "v21 = v12 * E2 / E1\n",
    "\n",
    "# Plate Parameters\n",
    "a = 360\n",
    "b = 360\n",
    "m = 7\n",
    "n = 7\n",
    "\n",
    "#Boundary conditions\n",
    "t1 = 0 # 0=> no translation, 1 => translation\n",
    "t2 = 0 \n",
    "r1 = 0 # 0 => there is rotation, 1 => null rotatiion \n",
    "r2 = 0\n",
    "\n",
    "# Loads\n",
    "Nxx = -1\n",
    "Nyy = 0\n",
    "Nxy = 0"
   ]
  },
  {
   "attachments": {},
   "cell_type": "markdown",
   "metadata": {},
   "source": [
    "**[Q] in the principal direction**  pg. 52 chap 2 of the three regions"
   ]
  },
  {
   "cell_type": "code",
   "execution_count": 240,
   "metadata": {},
   "outputs": [],
   "source": [
    "Q_0 = np.array([[E1/(1-v12*v21), v12*E2/(1-v12*v21), 0],\n",
    "                 [v12*E2/(1-v12*v21), E2/(1-v12*v21),0],\n",
    "                 [0, 0, G12]])"
   ]
  },
  {
   "attachments": {},
   "cell_type": "markdown",
   "metadata": {},
   "source": [
    "**[Q] rotated in theta direction** pg. 53 and 54 of chap 2"
   ]
  },
  {
   "cell_type": "code",
   "execution_count": 241,
   "metadata": {},
   "outputs": [],
   "source": [
    "layup = [(45,'f'),(0,'f'),(0,'f'),(45,'f'),(0,'f'),(0,'f'),(45,'f')]\n",
    "Q_layup = []\n",
    "\n",
    "#Layup assembly\n",
    "for theta in layup:\n",
    "    c = np.cos(theta[0]*np.pi/180)\n",
    "    s = np.sin(theta[0]*np.pi/180)\n",
    "\n",
    "    T_real = np.array([[c**2, s**2, 2*c*s],\n",
    "                       [s**2, c**2, -2*c*s],\n",
    "                       [-c*s, c*s, c**2-s**2]])\n",
    "\n",
    "    T_engineering =  np.array([[c**2, s**2, c*s],\n",
    "                               [s**2, c**2, -c*s],\n",
    "                               [-2*c*s, 2*c*s, c**2-s**2]])\n",
    "\n",
    "\n",
    "    if theta[1] == 'f':\n",
    "        Q_layup.append((np.linalg.inv(T_real))@Q_0@T_engineering)\n"
   ]
  },
  {
   "attachments": {},
   "cell_type": "markdown",
   "metadata": {},
   "source": [
    "**[A], [B], [D]** pg. 24 fo chap 4 of the three regions"
   ]
  },
  {
   "cell_type": "code",
   "execution_count": 242,
   "metadata": {},
   "outputs": [],
   "source": [
    "t_position = [-3.5*t, -2.5*t, -1.5*t, -0.5*t, 0.5*t, 1.5*t, 2.5*t, 3.5*t]\n",
    "\n",
    "A = np.zeros(9).reshape(3,3)\n",
    "B = np.zeros(9).reshape(3,3)\n",
    "D = np.zeros(9).reshape(3,3)\n",
    "\n",
    "for i in enumerate(Q_layup):\n",
    "    zk1 = t_position[i[0]+1]\n",
    "    zk0 = t_position[i[0]]\n",
    "    \n",
    "    A += (zk1 - zk0)*i[1]\n",
    "    B += (1/2)*(zk1**2 - zk0**2)*i[1]\n",
    "    D += (1/3)*(zk1**3 - zk0**3)*i[1]\n",
    "\n",
    "\n",
    "F = np.vstack([\n",
    "    np.hstack([A, B]),\n",
    "    np.hstack([B, D])\n",
    "])\n",
    "\n",
    "F = sp.Matrix(F)"
   ]
  },
  {
   "cell_type": "code",
   "execution_count": null,
   "metadata": {},
   "outputs": [],
   "source": []
  },
  {
   "attachments": {},
   "cell_type": "markdown",
   "metadata": {},
   "source": [
    "### Rayleigh-Ritz formulation"
   ]
  },
  {
   "cell_type": "code",
   "execution_count": 243,
   "metadata": {},
   "outputs": [],
   "source": [
    "Ny = sp.symbols('Ny')\n",
    "xi, eta  = sp.symbols(['xi', 'eta'])"
   ]
  },
  {
   "cell_type": "code",
   "execution_count": 244,
   "metadata": {},
   "outputs": [],
   "source": [
    "# Bardell terms\n",
    "\n",
    "f_xi = {0: t1*(0.25*xi**3 - 0.75*xi + 0.5),\n",
    "        1: r1*(0.125*xi**3 - 0.125*xi**2 - 0.125*xi + 0.125),\n",
    "        2: t2*(-0.25*xi**3 + 0.75*xi + 0.5),\n",
    "        3: r2*(-0.25*xi**3 + 0.75*xi + 0.5),\n",
    "        4: xi**4/8 - xi**2/4 + 0.125,\n",
    "        5: xi**5/8 - xi**3/4 + xi/8,\n",
    "        6: 7*xi**6/48 - 5*xi**4/16 + 3*xi**2/16 - 0.0208333333333333,\n",
    "        7: 3*xi**7/16 - 7*xi**5/16 + 5*xi**3/16 - xi/16,\n",
    "        8: 33*xi**8/128 - 21*xi**6/32 + 35*xi**4/64 - 5*xi**2/32 + 0.0078125,\n",
    "        9: 143*xi**9/384 - 33*xi**7/32 + 63*xi**5/64 - 35*xi**3/96 + 5*xi/128}\n",
    "\n",
    "f_eta = {0: t1*(0.25*eta**3 - 0.75*eta + 0.5),\n",
    "        1: r1*(0.125*eta**3 - 0.125*eta**2 - 0.125*eta + 0.125),\n",
    "        2: t2*(-0.25*eta**3 + 0.75*eta + 0.5),\n",
    "        3: r2*(-0.25*eta**3 + 0.75*eta + 0.5),\n",
    "        4: eta**4/8 - eta**2/4 + 0.125,\n",
    "        5: eta**5/8 - eta**3/4 + eta/8,\n",
    "        6: 7*eta**6/48 - 5*eta**4/16 + 3*eta**2/16 - 0.0208333333333333,\n",
    "        7: 3*eta**7/16 - 7*eta**5/16 + 5*eta**3/16 - eta/16,\n",
    "        8: 33*eta**8/128 - 21*eta**6/32 + 35*eta**4/64 - 5*eta**2/32 + 0.0078125,\n",
    "        9: 143*eta**9/384 - 33*eta**7/32 + 63*eta**5/64 - 35*eta**3/96 + 5*eta/128}"
   ]
  },
  {
   "cell_type": "code",
   "execution_count": 245,
   "metadata": {},
   "outputs": [],
   "source": [
    "S = [[]]\n",
    "\n",
    "for i in range(m):\n",
    "    for j in range(n):\n",
    "        S[0].append(f_xi[i]*f_eta[j])\n",
    "S = sp.Matrix(S)\n",
    "\n",
    "\n",
    "\n",
    "# B0_kappa = sp.Matrix([\n",
    "#     [(2/a) * sp.diff(S, xi), 0, 0],\n",
    "#     [0, (2/b) * sp.diff(S, eta), 0], # flat approach (no curvature)\n",
    "#     [(2/b)*sp.diff(S, eta), (2/a)*sp.diff(S, xi), 0],\n",
    "#     [0, 0, -(4/a**2) * sp.diff(S, xi, xi)], # rotation deformation\n",
    "#     [0, 0, -(4/b**2) * sp.diff(S, eta, eta)],\n",
    "#     [0, 0, -2*(4/(a*b)) * sp.diff(S, xi, eta)]\n",
    "# ])\n",
    "\n",
    "B0_11 = np.array((2/a) * sp.diff(S, xi))\n",
    "B0_22 = np.array((2/b) * sp.diff(S, eta))\n",
    "B0_31 = np.array((2/b)*sp.diff(S, eta))\n",
    "B0_32 = np.array((2/a)*sp.diff(S, xi))\n",
    "B0_43 = np.array(-(4/a**2) * sp.diff(S, xi, xi))\n",
    "B0_53 = np.array(-(4/b**2) * sp.diff(S, eta, eta))\n",
    "B0_63 = np.array(-2*(4/(a*b)) * sp.diff(S, xi, eta))\n",
    "Z = np.zeros(m*n).reshape(1, m*n)\n",
    "\n",
    "B0_kappa = sp.Matrix([\n",
    "    np.hstack([*B0_11, *Z, *Z]),\n",
    "    np.hstack([*Z, *B0_22, *Z]),\n",
    "    np.hstack([*B0_31, *B0_32, *Z]),\n",
    "    np.hstack([*Z, *Z, *B0_43]),\n",
    "    np.hstack([*Z, *Z, *B0_53]),\n",
    "    np.hstack([*Z, *Z, *B0_63])\n",
    "])\n",
    "\n",
    "\n",
    "F = sp.Matrix(F)\n",
    "\n",
    "\n",
    "G = sp.Matrix([\n",
    "    np.hstack([*Z, *Z, *sp.diff(S, xi)*(2/a)]),\n",
    "    np.hstack([*Z, *Z, *sp.diff(S, eta)*(2/b)])\n",
    " ])\n",
    "G = sp.Matrix(G)\n",
    "\n",
    "N = sp.Matrix([[Nxx, Nxy],\n",
    "                [Nxy, Nyy]])"
   ]
  },
  {
   "cell_type": "code",
   "execution_count": 246,
   "metadata": {},
   "outputs": [
    {
     "data": {
      "text/plain": [
       "(2, 147)"
      ]
     },
     "execution_count": 246,
     "metadata": {},
     "output_type": "execute_result"
    }
   ],
   "source": [
    "G.shape"
   ]
  },
  {
   "cell_type": "code",
   "execution_count": 247,
   "metadata": {},
   "outputs": [],
   "source": [
    "KG = sp.integrate(\n",
    "     sp.integrate(\n",
    "        G.T * N * G, (xi, -1, 1)), (eta, -1, 1)\n",
    ") * (a*b/4)\n",
    "\n",
    "KG = np.array(KG, dtype=np.longdouble)"
   ]
  },
  {
   "cell_type": "code",
   "execution_count": 248,
   "metadata": {},
   "outputs": [
    {
     "name": "stdout",
     "output_type": "stream",
     "text": [
      "(147, 147)\n",
      "-0.00048374905517762674\n",
      "8.062484252960445e-05\n"
     ]
    }
   ],
   "source": [
    "print(KG.shape)\n",
    "print(KG.min())\n",
    "print(KG.max())"
   ]
  },
  {
   "cell_type": "code",
   "execution_count": 249,
   "metadata": {},
   "outputs": [],
   "source": [
    "K = sp.integrate(\n",
    "    sp.integrate(\n",
    "        B0_kappa.T * F * B0_kappa, (xi, -1, 1)), (eta, -1, 1)\n",
    ") * (a*b/4)\n",
    "\n",
    "K = np.array(K, dtype=np.longdouble)"
   ]
  },
  {
   "cell_type": "code",
   "execution_count": 250,
   "metadata": {},
   "outputs": [
    {
     "name": "stdout",
     "output_type": "stream",
     "text": [
      "(147, 147)\n",
      "-6.617663362931715\n",
      "46.2846331524922\n"
     ]
    }
   ],
   "source": [
    "print(K.shape)\n",
    "print(K.min())\n",
    "print(K.max())"
   ]
  },
  {
   "cell_type": "code",
   "execution_count": 251,
   "metadata": {},
   "outputs": [],
   "source": [
    "A = K\n",
    "B = KG\n",
    "\n",
    "eig_values, eig_vectors = linalg.eig(A, B)"
   ]
  },
  {
   "cell_type": "code",
   "execution_count": 252,
   "metadata": {},
   "outputs": [
    {
     "data": {
      "text/plain": [
       "array([nan+0.j, nan+0.j, nan+0.j, nan+0.j, nan+0.j, nan+0.j, nan+0.j,\n",
       "       nan+0.j, nan+0.j, nan+0.j, nan+0.j, nan+0.j, nan+0.j, nan+0.j,\n",
       "       nan+0.j, nan+0.j, nan+0.j, nan+0.j, nan+0.j, nan+0.j, nan+0.j,\n",
       "       nan+0.j, nan+0.j, nan+0.j, nan+0.j, nan+0.j, nan+0.j, nan+0.j,\n",
       "       nan+0.j, nan+0.j, nan+0.j, nan+0.j, inf+0.j, nan+0.j, nan+0.j,\n",
       "       nan+0.j, nan+0.j, nan+0.j, nan+0.j, nan+0.j, inf+0.j, nan+0.j,\n",
       "       nan+0.j, nan+0.j, nan+0.j, nan+0.j, inf+0.j, nan+0.j, nan+0.j,\n",
       "       nan+0.j, nan+0.j, nan+0.j, nan+0.j, nan+0.j, nan+0.j, nan+0.j,\n",
       "       nan+0.j, nan+0.j, nan+0.j, nan+0.j, nan+0.j, nan+0.j, nan+0.j,\n",
       "       nan+0.j, nan+0.j, nan+0.j, nan+0.j, nan+0.j, nan+0.j, nan+0.j,\n",
       "       nan+0.j, nan+0.j, nan+0.j, nan+0.j, nan+0.j, nan+0.j, nan+0.j,\n",
       "       nan+0.j, nan+0.j, nan+0.j, inf+0.j, nan+0.j, nan+0.j, nan+0.j,\n",
       "       nan+0.j, nan+0.j, nan+0.j, nan+0.j, nan+0.j, nan+0.j, nan+0.j,\n",
       "       nan+0.j, nan+0.j, nan+0.j, nan+0.j, nan+0.j, nan+0.j, nan+0.j,\n",
       "       nan+0.j, nan+0.j, nan+0.j, nan+0.j, nan+0.j, nan+0.j, nan+0.j,\n",
       "       nan+0.j, nan+0.j, nan+0.j, nan+0.j, nan+0.j, nan+0.j, nan+0.j,\n",
       "       nan+0.j, nan+0.j, nan+0.j, nan+0.j, nan+0.j, nan+0.j, nan+0.j,\n",
       "       nan+0.j, nan+0.j, nan+0.j, nan+0.j, nan+0.j, nan+0.j, nan+0.j,\n",
       "       nan+0.j, nan+0.j, nan+0.j, nan+0.j, nan+0.j, nan+0.j, nan+0.j,\n",
       "       nan+0.j, nan+0.j, nan+0.j, nan+0.j, nan+0.j, nan+0.j, nan+0.j,\n",
       "       nan+0.j, nan+0.j, nan+0.j, nan+0.j, nan+0.j, nan+0.j, nan+0.j])"
      ]
     },
     "execution_count": 252,
     "metadata": {},
     "output_type": "execute_result"
    }
   ],
   "source": [
    "eig_values"
   ]
  },
  {
   "attachments": {},
   "cell_type": "markdown",
   "metadata": {},
   "source": [
    "## Check with compmech"
   ]
  },
  {
   "cell_type": "code",
   "execution_count": 253,
   "metadata": {},
   "outputs": [],
   "source": [
    "from compmech.panel.panel import Panel\n",
    "from compmech.analysis import lb, static"
   ]
  },
  {
   "cell_type": "code",
   "execution_count": 254,
   "metadata": {},
   "outputs": [],
   "source": [
    "# skin panels\n",
    "laminaprop = (E1, E2, v12, G12, G12, G12)\n",
    "stack = [45, 0, 0, 45, 0, 0, 45,]\n",
    "p1 = Panel(group='skin', Nxy=-1, x0=0, y0=0., a=a, b=b,m=10, n=10, plyt=t, stack=stack, laminaprop=laminaprop)"
   ]
  },
  {
   "cell_type": "code",
   "execution_count": 255,
   "metadata": {},
   "outputs": [
    {
     "name": "stdout",
     "output_type": "stream",
     "text": [
      "\t\tCalculating k0... \n",
      "\t\tfinished!\n",
      "\t\tCalculating kG0... \n",
      "\t\tfinished!\n"
     ]
    },
    {
     "data": {
      "text/plain": [
       "array([  9.69192188,  11.65400006,  25.35689349,  27.44102003,\n",
       "        30.95297972,  32.20003178,  42.00004877,  46.44805386,\n",
       "        79.92265264,  81.08061387,  81.31483692,  82.49438445,\n",
       "        83.33131602,  93.55600427, 118.47315558, 131.42790327,\n",
       "       165.0829902 , 213.03471617, 567.40522646, 579.53099029,\n",
       "       597.27209346, 601.34410519, 612.38640745, 694.86391024,\n",
       "       711.02086601])"
      ]
     },
     "execution_count": 255,
     "metadata": {},
     "output_type": "execute_result"
    }
   ],
   "source": [
    "k0_1 = p1.calc_k0()\n",
    "kG0_1 = p1.calc_kG0()\n",
    "\n",
    "eigvals, eigvecs = lb(k0_1, kG0_1, silent=True)\n",
    "eigvals"
   ]
  },
  {
   "cell_type": "code",
   "execution_count": 256,
   "metadata": {},
   "outputs": [
    {
     "data": {
      "text/plain": [
       "3493.7412516"
      ]
     },
     "execution_count": 256,
     "metadata": {},
     "output_type": "execute_result"
    }
   ],
   "source": [
    "9.70483681*360"
   ]
  },
  {
   "cell_type": "markdown",
   "metadata": {},
   "source": [
    "## Check with composipy"
   ]
  },
  {
   "cell_type": "code",
   "execution_count": 257,
   "metadata": {},
   "outputs": [],
   "source": [
    "from composipy import Laminate, Ply, buckling_load"
   ]
  },
  {
   "cell_type": "code",
   "execution_count": 258,
   "metadata": {},
   "outputs": [],
   "source": [
    "ply = Ply(E1, E2, v12, G12, t)\n",
    "layup_1 = [(45, ply),(0, ply),(0, ply),(45, ply),(0, ply),(0, ply),(45, ply)]\n",
    "laminate_1 = Laminate(layup_1)"
   ]
  },
  {
   "cell_type": "code",
   "execution_count": 259,
   "metadata": {},
   "outputs": [
    {
     "ename": "KeyboardInterrupt",
     "evalue": "",
     "output_type": "error",
     "traceback": [
      "\u001b[1;31m---------------------------------------------------------------------------\u001b[0m",
      "\u001b[1;31mKeyboardInterrupt\u001b[0m                         Traceback (most recent call last)",
      "\u001b[1;32md:\\repositories\\composipy\\composipy\\bardell\\ritz_with_bardell.ipynb Cell 29\u001b[0m in \u001b[0;36m<cell line: 1>\u001b[1;34m()\u001b[0m\n\u001b[1;32m----> <a href='vscode-notebook-cell:/d%3A/repositories/composipy/composipy/bardell/ritz_with_bardell.ipynb#X35sZmlsZQ%3D%3D?line=0'>1</a>\u001b[0m load \u001b[39m=\u001b[39m buckling_load(a, b, laminate_1\u001b[39m.\u001b[39;49mD, shape_plot \u001b[39m=\u001b[39;49m \u001b[39mFalse\u001b[39;49;00m , eig \u001b[39m=\u001b[39;49m \u001b[39mTrue\u001b[39;49;00m, n\u001b[39m=\u001b[39;49m\u001b[39m10\u001b[39;49m)\n",
      "File \u001b[1;32m~\\AppData\\Roaming\\Python\\Python39\\site-packages\\composipy\\buckling_load_function.py:111\u001b[0m, in \u001b[0;36mbuckling_load\u001b[1;34m(a, b, D, n, shape_plot, eig)\u001b[0m\n\u001b[0;32m    109\u001b[0m \u001b[39mfor\u001b[39;00m k_index \u001b[39min\u001b[39;00m \u001b[39mrange\u001b[39m(n):\n\u001b[0;32m    110\u001b[0m     \u001b[39mfor\u001b[39;00m l_index \u001b[39min\u001b[39;00m \u001b[39mrange\u001b[39m(n):\n\u001b[1;32m--> 111\u001b[0m         cur_comp \u001b[39m=\u001b[39m integrated_component\u001b[39m.\u001b[39;49msubs([\n\u001b[0;32m    112\u001b[0m             (i, \u001b[39m1\u001b[39;49m\u001b[39m+\u001b[39;49mi_index),\n\u001b[0;32m    113\u001b[0m             (j, \u001b[39m1\u001b[39;49m\u001b[39m+\u001b[39;49mj_index),\n\u001b[0;32m    114\u001b[0m             (k, \u001b[39m1\u001b[39;49m\u001b[39m+\u001b[39;49mk_index),\n\u001b[0;32m    115\u001b[0m             (l, \u001b[39m1\u001b[39;49m\u001b[39m+\u001b[39;49ml_index)\n\u001b[0;32m    116\u001b[0m         ])\n\u001b[0;32m    117\u001b[0m         \u001b[39m#(i,1+i_index).subs(j,1+j_index).subs(k,1+k_index).subs(l,1+l_index)\u001b[39;00m\n\u001b[0;32m    118\u001b[0m         component_list_K\u001b[39m.\u001b[39mappend(cur_comp)\n",
      "File \u001b[1;32md:\\programs\\Anaconda3\\lib\\site-packages\\sympy\\core\\basic.py:993\u001b[0m, in \u001b[0;36mBasic.subs\u001b[1;34m(self, *args, **kwargs)\u001b[0m\n\u001b[0;32m    991\u001b[0m rv \u001b[39m=\u001b[39m \u001b[39mself\u001b[39m\n\u001b[0;32m    992\u001b[0m \u001b[39mfor\u001b[39;00m old, new \u001b[39min\u001b[39;00m sequence:\n\u001b[1;32m--> 993\u001b[0m     rv \u001b[39m=\u001b[39m rv\u001b[39m.\u001b[39m_subs(old, new, \u001b[39m*\u001b[39m\u001b[39m*\u001b[39mkwargs)\n\u001b[0;32m    994\u001b[0m     \u001b[39mif\u001b[39;00m \u001b[39mnot\u001b[39;00m \u001b[39misinstance\u001b[39m(rv, Basic):\n\u001b[0;32m    995\u001b[0m         \u001b[39mbreak\u001b[39;00m\n",
      "File \u001b[1;32md:\\programs\\Anaconda3\\lib\\site-packages\\sympy\\core\\cache.py:70\u001b[0m, in \u001b[0;36m__cacheit.<locals>.func_wrapper.<locals>.wrapper\u001b[1;34m(*args, **kwargs)\u001b[0m\n\u001b[0;32m     67\u001b[0m \u001b[39m@wraps\u001b[39m(func)\n\u001b[0;32m     68\u001b[0m \u001b[39mdef\u001b[39;00m \u001b[39mwrapper\u001b[39m(\u001b[39m*\u001b[39margs, \u001b[39m*\u001b[39m\u001b[39m*\u001b[39mkwargs):\n\u001b[0;32m     69\u001b[0m     \u001b[39mtry\u001b[39;00m:\n\u001b[1;32m---> 70\u001b[0m         retval \u001b[39m=\u001b[39m cfunc(\u001b[39m*\u001b[39margs, \u001b[39m*\u001b[39m\u001b[39m*\u001b[39mkwargs)\n\u001b[0;32m     71\u001b[0m     \u001b[39mexcept\u001b[39;00m \u001b[39mTypeError\u001b[39;00m \u001b[39mas\u001b[39;00m e:\n\u001b[0;32m     72\u001b[0m         \u001b[39mif\u001b[39;00m \u001b[39mnot\u001b[39;00m e\u001b[39m.\u001b[39margs \u001b[39mor\u001b[39;00m \u001b[39mnot\u001b[39;00m e\u001b[39m.\u001b[39margs[\u001b[39m0\u001b[39m]\u001b[39m.\u001b[39mstartswith(\u001b[39m'\u001b[39m\u001b[39munhashable type:\u001b[39m\u001b[39m'\u001b[39m):\n",
      "File \u001b[1;32md:\\programs\\Anaconda3\\lib\\site-packages\\sympy\\core\\basic.py:1105\u001b[0m, in \u001b[0;36mBasic._subs\u001b[1;34m(self, old, new, **hints)\u001b[0m\n\u001b[0;32m   1102\u001b[0m \u001b[39mif\u001b[39;00m _aresame(\u001b[39mself\u001b[39m, old):\n\u001b[0;32m   1103\u001b[0m     \u001b[39mreturn\u001b[39;00m new\n\u001b[1;32m-> 1105\u001b[0m rv \u001b[39m=\u001b[39m \u001b[39mself\u001b[39;49m\u001b[39m.\u001b[39;49m_eval_subs(old, new)\n\u001b[0;32m   1106\u001b[0m \u001b[39mif\u001b[39;00m rv \u001b[39mis\u001b[39;00m \u001b[39mNone\u001b[39;00m:\n\u001b[0;32m   1107\u001b[0m     rv \u001b[39m=\u001b[39m fallback(\u001b[39mself\u001b[39m, old, new)\n",
      "File \u001b[1;32md:\\programs\\Anaconda3\\lib\\site-packages\\sympy\\functions\\elementary\\piecewise.py:838\u001b[0m, in \u001b[0;36mPiecewise._eval_subs\u001b[1;34m(self, old, new)\u001b[0m\n\u001b[0;32m    836\u001b[0m \u001b[39mif\u001b[39;00m c \u001b[39m!=\u001b[39m \u001b[39mFalse\u001b[39;00m:\n\u001b[0;32m    837\u001b[0m     args_exist \u001b[39m=\u001b[39m \u001b[39mTrue\u001b[39;00m\n\u001b[1;32m--> 838\u001b[0m     e \u001b[39m=\u001b[39m e\u001b[39m.\u001b[39;49m_subs(old, new)\n\u001b[0;32m    839\u001b[0m args[i] \u001b[39m=\u001b[39m (e, c)\n\u001b[0;32m    840\u001b[0m \u001b[39mif\u001b[39;00m c \u001b[39m==\u001b[39m \u001b[39mTrue\u001b[39;00m:\n",
      "File \u001b[1;32md:\\programs\\Anaconda3\\lib\\site-packages\\sympy\\core\\cache.py:70\u001b[0m, in \u001b[0;36m__cacheit.<locals>.func_wrapper.<locals>.wrapper\u001b[1;34m(*args, **kwargs)\u001b[0m\n\u001b[0;32m     67\u001b[0m \u001b[39m@wraps\u001b[39m(func)\n\u001b[0;32m     68\u001b[0m \u001b[39mdef\u001b[39;00m \u001b[39mwrapper\u001b[39m(\u001b[39m*\u001b[39margs, \u001b[39m*\u001b[39m\u001b[39m*\u001b[39mkwargs):\n\u001b[0;32m     69\u001b[0m     \u001b[39mtry\u001b[39;00m:\n\u001b[1;32m---> 70\u001b[0m         retval \u001b[39m=\u001b[39m cfunc(\u001b[39m*\u001b[39margs, \u001b[39m*\u001b[39m\u001b[39m*\u001b[39mkwargs)\n\u001b[0;32m     71\u001b[0m     \u001b[39mexcept\u001b[39;00m \u001b[39mTypeError\u001b[39;00m \u001b[39mas\u001b[39;00m e:\n\u001b[0;32m     72\u001b[0m         \u001b[39mif\u001b[39;00m \u001b[39mnot\u001b[39;00m e\u001b[39m.\u001b[39margs \u001b[39mor\u001b[39;00m \u001b[39mnot\u001b[39;00m e\u001b[39m.\u001b[39margs[\u001b[39m0\u001b[39m]\u001b[39m.\u001b[39mstartswith(\u001b[39m'\u001b[39m\u001b[39munhashable type:\u001b[39m\u001b[39m'\u001b[39m):\n",
      "File \u001b[1;32md:\\programs\\Anaconda3\\lib\\site-packages\\sympy\\core\\basic.py:1107\u001b[0m, in \u001b[0;36mBasic._subs\u001b[1;34m(self, old, new, **hints)\u001b[0m\n\u001b[0;32m   1105\u001b[0m rv \u001b[39m=\u001b[39m \u001b[39mself\u001b[39m\u001b[39m.\u001b[39m_eval_subs(old, new)\n\u001b[0;32m   1106\u001b[0m \u001b[39mif\u001b[39;00m rv \u001b[39mis\u001b[39;00m \u001b[39mNone\u001b[39;00m:\n\u001b[1;32m-> 1107\u001b[0m     rv \u001b[39m=\u001b[39m fallback(\u001b[39mself\u001b[39;49m, old, new)\n\u001b[0;32m   1108\u001b[0m \u001b[39mreturn\u001b[39;00m rv\n",
      "File \u001b[1;32md:\\programs\\Anaconda3\\lib\\site-packages\\sympy\\core\\basic.py:1079\u001b[0m, in \u001b[0;36mBasic._subs.<locals>.fallback\u001b[1;34m(self, old, new)\u001b[0m\n\u001b[0;32m   1077\u001b[0m \u001b[39mif\u001b[39;00m \u001b[39mnot\u001b[39;00m \u001b[39mhasattr\u001b[39m(arg, \u001b[39m'\u001b[39m\u001b[39m_eval_subs\u001b[39m\u001b[39m'\u001b[39m):\n\u001b[0;32m   1078\u001b[0m     \u001b[39mcontinue\u001b[39;00m\n\u001b[1;32m-> 1079\u001b[0m arg \u001b[39m=\u001b[39m arg\u001b[39m.\u001b[39m_subs(old, new, \u001b[39m*\u001b[39m\u001b[39m*\u001b[39mhints)\n\u001b[0;32m   1080\u001b[0m \u001b[39mif\u001b[39;00m \u001b[39mnot\u001b[39;00m _aresame(arg, args[i]):\n\u001b[0;32m   1081\u001b[0m     hit \u001b[39m=\u001b[39m \u001b[39mTrue\u001b[39;00m\n",
      "File \u001b[1;32md:\\programs\\Anaconda3\\lib\\site-packages\\sympy\\core\\cache.py:70\u001b[0m, in \u001b[0;36m__cacheit.<locals>.func_wrapper.<locals>.wrapper\u001b[1;34m(*args, **kwargs)\u001b[0m\n\u001b[0;32m     67\u001b[0m \u001b[39m@wraps\u001b[39m(func)\n\u001b[0;32m     68\u001b[0m \u001b[39mdef\u001b[39;00m \u001b[39mwrapper\u001b[39m(\u001b[39m*\u001b[39margs, \u001b[39m*\u001b[39m\u001b[39m*\u001b[39mkwargs):\n\u001b[0;32m     69\u001b[0m     \u001b[39mtry\u001b[39;00m:\n\u001b[1;32m---> 70\u001b[0m         retval \u001b[39m=\u001b[39m cfunc(\u001b[39m*\u001b[39margs, \u001b[39m*\u001b[39m\u001b[39m*\u001b[39mkwargs)\n\u001b[0;32m     71\u001b[0m     \u001b[39mexcept\u001b[39;00m \u001b[39mTypeError\u001b[39;00m \u001b[39mas\u001b[39;00m e:\n\u001b[0;32m     72\u001b[0m         \u001b[39mif\u001b[39;00m \u001b[39mnot\u001b[39;00m e\u001b[39m.\u001b[39margs \u001b[39mor\u001b[39;00m \u001b[39mnot\u001b[39;00m e\u001b[39m.\u001b[39margs[\u001b[39m0\u001b[39m]\u001b[39m.\u001b[39mstartswith(\u001b[39m'\u001b[39m\u001b[39munhashable type:\u001b[39m\u001b[39m'\u001b[39m):\n",
      "File \u001b[1;32md:\\programs\\Anaconda3\\lib\\site-packages\\sympy\\core\\basic.py:1107\u001b[0m, in \u001b[0;36mBasic._subs\u001b[1;34m(self, old, new, **hints)\u001b[0m\n\u001b[0;32m   1105\u001b[0m rv \u001b[39m=\u001b[39m \u001b[39mself\u001b[39m\u001b[39m.\u001b[39m_eval_subs(old, new)\n\u001b[0;32m   1106\u001b[0m \u001b[39mif\u001b[39;00m rv \u001b[39mis\u001b[39;00m \u001b[39mNone\u001b[39;00m:\n\u001b[1;32m-> 1107\u001b[0m     rv \u001b[39m=\u001b[39m fallback(\u001b[39mself\u001b[39;49m, old, new)\n\u001b[0;32m   1108\u001b[0m \u001b[39mreturn\u001b[39;00m rv\n",
      "File \u001b[1;32md:\\programs\\Anaconda3\\lib\\site-packages\\sympy\\core\\basic.py:1079\u001b[0m, in \u001b[0;36mBasic._subs.<locals>.fallback\u001b[1;34m(self, old, new)\u001b[0m\n\u001b[0;32m   1077\u001b[0m \u001b[39mif\u001b[39;00m \u001b[39mnot\u001b[39;00m \u001b[39mhasattr\u001b[39m(arg, \u001b[39m'\u001b[39m\u001b[39m_eval_subs\u001b[39m\u001b[39m'\u001b[39m):\n\u001b[0;32m   1078\u001b[0m     \u001b[39mcontinue\u001b[39;00m\n\u001b[1;32m-> 1079\u001b[0m arg \u001b[39m=\u001b[39m arg\u001b[39m.\u001b[39m_subs(old, new, \u001b[39m*\u001b[39m\u001b[39m*\u001b[39mhints)\n\u001b[0;32m   1080\u001b[0m \u001b[39mif\u001b[39;00m \u001b[39mnot\u001b[39;00m _aresame(arg, args[i]):\n\u001b[0;32m   1081\u001b[0m     hit \u001b[39m=\u001b[39m \u001b[39mTrue\u001b[39;00m\n",
      "    \u001b[1;31m[... skipping similar frames: __cacheit.<locals>.func_wrapper.<locals>.wrapper at line 70 (2 times), Basic._subs at line 1107 (1 times), Basic._subs.<locals>.fallback at line 1079 (1 times)]\u001b[0m\n",
      "File \u001b[1;32md:\\programs\\Anaconda3\\lib\\site-packages\\sympy\\core\\basic.py:1107\u001b[0m, in \u001b[0;36mBasic._subs\u001b[1;34m(self, old, new, **hints)\u001b[0m\n\u001b[0;32m   1105\u001b[0m rv \u001b[39m=\u001b[39m \u001b[39mself\u001b[39m\u001b[39m.\u001b[39m_eval_subs(old, new)\n\u001b[0;32m   1106\u001b[0m \u001b[39mif\u001b[39;00m rv \u001b[39mis\u001b[39;00m \u001b[39mNone\u001b[39;00m:\n\u001b[1;32m-> 1107\u001b[0m     rv \u001b[39m=\u001b[39m fallback(\u001b[39mself\u001b[39;49m, old, new)\n\u001b[0;32m   1108\u001b[0m \u001b[39mreturn\u001b[39;00m rv\n",
      "File \u001b[1;32md:\\programs\\Anaconda3\\lib\\site-packages\\sympy\\core\\basic.py:1079\u001b[0m, in \u001b[0;36mBasic._subs.<locals>.fallback\u001b[1;34m(self, old, new)\u001b[0m\n\u001b[0;32m   1077\u001b[0m \u001b[39mif\u001b[39;00m \u001b[39mnot\u001b[39;00m \u001b[39mhasattr\u001b[39m(arg, \u001b[39m'\u001b[39m\u001b[39m_eval_subs\u001b[39m\u001b[39m'\u001b[39m):\n\u001b[0;32m   1078\u001b[0m     \u001b[39mcontinue\u001b[39;00m\n\u001b[1;32m-> 1079\u001b[0m arg \u001b[39m=\u001b[39m arg\u001b[39m.\u001b[39m_subs(old, new, \u001b[39m*\u001b[39m\u001b[39m*\u001b[39mhints)\n\u001b[0;32m   1080\u001b[0m \u001b[39mif\u001b[39;00m \u001b[39mnot\u001b[39;00m _aresame(arg, args[i]):\n\u001b[0;32m   1081\u001b[0m     hit \u001b[39m=\u001b[39m \u001b[39mTrue\u001b[39;00m\n",
      "File \u001b[1;32md:\\programs\\Anaconda3\\lib\\site-packages\\sympy\\core\\cache.py:70\u001b[0m, in \u001b[0;36m__cacheit.<locals>.func_wrapper.<locals>.wrapper\u001b[1;34m(*args, **kwargs)\u001b[0m\n\u001b[0;32m     67\u001b[0m \u001b[39m@wraps\u001b[39m(func)\n\u001b[0;32m     68\u001b[0m \u001b[39mdef\u001b[39;00m \u001b[39mwrapper\u001b[39m(\u001b[39m*\u001b[39margs, \u001b[39m*\u001b[39m\u001b[39m*\u001b[39mkwargs):\n\u001b[0;32m     69\u001b[0m     \u001b[39mtry\u001b[39;00m:\n\u001b[1;32m---> 70\u001b[0m         retval \u001b[39m=\u001b[39m cfunc(\u001b[39m*\u001b[39margs, \u001b[39m*\u001b[39m\u001b[39m*\u001b[39mkwargs)\n\u001b[0;32m     71\u001b[0m     \u001b[39mexcept\u001b[39;00m \u001b[39mTypeError\u001b[39;00m \u001b[39mas\u001b[39;00m e:\n\u001b[0;32m     72\u001b[0m         \u001b[39mif\u001b[39;00m \u001b[39mnot\u001b[39;00m e\u001b[39m.\u001b[39margs \u001b[39mor\u001b[39;00m \u001b[39mnot\u001b[39;00m e\u001b[39m.\u001b[39margs[\u001b[39m0\u001b[39m]\u001b[39m.\u001b[39mstartswith(\u001b[39m'\u001b[39m\u001b[39munhashable type:\u001b[39m\u001b[39m'\u001b[39m):\n",
      "File \u001b[1;32md:\\programs\\Anaconda3\\lib\\site-packages\\sympy\\core\\basic.py:1105\u001b[0m, in \u001b[0;36mBasic._subs\u001b[1;34m(self, old, new, **hints)\u001b[0m\n\u001b[0;32m   1102\u001b[0m \u001b[39mif\u001b[39;00m _aresame(\u001b[39mself\u001b[39m, old):\n\u001b[0;32m   1103\u001b[0m     \u001b[39mreturn\u001b[39;00m new\n\u001b[1;32m-> 1105\u001b[0m rv \u001b[39m=\u001b[39m \u001b[39mself\u001b[39;49m\u001b[39m.\u001b[39;49m_eval_subs(old, new)\n\u001b[0;32m   1106\u001b[0m \u001b[39mif\u001b[39;00m rv \u001b[39mis\u001b[39;00m \u001b[39mNone\u001b[39;00m:\n\u001b[0;32m   1107\u001b[0m     rv \u001b[39m=\u001b[39m fallback(\u001b[39mself\u001b[39m, old, new)\n",
      "File \u001b[1;32md:\\programs\\Anaconda3\\lib\\site-packages\\sympy\\core\\power.py:955\u001b[0m, in \u001b[0;36mPow._eval_subs\u001b[1;34m(self, old, new)\u001b[0m\n\u001b[0;32m    952\u001b[0m             new_l\u001b[39m.\u001b[39mappend(Pow(\u001b[39mself\u001b[39m\u001b[39m.\u001b[39mbase, expo, evaluate\u001b[39m=\u001b[39m\u001b[39mFalse\u001b[39;00m) \u001b[39mif\u001b[39;00m expo \u001b[39m!=\u001b[39m \u001b[39m1\u001b[39m \u001b[39melse\u001b[39;00m \u001b[39mself\u001b[39m\u001b[39m.\u001b[39mbase)\n\u001b[0;32m    953\u001b[0m             \u001b[39mreturn\u001b[39;00m Mul(\u001b[39m*\u001b[39mnew_l)\n\u001b[1;32m--> 955\u001b[0m \u001b[39mif\u001b[39;00m (\u001b[39misinstance\u001b[39;49m(old, exp) \u001b[39mor\u001b[39;00m (old\u001b[39m.\u001b[39mis_Pow \u001b[39mand\u001b[39;00m old\u001b[39m.\u001b[39mbase \u001b[39mis\u001b[39;00m S\u001b[39m.\u001b[39mExp1)) \u001b[39mand\u001b[39;00m \u001b[39mself\u001b[39m\u001b[39m.\u001b[39mexp\u001b[39m.\u001b[39mis_extended_real \u001b[39mand\u001b[39;00m \u001b[39mself\u001b[39m\u001b[39m.\u001b[39mbase\u001b[39m.\u001b[39mis_positive:\n\u001b[0;32m    956\u001b[0m     ct1 \u001b[39m=\u001b[39m old\u001b[39m.\u001b[39mexp\u001b[39m.\u001b[39mas_independent(Symbol, as_Add\u001b[39m=\u001b[39m\u001b[39mFalse\u001b[39;00m)\n\u001b[0;32m    957\u001b[0m     ct2 \u001b[39m=\u001b[39m (\u001b[39mself\u001b[39m\u001b[39m.\u001b[39mexp\u001b[39m*\u001b[39mlog(\u001b[39mself\u001b[39m\u001b[39m.\u001b[39mbase))\u001b[39m.\u001b[39mas_independent(\n\u001b[0;32m    958\u001b[0m         Symbol, as_Add\u001b[39m=\u001b[39m\u001b[39mFalse\u001b[39;00m)\n",
      "File \u001b[1;32md:\\programs\\Anaconda3\\lib\\site-packages\\sympy\\functions\\elementary\\exponential.py:214\u001b[0m, in \u001b[0;36mExpMeta.__instancecheck__\u001b[1;34m(cls, instance)\u001b[0m\n\u001b[0;32m    212\u001b[0m \u001b[39mif\u001b[39;00m exp \u001b[39min\u001b[39;00m instance\u001b[39m.\u001b[39m\u001b[39m__class__\u001b[39m\u001b[39m.\u001b[39m\u001b[39m__mro__\u001b[39m:\n\u001b[0;32m    213\u001b[0m     \u001b[39mreturn\u001b[39;00m \u001b[39mTrue\u001b[39;00m\n\u001b[1;32m--> 214\u001b[0m \u001b[39mreturn\u001b[39;00m \u001b[39misinstance\u001b[39m(instance, Pow) \u001b[39mand\u001b[39;00m instance\u001b[39m.\u001b[39mbase \u001b[39mis\u001b[39;00m S\u001b[39m.\u001b[39mExp1\n",
      "\u001b[1;31mKeyboardInterrupt\u001b[0m: "
     ]
    }
   ],
   "source": [
    "load = buckling_load(a, b, laminate_1.D, shape_plot = False , eig = True, n=10)"
   ]
  },
  {
   "cell_type": "code",
   "execution_count": null,
   "metadata": {},
   "outputs": [
    {
     "data": {
      "text/plain": [
       "array([4.14270828e+00, 6.21522205e+00, 1.06650914e+01, 1.65710358e+01,\n",
       "       1.70242153e+01, 1.91554561e+01, 2.45809295e+01, 2.48385030e+01,\n",
       "       2.52623245e+01, 3.27636136e+01, 3.53001050e+01, 3.72839695e+01,\n",
       "       4.01613869e+01, 4.26490962e+01, 4.27935413e+01, 4.67661371e+01,\n",
       "       4.71871495e+01, 5.44108590e+01, 5.59663308e+01, 6.09072064e+01,\n",
       "       6.62675469e+01, 6.72164889e+01, 6.81862074e+01, 6.93560842e+01,\n",
       "       7.10330003e+01, 7.64561102e+01, 7.66218673e+01, 8.06194972e+01,\n",
       "       8.36422449e+01, 8.68293907e+01, 9.38431588e+01, 9.44488356e+01,\n",
       "       9.59106601e+01, 9.83663621e+01, 9.94734984e+01, 1.00992872e+02,\n",
       "       1.03585297e+02, 1.06783130e+02, 1.07936385e+02, 1.13012131e+02,\n",
       "       1.14423916e+02, 1.14554965e+02, 1.25606923e+02, 1.28759733e+02,\n",
       "       1.31058289e+02, 1.39329386e+02, 1.49151952e+02, 1.52444711e+02,\n",
       "       1.53256367e+02, 1.55402551e+02, 1.60648911e+02, 1.71172156e+02,\n",
       "       1.72395090e+02, 1.87014978e+02, 2.01935205e+02, 2.03008923e+02,\n",
       "       2.06428557e+02, 2.06951001e+02, 2.14931744e+02, 2.21277409e+02,\n",
       "       2.23195336e+02, 2.27246556e+02, 2.63319641e+02, 2.65149882e+02,\n",
       "       2.67699365e+02, 2.68677526e+02, 2.69037878e+02, 2.77420049e+02,\n",
       "       2.84131899e+02, 3.18920870e+02, 3.35578912e+02, 3.39164667e+02,\n",
       "       3.39331715e+02, 3.53687198e+02, 3.61325101e+02, 3.78175819e+02,\n",
       "       3.85130423e+02, 3.93373332e+02, 4.14390005e+02, 4.18123881e+02,\n",
       "       4.31882633e+02, 4.47033766e+02, 4.61077438e+02, 5.15257632e+02,\n",
       "       5.64204258e+02, 5.71986614e+02, 6.14844209e+02, 6.19423547e+02,\n",
       "       6.55999815e+02, 8.07729484e+02, 8.50807155e+02, 1.07078315e+03,\n",
       "       1.23729958e+03, 1.24650640e+03, 1.66278407e+03, 2.26724798e+03,\n",
       "       2.47766651e+03, 3.82151471e+03, 6.07059865e+03, 9.19734606e+03])"
      ]
     },
     "execution_count": 231,
     "metadata": {},
     "output_type": "execute_result"
    }
   ],
   "source": [
    "a = abs(load['eigen values'])\n",
    "a.sort()\n",
    "a"
   ]
  },
  {
   "cell_type": "code",
   "execution_count": null,
   "metadata": {},
   "outputs": [],
   "source": []
  },
  {
   "cell_type": "code",
   "execution_count": null,
   "metadata": {},
   "outputs": [],
   "source": []
  },
  {
   "cell_type": "code",
   "execution_count": null,
   "metadata": {},
   "outputs": [],
   "source": []
  },
  {
   "cell_type": "code",
   "execution_count": null,
   "metadata": {},
   "outputs": [],
   "source": []
  }
 ],
 "metadata": {
  "kernelspec": {
   "display_name": "base",
   "language": "python",
   "name": "python3"
  },
  "language_info": {
   "codemirror_mode": {
    "name": "ipython",
    "version": 3
   },
   "file_extension": ".py",
   "mimetype": "text/x-python",
   "name": "python",
   "nbconvert_exporter": "python",
   "pygments_lexer": "ipython3",
   "version": "3.9.12"
  },
  "orig_nbformat": 4,
  "vscode": {
   "interpreter": {
    "hash": "c1590602456d7cb2bb11a9c056450b313acab0eb77422ae1a602feaa944934ec"
   }
  }
 },
 "nbformat": 4,
 "nbformat_minor": 2
}
