{
 "cells": [
  {
   "cell_type": "code",
   "execution_count": 1,
   "metadata": {},
   "outputs": [],
   "source": [
    "import sympy as sp"
   ]
  },
  {
   "cell_type": "code",
   "execution_count": 2,
   "metadata": {},
   "outputs": [],
   "source": [
    "fi1, fi2, fi3, fi4, fi5 = sp.symbols(['fi1', 'fi2', 'fi3', 'fi4', 'fi5'])\n",
    "gj1, gj2, gj3, gj4, gj5 = sp.symbols(['gj1', 'gj2', 'gj3', 'gj4', 'gj5'])\n",
    "fk1, fk2, fk3, fk4, fk5 = sp.symbols(['fk1', 'fk2', 'fk3', 'fk4', 'fk5'])\n",
    "gl1, gl2, gl3, gl4, gl5 = sp.symbols(['gl1', 'gl2', 'gl3', 'gl4', 'gl5'])"
   ]
  },
  {
   "cell_type": "code",
   "execution_count": 3,
   "metadata": {},
   "outputs": [],
   "source": [
    "fi = sp.Matrix([fi1, fi2, fi3, fi4, fi5])\n",
    "gj = sp.Matrix([gj1, gj2, gj3, gj4, gj5])\n",
    "fk = sp.Matrix([fk1, fk2, fk3, fk4, fk5])\n",
    "gl = sp.Matrix([gl1, gl2, gl3, gl4, gl5])"
   ]
  },
  {
   "cell_type": "code",
   "execution_count": null,
   "metadata": {},
   "outputs": [],
   "source": []
  }
 ],
 "metadata": {
  "kernelspec": {
   "display_name": "base",
   "language": "python",
   "name": "python3"
  },
  "language_info": {
   "codemirror_mode": {
    "name": "ipython",
    "version": 3
   },
   "file_extension": ".py",
   "mimetype": "text/x-python",
   "name": "python",
   "nbconvert_exporter": "python",
   "pygments_lexer": "ipython3",
   "version": "3.9.12"
  },
  "orig_nbformat": 4,
  "vscode": {
   "interpreter": {
    "hash": "c1590602456d7cb2bb11a9c056450b313acab0eb77422ae1a602feaa944934ec"
   }
  }
 },
 "nbformat": 4,
 "nbformat_minor": 2
}
