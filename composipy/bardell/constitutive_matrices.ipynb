{
 "cells": [
  {
   "cell_type": "code",
   "execution_count": 1,
   "metadata": {},
   "outputs": [],
   "source": [
    "import sympy as sp"
   ]
  },
  {
   "cell_type": "code",
   "execution_count": 48,
   "metadata": {},
   "outputs": [],
   "source": [
    "a, b = sp.symbols(['a', 'b'])\n",
    "A11, A12, A16, A22, A26, A66 = sp.symbols(['A11', 'A12', 'A16', 'A22', 'A26', 'A66']) # jones (5.16)\n",
    "B11, B12, B16, B22, B26, B66 = sp.symbols(['B11', 'B12', 'B16', 'B22', 'B26', 'B66'])\n",
    "D11, D12, D16, D22, D26, D66 = sp.symbols(['D11', 'D12', 'D16', 'D22', 'D26', 'D66'])\n",
    "\n",
    "Suxi, Sveta, Sueta, Svxi = sp.symbols(['Su_xi', 'Sv_eta', 'Su_eta', 'Sv_xi'])\n",
    "Swxixi, Swetaeta, Swxieta = sp.symbols(['Sw2_xi', 'Sw2_eta', 'Sw2_theta'])\n",
    "Swxi, Sweta = sp.symbols(['Sw_xi', 'Sw_eta'])\n",
    "\n",
    "Z1, Z2, Z3, Z4, Z5, Z6 = sp.symbols(['Z1', 'Z2', 'Z3', 'Z4', 'Z5', 'Z6'])\n",
    "\n",
    "Nxx, Nyy, Nxy = sp.symbols(['N_xx', 'N_yy', 'N_xy'])"
   ]
  },
  {
   "cell_type": "code",
   "execution_count": 41,
   "metadata": {},
   "outputs": [],
   "source": [
    "F = sp.Matrix([\n",
    "    [A11, A12, A16, B11, B12, B16],\n",
    "    [A12, A22, A26, B12, B22, B26],\n",
    "    [A16, A26, A66, B16, B26, B66],\n",
    "    [B11, B12, B16, D11, D12, D16],\n",
    "    [B12, B22, B26, D12, D22, D26],\n",
    "    [B16, B26, B66, D16, D26, D66]\n",
    "])\n",
    "\n",
    "\n",
    "B0_kappa = sp.Matrix([\n",
    "    [(2/a) * Suxi],\n",
    "    [(2/b) * Sveta], # flat approach (no curvature)\n",
    "    [(2/b)*Sueta + (2/a)*Svxi],\n",
    "    [-(4/a**2) * Swxixi], # rotation deformation\n",
    "    [-(4/b**2) * Swetaeta],\n",
    "    [-2*(4/(a*b)) * Swxieta]\n",
    "])\n",
    "\n",
    "B_int = sp.Matrix([\n",
    "    [Z1, 0, 0],\n",
    "    [0, Z2, 0],\n",
    "    [Z3, Z3, 0],\n",
    "    [0, 0, Z4],\n",
    "    [0, 0, Z5],\n",
    "    [0, 0, Z6]\n",
    "])"
   ]
  },
  {
   "cell_type": "code",
   "execution_count": 46,
   "metadata": {},
   "outputs": [
    {
     "data": {
      "text/latex": [
       "$\\displaystyle \\left[\\begin{matrix}Z_{1} \\left(A_{11} Z_{1} + A_{16} Z_{3}\\right) + Z_{3} \\left(A_{16} Z_{1} + A_{66} Z_{3}\\right) & Z_{2} \\left(A_{12} Z_{1} + A_{26} Z_{3}\\right) + Z_{3} \\left(A_{16} Z_{1} + A_{66} Z_{3}\\right) & Z_{4} \\left(B_{11} Z_{1} + B_{16} Z_{3}\\right) + Z_{5} \\left(B_{12} Z_{1} + B_{26} Z_{3}\\right) + Z_{6} \\left(B_{16} Z_{1} + B_{66} Z_{3}\\right)\\\\Z_{1} \\left(A_{12} Z_{2} + A_{16} Z_{3}\\right) + Z_{3} \\left(A_{26} Z_{2} + A_{66} Z_{3}\\right) & Z_{2} \\left(A_{22} Z_{2} + A_{26} Z_{3}\\right) + Z_{3} \\left(A_{26} Z_{2} + A_{66} Z_{3}\\right) & Z_{4} \\left(B_{12} Z_{2} + B_{16} Z_{3}\\right) + Z_{5} \\left(B_{22} Z_{2} + B_{26} Z_{3}\\right) + Z_{6} \\left(B_{26} Z_{2} + B_{66} Z_{3}\\right)\\\\Z_{1} \\left(B_{11} Z_{4} + B_{12} Z_{5} + B_{16} Z_{6}\\right) + Z_{3} \\left(B_{16} Z_{4} + B_{26} Z_{5} + B_{66} Z_{6}\\right) & Z_{2} \\left(B_{12} Z_{4} + B_{22} Z_{5} + B_{26} Z_{6}\\right) + Z_{3} \\left(B_{16} Z_{4} + B_{26} Z_{5} + B_{66} Z_{6}\\right) & Z_{4} \\left(D_{11} Z_{4} + D_{12} Z_{5} + D_{16} Z_{6}\\right) + Z_{5} \\left(D_{12} Z_{4} + D_{22} Z_{5} + D_{26} Z_{6}\\right) + Z_{6} \\left(D_{16} Z_{4} + D_{26} Z_{5} + D_{66} Z_{6}\\right)\\end{matrix}\\right]$"
      ],
      "text/plain": [
       "Matrix([\n",
       "[                  Z1*(A11*Z1 + A16*Z3) + Z3*(A16*Z1 + A66*Z3),                   Z2*(A12*Z1 + A26*Z3) + Z3*(A16*Z1 + A66*Z3),                            Z4*(B11*Z1 + B16*Z3) + Z5*(B12*Z1 + B26*Z3) + Z6*(B16*Z1 + B66*Z3)],\n",
       "[                  Z1*(A12*Z2 + A16*Z3) + Z3*(A26*Z2 + A66*Z3),                   Z2*(A22*Z2 + A26*Z3) + Z3*(A26*Z2 + A66*Z3),                            Z4*(B12*Z2 + B16*Z3) + Z5*(B22*Z2 + B26*Z3) + Z6*(B26*Z2 + B66*Z3)],\n",
       "[Z1*(B11*Z4 + B12*Z5 + B16*Z6) + Z3*(B16*Z4 + B26*Z5 + B66*Z6), Z2*(B12*Z4 + B22*Z5 + B26*Z6) + Z3*(B16*Z4 + B26*Z5 + B66*Z6), Z4*(D11*Z4 + D12*Z5 + D16*Z6) + Z5*(D12*Z4 + D22*Z5 + D26*Z6) + Z6*(D16*Z4 + D26*Z5 + D66*Z6)]])"
      ]
     },
     "execution_count": 46,
     "metadata": {},
     "output_type": "execute_result"
    }
   ],
   "source": [
    "# Check of (B1)\n",
    "\n",
    "k = sp.sympify(B_int.T * F * B_int)\n",
    "k"
   ]
  },
  {
   "cell_type": "code",
   "execution_count": 61,
   "metadata": {},
   "outputs": [],
   "source": [
    "G = sp.Matrix([\n",
    "    [0, 0, (2/a)*Swxi],\n",
    "    [0, 0, (2/b)*Sweta]\n",
    "])\n",
    "\n",
    "N = sp.Matrix([\n",
    "    [Nxx, Nxy],\n",
    "    [Nxy, Nyy]\n",
    "])\n",
    "\n",
    "C = sp.ones(25)"
   ]
  },
  {
   "cell_type": "code",
   "execution_count": 62,
   "metadata": {},
   "outputs": [
    {
     "data": {
      "text/latex": [
       "$\\displaystyle \\left[\\begin{matrix}0 & 0 & 0\\\\0 & 0 & 0\\\\0 & 0 & \\frac{4 N_{xx} Sw_{\\xi}^{2}}{a^{2}} + \\frac{8 N_{xy} Sw_{\\eta} Sw_{\\xi}}{a b} + \\frac{4 N_{yy} Sw_{\\eta}^{2}}{b^{2}}\\end{matrix}\\right]$"
      ],
      "text/plain": [
       "Matrix([\n",
       "[0, 0,                                                                        0],\n",
       "[0, 0,                                                                        0],\n",
       "[0, 0, 4*N_xx*Sw_xi**2/a**2 + 8*N_xy*Sw_eta*Sw_xi/(a*b) + 4*N_yy*Sw_eta**2/b**2]])"
      ]
     },
     "execution_count": 62,
     "metadata": {},
     "output_type": "execute_result"
    }
   ],
   "source": [
    "sp.simplify(G.T * N * G)"
   ]
  },
  {
   "cell_type": "code",
   "execution_count": null,
   "metadata": {},
   "outputs": [],
   "source": []
  }
 ],
 "metadata": {
  "kernelspec": {
   "display_name": "base",
   "language": "python",
   "name": "python3"
  },
  "language_info": {
   "codemirror_mode": {
    "name": "ipython",
    "version": 3
   },
   "file_extension": ".py",
   "mimetype": "text/x-python",
   "name": "python",
   "nbconvert_exporter": "python",
   "pygments_lexer": "ipython3",
   "version": "3.9.12"
  },
  "orig_nbformat": 4,
  "vscode": {
   "interpreter": {
    "hash": "c1590602456d7cb2bb11a9c056450b313acab0eb77422ae1a602feaa944934ec"
   }
  }
 },
 "nbformat": 4,
 "nbformat_minor": 2
}
