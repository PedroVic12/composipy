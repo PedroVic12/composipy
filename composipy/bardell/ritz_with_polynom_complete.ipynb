{
 "cells": [
  {
   "cell_type": "code",
   "execution_count": 26,
   "metadata": {},
   "outputs": [],
   "source": [
    "import numpy as np\n",
    "import sympy as sp\n",
    "from scipy import linalg"
   ]
  },
  {
   "cell_type": "code",
   "execution_count": 27,
   "metadata": {},
   "outputs": [],
   "source": [
    "#Properties (N and mm)\n",
    "E1 = 60800\n",
    "E2 = 58250\n",
    "v12 = 0.07\n",
    "G12 = 4550\n",
    "t = 0.21\n",
    "v21 = v12 * E2 / E1\n",
    "\n",
    "# Plate Parameters\n",
    "a = 360\n",
    "b = 360\n",
    "m = 7\n",
    "n = 7\n",
    "\n",
    "#Boundary conditions\n",
    "t1 = 0 # 0=> no translation, 1 => translation\n",
    "t2 = 0 \n",
    "r1 = 0 # 0 => there is rotation, 1 => null rotatiion \n",
    "r2 = 0\n",
    "\n",
    "# Loads\n",
    "Nxx = -1\n",
    "Nyy = 0\n",
    "Nxy = 0"
   ]
  },
  {
   "cell_type": "markdown",
   "metadata": {},
   "source": [
    "**[Q] in the principal direction**  pg. 52 chap 2 of the three regions"
   ]
  },
  {
   "cell_type": "code",
   "execution_count": 28,
   "metadata": {},
   "outputs": [],
   "source": [
    "Q_0 = np.array([[E1/(1-v12*v21), v12*E2/(1-v12*v21), 0],\n",
    "                 [v12*E2/(1-v12*v21), E2/(1-v12*v21),0],\n",
    "                 [0, 0, G12]])"
   ]
  },
  {
   "cell_type": "markdown",
   "metadata": {},
   "source": [
    "**[Q] rotated in theta direction** pg. 53 and 54 of chap 2"
   ]
  },
  {
   "cell_type": "code",
   "execution_count": 29,
   "metadata": {},
   "outputs": [],
   "source": [
    "layup = [(45,'f'),(0,'f'),(0,'f'),(45,'f'),(0,'f'),(0,'f'),(45,'f')]\n",
    "Q_layup = []\n",
    "\n",
    "#Layup assembly\n",
    "for theta in layup:\n",
    "    c = np.cos(theta[0]*np.pi/180)\n",
    "    s = np.sin(theta[0]*np.pi/180)\n",
    "\n",
    "    T_real = np.array([[c**2, s**2, 2*c*s],\n",
    "                       [s**2, c**2, -2*c*s],\n",
    "                       [-c*s, c*s, c**2-s**2]])\n",
    "\n",
    "    T_engineering =  np.array([[c**2, s**2, c*s],\n",
    "                               [s**2, c**2, -c*s],\n",
    "                               [-2*c*s, 2*c*s, c**2-s**2]])\n",
    "\n",
    "\n",
    "    if theta[1] == 'f':\n",
    "        Q_layup.append((np.linalg.inv(T_real))@Q_0@T_engineering)\n"
   ]
  },
  {
   "cell_type": "markdown",
   "metadata": {},
   "source": [
    "**[A], [B], [D]** pg. 24 fo chap 4 of the three regions"
   ]
  },
  {
   "cell_type": "code",
   "execution_count": 30,
   "metadata": {},
   "outputs": [],
   "source": [
    "t_position = [-3.5*t, -2.5*t, -1.5*t, -0.5*t, 0.5*t, 1.5*t, 2.5*t, 3.5*t]\n",
    "\n",
    "A = np.zeros(9).reshape(3,3)\n",
    "B = np.zeros(9).reshape(3,3)\n",
    "D = np.zeros(9).reshape(3,3)\n",
    "\n",
    "for i in enumerate(Q_layup):\n",
    "    zk1 = t_position[i[0]+1]\n",
    "    zk0 = t_position[i[0]]\n",
    "    \n",
    "    A += (zk1 - zk0)*i[1]\n",
    "    B += (1/2)*(zk1**2 - zk0**2)*i[1]\n",
    "    D += (1/3)*(zk1**3 - zk0**3)*i[1]\n",
    "\n",
    "\n",
    "F = np.vstack([\n",
    "    np.hstack([A, B]),\n",
    "    np.hstack([B, D])\n",
    "])\n",
    "\n",
    "F = sp.Matrix(F)"
   ]
  },
  {
   "cell_type": "markdown",
   "metadata": {},
   "source": [
    "### Rayleigh-Ritz formulation"
   ]
  },
  {
   "cell_type": "code",
   "execution_count": 31,
   "metadata": {},
   "outputs": [],
   "source": [
    "Ny = sp.symbols('Ny')\n",
    "x, y = sp.symbols(['x', 'y'])"
   ]
  },
  {
   "cell_type": "code",
   "execution_count": 32,
   "metadata": {},
   "outputs": [],
   "source": [
    "S = [[]]\n",
    "\n",
    "for i in range(m):\n",
    "    for j in range(n):\n",
    "        #S[0].append(sp.sin((i+1)*sp.pi*x/a)*sp.sin((j+1)*sp.pi*y/b))\n",
    "        S[0].append(x**(i+1)*y**(j+1)*(x-a)*(y-b))\n",
    "S = sp.Matrix(S)\n",
    "\n",
    "\n",
    "B0_11 = np.array(sp.diff(S, x))\n",
    "B0_22 = np.array(sp.diff(S, y))\n",
    "B0_31 = np.array(sp.diff(S, y))\n",
    "B0_32 = np.array(sp.diff(S, x))\n",
    "B0_43 = np.array(-1 * sp.diff(S, x, x))\n",
    "B0_53 = np.array(-1 * sp.diff(S, y, y))\n",
    "B0_63 = np.array(-2 * sp.diff(S, x, y))\n",
    "Z = np.zeros(m*n).reshape(1, m*n)\n",
    "\n",
    "B0_kappa = sp.Matrix([\n",
    "    np.hstack([*B0_11, *Z, *Z]),\n",
    "    np.hstack([*Z, *B0_22, *Z]),\n",
    "    np.hstack([*B0_31, *B0_32, *Z]),\n",
    "    np.hstack([*Z, *Z, *B0_43]),\n",
    "    np.hstack([*Z, *Z, *B0_53]),\n",
    "    np.hstack([*Z, *Z, *B0_63])\n",
    "])\n",
    "\n",
    "\n",
    "F = sp.Matrix(F)\n",
    "\n",
    "\n",
    "G = sp.Matrix([\n",
    "    np.hstack([*Z, *Z, *sp.diff(S, x)]),\n",
    "    np.hstack([*Z, *Z, *sp.diff(S, y)])\n",
    " ])\n",
    "G = sp.Matrix(G)\n",
    "\n",
    "N = sp.Matrix([[Nxx, Nxy],\n",
    "                [Nxy, Nyy]])"
   ]
  },
  {
   "cell_type": "code",
   "execution_count": 33,
   "metadata": {},
   "outputs": [
    {
     "data": {
      "text/plain": [
       "(2, 147)"
      ]
     },
     "execution_count": 33,
     "metadata": {},
     "output_type": "execute_result"
    }
   ],
   "source": [
    "G.shape"
   ]
  },
  {
   "cell_type": "code",
   "execution_count": 34,
   "metadata": {},
   "outputs": [],
   "source": [
    "KG = sp.integrate(\n",
    "     sp.integrate(\n",
    "        -1 * G.T * N * G, (x, 0, a)), (y, 0, b)\n",
    ")\n",
    "\n",
    "KG = np.array(KG, dtype=np.longdouble)"
   ]
  },
  {
   "cell_type": "code",
   "execution_count": 35,
   "metadata": {},
   "outputs": [
    {
     "name": "stdout",
     "output_type": "stream",
     "text": [
      "(147, 147)\n",
      "0.0\n",
      "1.1145852353967144e+77\n"
     ]
    }
   ],
   "source": [
    "print(KG.shape)\n",
    "print(KG.min())\n",
    "print(KG.max())"
   ]
  },
  {
   "cell_type": "code",
   "execution_count": 36,
   "metadata": {},
   "outputs": [],
   "source": [
    "K = sp.integrate(\n",
    "    sp.integrate(\n",
    "        B0_kappa.T * F * B0_kappa, (x, 0, a)), (y, 0, b)\n",
    ")\n",
    "\n",
    "K = np.array(K, dtype=np.longdouble)"
   ]
  },
  {
   "cell_type": "code",
   "execution_count": 37,
   "metadata": {},
   "outputs": [
    {
     "name": "stdout",
     "output_type": "stream",
     "text": [
      "(147, 147)\n",
      "-4.210641822996985e+69\n",
      "1.0664241756267004e+82\n"
     ]
    }
   ],
   "source": [
    "print(K.shape)\n",
    "print(K.min())\n",
    "print(K.max())"
   ]
  },
  {
   "cell_type": "code",
   "execution_count": 38,
   "metadata": {},
   "outputs": [],
   "source": [
    "A = K\n",
    "B = KG\n",
    "\n",
    "eig_values, eig_vectors = linalg.eig(A, B)"
   ]
  },
  {
   "cell_type": "code",
   "execution_count": 39,
   "metadata": {},
   "outputs": [
    {
     "data": {
      "text/plain": [
       "array([            inf+0.j,             inf+0.j,             inf+0.j,\n",
       "                   inf+0.j,             inf+0.j,             inf+0.j,\n",
       "                   inf+0.j,             inf+0.j,             inf+0.j,\n",
       "                   inf+0.j,             inf+0.j,             inf+0.j,\n",
       "                   inf+0.j,             inf+0.j,             inf+0.j,\n",
       "                   inf+0.j,             inf+0.j,             inf+0.j,\n",
       "                   inf+0.j,             inf+0.j,             inf+0.j,\n",
       "                   inf+0.j,             inf+0.j,             inf+0.j,\n",
       "                   inf+0.j,             inf+0.j,             inf+0.j,\n",
       "                   inf+0.j,             inf+0.j,             inf+0.j,\n",
       "                   inf+0.j,             inf+0.j,             inf+0.j,\n",
       "                   inf+0.j,             inf+0.j,             inf+0.j,\n",
       "                   inf+0.j,             inf+0.j,             inf+0.j,\n",
       "                   inf+0.j,             inf+0.j,             inf+0.j,\n",
       "                   inf+0.j,             inf+0.j,             inf+0.j,\n",
       "                   inf+0.j,             inf+0.j,             inf+0.j,\n",
       "                   inf+0.j,             inf+0.j,             inf+0.j,\n",
       "                   inf+0.j,             inf+0.j,             inf+0.j,\n",
       "                   inf+0.j,             inf+0.j,             inf+0.j,\n",
       "                   inf+0.j,             inf+0.j,             inf+0.j,\n",
       "                   inf+0.j,             inf+0.j,             inf+0.j,\n",
       "                   inf+0.j,             inf+0.j,             inf+0.j,\n",
       "                   inf+0.j,             inf+0.j,             inf+0.j,\n",
       "                   inf+0.j,             inf+0.j,             inf+0.j,\n",
       "                   inf+0.j,             inf+0.j,             inf+0.j,\n",
       "                   inf+0.j,             inf+0.j,             inf+0.j,\n",
       "                   inf+0.j,             inf+0.j,             inf+0.j,\n",
       "                   inf+0.j,             inf+0.j,             inf+0.j,\n",
       "                   inf+0.j,             inf+0.j,             inf+0.j,\n",
       "                   inf+0.j,             inf+0.j,             inf+0.j,\n",
       "                   inf+0.j,             inf+0.j,             inf+0.j,\n",
       "                   inf+0.j,             inf+0.j,             inf+0.j,\n",
       "                   inf+0.j,             inf+0.j, -4.34961948e+15+0.j,\n",
       "       -5.72545971e+10+0.j, -1.82938077e+10+0.j,  5.29580556e+08+0.j,\n",
       "        6.92481899e+09+0.j,  6.61348604e+07+0.j, -1.24036016e+08+0.j,\n",
       "       -1.55559679e+07+0.j, -7.92572767e+07+0.j, -3.20643737e+06+0.j,\n",
       "       -2.14203280e+05+0.j,  2.34091316e+05+0.j, -3.13868062e+04+0.j,\n",
       "       -3.21871596e+04+0.j,  4.93289128e+02+0.j,  4.56913077e+04+0.j,\n",
       "       -2.28662047e+04+0.j,  1.90248659e+04+0.j,  2.85317822e+03+0.j,\n",
       "       -5.15329598e+03+0.j, -4.16285996e+03+0.j,  6.82330750e+02+0.j,\n",
       "       -6.94000402e+03+0.j,  1.70166266e+02+0.j, -1.01273301e+03+0.j,\n",
       "        6.62877360e+01+0.j,  1.02964622e+02+0.j,  2.44642932e+02+0.j,\n",
       "        6.91439745e+01+0.j, -4.43574438e+01+0.j,  2.00719591e+02+0.j,\n",
       "       -4.41497240e+01+0.j,  7.49123446e+01+0.j,  1.38985650e+02+0.j,\n",
       "       -4.96208248e+01+0.j,  2.63711252e+01+0.j,  2.26619869e+01+0.j,\n",
       "        6.94735167e+01+0.j,  6.22917474e+01+0.j,  1.06925877e+01+0.j,\n",
       "        7.92032876e+01+0.j,  8.30988873e+01+0.j,  7.09512458e+01+0.j,\n",
       "        4.03147121e+02+0.j,  2.47415104e+01+0.j,  1.55906080e+01+0.j,\n",
       "        2.42052371e+00+0.j,  2.58078757e+01+0.j,  2.44299695e+01+0.j])"
      ]
     },
     "execution_count": 39,
     "metadata": {},
     "output_type": "execute_result"
    }
   ],
   "source": [
    "eig_values"
   ]
  },
  {
   "cell_type": "markdown",
   "metadata": {},
   "source": [
    "## Check with compmech"
   ]
  },
  {
   "cell_type": "code",
   "execution_count": 40,
   "metadata": {},
   "outputs": [],
   "source": [
    "from compmech.panel.panel import Panel\n",
    "from compmech.analysis import lb, static"
   ]
  },
  {
   "cell_type": "code",
   "execution_count": 41,
   "metadata": {},
   "outputs": [],
   "source": [
    "# skin panels\n",
    "laminaprop = (E1, E2, v12, G12, G12, G12)\n",
    "stack = [45, 0, 0, 45, 0, 0, 45,]\n",
    "p1 = Panel(group='skin', Nxx=-1, x0=0, y0=0., a=a, b=b,m=20, n=20, plyt=t, stack=stack, laminaprop=laminaprop)"
   ]
  },
  {
   "cell_type": "code",
   "execution_count": 42,
   "metadata": {},
   "outputs": [
    {
     "name": "stdout",
     "output_type": "stream",
     "text": [
      "\t\tCalculating k0... \n",
      "\t\tfinished!\n",
      "\t\tCalculating kG0... \n",
      "\t\tfinished!\n"
     ]
    },
    {
     "data": {
      "text/plain": [
       "array([ 4.14266552,  6.21517585, 10.66504556, 16.57083361, 17.0241622 ,\n",
       "       19.15525638, 24.58073993, 24.83828109, 25.26226129, 32.7633788 ,\n",
       "       35.3000328 , 37.28351341, 40.16085452, 42.6487838 , 42.79306548,\n",
       "       46.76560192, 47.18712241, 54.41057402, 55.96560942, 60.90740842,\n",
       "       66.26641915, 67.21581641, 68.18588908, 69.3549638 , 71.03202366])"
      ]
     },
     "execution_count": 42,
     "metadata": {},
     "output_type": "execute_result"
    }
   ],
   "source": [
    "k0_1 = p1.calc_k0()\n",
    "kG0_1 = p1.calc_kG0()\n",
    "\n",
    "eigvals, eigvecs = lb(k0_1, kG0_1, silent=True)\n",
    "eigvals"
   ]
  },
  {
   "cell_type": "code",
   "execution_count": 43,
   "metadata": {},
   "outputs": [
    {
     "data": {
      "text/plain": [
       "3493.7412516"
      ]
     },
     "execution_count": 43,
     "metadata": {},
     "output_type": "execute_result"
    }
   ],
   "source": [
    "9.70483681*360"
   ]
  },
  {
   "cell_type": "code",
   "execution_count": 44,
   "metadata": {},
   "outputs": [
    {
     "name": "stdout",
     "output_type": "stream",
     "text": [
      "0.0009523809523809536\n"
     ]
    }
   ],
   "source": [
    "print(kG0_1.max())"
   ]
  },
  {
   "cell_type": "markdown",
   "metadata": {},
   "source": [
    "## Check with composipy"
   ]
  },
  {
   "cell_type": "code",
   "execution_count": 45,
   "metadata": {},
   "outputs": [],
   "source": [
    "from composipy import Laminate, Ply, buckling_load"
   ]
  },
  {
   "cell_type": "code",
   "execution_count": 46,
   "metadata": {},
   "outputs": [],
   "source": [
    "ply = Ply(E1, E2, v12, G12, t)\n",
    "layup_1 = [(45, ply),(0, ply),(0, ply),(45, ply),(0, ply),(0, ply),(45, ply)]\n",
    "laminate_1 = Laminate(layup_1)"
   ]
  },
  {
   "cell_type": "code",
   "execution_count": 47,
   "metadata": {},
   "outputs": [],
   "source": [
    "load = buckling_load(a, b, laminate_1.D, shape_plot = False , eig = True, n=10)"
   ]
  },
  {
   "cell_type": "code",
   "execution_count": 48,
   "metadata": {},
   "outputs": [
    {
     "data": {
      "text/plain": [
       "array([4.14270828e+00, 6.21522205e+00, 1.06650914e+01, 1.65710358e+01,\n",
       "       1.70242153e+01, 1.91554561e+01, 2.45809295e+01, 2.48385030e+01,\n",
       "       2.52623245e+01, 3.27636136e+01, 3.53001050e+01, 3.72839695e+01,\n",
       "       4.01613869e+01, 4.26490962e+01, 4.27935413e+01, 4.67661371e+01,\n",
       "       4.71871495e+01, 5.44108590e+01, 5.59663308e+01, 6.09072064e+01,\n",
       "       6.62675469e+01, 6.72164889e+01, 6.81862074e+01, 6.93560842e+01,\n",
       "       7.10330003e+01, 7.64561102e+01, 7.66218673e+01, 8.06194972e+01,\n",
       "       8.36422449e+01, 8.68293907e+01, 9.38431588e+01, 9.44488356e+01,\n",
       "       9.59106601e+01, 9.83663621e+01, 9.94734984e+01, 1.00992872e+02,\n",
       "       1.03585297e+02, 1.06783130e+02, 1.07936385e+02, 1.13012131e+02,\n",
       "       1.14423916e+02, 1.14554965e+02, 1.25606923e+02, 1.28759733e+02,\n",
       "       1.31058289e+02, 1.39329386e+02, 1.49151952e+02, 1.52444711e+02,\n",
       "       1.53256367e+02, 1.55402551e+02, 1.60648911e+02, 1.71172156e+02,\n",
       "       1.72395090e+02, 1.87014978e+02, 2.01935205e+02, 2.03008923e+02,\n",
       "       2.06428557e+02, 2.06951001e+02, 2.14931744e+02, 2.21277409e+02,\n",
       "       2.23195336e+02, 2.27246556e+02, 2.63319641e+02, 2.65149882e+02,\n",
       "       2.67699365e+02, 2.68677526e+02, 2.69037878e+02, 2.77420049e+02,\n",
       "       2.84131899e+02, 3.18920870e+02, 3.35578912e+02, 3.39164667e+02,\n",
       "       3.39331715e+02, 3.53687198e+02, 3.61325101e+02, 3.78175819e+02,\n",
       "       3.85130423e+02, 3.93373332e+02, 4.14390005e+02, 4.18123881e+02,\n",
       "       4.31882633e+02, 4.47033766e+02, 4.61077438e+02, 5.15257632e+02,\n",
       "       5.64204258e+02, 5.71986614e+02, 6.14844209e+02, 6.19423547e+02,\n",
       "       6.55999815e+02, 8.07729484e+02, 8.50807155e+02, 1.07078315e+03,\n",
       "       1.23729958e+03, 1.24650640e+03, 1.66278407e+03, 2.26724798e+03,\n",
       "       2.47766651e+03, 3.82151471e+03, 6.07059865e+03, 9.19734606e+03])"
      ]
     },
     "execution_count": 48,
     "metadata": {},
     "output_type": "execute_result"
    }
   ],
   "source": [
    "a = abs(load['eigen values'])\n",
    "a.sort()\n",
    "a"
   ]
  },
  {
   "cell_type": "code",
   "execution_count": null,
   "metadata": {},
   "outputs": [],
   "source": []
  },
  {
   "cell_type": "code",
   "execution_count": null,
   "metadata": {},
   "outputs": [],
   "source": []
  },
  {
   "cell_type": "code",
   "execution_count": null,
   "metadata": {},
   "outputs": [],
   "source": []
  },
  {
   "cell_type": "code",
   "execution_count": null,
   "metadata": {},
   "outputs": [],
   "source": []
  }
 ],
 "metadata": {
  "kernelspec": {
   "display_name": "Python 3 (ipykernel)",
   "language": "python",
   "name": "python3"
  },
  "language_info": {
   "codemirror_mode": {
    "name": "ipython",
    "version": 3
   },
   "file_extension": ".py",
   "mimetype": "text/x-python",
   "name": "python",
   "nbconvert_exporter": "python",
   "pygments_lexer": "ipython3",
   "version": "3.9.12 (main, Apr  4 2022, 05:22:27) [MSC v.1916 64 bit (AMD64)]"
  },
  "vscode": {
   "interpreter": {
    "hash": "c1590602456d7cb2bb11a9c056450b313acab0eb77422ae1a602feaa944934ec"
   }
  }
 },
 "nbformat": 4,
 "nbformat_minor": 2
}
